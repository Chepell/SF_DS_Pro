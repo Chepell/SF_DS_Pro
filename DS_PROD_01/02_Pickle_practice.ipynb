{
 "cells": [
  {
   "cell_type": "code",
   "execution_count": 1,
   "metadata": {},
   "outputs": [],
   "source": [
    "import numpy as np\n",
    "import pickle"
   ]
  },
  {
   "cell_type": "code",
   "execution_count": 2,
   "metadata": {},
   "outputs": [
    {
     "name": "stdout",
     "output_type": "stream",
     "text": [
      "secret word: skillfactory\n",
      "how is this possible? answer is here: https://youtu.be/xm-A-h9QkXg\n"
     ]
    },
    {
     "name": "stderr",
     "output_type": "stream",
     "text": [
      "c:\\Users\\avvoy\\AppData\\Local\\Programs\\Python\\Python311\\Lib\\site-packages\\sklearn\\base.py:347: InconsistentVersionWarning: Trying to unpickle estimator LinearRegression from version 1.0.2 when using version 1.3.0. This might lead to breaking code or invalid results. Use at your own risk. For more info please refer to:\n",
      "https://scikit-learn.org/stable/model_persistence.html#security-maintainability-limitations\n",
      "  warnings.warn(\n"
     ]
    }
   ],
   "source": [
    "with open('data/model.pkl', 'rb') as pkl_file:\n",
    "    loaded_model = pickle.load(pkl_file)"
   ]
  },
  {
   "cell_type": "code",
   "execution_count": 3,
   "metadata": {},
   "outputs": [
    {
     "data": {
      "text/plain": [
       "sklearn.linear_model._base.LinearRegression"
      ]
     },
     "execution_count": 3,
     "metadata": {},
     "output_type": "execute_result"
    }
   ],
   "source": [
    "type(loaded_model)"
   ]
  },
  {
   "cell_type": "code",
   "execution_count": 4,
   "metadata": {},
   "outputs": [
    {
     "data": {
      "text/plain": [
       "array([[1.        , 1.        , 1.        , 0.66121249]])"
      ]
     },
     "execution_count": 4,
     "metadata": {},
     "output_type": "execute_result"
    }
   ],
   "source": [
    "features = np.array([1, 1, 1, 0.661212487096872]).reshape(1, -1)\n",
    "features"
   ]
  },
  {
   "cell_type": "code",
   "execution_count": 5,
   "metadata": {},
   "outputs": [
    {
     "data": {
      "text/plain": [
       "0.666"
      ]
     },
     "execution_count": 5,
     "metadata": {},
     "output_type": "execute_result"
    }
   ],
   "source": [
    "loaded_model.predict(features)[0]"
   ]
  },
  {
   "cell_type": "code",
   "execution_count": 6,
   "metadata": {},
   "outputs": [
    {
     "data": {
      "text/plain": [
       "{'a': 5, 'b': 13}"
      ]
     },
     "execution_count": 6,
     "metadata": {},
     "output_type": "execute_result"
    }
   ],
   "source": [
    "dict_to_save = {'a': loaded_model.a, 'b': loaded_model.b}\n",
    "dict_to_save"
   ]
  },
  {
   "cell_type": "code",
   "execution_count": 7,
   "metadata": {},
   "outputs": [],
   "source": [
    "with open('data/dict.pkl', 'wb') as output:\n",
    "    pickle.dump(dict_to_save, output)"
   ]
  },
  {
   "cell_type": "code",
   "execution_count": 8,
   "metadata": {},
   "outputs": [
    {
     "name": "stderr",
     "output_type": "stream",
     "text": [
      "python: can't open file 'c:\\\\Users\\\\avvoy\\\\Documents\\\\GitHub\\\\SF_DS_Pro\\\\DS_PROD_01\\\\data\\\\hw1_check_ol.py': [Errno 2] No such file or directory\n"
     ]
    }
   ],
   "source": [
    "!python data/hw1_check_ol.py data/dict.pkl"
   ]
  },
  {
   "cell_type": "markdown",
   "metadata": {},
   "source": [
    "# Использование Nyoka"
   ]
  },
  {
   "cell_type": "code",
   "execution_count": 9,
   "metadata": {},
   "outputs": [
    {
     "name": "stdout",
     "output_type": "stream",
     "text": [
      "Collecting nyoka\n",
      "  Downloading nyoka-5.4.0-py3-none-any.whl (303 kB)\n",
      "     ---------------------------------------- 0.0/303.8 kB ? eta -:--:--\n",
      "     ---- -------------------------------- 41.0/303.8 kB 653.6 kB/s eta 0:00:01\n",
      "     --------------- ---------------------- 122.9/303.8 kB 1.2 MB/s eta 0:00:01\n",
      "     -------------------------------------  297.0/303.8 kB 2.0 MB/s eta 0:00:01\n",
      "     -------------------------------------- 303.8/303.8 kB 1.9 MB/s eta 0:00:00\n",
      "Collecting lxml (from nyoka)\n",
      "  Obtaining dependency information for lxml from https://files.pythonhosted.org/packages/31/58/e3b3dd6bb2ab7404f1f4992e2d0e6926ed40cef8ce1b3bbefd95877499e1/lxml-4.9.3-cp311-cp311-win_amd64.whl.metadata\n",
      "  Downloading lxml-4.9.3-cp311-cp311-win_amd64.whl.metadata (3.9 kB)\n",
      "Downloading lxml-4.9.3-cp311-cp311-win_amd64.whl (3.8 MB)\n",
      "   ---------------------------------------- 0.0/3.8 MB ? eta -:--:--\n",
      "   -- ------------------------------------- 0.2/3.8 MB 14.7 MB/s eta 0:00:01\n",
      "   ----- ---------------------------------- 0.5/3.8 MB 7.6 MB/s eta 0:00:01\n",
      "   ------- -------------------------------- 0.7/3.8 MB 6.5 MB/s eta 0:00:01\n",
      "   ------- -------------------------------- 0.7/3.8 MB 6.5 MB/s eta 0:00:01\n",
      "   ---------------- ----------------------- 1.5/3.8 MB 7.0 MB/s eta 0:00:01\n",
      "   ------------------- -------------------- 1.9/3.8 MB 7.0 MB/s eta 0:00:01\n",
      "   -------------------- ------------------- 1.9/3.8 MB 6.1 MB/s eta 0:00:01\n",
      "   ------------------------- -------------- 2.4/3.8 MB 6.6 MB/s eta 0:00:01\n",
      "   ----------------------------- ---------- 2.7/3.8 MB 6.7 MB/s eta 0:00:01\n",
      "   ------------------------------- -------- 2.9/3.8 MB 6.4 MB/s eta 0:00:01\n",
      "   --------------------------------- ------ 3.1/3.8 MB 6.2 MB/s eta 0:00:01\n",
      "   ----------------------------------- ---- 3.3/3.8 MB 6.1 MB/s eta 0:00:01\n",
      "   ------------------------------------- -- 3.6/3.8 MB 6.0 MB/s eta 0:00:01\n",
      "   ---------------------------------------  3.8/3.8 MB 5.9 MB/s eta 0:00:01\n",
      "   ---------------------------------------- 3.8/3.8 MB 5.7 MB/s eta 0:00:00\n",
      "Installing collected packages: lxml, nyoka\n",
      "Successfully installed lxml-4.9.3 nyoka-5.4.0\n"
     ]
    }
   ],
   "source": [
    "# !pip install nyoka"
   ]
  },
  {
   "cell_type": "code",
   "execution_count": 29,
   "metadata": {},
   "outputs": [],
   "source": [
    "from nyoka import skl_to_pmml\n",
    "from sklearn.preprocessing import MinMaxScaler\n",
    "from sklearn.pipeline import Pipeline\n",
    "from sklearn.linear_model import LinearRegression\n",
    "from sklearn.datasets import load_diabetes\n",
    "\n",
    "X, y = load_diabetes(return_X_y=True)\n",
    "cols = load_diabetes()['feature_names']\n",
    "\n",
    "scaler = MinMaxScaler()\n",
    "pipe = Pipeline([  \n",
    "            ('Scaling', MinMaxScaler()),\n",
    "            ('Linear', LinearRegression())\n",
    "        ])\n",
    "# Обучение пайплайна, включающего линейную модель и нормализацию признаков\n",
    "pipe.fit(X, y)\n",
    "\n",
    "# Сохраним пайплайн в формате pmml в файл pipeline.pmml\n",
    "skl_to_pmml(pipeline=pipe, col_names=cols, pmml_f_name=\"data/pipeline.pmml\")"
   ]
  },
  {
   "cell_type": "code",
   "execution_count": 4,
   "metadata": {},
   "outputs": [],
   "source": [
    "import json\n",
    "\n",
    "# Define the URL for the POST request\n",
    "url = 'http://example.com/api'\n",
    "\n",
    "# Define the data to be sent\n",
    "data = {\n",
    "    'numbers': [3.5, 4, 7, 2.8]\n",
    "}"
   ]
  },
  {
   "cell_type": "code",
   "execution_count": 6,
   "metadata": {},
   "outputs": [],
   "source": [
    "datajson_data = json.dumps(data)"
   ]
  },
  {
   "cell_type": "code",
   "execution_count": 7,
   "metadata": {},
   "outputs": [
    {
     "data": {
      "text/plain": [
       "'{\"numbers\": [3.5, 4, 7, 2.8]}'"
      ]
     },
     "execution_count": 7,
     "metadata": {},
     "output_type": "execute_result"
    }
   ],
   "source": [
    "datajson_data"
   ]
  },
  {
   "cell_type": "code",
   "execution_count": null,
   "metadata": {},
   "outputs": [],
   "source": []
  }
 ],
 "metadata": {
  "kernelspec": {
   "display_name": "Python 3",
   "language": "python",
   "name": "python3"
  },
  "language_info": {
   "codemirror_mode": {
    "name": "ipython",
    "version": 3
   },
   "file_extension": ".py",
   "mimetype": "text/x-python",
   "name": "python",
   "nbconvert_exporter": "python",
   "pygments_lexer": "ipython3",
   "version": "3.11.4"
  },
  "orig_nbformat": 4
 },
 "nbformat": 4,
 "nbformat_minor": 2
}
