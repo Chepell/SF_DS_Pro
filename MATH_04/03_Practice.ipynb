{
 "cells": [
  {
   "cell_type": "markdown",
   "id": "f468bf1e",
   "metadata": {},
   "source": [
    "## Область определения"
   ]
  },
  {
   "cell_type": "code",
   "execution_count": 136,
   "id": "c95eac41",
   "metadata": {},
   "outputs": [
    {
     "data": {
      "text/latex": [
       "$\\displaystyle \\left(-\\infty, -1\\right) \\cup \\left(-1, 1\\right) \\cup \\left(1, \\infty\\right)$"
      ],
      "text/plain": [
       "Union(Interval.open(-oo, -1), Interval.open(-1, 1), Interval.open(1, oo))"
      ]
     },
     "execution_count": 136,
     "metadata": {},
     "output_type": "execute_result"
    }
   ],
   "source": [
    "from sympy import Symbol, S\n",
    "from sympy.calculus.util import continuous_domain\n",
    "\n",
    "x = Symbol(\"x\") \n",
    "f = (x**3) / (x**2 - 1) \n",
    "\n",
    "continuous_domain(f, x, S.Reals)"
   ]
  },
  {
   "cell_type": "markdown",
   "id": "3def5ae7",
   "metadata": {},
   "source": [
    "## Область значений функции"
   ]
  },
  {
   "cell_type": "code",
   "execution_count": 137,
   "id": "84f388ff",
   "metadata": {},
   "outputs": [
    {
     "data": {
      "text/latex": [
       "$\\displaystyle \\left(-\\infty, \\infty\\right)$"
      ],
      "text/plain": [
       "Interval(-oo, oo)"
      ]
     },
     "execution_count": 137,
     "metadata": {},
     "output_type": "execute_result"
    }
   ],
   "source": [
    "from sympy.calculus.util import function_range\n",
    "\n",
    "function_range(f, x, S.Reals)\n"
   ]
  },
  {
   "cell_type": "markdown",
   "id": "39726364",
   "metadata": {},
   "source": [
    "## Нахождение точек пересечения с осями координат"
   ]
  },
  {
   "cell_type": "code",
   "execution_count": 138,
   "id": "c484f33f",
   "metadata": {},
   "outputs": [
    {
     "data": {
      "text/latex": [
       "$\\displaystyle \\left\\{0\\right\\}$"
      ],
      "text/plain": [
       "{0}"
      ]
     },
     "execution_count": 138,
     "metadata": {},
     "output_type": "execute_result"
    }
   ],
   "source": [
    "from sympy import solveset, Eq\n",
    "\n",
    "# Решение уравнения когда f=0, т.е. пересечение с осью x\n",
    "solveset(Eq(f, 0), x)"
   ]
  },
  {
   "cell_type": "code",
   "execution_count": 139,
   "id": "a11f173f",
   "metadata": {},
   "outputs": [
    {
     "data": {
      "text/latex": [
       "$\\displaystyle 0$"
      ],
      "text/plain": [
       "0"
      ]
     },
     "execution_count": 139,
     "metadata": {},
     "output_type": "execute_result"
    }
   ],
   "source": [
    "# Расчет функции для значения х=0, т.е. пересечение с осью y\n",
    "f.subs(x, 0)"
   ]
  },
  {
   "cell_type": "markdown",
   "id": "14d60350",
   "metadata": {},
   "source": [
    "## Нахождение производной"
   ]
  },
  {
   "cell_type": "code",
   "execution_count": 140,
   "id": "749f70c3",
   "metadata": {},
   "outputs": [
    {
     "data": {
      "text/latex": [
       "$\\displaystyle - \\frac{2 x^{4}}{\\left(x^{2} - 1\\right)^{2}} + \\frac{3 x^{2}}{x^{2} - 1}$"
      ],
      "text/plain": [
       "-2*x**4/(x**2 - 1)**2 + 3*x**2/(x**2 - 1)"
      ]
     },
     "execution_count": 140,
     "metadata": {},
     "output_type": "execute_result"
    }
   ],
   "source": [
    "from sympy import diff\n",
    "\n",
    "f_diff = f.diff(x)\n",
    "f_diff"
   ]
  },
  {
   "cell_type": "code",
   "execution_count": 141,
   "id": "7d1093f9",
   "metadata": {},
   "outputs": [
    {
     "data": {
      "text/latex": [
       "$\\displaystyle \\left\\{0, - \\sqrt{3}, \\sqrt{3}\\right\\}$"
      ],
      "text/plain": [
       "{0, -sqrt(3), sqrt(3)}"
      ]
     },
     "execution_count": 141,
     "metadata": {},
     "output_type": "execute_result"
    }
   ],
   "source": [
    "# Поиск пересечения первой производной с осью x, т.е. посчитать функцию первой производной для y=0\n",
    "solveset(Eq(f_diff, 0), x)"
   ]
  },
  {
   "cell_type": "markdown",
   "id": "10d568f8",
   "metadata": {},
   "source": [
    "## Нахождение второй производной"
   ]
  },
  {
   "cell_type": "code",
   "execution_count": 142,
   "id": "cfebc61b",
   "metadata": {},
   "outputs": [
    {
     "data": {
      "text/latex": [
       "$\\displaystyle \\frac{2 x \\left(\\frac{x^{2} \\cdot \\left(\\frac{4 x^{2}}{x^{2} - 1} - 1\\right)}{x^{2} - 1} - \\frac{6 x^{2}}{x^{2} - 1} + 3\\right)}{x^{2} - 1}$"
      ],
      "text/plain": [
       "2*x*(x**2*(4*x**2/(x**2 - 1) - 1)/(x**2 - 1) - 6*x**2/(x**2 - 1) + 3)/(x**2 - 1)"
      ]
     },
     "execution_count": 142,
     "metadata": {},
     "output_type": "execute_result"
    }
   ],
   "source": [
    "f_diff2 = f.diff(x, 2)\n",
    "f_diff2"
   ]
  },
  {
   "cell_type": "code",
   "execution_count": 143,
   "id": "31d8a7c8",
   "metadata": {},
   "outputs": [
    {
     "data": {
      "text/latex": [
       "$\\displaystyle \\left\\{0, - \\sqrt{3} i, \\sqrt{3} i\\right\\}$"
      ],
      "text/plain": [
       "{0, -sqrt(3)*I, sqrt(3)*I}"
      ]
     },
     "execution_count": 143,
     "metadata": {},
     "output_type": "execute_result"
    }
   ],
   "source": [
    "# Поиск пересечения второй производной с осью x, т.е. посчитать функцию второй производной для y=0\n",
    "solveset(Eq(f_diff2, 0), x)"
   ]
  },
  {
   "cell_type": "markdown",
   "id": "fc9a293e",
   "metadata": {},
   "source": [
    "## Нахождение асимптот"
   ]
  },
  {
   "cell_type": "code",
   "execution_count": 144,
   "id": "84763b7b",
   "metadata": {},
   "outputs": [
    {
     "data": {
      "text/latex": [
       "$\\displaystyle \\frac{x^{3}}{x^{2} - 1}$"
      ],
      "text/plain": [
       "x**3/(x**2 - 1)"
      ]
     },
     "execution_count": 144,
     "metadata": {},
     "output_type": "execute_result"
    }
   ],
   "source": [
    "f"
   ]
  },
  {
   "cell_type": "code",
   "execution_count": 145,
   "id": "9015fba6",
   "metadata": {},
   "outputs": [
    {
     "data": {
      "text/latex": [
       "$\\displaystyle \\infty$"
      ],
      "text/plain": [
       "oo"
      ]
     },
     "execution_count": 145,
     "metadata": {},
     "output_type": "execute_result"
    }
   ],
   "source": [
    "from sympy import limit, oo\n",
    "\n",
    "limit(f, x, oo)"
   ]
  },
  {
   "cell_type": "code",
   "execution_count": 146,
   "id": "ad626e7c",
   "metadata": {},
   "outputs": [
    {
     "data": {
      "text/latex": [
       "$\\displaystyle \\infty$"
      ],
      "text/plain": [
       "oo"
      ]
     },
     "execution_count": 146,
     "metadata": {},
     "output_type": "execute_result"
    }
   ],
   "source": [
    "limit(f, x, 1)"
   ]
  },
  {
   "cell_type": "code",
   "execution_count": 147,
   "id": "13913fbf",
   "metadata": {},
   "outputs": [
    {
     "data": {
      "text/latex": [
       "$\\displaystyle \\infty$"
      ],
      "text/plain": [
       "oo"
      ]
     },
     "execution_count": 147,
     "metadata": {},
     "output_type": "execute_result"
    }
   ],
   "source": [
    "limit(f, x, -1)"
   ]
  },
  {
   "cell_type": "code",
   "execution_count": 148,
   "id": "dfb2adc9",
   "metadata": {},
   "outputs": [
    {
     "data": {
      "text/latex": [
       "$\\displaystyle 1$"
      ],
      "text/plain": [
       "1"
      ]
     },
     "execution_count": 148,
     "metadata": {},
     "output_type": "execute_result"
    }
   ],
   "source": [
    "x = Symbol(\"x\")\n",
    "f = (x**3) / ((x**2 - 1)*x)\n",
    "\n",
    "limit(f, x, oo)"
   ]
  },
  {
   "cell_type": "code",
   "execution_count": 149,
   "id": "1ed7d557",
   "metadata": {},
   "outputs": [
    {
     "data": {
      "text/latex": [
       "$\\displaystyle 0$"
      ],
      "text/plain": [
       "0"
      ]
     },
     "execution_count": 149,
     "metadata": {},
     "output_type": "execute_result"
    }
   ],
   "source": [
    "x = Symbol(\"x\")\n",
    "f = (x**3) / ((x**2 - 1)) - 1*x\n",
    "limit(f,x,oo)"
   ]
  },
  {
   "attachments": {
    "image.png": {
     "image/png": "[encoded data removed]"
    }
   },
   "cell_type": "markdown",
   "id": "8a46c2d1",
   "metadata": {},
   "source": [
    "### УСЛОВИЕ ДЛЯ ЗАДАНИЙ 8.1-8.11\n",
    "\n",
    "![image.png](attachment:image.png)"
   ]
  },
  {
   "cell_type": "code",
   "execution_count": 150,
   "id": "5919fca2",
   "metadata": {},
   "outputs": [],
   "source": [
    "from sympy import Symbol, S\n",
    "from sympy.calculus.util import continuous_domain, function_range"
   ]
  },
  {
   "cell_type": "code",
   "execution_count": 151,
   "id": "23f4c70f",
   "metadata": {},
   "outputs": [],
   "source": [
    "x = Symbol('x')\n",
    "f = x**3 / (2 * (x + 5)**2)"
   ]
  },
  {
   "cell_type": "code",
   "execution_count": 152,
   "id": "4c2b7662",
   "metadata": {},
   "outputs": [
    {
     "data": {
      "text/latex": [
       "$\\displaystyle \\frac{x^{3}}{2 \\left(x + 5\\right)^{2}}$"
      ],
      "text/plain": [
       "x**3/(2*(x + 5)**2)"
      ]
     },
     "execution_count": 152,
     "metadata": {},
     "output_type": "execute_result"
    }
   ],
   "source": [
    "f"
   ]
  },
  {
   "attachments": {},
   "cell_type": "markdown",
   "id": "2ba22ab7",
   "metadata": {},
   "source": [
    "Область определения"
   ]
  },
  {
   "cell_type": "code",
   "execution_count": 153,
   "id": "224283ba",
   "metadata": {},
   "outputs": [
    {
     "data": {
      "text/latex": [
       "$\\displaystyle \\left(-\\infty, -5\\right) \\cup \\left(-5, \\infty\\right)$"
      ],
      "text/plain": [
       "Union(Interval.open(-oo, -5), Interval.open(-5, oo))"
      ]
     },
     "execution_count": 153,
     "metadata": {},
     "output_type": "execute_result"
    }
   ],
   "source": [
    "continuous_domain(f, x, S.Reals)"
   ]
  },
  {
   "attachments": {},
   "cell_type": "markdown",
   "id": "502a0154",
   "metadata": {},
   "source": [
    "Область значения"
   ]
  },
  {
   "cell_type": "code",
   "execution_count": 154,
   "id": "1462cf47",
   "metadata": {},
   "outputs": [
    {
     "data": {
      "text/latex": [
       "$\\displaystyle \\left(-\\infty, \\infty\\right)$"
      ],
      "text/plain": [
       "Interval(-oo, oo)"
      ]
     },
     "execution_count": 154,
     "metadata": {},
     "output_type": "execute_result"
    }
   ],
   "source": [
    "function_range(f, x, S.Reals)"
   ]
  },
  {
   "attachments": {},
   "cell_type": "markdown",
   "id": "0bfd595d",
   "metadata": {},
   "source": [
    "Задание 8.4\n",
    "\n",
    "В какой точке график пересекает ось абсцисс? В качестве ответа введите координату по х."
   ]
  },
  {
   "cell_type": "code",
   "execution_count": 155,
   "id": "32dee2c3",
   "metadata": {},
   "outputs": [
    {
     "data": {
      "text/latex": [
       "$\\displaystyle \\left\\{0\\right\\}$"
      ],
      "text/plain": [
       "{0}"
      ]
     },
     "execution_count": 155,
     "metadata": {},
     "output_type": "execute_result"
    }
   ],
   "source": [
    "from sympy import solveset, Eq\n",
    "\n",
    "# Решение уравнения когда f = 0, т.е. пересечение с осью x\n",
    "solveset(Eq(f, 0), x)"
   ]
  },
  {
   "attachments": {},
   "cell_type": "markdown",
   "id": "ba4f19bc",
   "metadata": {},
   "source": [
    "Задание 8.5\n",
    "\n",
    "В какой точке график пересекает ось ординат? В качестве ответа введите координату по y."
   ]
  },
  {
   "cell_type": "code",
   "execution_count": 156,
   "id": "a62580dc",
   "metadata": {},
   "outputs": [
    {
     "data": {
      "text/latex": [
       "$\\displaystyle 0$"
      ],
      "text/plain": [
       "0"
      ]
     },
     "execution_count": 156,
     "metadata": {},
     "output_type": "execute_result"
    }
   ],
   "source": [
    "# Расчет функции для значения х=0, т.е. пересечение с осью y\n",
    "f.subs(x, 0)"
   ]
  },
  {
   "attachments": {},
   "cell_type": "markdown",
   "id": "b6398ee3",
   "metadata": {},
   "source": [
    "Задание 8.6\n",
    "\n",
    "Найдите производную от функции"
   ]
  },
  {
   "cell_type": "code",
   "execution_count": 157,
   "id": "c206631d",
   "metadata": {},
   "outputs": [
    {
     "data": {
      "text/latex": [
       "$\\displaystyle - \\frac{x^{3}}{\\left(x + 5\\right)^{3}} + \\frac{3 x^{2}}{2 \\left(x + 5\\right)^{2}}$"
      ],
      "text/plain": [
       "-x**3/(x + 5)**3 + 3*x**2/(2*(x + 5)**2)"
      ]
     },
     "execution_count": 157,
     "metadata": {},
     "output_type": "execute_result"
    }
   ],
   "source": [
    "from sympy import diff\n",
    "\n",
    "f_diff = f.diff(x)\n",
    "f_diff"
   ]
  },
  {
   "attachments": {},
   "cell_type": "markdown",
   "id": "57a980a3",
   "metadata": {},
   "source": [
    "Проверка области определения первой производной"
   ]
  },
  {
   "cell_type": "code",
   "execution_count": 158,
   "id": "6a3c1a9f",
   "metadata": {},
   "outputs": [
    {
     "data": {
      "text/latex": [
       "$\\displaystyle \\left(-\\infty, -5\\right) \\cup \\left(-5, \\infty\\right)$"
      ],
      "text/plain": [
       "Union(Interval.open(-oo, -5), Interval.open(-5, oo))"
      ]
     },
     "execution_count": 158,
     "metadata": {},
     "output_type": "execute_result"
    }
   ],
   "source": [
    "continuous_domain(f_diff, x, S.Reals)"
   ]
  },
  {
   "attachments": {},
   "cell_type": "markdown",
   "id": "c6a3c943",
   "metadata": {},
   "source": [
    "Задание 8.7\n",
    "\n",
    "Найдите точку максимума. Если её нет, введите в качестве ответа слово нет."
   ]
  },
  {
   "cell_type": "code",
   "execution_count": 159,
   "id": "93c99f61",
   "metadata": {},
   "outputs": [
    {
     "data": {
      "text/latex": [
       "$\\displaystyle \\left\\{-15, 0\\right\\}$"
      ],
      "text/plain": [
       "{-15, 0}"
      ]
     },
     "execution_count": 159,
     "metadata": {},
     "output_type": "execute_result"
    }
   ],
   "source": [
    "# Поиск пересечения первой производной с осью x, т.е. посчитать функцию первой производной для y=0\n",
    "solveset(Eq(f_diff, 0), x)"
   ]
  },
  {
   "attachments": {},
   "cell_type": "markdown",
   "id": "42d71c3d",
   "metadata": {},
   "source": [
    "Знак первой производной функции на участке до -15"
   ]
  },
  {
   "cell_type": "code",
   "execution_count": 160,
   "id": "93dba979",
   "metadata": {},
   "outputs": [
    {
     "data": {
      "text/latex": [
       "$\\displaystyle \\frac{128}{1331}$"
      ],
      "text/plain": [
       "128/1331"
      ]
     },
     "execution_count": 160,
     "metadata": {},
     "output_type": "execute_result"
    }
   ],
   "source": [
    "f_diff.subs(x, -16)"
   ]
  },
  {
   "attachments": {},
   "cell_type": "markdown",
   "id": "e6e4e3bc",
   "metadata": {},
   "source": [
    "Знак первой производной функции на участке (-15, -5)"
   ]
  },
  {
   "cell_type": "code",
   "execution_count": 161,
   "id": "9c3edd87",
   "metadata": {},
   "outputs": [
    {
     "data": {
      "text/latex": [
       "$\\displaystyle - \\frac{49}{2}$"
      ],
      "text/plain": [
       "-49/2"
      ]
     },
     "execution_count": 161,
     "metadata": {},
     "output_type": "execute_result"
    }
   ],
   "source": [
    "f_diff.subs(x, -7)"
   ]
  },
  {
   "attachments": {},
   "cell_type": "markdown",
   "id": "41e8b0b4",
   "metadata": {},
   "source": [
    "Знак первой производной функции на участке (-5, 0)"
   ]
  },
  {
   "cell_type": "code",
   "execution_count": 162,
   "id": "c5984fae",
   "metadata": {},
   "outputs": [
    {
     "data": {
      "text/latex": [
       "$\\displaystyle 88$"
      ],
      "text/plain": [
       "88"
      ]
     },
     "execution_count": 162,
     "metadata": {},
     "output_type": "execute_result"
    }
   ],
   "source": [
    "f_diff.subs(x, -4)"
   ]
  },
  {
   "attachments": {},
   "cell_type": "markdown",
   "id": "d8d2b93e",
   "metadata": {},
   "source": [
    "Знак первой производной функции на участке от 0"
   ]
  },
  {
   "cell_type": "code",
   "execution_count": 163,
   "id": "3c6091f5",
   "metadata": {},
   "outputs": [
    {
     "data": {
      "text/latex": [
       "$\\displaystyle \\frac{1}{27}$"
      ],
      "text/plain": [
       "1/27"
      ]
     },
     "execution_count": 163,
     "metadata": {},
     "output_type": "execute_result"
    }
   ],
   "source": [
    "f_diff.subs(x, 1)"
   ]
  },
  {
   "attachments": {},
   "cell_type": "markdown",
   "id": "2eba07b7",
   "metadata": {},
   "source": [
    "Т.е. до -15 функция росла, а после падала.\n",
    "\n",
    "-15 точка максимума.\n",
    "\n",
    "Минимума нет. "
   ]
  },
  {
   "attachments": {},
   "cell_type": "markdown",
   "id": "50305ac3",
   "metadata": {},
   "source": [
    "### Вторая производная"
   ]
  },
  {
   "cell_type": "code",
   "execution_count": 164,
   "id": "9195f23b",
   "metadata": {},
   "outputs": [
    {
     "data": {
      "text/latex": [
       "$\\displaystyle \\frac{3 x \\left(\\frac{x^{2}}{\\left(x + 5\\right)^{2}} - \\frac{2 x}{x + 5} + 1\\right)}{\\left(x + 5\\right)^{2}}$"
      ],
      "text/plain": [
       "3*x*(x**2/(x + 5)**2 - 2*x/(x + 5) + 1)/(x + 5)**2"
      ]
     },
     "execution_count": 164,
     "metadata": {},
     "output_type": "execute_result"
    }
   ],
   "source": [
    "f_diff2 = f.diff(x, 2)\n",
    "f_diff2"
   ]
  },
  {
   "attachments": {},
   "cell_type": "markdown",
   "id": "1899488b",
   "metadata": {},
   "source": [
    "После сокращений и раскрытий скобок вторая производная равна"
   ]
  },
  {
   "cell_type": "code",
   "execution_count": 165,
   "id": "d3b84502",
   "metadata": {},
   "outputs": [
    {
     "data": {
      "text/latex": [
       "$\\displaystyle \\frac{75 x}{\\left(x + 5\\right)^{4}}$"
      ],
      "text/plain": [
       "75*x/(x + 5)**4"
      ]
     },
     "execution_count": 165,
     "metadata": {},
     "output_type": "execute_result"
    }
   ],
   "source": [
    "f_diff2 = 75 * x / ((x + 5)**4)\n",
    "f_diff2"
   ]
  },
  {
   "attachments": {},
   "cell_type": "markdown",
   "id": "bcba4c3f",
   "metadata": {},
   "source": [
    "Область определения второй производной"
   ]
  },
  {
   "cell_type": "code",
   "execution_count": 166,
   "id": "cd62373a",
   "metadata": {},
   "outputs": [
    {
     "data": {
      "text/latex": [
       "$\\displaystyle \\left(-\\infty, -5\\right) \\cup \\left(-5, \\infty\\right)$"
      ],
      "text/plain": [
       "Union(Interval.open(-oo, -5), Interval.open(-5, oo))"
      ]
     },
     "execution_count": 166,
     "metadata": {},
     "output_type": "execute_result"
    }
   ],
   "source": [
    "continuous_domain(f_diff2, x, S.Reals)"
   ]
  },
  {
   "cell_type": "code",
   "execution_count": 167,
   "id": "5a3055e5",
   "metadata": {},
   "outputs": [
    {
     "data": {
      "text/latex": [
       "$\\displaystyle \\left\\{0\\right\\}$"
      ],
      "text/plain": [
       "{0}"
      ]
     },
     "execution_count": 167,
     "metadata": {},
     "output_type": "execute_result"
    }
   ],
   "source": [
    "# Поиск пересечения второй производной с осью x, \n",
    "# т.е. посчитать функцию второй производной для y=0\n",
    "solveset(Eq(f_diff2, 0), x)"
   ]
  },
  {
   "attachments": {},
   "cell_type": "markdown",
   "id": "45534373",
   "metadata": {},
   "source": [
    "Знак второй производной на участке до -5"
   ]
  },
  {
   "cell_type": "code",
   "execution_count": 168,
   "id": "b6fee62f",
   "metadata": {},
   "outputs": [
    {
     "data": {
      "text/latex": [
       "$\\displaystyle -450$"
      ],
      "text/plain": [
       "-450"
      ]
     },
     "execution_count": 168,
     "metadata": {},
     "output_type": "execute_result"
    }
   ],
   "source": [
    "f_diff2.subs(x, -6)"
   ]
  },
  {
   "attachments": {},
   "cell_type": "markdown",
   "id": "ee78f378",
   "metadata": {},
   "source": [
    "Знак второй производной на участке от -5 до 0"
   ]
  },
  {
   "cell_type": "code",
   "execution_count": 169,
   "id": "fc452eac",
   "metadata": {},
   "outputs": [
    {
     "data": {
      "text/latex": [
       "$\\displaystyle - \\frac{225}{16}$"
      ],
      "text/plain": [
       "-225/16"
      ]
     },
     "execution_count": 169,
     "metadata": {},
     "output_type": "execute_result"
    }
   ],
   "source": [
    "f_diff2.subs(x, -3)"
   ]
  },
  {
   "attachments": {},
   "cell_type": "markdown",
   "id": "f2c922a0",
   "metadata": {},
   "source": [
    "Знак второй производной на участке от 0 и больше"
   ]
  },
  {
   "cell_type": "code",
   "execution_count": 170,
   "id": "ff241f2b",
   "metadata": {},
   "outputs": [
    {
     "data": {
      "text/latex": [
       "$\\displaystyle \\frac{25}{432}$"
      ],
      "text/plain": [
       "25/432"
      ]
     },
     "execution_count": 170,
     "metadata": {},
     "output_type": "execute_result"
    }
   ],
   "source": [
    "f_diff2.subs(x, 1)"
   ]
  },
  {
   "attachments": {},
   "cell_type": "markdown",
   "id": "0515d5c7",
   "metadata": {},
   "source": [
    "### Задание 9.3"
   ]
  },
  {
   "cell_type": "code",
   "execution_count": 171,
   "id": "13e73fac",
   "metadata": {},
   "outputs": [
    {
     "data": {
      "text/latex": [
       "$\\displaystyle - x^{3} + 3 x^{2} + 9$"
      ],
      "text/plain": [
       "-x**3 + 3*x**2 + 9"
      ]
     },
     "execution_count": 171,
     "metadata": {},
     "output_type": "execute_result"
    }
   ],
   "source": [
    "f = -x**3 + 3*x**2 + 9\n",
    "f"
   ]
  },
  {
   "cell_type": "code",
   "execution_count": 172,
   "id": "942a0ee1",
   "metadata": {},
   "outputs": [
    {
     "data": {
      "text/latex": [
       "$\\displaystyle - 3 x^{2} + 6 x$"
      ],
      "text/plain": [
       "-3*x**2 + 6*x"
      ]
     },
     "execution_count": 172,
     "metadata": {},
     "output_type": "execute_result"
    }
   ],
   "source": [
    "f_diff = f.diff(x)\n",
    "f_diff"
   ]
  },
  {
   "cell_type": "code",
   "execution_count": 173,
   "id": "73f6636d",
   "metadata": {},
   "outputs": [
    {
     "data": {
      "text/latex": [
       "$\\displaystyle \\left\\{0, 2\\right\\}$"
      ],
      "text/plain": [
       "{0, 2}"
      ]
     },
     "execution_count": 173,
     "metadata": {},
     "output_type": "execute_result"
    }
   ],
   "source": [
    "# Поиск пересечения второй производной с осью x, \n",
    "# т.е. посчитать функцию второй производной для y=0\n",
    "solveset(Eq(f_diff, 0), x)"
   ]
  },
  {
   "attachments": {},
   "cell_type": "markdown",
   "id": "e873a919",
   "metadata": {},
   "source": [
    "Значение производной на отрезках интервала"
   ]
  },
  {
   "cell_type": "code",
   "execution_count": 174,
   "id": "ac1904c0",
   "metadata": {},
   "outputs": [
    {
     "name": "stdout",
     "output_type": "stream",
     "text": [
      "Значение производной до 0: -9\n",
      "Значение производной от 0 до 2: 3\n",
      "Значение производной от 2 до бесконечности: -9\n"
     ]
    }
   ],
   "source": [
    "print('Значение производной до 0:', f_diff.subs(x, -1))\n",
    "print('Значение производной от 0 до 2:', f_diff.subs(x, 1))\n",
    "print('Значение производной от 2 до бесконечности:', f_diff.subs(x, 3))"
   ]
  },
  {
   "attachments": {},
   "cell_type": "markdown",
   "id": "d81649e3",
   "metadata": {},
   "source": [
    "Задание 9.5\n",
    "\n",
    "Найдите точку минимума для функции"
   ]
  },
  {
   "cell_type": "code",
   "execution_count": 175,
   "id": "1e6d2142",
   "metadata": {},
   "outputs": [
    {
     "data": {
      "text/latex": [
       "$\\displaystyle \\frac{- x^{2} - 1}{x}$"
      ],
      "text/plain": [
       "(-x**2 - 1)/x"
      ]
     },
     "execution_count": 175,
     "metadata": {},
     "output_type": "execute_result"
    }
   ],
   "source": [
    "f = -(x**2 + 1) / x\n",
    "f"
   ]
  },
  {
   "cell_type": "code",
   "execution_count": 176,
   "id": "a7c88980",
   "metadata": {},
   "outputs": [
    {
     "data": {
      "text/latex": [
       "$\\displaystyle -2 - \\frac{- x^{2} - 1}{x^{2}}$"
      ],
      "text/plain": [
       "-2 - (-x**2 - 1)/x**2"
      ]
     },
     "execution_count": 176,
     "metadata": {},
     "output_type": "execute_result"
    }
   ],
   "source": [
    "f_diff = f.diff(x)\n",
    "f_diff"
   ]
  },
  {
   "attachments": {},
   "cell_type": "markdown",
   "id": "9b2c058b",
   "metadata": {},
   "source": [
    "Область определения первой производной"
   ]
  },
  {
   "cell_type": "code",
   "execution_count": 177,
   "id": "ce1dee91",
   "metadata": {},
   "outputs": [
    {
     "data": {
      "text/latex": [
       "$\\displaystyle \\left(-\\infty, 0\\right) \\cup \\left(0, \\infty\\right)$"
      ],
      "text/plain": [
       "Union(Interval.open(-oo, 0), Interval.open(0, oo))"
      ]
     },
     "execution_count": 177,
     "metadata": {},
     "output_type": "execute_result"
    }
   ],
   "source": [
    "continuous_domain(f_diff, x, S.Reals)"
   ]
  },
  {
   "cell_type": "code",
   "execution_count": 178,
   "id": "8a48a12e",
   "metadata": {},
   "outputs": [
    {
     "data": {
      "text/latex": [
       "$\\displaystyle \\left\\{-1, 1\\right\\}$"
      ],
      "text/plain": [
       "{-1, 1}"
      ]
     },
     "execution_count": 178,
     "metadata": {},
     "output_type": "execute_result"
    }
   ],
   "source": [
    "# Поиск пересечения первой производной с осью x, \n",
    "# т.е. посчитать функцию первой производной для y=0\n",
    "solveset(Eq(f_diff, 0), x)"
   ]
  },
  {
   "cell_type": "markdown",
   "id": "9b178f5e",
   "metadata": {},
   "source": [
    "Значение производной на отрезках интервала"
   ]
  },
  {
   "cell_type": "code",
   "execution_count": 179,
   "id": "2695df62",
   "metadata": {},
   "outputs": [
    {
     "name": "stdout",
     "output_type": "stream",
     "text": [
      "Значение производной до -1: -3/4\n",
      "Значение производной от -1 до 0: 3.00000000000000\n",
      "Значение производной от 0 до 1: 3.00000000000000\n",
      "Значение производной от 1 до бесконечности: -3/4\n"
     ]
    }
   ],
   "source": [
    "print('Значение производной до -1:', f_diff.subs(x, -2))\n",
    "print('Значение производной от -1 до 0:', f_diff.subs(x, -0.5))\n",
    "print('Значение производной от 0 до 1:', f_diff.subs(x, 0.5))\n",
    "print('Значение производной от 1 до бесконечности:', f_diff.subs(x, 2))"
   ]
  },
  {
   "attachments": {},
   "cell_type": "markdown",
   "id": "f4ccc8b8",
   "metadata": {},
   "source": [
    "Задание 1.4\n",
    "\n",
    "Найдите область убывания функции"
   ]
  },
  {
   "cell_type": "code",
   "execution_count": 180,
   "id": "76af61a9",
   "metadata": {},
   "outputs": [
    {
     "data": {
      "text/latex": [
       "$\\displaystyle x^{3} - 6 x^{2} + 2$"
      ],
      "text/plain": [
       "x**3 - 6*x**2 + 2"
      ]
     },
     "execution_count": 180,
     "metadata": {},
     "output_type": "execute_result"
    }
   ],
   "source": [
    "f = x**3 - 6*x**2 + 2\n",
    "f"
   ]
  },
  {
   "cell_type": "code",
   "execution_count": 181,
   "id": "bb623b94",
   "metadata": {},
   "outputs": [
    {
     "data": {
      "text/latex": [
       "$\\displaystyle 3 x^{2} - 12 x$"
      ],
      "text/plain": [
       "3*x**2 - 12*x"
      ]
     },
     "execution_count": 181,
     "metadata": {},
     "output_type": "execute_result"
    }
   ],
   "source": [
    "f_diff = f.diff(x)\n",
    "f_diff"
   ]
  },
  {
   "cell_type": "code",
   "execution_count": 182,
   "id": "58786f74",
   "metadata": {},
   "outputs": [
    {
     "data": {
      "text/latex": [
       "$\\displaystyle \\left\\{0, 4\\right\\}$"
      ],
      "text/plain": [
       "{0, 4}"
      ]
     },
     "execution_count": 182,
     "metadata": {},
     "output_type": "execute_result"
    }
   ],
   "source": [
    "# Поиск пересечения первой производной с осью x, точки экстремума функции \n",
    "# т.е. посчитать функцию первой производной для y=0\n",
    "solveset(Eq(f_diff, 0), x)"
   ]
  },
  {
   "cell_type": "markdown",
   "id": "1c7cff3d",
   "metadata": {},
   "source": [
    "Значение производной на отрезках интервала"
   ]
  },
  {
   "cell_type": "code",
   "execution_count": 183,
   "id": "a099cc1c",
   "metadata": {},
   "outputs": [
    {
     "name": "stdout",
     "output_type": "stream",
     "text": [
      "Значение производной до 0: 15\n",
      "Значение производной от 0 до 4: -9\n",
      "Значение производной от 4 и до бесконечности: 15\n"
     ]
    }
   ],
   "source": [
    "print('Значение производной до 0:', f_diff.subs(x, -1))\n",
    "print('Значение производной от 0 до 4:', f_diff.subs(x, 1))\n",
    "print('Значение производной от 4 и до бесконечности:', f_diff.subs(x, 5))"
   ]
  },
  {
   "cell_type": "code",
   "execution_count": 184,
   "id": "a637b1ac",
   "metadata": {},
   "outputs": [],
   "source": [
    "from sympy import exp, symbols"
   ]
  },
  {
   "cell_type": "code",
   "execution_count": 185,
   "id": "1487d286",
   "metadata": {},
   "outputs": [],
   "source": [
    "x1, x2, x3 = symbols('x1 x2 x3')"
   ]
  },
  {
   "cell_type": "code",
   "execution_count": 186,
   "id": "cc727878",
   "metadata": {},
   "outputs": [
    {
     "data": {
      "text/latex": [
       "$\\displaystyle \\frac{1}{e^{- 2 x_{1} - 2 x_{2} - 2 x_{3}} + 1}$"
      ],
      "text/plain": [
       "1/(exp(-2*x1 - 2*x2 - 2*x3) + 1)"
      ]
     },
     "execution_count": 186,
     "metadata": {},
     "output_type": "execute_result"
    }
   ],
   "source": [
    "f = 1 / (1 + exp(-2 * (x1 + x2 + x3)))\n",
    "f"
   ]
  },
  {
   "attachments": {},
   "cell_type": "markdown",
   "id": "6269a82b",
   "metadata": {},
   "source": [
    "Вычислите f(1, 1, 0). Ответ округлите до второго знака после точки-разделителя"
   ]
  },
  {
   "cell_type": "code",
   "execution_count": 187,
   "id": "60ed6197",
   "metadata": {},
   "outputs": [
    {
     "data": {
      "text/latex": [
       "$\\displaystyle 0.98$"
      ],
      "text/plain": [
       "0.98"
      ]
     },
     "execution_count": 187,
     "metadata": {},
     "output_type": "execute_result"
    }
   ],
   "source": [
    "round(f.subs({x1: 1.0, x2: 1.0, x3: 0}), 2)"
   ]
  },
  {
   "cell_type": "code",
   "execution_count": 188,
   "id": "d7b0235c",
   "metadata": {},
   "outputs": [
    {
     "data": {
      "text/latex": [
       "$\\displaystyle 0.88$"
      ],
      "text/plain": [
       "0.88"
      ]
     },
     "execution_count": 188,
     "metadata": {},
     "output_type": "execute_result"
    }
   ],
   "source": [
    "round(f.subs({x1: 0.1, x2: 0.3, x3: 0.6}), 2)"
   ]
  },
  {
   "attachments": {},
   "cell_type": "markdown",
   "id": "bfa1af1b",
   "metadata": {},
   "source": [
    "Задание 3.1\n",
    "\n",
    "Найдите экстремумы для функции"
   ]
  },
  {
   "cell_type": "code",
   "execution_count": 189,
   "id": "a2c58755",
   "metadata": {},
   "outputs": [
    {
     "data": {
      "text/latex": [
       "$\\displaystyle - 2 x^{3} - 3 x^{2} + 12 x - 4$"
      ],
      "text/plain": [
       "-2*x**3 - 3*x**2 + 12*x - 4"
      ]
     },
     "execution_count": 189,
     "metadata": {},
     "output_type": "execute_result"
    }
   ],
   "source": [
    "f = -2 * x**3 - 3 * x**2 + 12 * x - 4\n",
    "f"
   ]
  },
  {
   "cell_type": "code",
   "execution_count": 190,
   "id": "3829dab3",
   "metadata": {},
   "outputs": [
    {
     "data": {
      "text/latex": [
       "$\\displaystyle - 6 x^{2} - 6 x + 12$"
      ],
      "text/plain": [
       "-6*x**2 - 6*x + 12"
      ]
     },
     "execution_count": 190,
     "metadata": {},
     "output_type": "execute_result"
    }
   ],
   "source": [
    "f_diff = f.diff(x)\n",
    "f_diff"
   ]
  },
  {
   "cell_type": "code",
   "execution_count": 191,
   "id": "5cb034f5",
   "metadata": {},
   "outputs": [
    {
     "data": {
      "text/latex": [
       "$\\displaystyle \\left\\{-2, 1\\right\\}$"
      ],
      "text/plain": [
       "{-2, 1}"
      ]
     },
     "execution_count": 191,
     "metadata": {},
     "output_type": "execute_result"
    }
   ],
   "source": [
    "# Ищу пересечения производной с осью х. y=0\n",
    "solveset(Eq(f_diff, 0), x)"
   ]
  },
  {
   "cell_type": "markdown",
   "id": "6d9f034a",
   "metadata": {},
   "source": [
    "Значение производной на отрезках интервала"
   ]
  },
  {
   "cell_type": "code",
   "execution_count": 192,
   "id": "5c0828bd",
   "metadata": {},
   "outputs": [
    {
     "name": "stdout",
     "output_type": "stream",
     "text": [
      "Значение производной до -2: -24\n",
      "Значение производной от -2 до 1: 12\n",
      "Значение производной от 1 и до бесконечности: -24\n"
     ]
    }
   ],
   "source": [
    "print('Значение производной до -2:', f_diff.subs(x, -3))\n",
    "print('Значение производной от -2 до 1:', f_diff.subs(x, 0))\n",
    "print('Значение производной от 1 и до бесконечности:', f_diff.subs(x, 2))"
   ]
  },
  {
   "attachments": {},
   "cell_type": "markdown",
   "id": "cf3e7d5b",
   "metadata": {},
   "source": [
    "### Найти экстремумы для функции"
   ]
  },
  {
   "cell_type": "code",
   "execution_count": 193,
   "id": "2b94e3cc",
   "metadata": {},
   "outputs": [
    {
     "data": {
      "text/latex": [
       "$\\displaystyle x^{3} + 3 x y^{2} - 15 x - 12 y + 1$"
      ],
      "text/plain": [
       "x**3 + 3*x*y**2 - 15*x - 12*y + 1"
      ]
     },
     "execution_count": 193,
     "metadata": {},
     "output_type": "execute_result"
    }
   ],
   "source": [
    "x, y = symbols('x y')\n",
    "\n",
    "z = x**3 + 3 * x * y**2 - 15 * x - 12 * y + 1\n",
    "z"
   ]
  },
  {
   "attachments": {},
   "cell_type": "markdown",
   "id": "d9857f54",
   "metadata": {},
   "source": [
    "Нахождение первых частных производных по `x` и `y`"
   ]
  },
  {
   "cell_type": "code",
   "execution_count": 194,
   "id": "3fcf850f",
   "metadata": {},
   "outputs": [
    {
     "data": {
      "text/latex": [
       "$\\displaystyle 3 x^{2} + 3 y^{2} - 15$"
      ],
      "text/plain": [
       "3*x**2 + 3*y**2 - 15"
      ]
     },
     "execution_count": 194,
     "metadata": {},
     "output_type": "execute_result"
    }
   ],
   "source": [
    "diff_zx = z.diff(x)\n",
    "diff_zx"
   ]
  },
  {
   "cell_type": "code",
   "execution_count": 195,
   "id": "c5d36ce0",
   "metadata": {},
   "outputs": [
    {
     "data": {
      "text/latex": [
       "$\\displaystyle 6 x y - 12$"
      ],
      "text/plain": [
       "6*x*y - 12"
      ]
     },
     "execution_count": 195,
     "metadata": {},
     "output_type": "execute_result"
    }
   ],
   "source": [
    "diff_zy = z.diff(y)\n",
    "diff_zy"
   ]
  },
  {
   "attachments": {},
   "cell_type": "markdown",
   "id": "7efb8d91",
   "metadata": {},
   "source": [
    "Поиск точек экстремумов через приравнивание производных к нулю в системе уравнений"
   ]
  },
  {
   "cell_type": "code",
   "execution_count": 196,
   "id": "59b7353a",
   "metadata": {},
   "outputs": [],
   "source": [
    "from sympy import solve\n",
    "\n",
    "eq1 = Eq(diff_zx, 0)\n",
    "eq2 = Eq(diff_zy, 0)\n",
    " \n",
    "sol = solve([eq1, eq2], [x, y])"
   ]
  },
  {
   "attachments": {},
   "cell_type": "markdown",
   "id": "c125a62d",
   "metadata": {},
   "source": [
    "В итоге получим четыре стационарные точки"
   ]
  },
  {
   "cell_type": "code",
   "execution_count": 197,
   "id": "2b70558a",
   "metadata": {},
   "outputs": [
    {
     "data": {
      "text/plain": [
       "[(-2, -1), (-1, -2), (1, 2), (2, 1)]"
      ]
     },
     "execution_count": 197,
     "metadata": {},
     "output_type": "execute_result"
    }
   ],
   "source": [
    "sol"
   ]
  },
  {
   "attachments": {},
   "cell_type": "markdown",
   "id": "ed2fdc9d",
   "metadata": {},
   "source": [
    "Найдём частные производные второго порядка и составим матрицу Гессе"
   ]
  },
  {
   "cell_type": "code",
   "execution_count": 198,
   "id": "fb434eaf",
   "metadata": {},
   "outputs": [
    {
     "data": {
      "text/latex": [
       "$\\displaystyle 6 x$"
      ],
      "text/plain": [
       "6*x"
      ]
     },
     "execution_count": 198,
     "metadata": {},
     "output_type": "execute_result"
    }
   ],
   "source": [
    "diff_zxx2 = z.diff(x, 2)\n",
    "diff_zxx2"
   ]
  },
  {
   "cell_type": "code",
   "execution_count": 199,
   "id": "935b1e96",
   "metadata": {},
   "outputs": [
    {
     "data": {
      "text/latex": [
       "$\\displaystyle 6 x$"
      ],
      "text/plain": [
       "6*x"
      ]
     },
     "execution_count": 199,
     "metadata": {},
     "output_type": "execute_result"
    }
   ],
   "source": [
    "diff_zyy2 = z.diff(y, 2)\n",
    "diff_zyy2"
   ]
  },
  {
   "cell_type": "code",
   "execution_count": 203,
   "id": "c3d2ca9c",
   "metadata": {},
   "outputs": [
    {
     "data": {
      "text/latex": [
       "$\\displaystyle 6 y$"
      ],
      "text/plain": [
       "6*y"
      ]
     },
     "execution_count": 203,
     "metadata": {},
     "output_type": "execute_result"
    }
   ],
   "source": [
    "diff_zxy2 = z.diff(x).diff(y)\n",
    "diff_zxy2"
   ]
  },
  {
   "cell_type": "code",
   "execution_count": 205,
   "id": "5aa8d3b1",
   "metadata": {},
   "outputs": [
    {
     "name": "stdout",
     "output_type": "stream",
     "text": [
      "The Hessian matrix is:\n",
      "Matrix([[6*x, 6*y], [6*y, 6*x]])\n"
     ]
    }
   ],
   "source": [
    "from sympy import hessian\n",
    "\n",
    "# Create the Hessian matrix\n",
    "H = hessian(z, (x, y))\n",
    "\n",
    "print(\"The Hessian matrix is:\")\n",
    "print(H)"
   ]
  },
  {
   "cell_type": "code",
   "execution_count": null,
   "id": "f33a9e5d",
   "metadata": {},
   "outputs": [],
   "source": []
  }
 ],
 "metadata": {
  "kernelspec": {
   "display_name": "Python 3 (ipykernel)",
   "language": "python",
   "name": "python3"
  },
  "language_info": {
   "codemirror_mode": {
    "name": "ipython",
    "version": 3
   },
   "file_extension": ".py",
   "mimetype": "text/x-python",
   "name": "python",
   "nbconvert_exporter": "python",
   "pygments_lexer": "ipython3",
   "version": "3.9.10"
  }
 },
 "nbformat": 4,
 "nbformat_minor": 5
}
