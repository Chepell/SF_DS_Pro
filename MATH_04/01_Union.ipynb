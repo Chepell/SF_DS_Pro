{
 "cells": [
  {
   "attachments": {},
   "cell_type": "markdown",
   "metadata": {},
   "source": [
    "УСЛОВИЕ ДЛЯ ЗАДАНИЙ 2.6-2.8\n",
    "\n",
    "Представьте, что вы являетесь куратором образовательной программы, на которой будет два вебинара: по программированию и по машинному обучению.\n",
    "\n",
    "На вебинар по программированию записались потенциальные слушатели со следующими электронными адресами:\n",
    "\n",
    "bennet@xyz.com\n",
    "darcy@abc.com\n",
    "margaret@xyz.com\n",
    "pa@hhh.com\n",
    "marimari@xyz.com\n",
    "mallika@yahoo.com\n",
    "abc@xyz.com\n",
    "0071235@gmail.ru\n",
    "\n",
    "\n",
    "На вебинар по машинному обучению записались потенциальные слушатели со следующими электронными адресами:\n",
    "\n",
    "marimari@xyz.com\n",
    "darcy@abc.com\n",
    "0071235@gmail.ru\n",
    "darcy@abc.com\n",
    "petr44@xyz.com\n",
    "katrin@ya.com\n",
    "\n",
    "Оформите множества в Python для обоих списков слушателей."
   ]
  },
  {
   "cell_type": "code",
   "execution_count": 2,
   "metadata": {},
   "outputs": [],
   "source": [
    "dev = {'bennet@xyz.com', 'darcy@abc.com', \n",
    "       'margaret@xyz.com', 'pa@hhh.com',\n",
    "       'marimari@xyz.com', 'mallika@yahoo.com',\n",
    "       'abc@xyz.com', '0071235@gmail.ru'}\n",
    "\n",
    "ml = {'marimari@xyz.com', 'darcy@abc.com', \n",
    "      '0071235@gmail.ru', 'darcy@abc.com',\n",
    "      'petr44@xyz.com', 'katrin@ya.com'}"
   ]
  },
  {
   "attachments": {},
   "cell_type": "markdown",
   "metadata": {},
   "source": [
    "Задание 2.6\n",
    "\n",
    "С помощью операций множеств в Python определите, сколько слушателей записалось на оба вебинара.\n",
    "\n",
    "Пересечение"
   ]
  },
  {
   "cell_type": "code",
   "execution_count": 9,
   "metadata": {},
   "outputs": [
    {
     "name": "stdout",
     "output_type": "stream",
     "text": [
      "Записалось на оба вебинара: 3\n"
     ]
    }
   ],
   "source": [
    "total = dev & ml\n",
    "print('Записалось на оба вебинара:', len(total))"
   ]
  },
  {
   "attachments": {},
   "cell_type": "markdown",
   "metadata": {},
   "source": [
    "Задание 2.7\n",
    "\n",
    "Сколько человек заинтересованы в посещении хотя бы одного вебинара?\n",
    "\n",
    "Объединение"
   ]
  },
  {
   "cell_type": "code",
   "execution_count": 12,
   "metadata": {},
   "outputs": [
    {
     "name": "stdout",
     "output_type": "stream",
     "text": [
      "Всего записалось хотя бы на один вебинар: 10\n"
     ]
    }
   ],
   "source": [
    "total = dev | ml\n",
    "print('Всего записалось хотя бы на один вебинар:', len(total))"
   ]
  },
  {
   "attachments": {},
   "cell_type": "markdown",
   "metadata": {},
   "source": [
    "Задание 2.8\n",
    "\n",
    "Сколько человек заинтересованы в посещении только одного вебинара из двух?\n",
    "\n",
    "Симметричная разность"
   ]
  },
  {
   "cell_type": "code",
   "execution_count": 13,
   "metadata": {},
   "outputs": [
    {
     "name": "stdout",
     "output_type": "stream",
     "text": [
      "Записались только на один из вебинаров, второй не интересен: 7\n"
     ]
    }
   ],
   "source": [
    "total = dev ^ ml\n",
    "print('Записались только на один из вебинаров, второй не интересен:', len(total))"
   ]
  },
  {
   "cell_type": "code",
   "execution_count": null,
   "metadata": {},
   "outputs": [],
   "source": []
  }
 ],
 "metadata": {
  "kernelspec": {
   "display_name": "Python 3",
   "language": "python",
   "name": "python3"
  },
  "language_info": {
   "codemirror_mode": {
    "name": "ipython",
    "version": 3
   },
   "file_extension": ".py",
   "mimetype": "text/x-python",
   "name": "python",
   "nbconvert_exporter": "python",
   "pygments_lexer": "ipython3",
   "version": "3.9.10"
  },
  "orig_nbformat": 4
 },
 "nbformat": 4,
 "nbformat_minor": 2
}
