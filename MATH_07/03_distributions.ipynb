{
 "cells": [
  {
   "cell_type": "markdown",
   "metadata": {},
   "source": [
    "### Моделирование равномерного дискретного распределения"
   ]
  },
  {
   "cell_type": "code",
   "execution_count": 6,
   "metadata": {},
   "outputs": [],
   "source": [
    "import numpy as np\n",
    "from scipy.stats import randint"
   ]
  },
  {
   "cell_type": "markdown",
   "metadata": {},
   "source": [
    "Попробуем рассчитать вероятности для случайной величины, которая принимает значения от 1 включительно до 7 не включительно \n",
    "\n",
    "(собственно, это как раз пример с пирожными)"
   ]
  },
  {
   "cell_type": "code",
   "execution_count": 7,
   "metadata": {},
   "outputs": [
    {
     "data": {
      "text/plain": [
       "array([0.16666667, 0.16666667, 0.16666667, 0.16666667, 0.16666667,\n",
       "       0.16666667])"
      ]
     },
     "execution_count": 7,
     "metadata": {},
     "output_type": "execute_result"
    }
   ],
   "source": [
    "# Задаём возможные значения случайной величины\n",
    "x = np.arange(1, 7)\n",
    "\n",
    "# Задаём интервал, на котором будут распределяться наши вероятности\n",
    "disc_uni_dist = randint(1, 7)\n",
    "\n",
    "# Вычисляем вероятности выпадения каждого значения случайной величины\n",
    "pmf = disc_uni_dist.pmf(x)\n",
    "pmf"
   ]
  },
  {
   "cell_type": "markdown",
   "metadata": {},
   "source": [
    "Также мы можем найти кумулятивную вероятность для распределения, то есть для каждого x вероятность того, что случайная величина примет значение x или меньше:"
   ]
  },
  {
   "cell_type": "code",
   "execution_count": 8,
   "metadata": {},
   "outputs": [
    {
     "data": {
      "text/plain": [
       "array([0.16666667, 0.33333333, 0.5       , 0.66666667, 0.83333333,\n",
       "       1.        ])"
      ]
     },
     "execution_count": 8,
     "metadata": {},
     "output_type": "execute_result"
    }
   ],
   "source": [
    "# Рассчитаем кумулятивную вероятность\n",
    "cdf = disc_uni_dist.cdf(x)\n",
    "cdf"
   ]
  },
  {
   "cell_type": "markdown",
   "metadata": {},
   "source": [
    "### Вы участвуете в розыгрыше бесплатного места на новый курс по Data Science. Вы знаете, что участников 250.\n",
    "Какова вероятность, что на курс попадёт кто-то из первых пятидесяти зарегистрировавшихся?"
   ]
  },
  {
   "cell_type": "code",
   "execution_count": 9,
   "metadata": {},
   "outputs": [
    {
     "name": "stdout",
     "output_type": "stream",
     "text": [
      "0.2\n"
     ]
    }
   ],
   "source": [
    "# Задаём возможные значения случайной величины\n",
    "x = np.arange(1, 251)\n",
    "\n",
    "# Задаём интервал, на котором будут распределяться наши вероятности\n",
    "disc_uni_dist = randint(1, 251)\n",
    "\n",
    "# Вычисляем вероятности выпадения каждого значения случайной величины\n",
    "cdf = disc_uni_dist.cdf(x)\n",
    "\n",
    "# Ищем вероятность того, что на курс попадёт кто-то из первых 50 зарегистрировавшихся\n",
    "print(cdf[49])"
   ]
  },
  {
   "cell_type": "code",
   "execution_count": null,
   "metadata": {},
   "outputs": [],
   "source": []
  }
 ],
 "metadata": {
  "kernelspec": {
   "display_name": "Python 3",
   "language": "python",
   "name": "python3"
  },
  "language_info": {
   "codemirror_mode": {
    "name": "ipython",
    "version": 3
   },
   "file_extension": ".py",
   "mimetype": "text/x-python",
   "name": "python",
   "nbconvert_exporter": "python",
   "pygments_lexer": "ipython3",
   "version": "3.9.10"
  },
  "orig_nbformat": 4
 },
 "nbformat": 4,
 "nbformat_minor": 2
}
