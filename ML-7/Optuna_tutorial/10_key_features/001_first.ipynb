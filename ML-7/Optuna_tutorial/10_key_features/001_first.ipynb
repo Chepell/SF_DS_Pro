{
  "cells": [
    {
      "cell_type": "markdown",
      "metadata": {},
      "source": [
        "\n",
        "\n",
        "# 1. Lightweight, versatile, and platform agnostic architecture\n",
        "\n",
        "Optuna is entirely written in Python and has few dependencies.\n",
        "This means that we can quickly move to the real example once you get interested in Optuna.\n",
        "\n",
        "\n",
        "## Quadratic Function Example\n",
        "\n",
        "Usually, Optuna is used to optimize hyperparameters, but as an example,\n",
        "let's optimize a simple quadratic function: $(x - 2)^2$.\n"
      ]
    },
    {
      "cell_type": "markdown",
      "metadata": {},
      "source": [
        "First of all, import :mod:`optuna`.\n",
        "\n"
      ]
    },
    {
      "cell_type": "code",
      "execution_count": 1,
      "metadata": {
        "collapsed": false
      },
      "outputs": [],
      "source": [
        "import optuna"
      ]
    },
    {
      "cell_type": "markdown",
      "metadata": {},
      "source": [
        "In optuna, conventionally functions to be optimized are named `objective`.\n",
        "\n"
      ]
    },
    {
      "cell_type": "code",
      "execution_count": 2,
      "metadata": {
        "collapsed": false
      },
      "outputs": [],
      "source": [
        "def objective(trial):\n",
        "    x = trial.suggest_float(\"x\", -10, 10)\n",
        "    return (x - 2) ** 2"
      ]
    },
    {
      "cell_type": "markdown",
      "metadata": {},
      "source": [
        "This function returns the value of $(x - 2)^2$. Our goal is to find the value of ``x``\n",
        "that minimizes the output of the ``objective`` function. This is the \"optimization.\"\n",
        "During the optimization, Optuna repeatedly calls and evaluates the objective function with\n",
        "different values of ``x``.\n",
        "\n",
        "A :class:`~optuna.trial.Trial` object corresponds to a single execution of the objective\n",
        "function and is internally instantiated upon each invocation of the function.\n",
        "\n",
        "The `suggest` APIs (for example, :func:`~optuna.trial.Trial.suggest_float`) are called\n",
        "inside the objective function to obtain parameters for a trial.\n",
        ":func:`~optuna.trial.Trial.suggest_float` selects parameters uniformly within the range\n",
        "provided. In our example, from $-10$ to $10$.\n",
        "\n",
        "To start the optimization, we create a study object and pass the objective function to method\n",
        ":func:`~optuna.study.Study.optimize` as follows.\n",
        "\n"
      ]
    },
    {
      "cell_type": "code",
      "execution_count": 3,
      "metadata": {
        "collapsed": false
      },
      "outputs": [
        {
          "name": "stderr",
          "output_type": "stream",
          "text": [
            "\u001b[32m[I 2022-09-16 16:38:11,643]\u001b[0m A new study created in memory with name: no-name-07b8627f-5725-48f0-9076-ed31106317e4\u001b[0m\n",
            "\u001b[32m[I 2022-09-16 16:38:11,645]\u001b[0m Trial 0 finished with value: 6.2374717301210385 and parameters: {'x': 4.4974930891037594}. Best is trial 0 with value: 6.2374717301210385.\u001b[0m\n",
            "\u001b[32m[I 2022-09-16 16:38:11,646]\u001b[0m Trial 1 finished with value: 111.23200362749756 and parameters: {'x': -8.546658410487066}. Best is trial 0 with value: 6.2374717301210385.\u001b[0m\n",
            "\u001b[32m[I 2022-09-16 16:38:11,646]\u001b[0m Trial 2 finished with value: 23.427992199865518 and parameters: {'x': 6.840247121776482}. Best is trial 0 with value: 6.2374717301210385.\u001b[0m\n",
            "\u001b[32m[I 2022-09-16 16:38:11,647]\u001b[0m Trial 3 finished with value: 33.5999942142119 and parameters: {'x': 7.796550199404116}. Best is trial 0 with value: 6.2374717301210385.\u001b[0m\n",
            "\u001b[32m[I 2022-09-16 16:38:11,649]\u001b[0m Trial 4 finished with value: 130.30258913214996 and parameters: {'x': -9.415015949710712}. Best is trial 0 with value: 6.2374717301210385.\u001b[0m\n",
            "\u001b[32m[I 2022-09-16 16:38:11,650]\u001b[0m Trial 5 finished with value: 93.8931266720233 and parameters: {'x': -7.689846576289188}. Best is trial 0 with value: 6.2374717301210385.\u001b[0m\n",
            "\u001b[32m[I 2022-09-16 16:38:11,651]\u001b[0m Trial 6 finished with value: 102.99523907082191 and parameters: {'x': -8.148657008236208}. Best is trial 0 with value: 6.2374717301210385.\u001b[0m\n",
            "\u001b[32m[I 2022-09-16 16:38:11,652]\u001b[0m Trial 7 finished with value: 1.1594482983341594 and parameters: {'x': 0.9232231901019787}. Best is trial 7 with value: 1.1594482983341594.\u001b[0m\n",
            "\u001b[32m[I 2022-09-16 16:38:11,653]\u001b[0m Trial 8 finished with value: 4.853153667127868 and parameters: {'x': 4.202987441436711}. Best is trial 7 with value: 1.1594482983341594.\u001b[0m\n",
            "\u001b[32m[I 2022-09-16 16:38:11,654]\u001b[0m Trial 9 finished with value: 24.83178755875756 and parameters: {'x': 6.983150364855305}. Best is trial 7 with value: 1.1594482983341594.\u001b[0m\n",
            "\u001b[32m[I 2022-09-16 16:38:11,658]\u001b[0m Trial 10 finished with value: 16.783312708470497 and parameters: {'x': -2.0967441595089267}. Best is trial 7 with value: 1.1594482983341594.\u001b[0m\n",
            "\u001b[32m[I 2022-09-16 16:38:11,662]\u001b[0m Trial 11 finished with value: 0.27805538243636213 and parameters: {'x': 1.4726904301680444}. Best is trial 11 with value: 0.27805538243636213.\u001b[0m\n",
            "\u001b[32m[I 2022-09-16 16:38:11,667]\u001b[0m Trial 12 finished with value: 8.031023298796574 and parameters: {'x': -0.8339060144607078}. Best is trial 11 with value: 0.27805538243636213.\u001b[0m\n",
            "\u001b[32m[I 2022-09-16 16:38:11,671]\u001b[0m Trial 13 finished with value: 0.1858476149574442 and parameters: {'x': 1.5688995303210118}. Best is trial 13 with value: 0.1858476149574442.\u001b[0m\n",
            "\u001b[32m[I 2022-09-16 16:38:11,675]\u001b[0m Trial 14 finished with value: 0.0780435706156659 and parameters: {'x': 1.720637206099907}. Best is trial 14 with value: 0.0780435706156659.\u001b[0m\n",
            "\u001b[32m[I 2022-09-16 16:38:11,679]\u001b[0m Trial 15 finished with value: 39.0444811568992 and parameters: {'x': -4.248558326278086}. Best is trial 14 with value: 0.0780435706156659.\u001b[0m\n",
            "\u001b[32m[I 2022-09-16 16:38:11,685]\u001b[0m Trial 16 finished with value: 1.7505573369084215 and parameters: {'x': 3.323086292313703}. Best is trial 14 with value: 0.0780435706156659.\u001b[0m\n",
            "\u001b[32m[I 2022-09-16 16:38:11,689]\u001b[0m Trial 17 finished with value: 60.3588740047789 and parameters: {'x': 9.769097373876768}. Best is trial 14 with value: 0.0780435706156659.\u001b[0m\n",
            "\u001b[32m[I 2022-09-16 16:38:11,693]\u001b[0m Trial 18 finished with value: 45.179600232860444 and parameters: {'x': -4.7215772131889135}. Best is trial 14 with value: 0.0780435706156659.\u001b[0m\n",
            "\u001b[32m[I 2022-09-16 16:38:11,697]\u001b[0m Trial 19 finished with value: 0.10369778043586503 and parameters: {'x': 2.3220213974813864}. Best is trial 14 with value: 0.0780435706156659.\u001b[0m\n",
            "\u001b[32m[I 2022-09-16 16:38:11,701]\u001b[0m Trial 20 finished with value: 21.86158744549306 and parameters: {'x': -2.675637651218608}. Best is trial 14 with value: 0.0780435706156659.\u001b[0m\n",
            "\u001b[32m[I 2022-09-16 16:38:11,705]\u001b[0m Trial 21 finished with value: 0.3319000039592613 and parameters: {'x': 2.5761076322695797}. Best is trial 14 with value: 0.0780435706156659.\u001b[0m\n",
            "\u001b[32m[I 2022-09-16 16:38:11,709]\u001b[0m Trial 22 finished with value: 9.016395441512783 and parameters: {'x': -1.002731330224664}. Best is trial 14 with value: 0.0780435706156659.\u001b[0m\n",
            "\u001b[32m[I 2022-09-16 16:38:11,713]\u001b[0m Trial 23 finished with value: 13.316152540997503 and parameters: {'x': 5.6491303814741265}. Best is trial 14 with value: 0.0780435706156659.\u001b[0m\n",
            "\u001b[32m[I 2022-09-16 16:38:11,717]\u001b[0m Trial 24 finished with value: 0.1295710775316155 and parameters: {'x': 1.6400401723363904}. Best is trial 14 with value: 0.0780435706156659.\u001b[0m\n",
            "\u001b[32m[I 2022-09-16 16:38:11,722]\u001b[0m Trial 25 finished with value: 5.134601764880567 and parameters: {'x': -0.2659659672820698}. Best is trial 14 with value: 0.0780435706156659.\u001b[0m\n",
            "\u001b[32m[I 2022-09-16 16:38:11,726]\u001b[0m Trial 26 finished with value: 0.7950080297307613 and parameters: {'x': 2.891632227844396}. Best is trial 14 with value: 0.0780435706156659.\u001b[0m\n",
            "\u001b[32m[I 2022-09-16 16:38:11,731]\u001b[0m Trial 27 finished with value: 2.9141886182284646 and parameters: {'x': 0.2929005247998977}. Best is trial 14 with value: 0.0780435706156659.\u001b[0m\n",
            "\u001b[32m[I 2022-09-16 16:38:11,735]\u001b[0m Trial 28 finished with value: 9.611953458671099 and parameters: {'x': 5.100315057969286}. Best is trial 14 with value: 0.0780435706156659.\u001b[0m\n",
            "\u001b[32m[I 2022-09-16 16:38:11,741]\u001b[0m Trial 29 finished with value: 4.940220617577641 and parameters: {'x': 4.222660706805616}. Best is trial 14 with value: 0.0780435706156659.\u001b[0m\n",
            "\u001b[32m[I 2022-09-16 16:38:11,746]\u001b[0m Trial 30 finished with value: 25.51240675402269 and parameters: {'x': -3.050980771496036}. Best is trial 14 with value: 0.0780435706156659.\u001b[0m\n",
            "\u001b[32m[I 2022-09-16 16:38:11,751]\u001b[0m Trial 31 finished with value: 0.01902623402439159 and parameters: {'x': 1.8620643844962745}. Best is trial 31 with value: 0.01902623402439159.\u001b[0m\n",
            "\u001b[32m[I 2022-09-16 16:38:11,756]\u001b[0m Trial 32 finished with value: 0.0027017272241132936 and parameters: {'x': 2.051978141791654}. Best is trial 32 with value: 0.0027017272241132936.\u001b[0m\n",
            "\u001b[32m[I 2022-09-16 16:38:11,760]\u001b[0m Trial 33 finished with value: 0.29573399396781874 and parameters: {'x': 2.5438143009960466}. Best is trial 32 with value: 0.0027017272241132936.\u001b[0m\n",
            "\u001b[32m[I 2022-09-16 16:38:11,765]\u001b[0m Trial 34 finished with value: 18.035875183456614 and parameters: {'x': 6.246866513496347}. Best is trial 32 with value: 0.0027017272241132936.\u001b[0m\n",
            "\u001b[32m[I 2022-09-16 16:38:11,769]\u001b[0m Trial 35 finished with value: 2.1723048173323423 and parameters: {'x': 3.4738740846260723}. Best is trial 32 with value: 0.0027017272241132936.\u001b[0m\n",
            "\u001b[32m[I 2022-09-16 16:38:11,773]\u001b[0m Trial 36 finished with value: 11.69013136958793 and parameters: {'x': -1.4190834107386046}. Best is trial 32 with value: 0.0027017272241132936.\u001b[0m\n",
            "\u001b[32m[I 2022-09-16 16:38:11,778]\u001b[0m Trial 37 finished with value: 3.092890570071 and parameters: {'x': 0.24133841513752285}. Best is trial 32 with value: 0.0027017272241132936.\u001b[0m\n",
            "\u001b[32m[I 2022-09-16 16:38:11,783]\u001b[0m Trial 38 finished with value: 36.77164952770979 and parameters: {'x': 8.06396318653979}. Best is trial 32 with value: 0.0027017272241132936.\u001b[0m\n",
            "\u001b[32m[I 2022-09-16 16:38:11,786]\u001b[0m Trial 39 finished with value: 6.905563980747369 and parameters: {'x': 4.627843979529106}. Best is trial 32 with value: 0.0027017272241132936.\u001b[0m\n",
            "\u001b[32m[I 2022-09-16 16:38:11,792]\u001b[0m Trial 40 finished with value: 1.4573787994610543 and parameters: {'x': 0.7927805504130352}. Best is trial 32 with value: 0.0027017272241132936.\u001b[0m\n",
            "\u001b[32m[I 2022-09-16 16:38:11,796]\u001b[0m Trial 41 finished with value: 0.024030370331350873 and parameters: {'x': 1.8449826773184659}. Best is trial 32 with value: 0.0027017272241132936.\u001b[0m\n",
            "\u001b[32m[I 2022-09-16 16:38:11,801]\u001b[0m Trial 42 finished with value: 0.05359319865489013 and parameters: {'x': 1.768497951078419}. Best is trial 32 with value: 0.0027017272241132936.\u001b[0m\n",
            "\u001b[32m[I 2022-09-16 16:38:11,805]\u001b[0m Trial 43 finished with value: 2.8416632983473145 and parameters: {'x': 3.6857233753932803}. Best is trial 32 with value: 0.0027017272241132936.\u001b[0m\n",
            "\u001b[32m[I 2022-09-16 16:38:11,810]\u001b[0m Trial 44 finished with value: 0.229462080624962 and parameters: {'x': 1.5209779956776912}. Best is trial 32 with value: 0.0027017272241132936.\u001b[0m\n",
            "\u001b[32m[I 2022-09-16 16:38:11,814]\u001b[0m Trial 45 finished with value: 4.965671842848264 and parameters: {'x': -0.228378747620849}. Best is trial 32 with value: 0.0027017272241132936.\u001b[0m\n",
            "\u001b[32m[I 2022-09-16 16:38:11,819]\u001b[0m Trial 46 finished with value: 0.8066094071840539 and parameters: {'x': 1.1018856380259505}. Best is trial 32 with value: 0.0027017272241132936.\u001b[0m\n",
            "\u001b[32m[I 2022-09-16 16:38:11,823]\u001b[0m Trial 47 finished with value: 13.990578478545663 and parameters: {'x': -1.740398171123719}. Best is trial 32 with value: 0.0027017272241132936.\u001b[0m\n",
            "\u001b[32m[I 2022-09-16 16:38:11,827]\u001b[0m Trial 48 finished with value: 0.007763068872502033 and parameters: {'x': 1.9118917207493982}. Best is trial 32 with value: 0.0027017272241132936.\u001b[0m\n",
            "\u001b[32m[I 2022-09-16 16:38:11,831]\u001b[0m Trial 49 finished with value: 79.08693006710843 and parameters: {'x': -6.893083271121912}. Best is trial 32 with value: 0.0027017272241132936.\u001b[0m\n",
            "\u001b[32m[I 2022-09-16 16:38:11,835]\u001b[0m Trial 50 finished with value: 0.06232936435760344 and parameters: {'x': 2.2496584954645114}. Best is trial 32 with value: 0.0027017272241132936.\u001b[0m\n",
            "\u001b[32m[I 2022-09-16 16:38:11,840]\u001b[0m Trial 51 finished with value: 0.03411345522785932 and parameters: {'x': 2.1846982816050526}. Best is trial 32 with value: 0.0027017272241132936.\u001b[0m\n",
            "\u001b[32m[I 2022-09-16 16:38:11,845]\u001b[0m Trial 52 finished with value: 1.828151886225623 and parameters: {'x': 0.6479083292078074}. Best is trial 32 with value: 0.0027017272241132936.\u001b[0m\n",
            "\u001b[32m[I 2022-09-16 16:38:11,851]\u001b[0m Trial 53 finished with value: 2.0499364474651407 and parameters: {'x': 3.4317599126477667}. Best is trial 32 with value: 0.0027017272241132936.\u001b[0m\n",
            "\u001b[32m[I 2022-09-16 16:38:11,855]\u001b[0m Trial 54 finished with value: 6.426183652522335 and parameters: {'x': -0.5349918446658433}. Best is trial 32 with value: 0.0027017272241132936.\u001b[0m\n",
            "\u001b[32m[I 2022-09-16 16:38:11,860]\u001b[0m Trial 55 finished with value: 0.00023164414217781272 and parameters: {'x': 2.015219860123464}. Best is trial 55 with value: 0.00023164414217781272.\u001b[0m\n",
            "\u001b[32m[I 2022-09-16 16:38:11,866]\u001b[0m Trial 56 finished with value: 9.179373650688861 and parameters: {'x': 5.029748116706876}. Best is trial 55 with value: 0.00023164414217781272.\u001b[0m\n",
            "\u001b[32m[I 2022-09-16 16:38:11,871]\u001b[0m Trial 57 finished with value: 1.1468818875054474 and parameters: {'x': 3.0709257152134537}. Best is trial 55 with value: 0.00023164414217781272.\u001b[0m\n",
            "\u001b[32m[I 2022-09-16 16:38:11,876]\u001b[0m Trial 58 finished with value: 0.021393737654135343 and parameters: {'x': 2.1462659825596346}. Best is trial 55 with value: 0.00023164414217781272.\u001b[0m\n",
            "\u001b[32m[I 2022-09-16 16:38:11,882]\u001b[0m Trial 59 finished with value: 5.299393039176406 and parameters: {'x': 4.302041059402809}. Best is trial 55 with value: 0.00023164414217781272.\u001b[0m\n",
            "\u001b[32m[I 2022-09-16 16:38:11,886]\u001b[0m Trial 60 finished with value: 1.051791748940012 and parameters: {'x': 0.9744310121010815}. Best is trial 55 with value: 0.00023164414217781272.\u001b[0m\n",
            "\u001b[32m[I 2022-09-16 16:38:11,890]\u001b[0m Trial 61 finished with value: 0.01613576266605699 and parameters: {'x': 1.872973378120738}. Best is trial 55 with value: 0.00023164414217781272.\u001b[0m\n",
            "\u001b[32m[I 2022-09-16 16:38:11,894]\u001b[0m Trial 62 finished with value: 3.0979819085559193 and parameters: {'x': 3.760108493404858}. Best is trial 55 with value: 0.00023164414217781272.\u001b[0m\n",
            "\u001b[32m[I 2022-09-16 16:38:11,899]\u001b[0m Trial 63 finished with value: 0.6501852141239342 and parameters: {'x': 2.8063406315720014}. Best is trial 55 with value: 0.00023164414217781272.\u001b[0m\n",
            "\u001b[32m[I 2022-09-16 16:38:11,904]\u001b[0m Trial 64 finished with value: 3.0652838933400544 and parameters: {'x': 0.2492047825801973}. Best is trial 55 with value: 0.00023164414217781272.\u001b[0m\n",
            "\u001b[32m[I 2022-09-16 16:38:11,908]\u001b[0m Trial 65 finished with value: 0.01513741721742909 and parameters: {'x': 1.87696578842684}. Best is trial 55 with value: 0.00023164414217781272.\u001b[0m\n",
            "\u001b[32m[I 2022-09-16 16:38:11,913]\u001b[0m Trial 66 finished with value: 0.48032804563126885 and parameters: {'x': 1.3069429708665607}. Best is trial 55 with value: 0.00023164414217781272.\u001b[0m\n",
            "\u001b[32m[I 2022-09-16 16:38:11,918]\u001b[0m Trial 67 finished with value: 9.9998642311891 and parameters: {'x': -1.1622561931616326}. Best is trial 55 with value: 0.00023164414217781272.\u001b[0m\n",
            "\u001b[32m[I 2022-09-16 16:38:11,923]\u001b[0m Trial 68 finished with value: 0.19208068407833057 and parameters: {'x': 2.4382701040207175}. Best is trial 55 with value: 0.00023164414217781272.\u001b[0m\n",
            "\u001b[32m[I 2022-09-16 16:38:11,927]\u001b[0m Trial 69 finished with value: 1.1048711511606661 and parameters: {'x': 3.0511285131517774}. Best is trial 55 with value: 0.00023164414217781272.\u001b[0m\n",
            "\u001b[32m[I 2022-09-16 16:38:11,932]\u001b[0m Trial 70 finished with value: 2.313984654841416 and parameters: {'x': 0.47882129424534225}. Best is trial 55 with value: 0.00023164414217781272.\u001b[0m\n",
            "\u001b[32m[I 2022-09-16 16:38:11,936]\u001b[0m Trial 71 finished with value: 7.65673594098357e-06 and parameters: {'x': 2.002767080761558}. Best is trial 71 with value: 7.65673594098357e-06.\u001b[0m\n",
            "\u001b[32m[I 2022-09-16 16:38:11,941]\u001b[0m Trial 72 finished with value: 0.0009861865446006157 and parameters: {'x': 2.0314036071909043}. Best is trial 71 with value: 7.65673594098357e-06.\u001b[0m\n",
            "\u001b[32m[I 2022-09-16 16:38:11,945]\u001b[0m Trial 73 finished with value: 4.18093482827728 and parameters: {'x': 4.0447334369734556}. Best is trial 71 with value: 7.65673594098357e-06.\u001b[0m\n",
            "\u001b[32m[I 2022-09-16 16:38:11,950]\u001b[0m Trial 74 finished with value: 0.5852182597395382 and parameters: {'x': 1.2350044054116793}. Best is trial 71 with value: 7.65673594098357e-06.\u001b[0m\n",
            "\u001b[32m[I 2022-09-16 16:38:11,954]\u001b[0m Trial 75 finished with value: 5.402062597751213 and parameters: {'x': -0.3242337657282266}. Best is trial 71 with value: 7.65673594098357e-06.\u001b[0m\n",
            "\u001b[32m[I 2022-09-16 16:38:11,959]\u001b[0m Trial 76 finished with value: 0.9476011350212821 and parameters: {'x': 2.973448064881369}. Best is trial 71 with value: 7.65673594098357e-06.\u001b[0m\n",
            "\u001b[32m[I 2022-09-16 16:38:11,963]\u001b[0m Trial 77 finished with value: 7.391728834442932 and parameters: {'x': 4.718773406233578}. Best is trial 71 with value: 7.65673594098357e-06.\u001b[0m\n",
            "\u001b[32m[I 2022-09-16 16:38:11,969]\u001b[0m Trial 78 finished with value: 0.006151577387828612 and parameters: {'x': 1.92156800788053}. Best is trial 71 with value: 7.65673594098357e-06.\u001b[0m\n",
            "\u001b[32m[I 2022-09-16 16:38:11,974]\u001b[0m Trial 79 finished with value: 1.3771551622797962 and parameters: {'x': 0.8264774555724137}. Best is trial 71 with value: 7.65673594098357e-06.\u001b[0m\n",
            "\u001b[32m[I 2022-09-16 16:38:11,979]\u001b[0m Trial 80 finished with value: 3.7798889519507752 and parameters: {'x': 0.055806349164061464}. Best is trial 71 with value: 7.65673594098357e-06.\u001b[0m\n",
            "\u001b[32m[I 2022-09-16 16:38:11,983]\u001b[0m Trial 81 finished with value: 0.07671370650592557 and parameters: {'x': 1.7230276069606836}. Best is trial 71 with value: 7.65673594098357e-06.\u001b[0m\n",
            "\u001b[32m[I 2022-09-16 16:38:11,987]\u001b[0m Trial 82 finished with value: 0.0002883843531169581 and parameters: {'x': 1.983018116914872}. Best is trial 71 with value: 7.65673594098357e-06.\u001b[0m\n",
            "\u001b[32m[I 2022-09-16 16:38:11,992]\u001b[0m Trial 83 finished with value: 0.3634039070268034 and parameters: {'x': 2.602829915504202}. Best is trial 71 with value: 7.65673594098357e-06.\u001b[0m\n",
            "\u001b[32m[I 2022-09-16 16:38:11,997]\u001b[0m Trial 84 finished with value: 13.194628917272386 and parameters: {'x': 5.632441178776662}. Best is trial 71 with value: 7.65673594098357e-06.\u001b[0m\n",
            "\u001b[32m[I 2022-09-16 16:38:12,001]\u001b[0m Trial 85 finished with value: 141.95251905657145 and parameters: {'x': -9.914382865116071}. Best is trial 71 with value: 7.65673594098357e-06.\u001b[0m\n",
            "\u001b[32m[I 2022-09-16 16:38:12,006]\u001b[0m Trial 86 finished with value: 0.005821566291420534 and parameters: {'x': 2.076299189323482}. Best is trial 71 with value: 7.65673594098357e-06.\u001b[0m\n",
            "\u001b[32m[I 2022-09-16 16:38:12,012]\u001b[0m Trial 87 finished with value: 3.3429708131651696 and parameters: {'x': 3.828379285915581}. Best is trial 71 with value: 7.65673594098357e-06.\u001b[0m\n",
            "\u001b[32m[I 2022-09-16 16:38:12,016]\u001b[0m Trial 88 finished with value: 7.286604828927239 and parameters: {'x': -0.6993711913938845}. Best is trial 71 with value: 7.65673594098357e-06.\u001b[0m\n",
            "\u001b[32m[I 2022-09-16 16:38:12,021]\u001b[0m Trial 89 finished with value: 0.37226876836798845 and parameters: {'x': 1.3898616809542377}. Best is trial 71 with value: 7.65673594098357e-06.\u001b[0m\n",
            "\u001b[32m[I 2022-09-16 16:38:12,026]\u001b[0m Trial 90 finished with value: 1.6661120500634243 and parameters: {'x': 3.2907796287761224}. Best is trial 71 with value: 7.65673594098357e-06.\u001b[0m\n",
            "\u001b[32m[I 2022-09-16 16:38:12,032]\u001b[0m Trial 91 finished with value: 0.0003786069810287748 and parameters: {'x': 1.9805421742985303}. Best is trial 71 with value: 7.65673594098357e-06.\u001b[0m\n",
            "\u001b[32m[I 2022-09-16 16:38:12,036]\u001b[0m Trial 92 finished with value: 0.05241876635366228 and parameters: {'x': 2.2289514497741}. Best is trial 71 with value: 7.65673594098357e-06.\u001b[0m\n",
            "\u001b[32m[I 2022-09-16 16:38:12,040]\u001b[0m Trial 93 finished with value: 0.39231388655076066 and parameters: {'x': 2.6263496519922085}. Best is trial 71 with value: 7.65673594098357e-06.\u001b[0m\n",
            "\u001b[32m[I 2022-09-16 16:38:12,044]\u001b[0m Trial 94 finished with value: 0.6022159963359739 and parameters: {'x': 1.2239742295928737}. Best is trial 71 with value: 7.65673594098357e-06.\u001b[0m\n",
            "\u001b[32m[I 2022-09-16 16:38:12,049]\u001b[0m Trial 95 finished with value: 1.9057866296176174 and parameters: {'x': 0.6194976893834558}. Best is trial 71 with value: 7.65673594098357e-06.\u001b[0m\n",
            "\u001b[32m[I 2022-09-16 16:38:12,056]\u001b[0m Trial 96 finished with value: 1.911605192651285 and parameters: {'x': 3.3826081124640073}. Best is trial 71 with value: 7.65673594098357e-06.\u001b[0m\n",
            "\u001b[32m[I 2022-09-16 16:38:12,061]\u001b[0m Trial 97 finished with value: 0.02261292001480975 and parameters: {'x': 1.849624071025946}. Best is trial 71 with value: 7.65673594098357e-06.\u001b[0m\n",
            "\u001b[32m[I 2022-09-16 16:38:12,066]\u001b[0m Trial 98 finished with value: 0.0001277864269731262 and parameters: {'x': 2.0113042658750193}. Best is trial 71 with value: 7.65673594098357e-06.\u001b[0m\n",
            "\u001b[32m[I 2022-09-16 16:38:12,071]\u001b[0m Trial 99 finished with value: 0.7012965457355979 and parameters: {'x': 2.837434502355616}. Best is trial 71 with value: 7.65673594098357e-06.\u001b[0m\n"
          ]
        }
      ],
      "source": [
        "study = optuna.create_study()\n",
        "study.optimize(objective, n_trials=100)"
      ]
    },
    {
      "cell_type": "markdown",
      "metadata": {},
      "source": [
        "You can get the best parameter as follows.\n",
        "\n"
      ]
    },
    {
      "cell_type": "code",
      "execution_count": 4,
      "metadata": {
        "collapsed": false
      },
      "outputs": [
        {
          "name": "stdout",
          "output_type": "stream",
          "text": [
            "Found x: 2.002767080761558, (x - 2)^2: 7.65673594098357e-06\n"
          ]
        }
      ],
      "source": [
        "best_params = study.best_params\n",
        "found_x = best_params[\"x\"]\n",
        "print(\"Found x: {}, (x - 2)^2: {}\".format(found_x, (found_x - 2) ** 2))"
      ]
    },
    {
      "cell_type": "markdown",
      "metadata": {},
      "source": [
        "We can see that the ``x`` value found by Optuna is close to the optimal value of ``2``.\n",
        "\n"
      ]
    },
    {
      "cell_type": "markdown",
      "metadata": {},
      "source": [
        "<div class=\"alert alert-info\"><h4>Note</h4><p>When used to search for hyperparameters in machine learning,\n",
        "    usually the objective function would return the loss or accuracy\n",
        "    of the model.</p></div>\n",
        "\n"
      ]
    },
    {
      "cell_type": "markdown",
      "metadata": {},
      "source": [
        "## Study Object\n",
        "\n",
        "Let us clarify the terminology in Optuna as follows:\n",
        "\n",
        "* **Trial**: A single call of the objective function\n",
        "* **Study**: An optimization session, which is a set of trials\n",
        "* **Parameter**: A variable whose value is to be optimized, such as ``x`` in the above example\n",
        "\n",
        "In Optuna, we use the study object to manage optimization.\n",
        "Method :func:`~optuna.study.create_study` returns a study object.\n",
        "A study object has useful properties for analyzing the optimization outcome.\n",
        "\n"
      ]
    },
    {
      "cell_type": "markdown",
      "metadata": {},
      "source": [
        "To get the dictionary of parameter name and parameter values:\n",
        "\n"
      ]
    },
    {
      "cell_type": "code",
      "execution_count": null,
      "metadata": {
        "collapsed": false
      },
      "outputs": [],
      "source": [
        "study.best_params"
      ]
    },
    {
      "cell_type": "markdown",
      "metadata": {},
      "source": [
        "To get the best observed value of the objective function:\n",
        "\n"
      ]
    },
    {
      "cell_type": "code",
      "execution_count": null,
      "metadata": {
        "collapsed": false
      },
      "outputs": [],
      "source": [
        "study.best_value"
      ]
    },
    {
      "cell_type": "markdown",
      "metadata": {},
      "source": [
        "To get the best trial:\n",
        "\n"
      ]
    },
    {
      "cell_type": "code",
      "execution_count": null,
      "metadata": {
        "collapsed": false
      },
      "outputs": [],
      "source": [
        "study.best_trial"
      ]
    },
    {
      "cell_type": "markdown",
      "metadata": {},
      "source": [
        "To get all trials:\n",
        "\n"
      ]
    },
    {
      "cell_type": "code",
      "execution_count": null,
      "metadata": {
        "collapsed": false
      },
      "outputs": [],
      "source": [
        "study.trials"
      ]
    },
    {
      "cell_type": "markdown",
      "metadata": {},
      "source": [
        "To get the number of trials:\n",
        "\n"
      ]
    },
    {
      "cell_type": "code",
      "execution_count": null,
      "metadata": {
        "collapsed": false
      },
      "outputs": [],
      "source": [
        "len(study.trials)"
      ]
    },
    {
      "cell_type": "markdown",
      "metadata": {},
      "source": [
        "By executing :func:`~optuna.study.Study.optimize` again, we can continue the optimization.\n",
        "\n"
      ]
    },
    {
      "cell_type": "code",
      "execution_count": null,
      "metadata": {
        "collapsed": false
      },
      "outputs": [],
      "source": [
        "study.optimize(objective, n_trials=100)"
      ]
    },
    {
      "cell_type": "markdown",
      "metadata": {},
      "source": [
        "To get the updated number of trials:\n",
        "\n"
      ]
    },
    {
      "cell_type": "code",
      "execution_count": null,
      "metadata": {
        "collapsed": false
      },
      "outputs": [],
      "source": [
        "len(study.trials)"
      ]
    },
    {
      "cell_type": "markdown",
      "metadata": {},
      "source": [
        "As the objective function is so easy that the last 100 trials don't improve the result.\n",
        "However, we can check the result again:\n",
        "\n"
      ]
    },
    {
      "cell_type": "code",
      "execution_count": null,
      "metadata": {
        "collapsed": false
      },
      "outputs": [],
      "source": [
        "best_params = study.best_params\n",
        "found_x = best_params[\"x\"]\n",
        "print(\"Found x: {}, (x - 2)^2: {}\".format(found_x, (found_x - 2) ** 2))"
      ]
    }
  ],
  "metadata": {
    "kernelspec": {
      "display_name": "Python 3.9.10 64-bit",
      "language": "python",
      "name": "python3"
    },
    "language_info": {
      "codemirror_mode": {
        "name": "ipython",
        "version": 3
      },
      "file_extension": ".py",
      "mimetype": "text/x-python",
      "name": "python",
      "nbconvert_exporter": "python",
      "pygments_lexer": "ipython3",
      "version": "3.9.10"
    },
    "vscode": {
      "interpreter": {
        "hash": "ce0e7e8478f0adf4f893607b28490b56060cc6330e9a48291a15f517e7031888"
      }
    }
  },
  "nbformat": 4,
  "nbformat_minor": 0
}
