{
 "cells": [
  {
   "cell_type": "code",
   "execution_count": 1,
   "metadata": {},
   "outputs": [],
   "source": [
    "import numpy as np"
   ]
  },
  {
   "cell_type": "markdown",
   "metadata": {},
   "source": [
    "### Задание 2.1\n",
    "Вычислите косинусную близость между векторами А и С. \n",
    "\n",
    "Результат округлите до трёх знаков после точки-разделителя."
   ]
  },
  {
   "cell_type": "code",
   "execution_count": 7,
   "metadata": {},
   "outputs": [
    {
     "name": "stdout",
     "output_type": "stream",
     "text": [
      "Косинусная близость между веткорами А и С: 0.551\n"
     ]
    }
   ],
   "source": [
    "A = np.array([1.1, 2.3, 5.1])\n",
    "B = np.array([1.3, 2.1, 4.9])\n",
    "C = np.array([5.1, 6.2, 1.1])\n",
    "\n",
    "simAC = A @ C / (np.linalg.norm(A) * np.linalg.norm(C))\n",
    "\n",
    "print(f\"Косинусная близость между веткорами А и С: {simAC:.3f}\")"
   ]
  },
  {
   "cell_type": "code",
   "execution_count": null,
   "metadata": {},
   "outputs": [],
   "source": []
  }
 ],
 "metadata": {
  "kernelspec": {
   "display_name": "Python 3",
   "language": "python",
   "name": "python3"
  },
  "language_info": {
   "codemirror_mode": {
    "name": "ipython",
    "version": 3
   },
   "file_extension": ".py",
   "mimetype": "text/x-python",
   "name": "python",
   "nbconvert_exporter": "python",
   "pygments_lexer": "ipython3",
   "version": "3.10.6"
  },
  "orig_nbformat": 4
 },
 "nbformat": 4,
 "nbformat_minor": 2
}
