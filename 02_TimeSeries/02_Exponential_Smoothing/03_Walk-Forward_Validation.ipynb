{
 "cells": [
  {
   "cell_type": "code",
   "execution_count": 14,
   "metadata": {},
   "outputs": [],
   "source": [
    "import numpy as np\n",
    "import pandas as pd\n",
    "import matplotlib.pyplot as plt\n",
    "import itertools\n",
    "\n",
    "from sklearn.metrics import mean_squared_error\n",
    "from statsmodels.tsa.holtwinters import ExponentialSmoothing"
   ]
  },
  {
   "cell_type": "code",
   "execution_count": 15,
   "metadata": {},
   "outputs": [],
   "source": [
    "df = pd.read_csv('airline_passengers.csv', index_col='Month', parse_dates=True)"
   ]
  },
  {
   "cell_type": "code",
   "execution_count": 16,
   "metadata": {},
   "outputs": [],
   "source": [
    "df.index.freq = 'MS'"
   ]
  },
  {
   "cell_type": "code",
   "execution_count": 17,
   "metadata": {},
   "outputs": [
    {
     "data": {
      "text/plain": [
       "DatetimeIndex(['1949-01-01', '1949-02-01', '1949-03-01', '1949-04-01',\n",
       "               '1949-05-01', '1949-06-01', '1949-07-01', '1949-08-01',\n",
       "               '1949-09-01', '1949-10-01',\n",
       "               ...\n",
       "               '1960-03-01', '1960-04-01', '1960-05-01', '1960-06-01',\n",
       "               '1960-07-01', '1960-08-01', '1960-09-01', '1960-10-01',\n",
       "               '1960-11-01', '1960-12-01'],\n",
       "              dtype='datetime64[ns]', name='Month', length=144, freq='MS')"
      ]
     },
     "execution_count": 17,
     "metadata": {},
     "output_type": "execute_result"
    }
   ],
   "source": [
    "df.index"
   ]
  },
  {
   "cell_type": "code",
   "execution_count": 18,
   "metadata": {},
   "outputs": [
    {
     "data": {
      "text/html": [
       "<div>\n",
       "<style scoped>\n",
       "    .dataframe tbody tr th:only-of-type {\n",
       "        vertical-align: middle;\n",
       "    }\n",
       "\n",
       "    .dataframe tbody tr th {\n",
       "        vertical-align: top;\n",
       "    }\n",
       "\n",
       "    .dataframe thead th {\n",
       "        text-align: right;\n",
       "    }\n",
       "</style>\n",
       "<table border=\"1\" class=\"dataframe\">\n",
       "  <thead>\n",
       "    <tr style=\"text-align: right;\">\n",
       "      <th></th>\n",
       "      <th>Passengers</th>\n",
       "    </tr>\n",
       "    <tr>\n",
       "      <th>Month</th>\n",
       "      <th></th>\n",
       "    </tr>\n",
       "  </thead>\n",
       "  <tbody>\n",
       "    <tr>\n",
       "      <th>1949-01-01</th>\n",
       "      <td>112</td>\n",
       "    </tr>\n",
       "    <tr>\n",
       "      <th>1949-02-01</th>\n",
       "      <td>118</td>\n",
       "    </tr>\n",
       "    <tr>\n",
       "      <th>1949-03-01</th>\n",
       "      <td>132</td>\n",
       "    </tr>\n",
       "    <tr>\n",
       "      <th>1949-04-01</th>\n",
       "      <td>129</td>\n",
       "    </tr>\n",
       "    <tr>\n",
       "      <th>1949-05-01</th>\n",
       "      <td>121</td>\n",
       "    </tr>\n",
       "    <tr>\n",
       "      <th>...</th>\n",
       "      <td>...</td>\n",
       "    </tr>\n",
       "    <tr>\n",
       "      <th>1960-08-01</th>\n",
       "      <td>606</td>\n",
       "    </tr>\n",
       "    <tr>\n",
       "      <th>1960-09-01</th>\n",
       "      <td>508</td>\n",
       "    </tr>\n",
       "    <tr>\n",
       "      <th>1960-10-01</th>\n",
       "      <td>461</td>\n",
       "    </tr>\n",
       "    <tr>\n",
       "      <th>1960-11-01</th>\n",
       "      <td>390</td>\n",
       "    </tr>\n",
       "    <tr>\n",
       "      <th>1960-12-01</th>\n",
       "      <td>432</td>\n",
       "    </tr>\n",
       "  </tbody>\n",
       "</table>\n",
       "<p>144 rows × 1 columns</p>\n",
       "</div>"
      ],
      "text/plain": [
       "            Passengers\n",
       "Month                 \n",
       "1949-01-01         112\n",
       "1949-02-01         118\n",
       "1949-03-01         132\n",
       "1949-04-01         129\n",
       "1949-05-01         121\n",
       "...                ...\n",
       "1960-08-01         606\n",
       "1960-09-01         508\n",
       "1960-10-01         461\n",
       "1960-11-01         390\n",
       "1960-12-01         432\n",
       "\n",
       "[144 rows x 1 columns]"
      ]
     },
     "execution_count": 18,
     "metadata": {},
     "output_type": "execute_result"
    }
   ],
   "source": [
    "df"
   ]
  },
  {
   "cell_type": "code",
   "execution_count": 19,
   "metadata": {},
   "outputs": [
    {
     "data": {
      "text/plain": [
       "(144, 1)"
      ]
     },
     "execution_count": 19,
     "metadata": {},
     "output_type": "execute_result"
    }
   ],
   "source": [
    "df.shape"
   ]
  },
  {
   "cell_type": "code",
   "execution_count": 25,
   "metadata": {},
   "outputs": [
    {
     "data": {
      "text/plain": [
       "123"
      ]
     },
     "execution_count": 25,
     "metadata": {},
     "output_type": "execute_result"
    }
   ],
   "source": [
    "# Assume forcast horizont 12\n",
    "# Validate over 10 steps\n",
    "h = 12\n",
    "steps = 10\n",
    "N_test_start = len(df) - h - steps + 1\n",
    "N_test_start # индекс начала тестовой выборки для того что бы получить 10 шагов валидации до конца истории\n"
   ]
  },
  {
   "cell_type": "code",
   "execution_count": 26,
   "metadata": {},
   "outputs": [
    {
     "data": {
      "text/plain": [
       "133"
      ]
     },
     "execution_count": 26,
     "metadata": {},
     "output_type": "execute_result"
    }
   ],
   "source": [
    "N_test_end = len(df) - h + 1\n",
    "N_test_end"
   ]
  },
  {
   "cell_type": "code",
   "execution_count": 28,
   "metadata": {},
   "outputs": [],
   "source": [
    "# Conf hyperparameters to try\n",
    "trend_type_list = ['add', 'mul']\n",
    "seasonal_type_list = ['add', 'mul']\n",
    "damped_trend_list = [True, False]\n",
    "init_method_list = ['estimated', 'heuristic', 'legacy-heuristic']\n",
    "use_boxcox_list = [True, False, 0] # 0  - for log transform. error in docs"
   ]
  },
  {
   "cell_type": "code",
   "execution_count": 35,
   "metadata": {},
   "outputs": [],
   "source": [
    "def walkforward(\n",
    "    trend_type,\n",
    "    seasonal_type,\n",
    "    damped_trend,\n",
    "    init_method,\n",
    "    use_boxcox,\n",
    "    debug=False):\n",
    "    \n",
    "    # store errors\n",
    "    errors = []\n",
    "    seen_last = False\n",
    "    steps_completed = 0\n",
    "    \n",
    "    for end_of_train in range(N_test_start, N_test_end):\n",
    "        train = df[:end_of_train]\n",
    "        test = df[end_of_train:end_of_train+h]\n",
    "        \n",
    "        if test.index[-1] == df.index[-1]:\n",
    "            seen_last = True\n",
    "        \n",
    "        steps_completed += 1\n",
    "        \n",
    "        hw = ExponentialSmoothing(\n",
    "            train['Passengers'],\n",
    "            initialization_method=init_method,\n",
    "            trend=trend_type,\n",
    "            damped_trend=damped_trend,\n",
    "            seasonal=seasonal_type,\n",
    "            seasonal_periods=12,\n",
    "            use_boxcox=use_boxcox)\n",
    "        res_hw = hw.fit()\n",
    "        \n",
    "        # compute error for each forcast\n",
    "        fcast = res_hw.forecast(h)\n",
    "        error = mean_squared_error(test['Passengers'], fcast)\n",
    "        errors.append(error)\n",
    "    \n",
    "    if debug:\n",
    "        print('seen_last:', seen_last)\n",
    "        print('steps completed:', steps_completed)\n",
    "    \n",
    "    return np.mean(errors)"
   ]
  },
  {
   "cell_type": "code",
   "execution_count": 38,
   "metadata": {},
   "outputs": [
    {
     "name": "stdout",
     "output_type": "stream",
     "text": [
      "seen_last: True\n",
      "steps completed: 10\n"
     ]
    },
    {
     "data": {
      "text/plain": [
       "2521.0271721807176"
      ]
     },
     "execution_count": 38,
     "metadata": {},
     "output_type": "execute_result"
    }
   ],
   "source": [
    "# single test our func\n",
    "walkforward('add', 'add', False, 'legacy-heuristic', 0, True)"
   ]
  },
  {
   "cell_type": "code",
   "execution_count": 39,
   "metadata": {},
   "outputs": [],
   "source": [
    "# Create grid-search iterator\n",
    "tuple_of_option_lists = (\n",
    "    trend_type_list,\n",
    "    seasonal_type_list,\n",
    "    damped_trend_list,\n",
    "    init_method_list,\n",
    "    use_boxcox_list,\n",
    ")"
   ]
  },
  {
   "cell_type": "code",
   "execution_count": 41,
   "metadata": {},
   "outputs": [
    {
     "name": "stdout",
     "output_type": "stream",
     "text": [
      "('add', 'add', True, 'estimated', True)\n",
      "('add', 'add', True, 'estimated', False)\n",
      "('add', 'add', True, 'estimated', 0)\n",
      "('add', 'add', True, 'heuristic', True)\n",
      "('add', 'add', True, 'heuristic', False)\n",
      "('add', 'add', True, 'heuristic', 0)\n",
      "('add', 'add', True, 'legacy-heuristic', True)\n",
      "('add', 'add', True, 'legacy-heuristic', False)\n",
      "('add', 'add', True, 'legacy-heuristic', 0)\n",
      "('add', 'add', False, 'estimated', True)\n",
      "('add', 'add', False, 'estimated', False)\n",
      "('add', 'add', False, 'estimated', 0)\n",
      "('add', 'add', False, 'heuristic', True)\n",
      "('add', 'add', False, 'heuristic', False)\n",
      "('add', 'add', False, 'heuristic', 0)\n",
      "('add', 'add', False, 'legacy-heuristic', True)\n",
      "('add', 'add', False, 'legacy-heuristic', False)\n",
      "('add', 'add', False, 'legacy-heuristic', 0)\n",
      "('add', 'mul', True, 'estimated', True)\n",
      "('add', 'mul', True, 'estimated', False)\n",
      "('add', 'mul', True, 'estimated', 0)\n",
      "('add', 'mul', True, 'heuristic', True)\n",
      "('add', 'mul', True, 'heuristic', False)\n",
      "('add', 'mul', True, 'heuristic', 0)\n",
      "('add', 'mul', True, 'legacy-heuristic', True)\n",
      "('add', 'mul', True, 'legacy-heuristic', False)\n",
      "('add', 'mul', True, 'legacy-heuristic', 0)\n",
      "('add', 'mul', False, 'estimated', True)\n",
      "('add', 'mul', False, 'estimated', False)\n",
      "('add', 'mul', False, 'estimated', 0)\n",
      "('add', 'mul', False, 'heuristic', True)\n",
      "('add', 'mul', False, 'heuristic', False)\n",
      "('add', 'mul', False, 'heuristic', 0)\n",
      "('add', 'mul', False, 'legacy-heuristic', True)\n",
      "('add', 'mul', False, 'legacy-heuristic', False)\n",
      "('add', 'mul', False, 'legacy-heuristic', 0)\n",
      "('mul', 'add', True, 'estimated', True)\n",
      "('mul', 'add', True, 'estimated', False)\n",
      "('mul', 'add', True, 'estimated', 0)\n",
      "('mul', 'add', True, 'heuristic', True)\n",
      "('mul', 'add', True, 'heuristic', False)\n",
      "('mul', 'add', True, 'heuristic', 0)\n",
      "('mul', 'add', True, 'legacy-heuristic', True)\n",
      "('mul', 'add', True, 'legacy-heuristic', False)\n",
      "('mul', 'add', True, 'legacy-heuristic', 0)\n",
      "('mul', 'add', False, 'estimated', True)\n",
      "('mul', 'add', False, 'estimated', False)\n",
      "('mul', 'add', False, 'estimated', 0)\n",
      "('mul', 'add', False, 'heuristic', True)\n",
      "('mul', 'add', False, 'heuristic', False)\n",
      "('mul', 'add', False, 'heuristic', 0)\n",
      "('mul', 'add', False, 'legacy-heuristic', True)\n",
      "('mul', 'add', False, 'legacy-heuristic', False)\n",
      "('mul', 'add', False, 'legacy-heuristic', 0)\n",
      "('mul', 'mul', True, 'estimated', True)\n",
      "('mul', 'mul', True, 'estimated', False)\n",
      "('mul', 'mul', True, 'estimated', 0)\n",
      "('mul', 'mul', True, 'heuristic', True)\n",
      "('mul', 'mul', True, 'heuristic', False)\n",
      "('mul', 'mul', True, 'heuristic', 0)\n",
      "('mul', 'mul', True, 'legacy-heuristic', True)\n",
      "('mul', 'mul', True, 'legacy-heuristic', False)\n",
      "('mul', 'mul', True, 'legacy-heuristic', 0)\n",
      "('mul', 'mul', False, 'estimated', True)\n",
      "('mul', 'mul', False, 'estimated', False)\n",
      "('mul', 'mul', False, 'estimated', 0)\n",
      "('mul', 'mul', False, 'heuristic', True)\n",
      "('mul', 'mul', False, 'heuristic', False)\n",
      "('mul', 'mul', False, 'heuristic', 0)\n",
      "('mul', 'mul', False, 'legacy-heuristic', True)\n",
      "('mul', 'mul', False, 'legacy-heuristic', False)\n",
      "('mul', 'mul', False, 'legacy-heuristic', 0)\n"
     ]
    }
   ],
   "source": [
    "for x in itertools.product(*tuple_of_option_lists):\n",
    "    print(x)"
   ]
  },
  {
   "cell_type": "code",
   "execution_count": 44,
   "metadata": {},
   "outputs": [],
   "source": [
    "# Начальное значение ошибки задаю как бесконечность, дальше она должна снижаться и обновляться\n",
    "best_score = float('inf')\n",
    "best_options = None"
   ]
  },
  {
   "cell_type": "code",
   "execution_count": 45,
   "metadata": {},
   "outputs": [
    {
     "name": "stdout",
     "output_type": "stream",
     "text": [
      "Best_score so far: 412.81726694149745\n",
      "Best_score so far: 412.7068452245773\n",
      "Best_score so far: 320.66411466530855\n"
     ]
    },
    {
     "name": "stderr",
     "output_type": "stream",
     "text": [
      "c:\\Program Files\\Python310\\lib\\site-packages\\statsmodels\\tsa\\holtwinters\\model.py:83: RuntimeWarning: overflow encountered in matmul\n",
      "  return err.T @ err\n",
      "c:\\Program Files\\Python310\\lib\\site-packages\\statsmodels\\tsa\\holtwinters\\model.py:83: RuntimeWarning: overflow encountered in matmul\n",
      "  return err.T @ err\n",
      "c:\\Program Files\\Python310\\lib\\site-packages\\statsmodels\\tsa\\holtwinters\\model.py:83: RuntimeWarning: overflow encountered in matmul\n",
      "  return err.T @ err\n",
      "c:\\Program Files\\Python310\\lib\\site-packages\\statsmodels\\tsa\\holtwinters\\model.py:83: RuntimeWarning: overflow encountered in matmul\n",
      "  return err.T @ err\n",
      "c:\\Program Files\\Python310\\lib\\site-packages\\statsmodels\\tsa\\holtwinters\\model.py:83: RuntimeWarning: overflow encountered in matmul\n",
      "  return err.T @ err\n",
      "c:\\Program Files\\Python310\\lib\\site-packages\\statsmodels\\tsa\\holtwinters\\model.py:83: RuntimeWarning: overflow encountered in matmul\n",
      "  return err.T @ err\n",
      "c:\\Program Files\\Python310\\lib\\site-packages\\statsmodels\\tsa\\holtwinters\\model.py:83: RuntimeWarning: overflow encountered in matmul\n",
      "  return err.T @ err\n",
      "c:\\Program Files\\Python310\\lib\\site-packages\\statsmodels\\tsa\\holtwinters\\model.py:83: RuntimeWarning: overflow encountered in matmul\n",
      "  return err.T @ err\n",
      "c:\\Program Files\\Python310\\lib\\site-packages\\statsmodels\\tsa\\holtwinters\\model.py:83: RuntimeWarning: overflow encountered in matmul\n",
      "  return err.T @ err\n",
      "c:\\Program Files\\Python310\\lib\\site-packages\\statsmodels\\tsa\\holtwinters\\model.py:83: RuntimeWarning: overflow encountered in matmul\n",
      "  return err.T @ err\n",
      "c:\\Program Files\\Python310\\lib\\site-packages\\statsmodels\\tsa\\holtwinters\\model.py:83: RuntimeWarning: overflow encountered in matmul\n",
      "  return err.T @ err\n",
      "c:\\Program Files\\Python310\\lib\\site-packages\\statsmodels\\tsa\\holtwinters\\model.py:83: RuntimeWarning: overflow encountered in matmul\n",
      "  return err.T @ err\n",
      "c:\\Program Files\\Python310\\lib\\site-packages\\statsmodels\\tsa\\holtwinters\\model.py:83: RuntimeWarning: overflow encountered in matmul\n",
      "  return err.T @ err\n",
      "c:\\Program Files\\Python310\\lib\\site-packages\\statsmodels\\tsa\\holtwinters\\model.py:83: RuntimeWarning: overflow encountered in matmul\n",
      "  return err.T @ err\n",
      "c:\\Program Files\\Python310\\lib\\site-packages\\statsmodels\\tsa\\holtwinters\\model.py:83: RuntimeWarning: overflow encountered in matmul\n",
      "  return err.T @ err\n",
      "c:\\Program Files\\Python310\\lib\\site-packages\\statsmodels\\tsa\\holtwinters\\model.py:83: RuntimeWarning: overflow encountered in matmul\n",
      "  return err.T @ err\n",
      "c:\\Program Files\\Python310\\lib\\site-packages\\statsmodels\\tsa\\holtwinters\\model.py:83: RuntimeWarning: overflow encountered in matmul\n",
      "  return err.T @ err\n",
      "c:\\Program Files\\Python310\\lib\\site-packages\\statsmodels\\tsa\\holtwinters\\model.py:83: RuntimeWarning: overflow encountered in matmul\n",
      "  return err.T @ err\n",
      "c:\\Program Files\\Python310\\lib\\site-packages\\statsmodels\\tsa\\holtwinters\\model.py:83: RuntimeWarning: overflow encountered in matmul\n",
      "  return err.T @ err\n",
      "c:\\Program Files\\Python310\\lib\\site-packages\\statsmodels\\tsa\\holtwinters\\model.py:83: RuntimeWarning: overflow encountered in matmul\n",
      "  return err.T @ err\n",
      "c:\\Program Files\\Python310\\lib\\site-packages\\statsmodels\\tsa\\holtwinters\\model.py:83: RuntimeWarning: overflow encountered in matmul\n",
      "  return err.T @ err\n",
      "c:\\Program Files\\Python310\\lib\\site-packages\\statsmodels\\tsa\\holtwinters\\model.py:83: RuntimeWarning: overflow encountered in matmul\n",
      "  return err.T @ err\n",
      "c:\\Program Files\\Python310\\lib\\site-packages\\statsmodels\\tsa\\holtwinters\\model.py:83: RuntimeWarning: overflow encountered in matmul\n",
      "  return err.T @ err\n",
      "c:\\Program Files\\Python310\\lib\\site-packages\\statsmodels\\tsa\\holtwinters\\model.py:83: RuntimeWarning: overflow encountered in matmul\n",
      "  return err.T @ err\n"
     ]
    },
    {
     "name": "stdout",
     "output_type": "stream",
     "text": [
      "Best_score so far: 305.65933493126124\n"
     ]
    },
    {
     "name": "stderr",
     "output_type": "stream",
     "text": [
      "c:\\Program Files\\Python310\\lib\\site-packages\\statsmodels\\tsa\\holtwinters\\model.py:83: RuntimeWarning: overflow encountered in matmul\n",
      "  return err.T @ err\n",
      "c:\\Program Files\\Python310\\lib\\site-packages\\statsmodels\\tsa\\holtwinters\\model.py:83: RuntimeWarning: overflow encountered in matmul\n",
      "  return err.T @ err\n",
      "c:\\Program Files\\Python310\\lib\\site-packages\\statsmodels\\tsa\\holtwinters\\model.py:83: RuntimeWarning: overflow encountered in matmul\n",
      "  return err.T @ err\n",
      "c:\\Program Files\\Python310\\lib\\site-packages\\statsmodels\\tsa\\holtwinters\\model.py:83: RuntimeWarning: overflow encountered in matmul\n",
      "  return err.T @ err\n",
      "c:\\Program Files\\Python310\\lib\\site-packages\\statsmodels\\tsa\\holtwinters\\model.py:83: RuntimeWarning: overflow encountered in matmul\n",
      "  return err.T @ err\n",
      "c:\\Program Files\\Python310\\lib\\site-packages\\statsmodels\\tsa\\holtwinters\\model.py:83: RuntimeWarning: overflow encountered in matmul\n",
      "  return err.T @ err\n",
      "c:\\Program Files\\Python310\\lib\\site-packages\\statsmodels\\tsa\\holtwinters\\model.py:83: RuntimeWarning: overflow encountered in matmul\n",
      "  return err.T @ err\n",
      "c:\\Program Files\\Python310\\lib\\site-packages\\statsmodels\\tsa\\holtwinters\\model.py:83: RuntimeWarning: overflow encountered in matmul\n",
      "  return err.T @ err\n",
      "c:\\Program Files\\Python310\\lib\\site-packages\\statsmodels\\tsa\\holtwinters\\model.py:83: RuntimeWarning: overflow encountered in matmul\n",
      "  return err.T @ err\n",
      "c:\\Program Files\\Python310\\lib\\site-packages\\statsmodels\\tsa\\holtwinters\\model.py:83: RuntimeWarning: overflow encountered in matmul\n",
      "  return err.T @ err\n",
      "c:\\Program Files\\Python310\\lib\\site-packages\\statsmodels\\tsa\\holtwinters\\model.py:83: RuntimeWarning: overflow encountered in matmul\n",
      "  return err.T @ err\n",
      "c:\\Program Files\\Python310\\lib\\site-packages\\statsmodels\\tsa\\holtwinters\\model.py:83: RuntimeWarning: overflow encountered in matmul\n",
      "  return err.T @ err\n",
      "c:\\Program Files\\Python310\\lib\\site-packages\\statsmodels\\tsa\\holtwinters\\model.py:83: RuntimeWarning: overflow encountered in matmul\n",
      "  return err.T @ err\n",
      "c:\\Program Files\\Python310\\lib\\site-packages\\statsmodels\\tsa\\holtwinters\\model.py:83: RuntimeWarning: overflow encountered in matmul\n",
      "  return err.T @ err\n",
      "c:\\Program Files\\Python310\\lib\\site-packages\\statsmodels\\tsa\\holtwinters\\model.py:83: RuntimeWarning: overflow encountered in matmul\n",
      "  return err.T @ err\n",
      "c:\\Program Files\\Python310\\lib\\site-packages\\statsmodels\\tsa\\holtwinters\\model.py:83: RuntimeWarning: overflow encountered in matmul\n",
      "  return err.T @ err\n",
      "c:\\Program Files\\Python310\\lib\\site-packages\\statsmodels\\tsa\\holtwinters\\model.py:83: RuntimeWarning: overflow encountered in matmul\n",
      "  return err.T @ err\n",
      "c:\\Program Files\\Python310\\lib\\site-packages\\statsmodels\\tsa\\holtwinters\\model.py:83: RuntimeWarning: overflow encountered in matmul\n",
      "  return err.T @ err\n",
      "c:\\Program Files\\Python310\\lib\\site-packages\\statsmodels\\tsa\\holtwinters\\model.py:83: RuntimeWarning: overflow encountered in matmul\n",
      "  return err.T @ err\n",
      "c:\\Program Files\\Python310\\lib\\site-packages\\statsmodels\\tsa\\holtwinters\\model.py:83: RuntimeWarning: overflow encountered in matmul\n",
      "  return err.T @ err\n",
      "c:\\Program Files\\Python310\\lib\\site-packages\\statsmodels\\tsa\\holtwinters\\model.py:83: RuntimeWarning: overflow encountered in matmul\n",
      "  return err.T @ err\n",
      "c:\\Program Files\\Python310\\lib\\site-packages\\statsmodels\\tsa\\holtwinters\\model.py:83: RuntimeWarning: overflow encountered in matmul\n",
      "  return err.T @ err\n",
      "c:\\Program Files\\Python310\\lib\\site-packages\\statsmodels\\tsa\\holtwinters\\model.py:83: RuntimeWarning: overflow encountered in matmul\n",
      "  return err.T @ err\n",
      "c:\\Program Files\\Python310\\lib\\site-packages\\statsmodels\\tsa\\holtwinters\\model.py:83: RuntimeWarning: overflow encountered in matmul\n",
      "  return err.T @ err\n",
      "c:\\Program Files\\Python310\\lib\\site-packages\\statsmodels\\tsa\\holtwinters\\model.py:83: RuntimeWarning: overflow encountered in matmul\n",
      "  return err.T @ err\n",
      "c:\\Program Files\\Python310\\lib\\site-packages\\statsmodels\\tsa\\holtwinters\\model.py:83: RuntimeWarning: overflow encountered in matmul\n",
      "  return err.T @ err\n",
      "c:\\Program Files\\Python310\\lib\\site-packages\\statsmodels\\tsa\\holtwinters\\model.py:83: RuntimeWarning: overflow encountered in matmul\n",
      "  return err.T @ err\n",
      "c:\\Program Files\\Python310\\lib\\site-packages\\statsmodels\\tsa\\holtwinters\\model.py:83: RuntimeWarning: overflow encountered in matmul\n",
      "  return err.T @ err\n",
      "c:\\Program Files\\Python310\\lib\\site-packages\\statsmodels\\tsa\\holtwinters\\model.py:83: RuntimeWarning: overflow encountered in matmul\n",
      "  return err.T @ err\n"
     ]
    },
    {
     "name": "stdout",
     "output_type": "stream",
     "text": [
      "Best_score so far: 284.55236957354686\n"
     ]
    },
    {
     "name": "stderr",
     "output_type": "stream",
     "text": [
      "c:\\Program Files\\Python310\\lib\\site-packages\\statsmodels\\tsa\\holtwinters\\model.py:83: RuntimeWarning: overflow encountered in matmul\n",
      "  return err.T @ err\n",
      "c:\\Program Files\\Python310\\lib\\site-packages\\statsmodels\\tsa\\holtwinters\\model.py:83: RuntimeWarning: overflow encountered in matmul\n",
      "  return err.T @ err\n",
      "c:\\Program Files\\Python310\\lib\\site-packages\\statsmodels\\tsa\\holtwinters\\model.py:83: RuntimeWarning: overflow encountered in matmul\n",
      "  return err.T @ err\n",
      "c:\\Program Files\\Python310\\lib\\site-packages\\statsmodels\\tsa\\holtwinters\\model.py:83: RuntimeWarning: overflow encountered in matmul\n",
      "  return err.T @ err\n",
      "c:\\Program Files\\Python310\\lib\\site-packages\\statsmodels\\tsa\\holtwinters\\model.py:83: RuntimeWarning: overflow encountered in matmul\n",
      "  return err.T @ err\n",
      "c:\\Program Files\\Python310\\lib\\site-packages\\statsmodels\\tsa\\holtwinters\\model.py:83: RuntimeWarning: overflow encountered in matmul\n",
      "  return err.T @ err\n",
      "c:\\Program Files\\Python310\\lib\\site-packages\\statsmodels\\tsa\\holtwinters\\model.py:83: RuntimeWarning: overflow encountered in matmul\n",
      "  return err.T @ err\n",
      "c:\\Program Files\\Python310\\lib\\site-packages\\statsmodels\\tsa\\holtwinters\\model.py:83: RuntimeWarning: overflow encountered in matmul\n",
      "  return err.T @ err\n",
      "c:\\Program Files\\Python310\\lib\\site-packages\\statsmodels\\tsa\\holtwinters\\model.py:83: RuntimeWarning: overflow encountered in matmul\n",
      "  return err.T @ err\n",
      "c:\\Program Files\\Python310\\lib\\site-packages\\statsmodels\\tsa\\holtwinters\\model.py:83: RuntimeWarning: overflow encountered in matmul\n",
      "  return err.T @ err\n",
      "c:\\Program Files\\Python310\\lib\\site-packages\\statsmodels\\tsa\\holtwinters\\model.py:83: RuntimeWarning: overflow encountered in matmul\n",
      "  return err.T @ err\n",
      "c:\\Program Files\\Python310\\lib\\site-packages\\statsmodels\\tsa\\holtwinters\\model.py:83: RuntimeWarning: overflow encountered in matmul\n",
      "  return err.T @ err\n",
      "c:\\Program Files\\Python310\\lib\\site-packages\\statsmodels\\tsa\\holtwinters\\model.py:83: RuntimeWarning: overflow encountered in matmul\n",
      "  return err.T @ err\n",
      "c:\\Program Files\\Python310\\lib\\site-packages\\statsmodels\\tsa\\holtwinters\\model.py:83: RuntimeWarning: overflow encountered in matmul\n",
      "  return err.T @ err\n",
      "c:\\Program Files\\Python310\\lib\\site-packages\\statsmodels\\tsa\\holtwinters\\model.py:83: RuntimeWarning: overflow encountered in matmul\n",
      "  return err.T @ err\n",
      "c:\\Program Files\\Python310\\lib\\site-packages\\statsmodels\\tsa\\holtwinters\\model.py:83: RuntimeWarning: overflow encountered in matmul\n",
      "  return err.T @ err\n",
      "c:\\Program Files\\Python310\\lib\\site-packages\\statsmodels\\tsa\\holtwinters\\model.py:83: RuntimeWarning: overflow encountered in matmul\n",
      "  return err.T @ err\n",
      "c:\\Program Files\\Python310\\lib\\site-packages\\statsmodels\\tsa\\holtwinters\\model.py:83: RuntimeWarning: overflow encountered in matmul\n",
      "  return err.T @ err\n",
      "c:\\Program Files\\Python310\\lib\\site-packages\\statsmodels\\tsa\\holtwinters\\model.py:83: RuntimeWarning: overflow encountered in matmul\n",
      "  return err.T @ err\n",
      "c:\\Program Files\\Python310\\lib\\site-packages\\statsmodels\\tsa\\holtwinters\\model.py:83: RuntimeWarning: overflow encountered in matmul\n",
      "  return err.T @ err\n",
      "c:\\Program Files\\Python310\\lib\\site-packages\\statsmodels\\tsa\\holtwinters\\model.py:83: RuntimeWarning: overflow encountered in matmul\n",
      "  return err.T @ err\n",
      "c:\\Program Files\\Python310\\lib\\site-packages\\statsmodels\\tsa\\holtwinters\\model.py:83: RuntimeWarning: overflow encountered in matmul\n",
      "  return err.T @ err\n",
      "c:\\Program Files\\Python310\\lib\\site-packages\\statsmodels\\tsa\\holtwinters\\model.py:83: RuntimeWarning: overflow encountered in matmul\n",
      "  return err.T @ err\n",
      "c:\\Program Files\\Python310\\lib\\site-packages\\statsmodels\\tsa\\holtwinters\\model.py:83: RuntimeWarning: overflow encountered in matmul\n",
      "  return err.T @ err\n",
      "c:\\Program Files\\Python310\\lib\\site-packages\\statsmodels\\tsa\\holtwinters\\model.py:83: RuntimeWarning: overflow encountered in matmul\n",
      "  return err.T @ err\n"
     ]
    },
    {
     "name": "stdout",
     "output_type": "stream",
     "text": [
      "Best_score so far: 268.62187164455725\n"
     ]
    },
    {
     "name": "stderr",
     "output_type": "stream",
     "text": [
      "c:\\Program Files\\Python310\\lib\\site-packages\\statsmodels\\tsa\\holtwinters\\model.py:83: RuntimeWarning: overflow encountered in matmul\n",
      "  return err.T @ err\n",
      "c:\\Program Files\\Python310\\lib\\site-packages\\statsmodels\\tsa\\holtwinters\\model.py:83: RuntimeWarning: overflow encountered in matmul\n",
      "  return err.T @ err\n",
      "c:\\Program Files\\Python310\\lib\\site-packages\\statsmodels\\tsa\\holtwinters\\model.py:83: RuntimeWarning: overflow encountered in matmul\n",
      "  return err.T @ err\n",
      "c:\\Program Files\\Python310\\lib\\site-packages\\statsmodels\\tsa\\holtwinters\\model.py:83: RuntimeWarning: overflow encountered in matmul\n",
      "  return err.T @ err\n",
      "c:\\Program Files\\Python310\\lib\\site-packages\\statsmodels\\tsa\\holtwinters\\model.py:83: RuntimeWarning: overflow encountered in matmul\n",
      "  return err.T @ err\n",
      "c:\\Program Files\\Python310\\lib\\site-packages\\statsmodels\\tsa\\holtwinters\\model.py:83: RuntimeWarning: overflow encountered in matmul\n",
      "  return err.T @ err\n",
      "c:\\Program Files\\Python310\\lib\\site-packages\\statsmodels\\tsa\\holtwinters\\model.py:83: RuntimeWarning: overflow encountered in matmul\n",
      "  return err.T @ err\n",
      "c:\\Program Files\\Python310\\lib\\site-packages\\statsmodels\\tsa\\holtwinters\\model.py:83: RuntimeWarning: overflow encountered in matmul\n",
      "  return err.T @ err\n",
      "c:\\Program Files\\Python310\\lib\\site-packages\\statsmodels\\tsa\\holtwinters\\model.py:83: RuntimeWarning: overflow encountered in matmul\n",
      "  return err.T @ err\n",
      "c:\\Program Files\\Python310\\lib\\site-packages\\statsmodels\\tsa\\holtwinters\\model.py:83: RuntimeWarning: overflow encountered in matmul\n",
      "  return err.T @ err\n",
      "c:\\Program Files\\Python310\\lib\\site-packages\\statsmodels\\tsa\\holtwinters\\model.py:83: RuntimeWarning: overflow encountered in matmul\n",
      "  return err.T @ err\n",
      "c:\\Program Files\\Python310\\lib\\site-packages\\statsmodels\\tsa\\holtwinters\\model.py:83: RuntimeWarning: overflow encountered in matmul\n",
      "  return err.T @ err\n",
      "c:\\Program Files\\Python310\\lib\\site-packages\\statsmodels\\tsa\\holtwinters\\model.py:83: RuntimeWarning: overflow encountered in matmul\n",
      "  return err.T @ err\n",
      "c:\\Program Files\\Python310\\lib\\site-packages\\statsmodels\\tsa\\holtwinters\\model.py:83: RuntimeWarning: overflow encountered in matmul\n",
      "  return err.T @ err\n",
      "c:\\Program Files\\Python310\\lib\\site-packages\\statsmodels\\tsa\\holtwinters\\model.py:83: RuntimeWarning: overflow encountered in matmul\n",
      "  return err.T @ err\n",
      "c:\\Program Files\\Python310\\lib\\site-packages\\statsmodels\\tsa\\holtwinters\\model.py:83: RuntimeWarning: overflow encountered in matmul\n",
      "  return err.T @ err\n",
      "c:\\Program Files\\Python310\\lib\\site-packages\\statsmodels\\tsa\\holtwinters\\model.py:83: RuntimeWarning: overflow encountered in matmul\n",
      "  return err.T @ err\n",
      "c:\\Program Files\\Python310\\lib\\site-packages\\statsmodels\\tsa\\holtwinters\\model.py:83: RuntimeWarning: overflow encountered in matmul\n",
      "  return err.T @ err\n",
      "c:\\Program Files\\Python310\\lib\\site-packages\\statsmodels\\tsa\\holtwinters\\model.py:83: RuntimeWarning: overflow encountered in matmul\n",
      "  return err.T @ err\n",
      "c:\\Program Files\\Python310\\lib\\site-packages\\statsmodels\\tsa\\holtwinters\\model.py:83: RuntimeWarning: overflow encountered in matmul\n",
      "  return err.T @ err\n",
      "c:\\Program Files\\Python310\\lib\\site-packages\\statsmodels\\tsa\\holtwinters\\model.py:83: RuntimeWarning: overflow encountered in matmul\n",
      "  return err.T @ err\n",
      "c:\\Program Files\\Python310\\lib\\site-packages\\statsmodels\\tsa\\holtwinters\\model.py:83: RuntimeWarning: overflow encountered in matmul\n",
      "  return err.T @ err\n",
      "c:\\Program Files\\Python310\\lib\\site-packages\\statsmodels\\tsa\\holtwinters\\model.py:83: RuntimeWarning: overflow encountered in matmul\n",
      "  return err.T @ err\n",
      "c:\\Program Files\\Python310\\lib\\site-packages\\statsmodels\\tsa\\holtwinters\\model.py:83: RuntimeWarning: overflow encountered in matmul\n",
      "  return err.T @ err\n",
      "c:\\Program Files\\Python310\\lib\\site-packages\\statsmodels\\tsa\\holtwinters\\model.py:83: RuntimeWarning: overflow encountered in matmul\n",
      "  return err.T @ err\n",
      "c:\\Program Files\\Python310\\lib\\site-packages\\statsmodels\\tsa\\holtwinters\\model.py:83: RuntimeWarning: overflow encountered in matmul\n",
      "  return err.T @ err\n",
      "c:\\Program Files\\Python310\\lib\\site-packages\\statsmodels\\tsa\\holtwinters\\model.py:83: RuntimeWarning: overflow encountered in matmul\n",
      "  return err.T @ err\n",
      "c:\\Program Files\\Python310\\lib\\site-packages\\statsmodels\\tsa\\holtwinters\\model.py:83: RuntimeWarning: overflow encountered in matmul\n",
      "  return err.T @ err\n",
      "c:\\Program Files\\Python310\\lib\\site-packages\\statsmodels\\tsa\\holtwinters\\model.py:83: RuntimeWarning: overflow encountered in matmul\n",
      "  return err.T @ err\n",
      "c:\\Program Files\\Python310\\lib\\site-packages\\statsmodels\\tsa\\holtwinters\\model.py:83: RuntimeWarning: overflow encountered in matmul\n",
      "  return err.T @ err\n",
      "c:\\Program Files\\Python310\\lib\\site-packages\\statsmodels\\tsa\\holtwinters\\model.py:83: RuntimeWarning: overflow encountered in matmul\n",
      "  return err.T @ err\n",
      "c:\\Program Files\\Python310\\lib\\site-packages\\statsmodels\\tsa\\holtwinters\\model.py:83: RuntimeWarning: overflow encountered in matmul\n",
      "  return err.T @ err\n",
      "c:\\Program Files\\Python310\\lib\\site-packages\\statsmodels\\tsa\\holtwinters\\model.py:83: RuntimeWarning: overflow encountered in matmul\n",
      "  return err.T @ err\n"
     ]
    }
   ],
   "source": [
    "for x in itertools.product(*tuple_of_option_lists):\n",
    "    # средняя ошибка на 10 walk-forward проходах для заданного кортежа параметров x\n",
    "    score = walkforward(*x)\n",
    "    \n",
    "    if score < best_score:\n",
    "        print('Best_score so far:', score)\n",
    "        best_score = score\n",
    "        best_options = x"
   ]
  },
  {
   "cell_type": "code",
   "execution_count": 46,
   "metadata": {},
   "outputs": [
    {
     "name": "stdout",
     "output_type": "stream",
     "text": [
      "Best score: 268.62187164455725\n"
     ]
    }
   ],
   "source": [
    "print('Best score:', best_score)"
   ]
  },
  {
   "cell_type": "code",
   "execution_count": 47,
   "metadata": {},
   "outputs": [
    {
     "data": {
      "text/plain": [
       "('mul', 'mul', True, 'legacy-heuristic', False)"
      ]
     },
     "execution_count": 47,
     "metadata": {},
     "output_type": "execute_result"
    }
   ],
   "source": [
    "best_options"
   ]
  }
 ],
 "metadata": {
  "kernelspec": {
   "display_name": "Python 3",
   "language": "python",
   "name": "python3"
  },
  "language_info": {
   "codemirror_mode": {
    "name": "ipython",
    "version": 3
   },
   "file_extension": ".py",
   "mimetype": "text/x-python",
   "name": "python",
   "nbconvert_exporter": "python",
   "pygments_lexer": "ipython3",
   "version": "3.10.6"
  },
  "orig_nbformat": 4
 },
 "nbformat": 4,
 "nbformat_minor": 2
}
