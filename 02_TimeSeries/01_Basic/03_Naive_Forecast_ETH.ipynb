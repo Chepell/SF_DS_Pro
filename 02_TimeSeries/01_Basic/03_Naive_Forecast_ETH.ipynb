{
 "cells": [
  {
   "cell_type": "code",
   "execution_count": 2,
   "metadata": {},
   "outputs": [],
   "source": [
    "import numpy as np\n",
    "import pandas as pd\n",
    "\n",
    "from sklearn.metrics import mean_absolute_percentage_error, mean_absolute_error, r2_score, mean_squared_error"
   ]
  },
  {
   "cell_type": "code",
   "execution_count": 7,
   "metadata": {},
   "outputs": [],
   "source": [
    "df = pd.read_parquet('..\\..\\ETH-Full-1H.parquet') # 2 dir up"
   ]
  },
  {
   "cell_type": "code",
   "execution_count": 8,
   "metadata": {},
   "outputs": [
    {
     "data": {
      "text/html": [
       "<div>\n",
       "<style scoped>\n",
       "    .dataframe tbody tr th:only-of-type {\n",
       "        vertical-align: middle;\n",
       "    }\n",
       "\n",
       "    .dataframe tbody tr th {\n",
       "        vertical-align: top;\n",
       "    }\n",
       "\n",
       "    .dataframe thead th {\n",
       "        text-align: right;\n",
       "    }\n",
       "</style>\n",
       "<table border=\"1\" class=\"dataframe\">\n",
       "  <thead>\n",
       "    <tr style=\"text-align: right;\">\n",
       "      <th></th>\n",
       "      <th>Open</th>\n",
       "      <th>High</th>\n",
       "      <th>Low</th>\n",
       "      <th>Close</th>\n",
       "      <th>Volume</th>\n",
       "      <th>Trades</th>\n",
       "    </tr>\n",
       "    <tr>\n",
       "      <th>Datetime</th>\n",
       "      <th></th>\n",
       "      <th></th>\n",
       "      <th></th>\n",
       "      <th></th>\n",
       "      <th></th>\n",
       "      <th></th>\n",
       "    </tr>\n",
       "  </thead>\n",
       "  <tbody>\n",
       "    <tr>\n",
       "      <th>2017-09-01 00:00:00</th>\n",
       "      <td>384.79</td>\n",
       "      <td>388.74</td>\n",
       "      <td>384.79</td>\n",
       "      <td>388.74</td>\n",
       "      <td>162.97779</td>\n",
       "      <td>131</td>\n",
       "    </tr>\n",
       "    <tr>\n",
       "      <th>2017-09-01 01:00:00</th>\n",
       "      <td>388.69</td>\n",
       "      <td>394.06</td>\n",
       "      <td>387.53</td>\n",
       "      <td>391.37</td>\n",
       "      <td>248.72949</td>\n",
       "      <td>262</td>\n",
       "    </tr>\n",
       "    <tr>\n",
       "      <th>2017-09-01 02:00:00</th>\n",
       "      <td>392.88</td>\n",
       "      <td>394.39</td>\n",
       "      <td>389.46</td>\n",
       "      <td>390.88</td>\n",
       "      <td>198.82856</td>\n",
       "      <td>225</td>\n",
       "    </tr>\n",
       "    <tr>\n",
       "      <th>2017-09-01 03:00:00</th>\n",
       "      <td>391.70</td>\n",
       "      <td>393.13</td>\n",
       "      <td>390.86</td>\n",
       "      <td>390.86</td>\n",
       "      <td>141.56114</td>\n",
       "      <td>138</td>\n",
       "    </tr>\n",
       "    <tr>\n",
       "      <th>2017-09-01 04:00:00</th>\n",
       "      <td>392.65</td>\n",
       "      <td>394.27</td>\n",
       "      <td>387.64</td>\n",
       "      <td>390.33</td>\n",
       "      <td>135.65894</td>\n",
       "      <td>128</td>\n",
       "    </tr>\n",
       "    <tr>\n",
       "      <th>...</th>\n",
       "      <td>...</td>\n",
       "      <td>...</td>\n",
       "      <td>...</td>\n",
       "      <td>...</td>\n",
       "      <td>...</td>\n",
       "      <td>...</td>\n",
       "    </tr>\n",
       "    <tr>\n",
       "      <th>2023-04-23 19:00:00</th>\n",
       "      <td>1846.76</td>\n",
       "      <td>1852.35</td>\n",
       "      <td>1844.92</td>\n",
       "      <td>1846.49</td>\n",
       "      <td>16550.18290</td>\n",
       "      <td>21648</td>\n",
       "    </tr>\n",
       "    <tr>\n",
       "      <th>2023-04-23 20:00:00</th>\n",
       "      <td>1846.49</td>\n",
       "      <td>1852.30</td>\n",
       "      <td>1838.03</td>\n",
       "      <td>1848.89</td>\n",
       "      <td>13113.47550</td>\n",
       "      <td>19445</td>\n",
       "    </tr>\n",
       "    <tr>\n",
       "      <th>2023-04-23 21:00:00</th>\n",
       "      <td>1848.88</td>\n",
       "      <td>1859.32</td>\n",
       "      <td>1847.59</td>\n",
       "      <td>1854.66</td>\n",
       "      <td>7855.61330</td>\n",
       "      <td>13824</td>\n",
       "    </tr>\n",
       "    <tr>\n",
       "      <th>2023-04-23 22:00:00</th>\n",
       "      <td>1854.67</td>\n",
       "      <td>1868.16</td>\n",
       "      <td>1848.00</td>\n",
       "      <td>1861.72</td>\n",
       "      <td>15836.48430</td>\n",
       "      <td>21852</td>\n",
       "    </tr>\n",
       "    <tr>\n",
       "      <th>2023-04-23 23:00:00</th>\n",
       "      <td>1861.72</td>\n",
       "      <td>1865.60</td>\n",
       "      <td>1859.17</td>\n",
       "      <td>1862.00</td>\n",
       "      <td>8767.12790</td>\n",
       "      <td>12371</td>\n",
       "    </tr>\n",
       "  </tbody>\n",
       "</table>\n",
       "<p>49337 rows × 6 columns</p>\n",
       "</div>"
      ],
      "text/plain": [
       "                        Open     High      Low    Close       Volume  Trades\n",
       "Datetime                                                                    \n",
       "2017-09-01 00:00:00   384.79   388.74   384.79   388.74    162.97779     131\n",
       "2017-09-01 01:00:00   388.69   394.06   387.53   391.37    248.72949     262\n",
       "2017-09-01 02:00:00   392.88   394.39   389.46   390.88    198.82856     225\n",
       "2017-09-01 03:00:00   391.70   393.13   390.86   390.86    141.56114     138\n",
       "2017-09-01 04:00:00   392.65   394.27   387.64   390.33    135.65894     128\n",
       "...                      ...      ...      ...      ...          ...     ...\n",
       "2023-04-23 19:00:00  1846.76  1852.35  1844.92  1846.49  16550.18290   21648\n",
       "2023-04-23 20:00:00  1846.49  1852.30  1838.03  1848.89  13113.47550   19445\n",
       "2023-04-23 21:00:00  1848.88  1859.32  1847.59  1854.66   7855.61330   13824\n",
       "2023-04-23 22:00:00  1854.67  1868.16  1848.00  1861.72  15836.48430   21852\n",
       "2023-04-23 23:00:00  1861.72  1865.60  1859.17  1862.00   8767.12790   12371\n",
       "\n",
       "[49337 rows x 6 columns]"
      ]
     },
     "execution_count": 8,
     "metadata": {},
     "output_type": "execute_result"
    }
   ],
   "source": [
    "df"
   ]
  },
  {
   "cell_type": "code",
   "execution_count": 9,
   "metadata": {},
   "outputs": [
    {
     "name": "stdout",
     "output_type": "stream",
     "text": [
      "<class 'pandas.core.frame.DataFrame'>\n",
      "DatetimeIndex: 49337 entries, 2017-09-01 00:00:00 to 2023-04-23 23:00:00\n",
      "Data columns (total 6 columns):\n",
      " #   Column  Non-Null Count  Dtype  \n",
      "---  ------  --------------  -----  \n",
      " 0   Open    49337 non-null  float64\n",
      " 1   High    49337 non-null  float64\n",
      " 2   Low     49337 non-null  float64\n",
      " 3   Close   49337 non-null  float64\n",
      " 4   Volume  49337 non-null  float64\n",
      " 5   Trades  49337 non-null  int32  \n",
      "dtypes: float64(5), int32(1)\n",
      "memory usage: 2.4 MB\n"
     ]
    }
   ],
   "source": [
    "df.info()"
   ]
  },
  {
   "cell_type": "code",
   "execution_count": 10,
   "metadata": {},
   "outputs": [
    {
     "data": {
      "text/html": [
       "<div>\n",
       "<style scoped>\n",
       "    .dataframe tbody tr th:only-of-type {\n",
       "        vertical-align: middle;\n",
       "    }\n",
       "\n",
       "    .dataframe tbody tr th {\n",
       "        vertical-align: top;\n",
       "    }\n",
       "\n",
       "    .dataframe thead th {\n",
       "        text-align: right;\n",
       "    }\n",
       "</style>\n",
       "<table border=\"1\" class=\"dataframe\">\n",
       "  <thead>\n",
       "    <tr style=\"text-align: right;\">\n",
       "      <th></th>\n",
       "      <th>Open</th>\n",
       "      <th>High</th>\n",
       "      <th>Low</th>\n",
       "      <th>Close</th>\n",
       "      <th>Volume</th>\n",
       "      <th>Trades</th>\n",
       "    </tr>\n",
       "  </thead>\n",
       "  <tbody>\n",
       "    <tr>\n",
       "      <th>count</th>\n",
       "      <td>49337.000000</td>\n",
       "      <td>49337.000000</td>\n",
       "      <td>49337.000000</td>\n",
       "      <td>49337.000000</td>\n",
       "      <td>49337.000000</td>\n",
       "      <td>49337.000000</td>\n",
       "    </tr>\n",
       "    <tr>\n",
       "      <th>mean</th>\n",
       "      <td>1129.787828</td>\n",
       "      <td>1137.506014</td>\n",
       "      <td>1121.512988</td>\n",
       "      <td>1129.812692</td>\n",
       "      <td>24069.305450</td>\n",
       "      <td>23040.347123</td>\n",
       "    </tr>\n",
       "    <tr>\n",
       "      <th>std</th>\n",
       "      <td>1152.173610</td>\n",
       "      <td>1159.468381</td>\n",
       "      <td>1144.315048</td>\n",
       "      <td>1152.175379</td>\n",
       "      <td>28507.816928</td>\n",
       "      <td>29913.374971</td>\n",
       "    </tr>\n",
       "    <tr>\n",
       "      <th>min</th>\n",
       "      <td>82.160000</td>\n",
       "      <td>82.950000</td>\n",
       "      <td>81.790000</td>\n",
       "      <td>82.170000</td>\n",
       "      <td>1.459450</td>\n",
       "      <td>7.000000</td>\n",
       "    </tr>\n",
       "    <tr>\n",
       "      <th>25%</th>\n",
       "      <td>221.110000</td>\n",
       "      <td>222.660000</td>\n",
       "      <td>219.630000</td>\n",
       "      <td>221.110000</td>\n",
       "      <td>7683.970060</td>\n",
       "      <td>4858.000000</td>\n",
       "    </tr>\n",
       "    <tr>\n",
       "      <th>50%</th>\n",
       "      <td>538.930000</td>\n",
       "      <td>543.230000</td>\n",
       "      <td>534.400000</td>\n",
       "      <td>538.870000</td>\n",
       "      <td>15761.451700</td>\n",
       "      <td>12221.000000</td>\n",
       "    </tr>\n",
       "    <tr>\n",
       "      <th>75%</th>\n",
       "      <td>1732.550000</td>\n",
       "      <td>1744.530000</td>\n",
       "      <td>1719.620000</td>\n",
       "      <td>1732.560000</td>\n",
       "      <td>30009.152030</td>\n",
       "      <td>30603.000000</td>\n",
       "    </tr>\n",
       "    <tr>\n",
       "      <th>max</th>\n",
       "      <td>4846.940000</td>\n",
       "      <td>4868.000000</td>\n",
       "      <td>4833.190000</td>\n",
       "      <td>4846.710000</td>\n",
       "      <td>493227.882820</td>\n",
       "      <td>536376.000000</td>\n",
       "    </tr>\n",
       "  </tbody>\n",
       "</table>\n",
       "</div>"
      ],
      "text/plain": [
       "               Open          High           Low         Close         Volume   \n",
       "count  49337.000000  49337.000000  49337.000000  49337.000000   49337.000000  \\\n",
       "mean    1129.787828   1137.506014   1121.512988   1129.812692   24069.305450   \n",
       "std     1152.173610   1159.468381   1144.315048   1152.175379   28507.816928   \n",
       "min       82.160000     82.950000     81.790000     82.170000       1.459450   \n",
       "25%      221.110000    222.660000    219.630000    221.110000    7683.970060   \n",
       "50%      538.930000    543.230000    534.400000    538.870000   15761.451700   \n",
       "75%     1732.550000   1744.530000   1719.620000   1732.560000   30009.152030   \n",
       "max     4846.940000   4868.000000   4833.190000   4846.710000  493227.882820   \n",
       "\n",
       "              Trades  \n",
       "count   49337.000000  \n",
       "mean    23040.347123  \n",
       "std     29913.374971  \n",
       "min         7.000000  \n",
       "25%      4858.000000  \n",
       "50%     12221.000000  \n",
       "75%     30603.000000  \n",
       "max    536376.000000  "
      ]
     },
     "execution_count": 10,
     "metadata": {},
     "output_type": "execute_result"
    }
   ],
   "source": [
    "df.describe()"
   ]
  },
  {
   "attachments": {},
   "cell_type": "markdown",
   "metadata": {},
   "source": [
    "В качестве наивного прогноза используется закрытие предыдущего периода"
   ]
  },
  {
   "cell_type": "code",
   "execution_count": 11,
   "metadata": {},
   "outputs": [],
   "source": [
    "df['Close_prediction'] = df['Close'].shift(1)"
   ]
  },
  {
   "cell_type": "code",
   "execution_count": 12,
   "metadata": {},
   "outputs": [],
   "source": [
    "# Первое значение пустое, удаляю всю строку\n",
    "df.dropna(inplace=True)"
   ]
  },
  {
   "cell_type": "code",
   "execution_count": 13,
   "metadata": {},
   "outputs": [],
   "source": [
    "# Выделяю вектор правильных ответов и вектор наивного предсказагния\n",
    "y_true = df['Close']\n",
    "y_pred = df['Close_prediction']"
   ]
  },
  {
   "attachments": {},
   "cell_type": "markdown",
   "metadata": {},
   "source": [
    "## Metrics"
   ]
  },
  {
   "attachments": {},
   "cell_type": "markdown",
   "metadata": {},
   "source": [
    "### SSE сумма квадратов ошибок"
   ]
  },
  {
   "cell_type": "code",
   "execution_count": 14,
   "metadata": {},
   "outputs": [
    {
     "data": {
      "text/plain": [
       "12362684.549799995"
      ]
     },
     "execution_count": 14,
     "metadata": {},
     "output_type": "execute_result"
    }
   ],
   "source": [
    "(y_true - y_pred).dot(y_true - y_pred)"
   ]
  },
  {
   "attachments": {},
   "cell_type": "markdown",
   "metadata": {},
   "source": [
    "### MSE средняя квадратичная ошибка"
   ]
  },
  {
   "cell_type": "code",
   "execution_count": 15,
   "metadata": {},
   "outputs": [
    {
     "data": {
      "text/plain": [
       "250.58141214934324"
      ]
     },
     "execution_count": 15,
     "metadata": {},
     "output_type": "execute_result"
    }
   ],
   "source": [
    "mean_squared_error(y_true, y_pred)"
   ]
  },
  {
   "cell_type": "code",
   "execution_count": 16,
   "metadata": {},
   "outputs": [
    {
     "data": {
      "text/plain": [
       "250.58141214934318"
      ]
     },
     "execution_count": 16,
     "metadata": {},
     "output_type": "execute_result"
    }
   ],
   "source": [
    "# расчет вручную\n",
    "(y_true - y_pred).dot(y_true - y_pred) / len(y_true)"
   ]
  },
  {
   "attachments": {},
   "cell_type": "markdown",
   "metadata": {},
   "source": [
    "### RMSE"
   ]
  },
  {
   "cell_type": "code",
   "execution_count": 17,
   "metadata": {},
   "outputs": [
    {
     "data": {
      "text/plain": [
       "15.829763490000198"
      ]
     },
     "execution_count": 17,
     "metadata": {},
     "output_type": "execute_result"
    }
   ],
   "source": [
    "mean_squared_error(y_true, y_pred, squared=False)"
   ]
  },
  {
   "cell_type": "code",
   "execution_count": 18,
   "metadata": {},
   "outputs": [
    {
     "data": {
      "text/plain": [
       "15.829763490000197"
      ]
     },
     "execution_count": 18,
     "metadata": {},
     "output_type": "execute_result"
    }
   ],
   "source": [
    "# расчет вручную\n",
    "np.sqrt((y_true - y_pred).dot(y_true - y_pred) / len(y_true))"
   ]
  },
  {
   "attachments": {},
   "cell_type": "markdown",
   "metadata": {},
   "source": [
    "### R^2 score. Инвариантная метрика.\n",
    "Слишком высокое значение что бы быть правдой"
   ]
  },
  {
   "cell_type": "code",
   "execution_count": 19,
   "metadata": {},
   "outputs": [
    {
     "data": {
      "text/plain": [
       "0.999811237676953"
      ]
     },
     "execution_count": 19,
     "metadata": {},
     "output_type": "execute_result"
    }
   ],
   "source": [
    "r2_score(y_true, y_pred)"
   ]
  },
  {
   "attachments": {},
   "cell_type": "markdown",
   "metadata": {},
   "source": [
    "### MAPE средняя абсолютная процентная ошибка. Инвариантная ошибка."
   ]
  },
  {
   "cell_type": "code",
   "execution_count": 20,
   "metadata": {},
   "outputs": [
    {
     "data": {
      "text/plain": [
       "0.006642962280889733"
      ]
     },
     "execution_count": 20,
     "metadata": {},
     "output_type": "execute_result"
    }
   ],
   "source": [
    "mean_absolute_percentage_error(y_true, y_pred)"
   ]
  },
  {
   "attachments": {},
   "cell_type": "markdown",
   "metadata": {},
   "source": [
    "### sMAPE Симметричная средняя абсолютная процентная ошибка"
   ]
  },
  {
   "cell_type": "code",
   "execution_count": 21,
   "metadata": {},
   "outputs": [],
   "source": [
    "def smape(y_true, y_pred):\n",
    "    numerator = np.abs(y_true - y_pred)\n",
    "    denominator = (np.abs(y_true) + np.abs(y_pred)) / 2\n",
    "    ratio = numerator / denominator\n",
    "    return ratio.mean()"
   ]
  },
  {
   "cell_type": "code",
   "execution_count": 22,
   "metadata": {},
   "outputs": [
    {
     "data": {
      "text/plain": [
       "0.006639043992486268"
      ]
     },
     "execution_count": 22,
     "metadata": {},
     "output_type": "execute_result"
    }
   ],
   "source": [
    "smape(y_true, y_pred)"
   ]
  },
  {
   "cell_type": "code",
   "execution_count": null,
   "metadata": {},
   "outputs": [],
   "source": []
  }
 ],
 "metadata": {
  "kernelspec": {
   "display_name": "Python 3",
   "language": "python",
   "name": "python3"
  },
  "language_info": {
   "codemirror_mode": {
    "name": "ipython",
    "version": 3
   },
   "file_extension": ".py",
   "mimetype": "text/x-python",
   "name": "python",
   "nbconvert_exporter": "python",
   "pygments_lexer": "ipython3",
   "version": "3.10.6"
  },
  "orig_nbformat": 4
 },
 "nbformat": 4,
 "nbformat_minor": 2
}
