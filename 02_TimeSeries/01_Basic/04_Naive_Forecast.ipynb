{
 "cells": [
  {
   "cell_type": "code",
   "execution_count": 2,
   "metadata": {},
   "outputs": [],
   "source": [
    "import numpy as np\n",
    "import pandas as pd\n",
    "\n",
    "from sklearn.metrics import mean_absolute_percentage_error, mean_absolute_error, r2_score, mean_squared_error"
   ]
  },
  {
   "cell_type": "code",
   "execution_count": 8,
   "metadata": {},
   "outputs": [],
   "source": [
    "df = pd.read_csv('SPY.csv', index_col='Date', parse_dates=True)"
   ]
  },
  {
   "cell_type": "code",
   "execution_count": 9,
   "metadata": {},
   "outputs": [
    {
     "data": {
      "text/html": [
       "<div>\n",
       "<style scoped>\n",
       "    .dataframe tbody tr th:only-of-type {\n",
       "        vertical-align: middle;\n",
       "    }\n",
       "\n",
       "    .dataframe tbody tr th {\n",
       "        vertical-align: top;\n",
       "    }\n",
       "\n",
       "    .dataframe thead th {\n",
       "        text-align: right;\n",
       "    }\n",
       "</style>\n",
       "<table border=\"1\" class=\"dataframe\">\n",
       "  <thead>\n",
       "    <tr style=\"text-align: right;\">\n",
       "      <th></th>\n",
       "      <th>Open</th>\n",
       "      <th>High</th>\n",
       "      <th>Low</th>\n",
       "      <th>Close</th>\n",
       "      <th>Adj Close</th>\n",
       "      <th>Volume</th>\n",
       "    </tr>\n",
       "    <tr>\n",
       "      <th>Date</th>\n",
       "      <th></th>\n",
       "      <th></th>\n",
       "      <th></th>\n",
       "      <th></th>\n",
       "      <th></th>\n",
       "      <th></th>\n",
       "    </tr>\n",
       "  </thead>\n",
       "  <tbody>\n",
       "    <tr>\n",
       "      <th>2010-01-04</th>\n",
       "      <td>112.370003</td>\n",
       "      <td>113.389999</td>\n",
       "      <td>111.510002</td>\n",
       "      <td>113.330002</td>\n",
       "      <td>92.246048</td>\n",
       "      <td>118944600</td>\n",
       "    </tr>\n",
       "    <tr>\n",
       "      <th>2010-01-05</th>\n",
       "      <td>113.260002</td>\n",
       "      <td>113.680000</td>\n",
       "      <td>112.849998</td>\n",
       "      <td>113.629997</td>\n",
       "      <td>92.490204</td>\n",
       "      <td>111579900</td>\n",
       "    </tr>\n",
       "    <tr>\n",
       "      <th>2010-01-06</th>\n",
       "      <td>113.519997</td>\n",
       "      <td>113.989998</td>\n",
       "      <td>113.430000</td>\n",
       "      <td>113.709999</td>\n",
       "      <td>92.555328</td>\n",
       "      <td>116074400</td>\n",
       "    </tr>\n",
       "    <tr>\n",
       "      <th>2010-01-07</th>\n",
       "      <td>113.500000</td>\n",
       "      <td>114.330002</td>\n",
       "      <td>113.180000</td>\n",
       "      <td>114.190002</td>\n",
       "      <td>92.946060</td>\n",
       "      <td>131091100</td>\n",
       "    </tr>\n",
       "    <tr>\n",
       "      <th>2010-01-08</th>\n",
       "      <td>113.889999</td>\n",
       "      <td>114.620003</td>\n",
       "      <td>113.660004</td>\n",
       "      <td>114.570000</td>\n",
       "      <td>93.255348</td>\n",
       "      <td>126402800</td>\n",
       "    </tr>\n",
       "    <tr>\n",
       "      <th>...</th>\n",
       "      <td>...</td>\n",
       "      <td>...</td>\n",
       "      <td>...</td>\n",
       "      <td>...</td>\n",
       "      <td>...</td>\n",
       "      <td>...</td>\n",
       "    </tr>\n",
       "    <tr>\n",
       "      <th>2018-12-21</th>\n",
       "      <td>246.740005</td>\n",
       "      <td>249.710007</td>\n",
       "      <td>239.979996</td>\n",
       "      <td>240.699997</td>\n",
       "      <td>234.845886</td>\n",
       "      <td>255345600</td>\n",
       "    </tr>\n",
       "    <tr>\n",
       "      <th>2018-12-24</th>\n",
       "      <td>239.039993</td>\n",
       "      <td>240.839996</td>\n",
       "      <td>234.270004</td>\n",
       "      <td>234.339996</td>\n",
       "      <td>228.640564</td>\n",
       "      <td>147311600</td>\n",
       "    </tr>\n",
       "    <tr>\n",
       "      <th>2018-12-26</th>\n",
       "      <td>235.970001</td>\n",
       "      <td>246.179993</td>\n",
       "      <td>233.759995</td>\n",
       "      <td>246.179993</td>\n",
       "      <td>240.192596</td>\n",
       "      <td>218485400</td>\n",
       "    </tr>\n",
       "    <tr>\n",
       "      <th>2018-12-27</th>\n",
       "      <td>242.570007</td>\n",
       "      <td>248.289993</td>\n",
       "      <td>238.960007</td>\n",
       "      <td>248.070007</td>\n",
       "      <td>242.036667</td>\n",
       "      <td>186267300</td>\n",
       "    </tr>\n",
       "    <tr>\n",
       "      <th>2018-12-28</th>\n",
       "      <td>249.580002</td>\n",
       "      <td>251.399994</td>\n",
       "      <td>246.449997</td>\n",
       "      <td>247.750000</td>\n",
       "      <td>241.724442</td>\n",
       "      <td>153100200</td>\n",
       "    </tr>\n",
       "  </tbody>\n",
       "</table>\n",
       "<p>2263 rows × 6 columns</p>\n",
       "</div>"
      ],
      "text/plain": [
       "                  Open        High         Low       Close   Adj Close   \n",
       "Date                                                                     \n",
       "2010-01-04  112.370003  113.389999  111.510002  113.330002   92.246048  \\\n",
       "2010-01-05  113.260002  113.680000  112.849998  113.629997   92.490204   \n",
       "2010-01-06  113.519997  113.989998  113.430000  113.709999   92.555328   \n",
       "2010-01-07  113.500000  114.330002  113.180000  114.190002   92.946060   \n",
       "2010-01-08  113.889999  114.620003  113.660004  114.570000   93.255348   \n",
       "...                ...         ...         ...         ...         ...   \n",
       "2018-12-21  246.740005  249.710007  239.979996  240.699997  234.845886   \n",
       "2018-12-24  239.039993  240.839996  234.270004  234.339996  228.640564   \n",
       "2018-12-26  235.970001  246.179993  233.759995  246.179993  240.192596   \n",
       "2018-12-27  242.570007  248.289993  238.960007  248.070007  242.036667   \n",
       "2018-12-28  249.580002  251.399994  246.449997  247.750000  241.724442   \n",
       "\n",
       "               Volume  \n",
       "Date                   \n",
       "2010-01-04  118944600  \n",
       "2010-01-05  111579900  \n",
       "2010-01-06  116074400  \n",
       "2010-01-07  131091100  \n",
       "2010-01-08  126402800  \n",
       "...               ...  \n",
       "2018-12-21  255345600  \n",
       "2018-12-24  147311600  \n",
       "2018-12-26  218485400  \n",
       "2018-12-27  186267300  \n",
       "2018-12-28  153100200  \n",
       "\n",
       "[2263 rows x 6 columns]"
      ]
     },
     "execution_count": 9,
     "metadata": {},
     "output_type": "execute_result"
    }
   ],
   "source": [
    "df"
   ]
  },
  {
   "cell_type": "code",
   "execution_count": 10,
   "metadata": {},
   "outputs": [
    {
     "name": "stdout",
     "output_type": "stream",
     "text": [
      "<class 'pandas.core.frame.DataFrame'>\n",
      "DatetimeIndex: 2263 entries, 2010-01-04 to 2018-12-28\n",
      "Data columns (total 6 columns):\n",
      " #   Column     Non-Null Count  Dtype  \n",
      "---  ------     --------------  -----  \n",
      " 0   Open       2263 non-null   float64\n",
      " 1   High       2263 non-null   float64\n",
      " 2   Low        2263 non-null   float64\n",
      " 3   Close      2263 non-null   float64\n",
      " 4   Adj Close  2263 non-null   float64\n",
      " 5   Volume     2263 non-null   int64  \n",
      "dtypes: float64(5), int64(1)\n",
      "memory usage: 123.8 KB\n"
     ]
    }
   ],
   "source": [
    "df.info()"
   ]
  },
  {
   "cell_type": "code",
   "execution_count": 11,
   "metadata": {},
   "outputs": [
    {
     "data": {
      "text/html": [
       "<div>\n",
       "<style scoped>\n",
       "    .dataframe tbody tr th:only-of-type {\n",
       "        vertical-align: middle;\n",
       "    }\n",
       "\n",
       "    .dataframe tbody tr th {\n",
       "        vertical-align: top;\n",
       "    }\n",
       "\n",
       "    .dataframe thead th {\n",
       "        text-align: right;\n",
       "    }\n",
       "</style>\n",
       "<table border=\"1\" class=\"dataframe\">\n",
       "  <thead>\n",
       "    <tr style=\"text-align: right;\">\n",
       "      <th></th>\n",
       "      <th>Open</th>\n",
       "      <th>High</th>\n",
       "      <th>Low</th>\n",
       "      <th>Close</th>\n",
       "      <th>Adj Close</th>\n",
       "      <th>Volume</th>\n",
       "    </tr>\n",
       "  </thead>\n",
       "  <tbody>\n",
       "    <tr>\n",
       "      <th>count</th>\n",
       "      <td>2263.000000</td>\n",
       "      <td>2263.000000</td>\n",
       "      <td>2263.000000</td>\n",
       "      <td>2263.000000</td>\n",
       "      <td>2263.000000</td>\n",
       "      <td>2.263000e+03</td>\n",
       "    </tr>\n",
       "    <tr>\n",
       "      <th>mean</th>\n",
       "      <td>185.670013</td>\n",
       "      <td>186.539434</td>\n",
       "      <td>184.698630</td>\n",
       "      <td>185.686465</td>\n",
       "      <td>167.857557</td>\n",
       "      <td>1.332021e+08</td>\n",
       "    </tr>\n",
       "    <tr>\n",
       "      <th>std</th>\n",
       "      <td>51.939383</td>\n",
       "      <td>52.050626</td>\n",
       "      <td>51.784357</td>\n",
       "      <td>51.904678</td>\n",
       "      <td>55.222908</td>\n",
       "      <td>7.594594e+07</td>\n",
       "    </tr>\n",
       "    <tr>\n",
       "      <th>min</th>\n",
       "      <td>103.110001</td>\n",
       "      <td>103.419998</td>\n",
       "      <td>101.129997</td>\n",
       "      <td>102.199997</td>\n",
       "      <td>83.926636</td>\n",
       "      <td>2.785650e+07</td>\n",
       "    </tr>\n",
       "    <tr>\n",
       "      <th>25%</th>\n",
       "      <td>135.180000</td>\n",
       "      <td>135.805000</td>\n",
       "      <td>134.345001</td>\n",
       "      <td>135.360001</td>\n",
       "      <td>114.648251</td>\n",
       "      <td>8.072945e+07</td>\n",
       "    </tr>\n",
       "    <tr>\n",
       "      <th>50%</th>\n",
       "      <td>190.460007</td>\n",
       "      <td>191.830002</td>\n",
       "      <td>188.860001</td>\n",
       "      <td>190.350006</td>\n",
       "      <td>171.772522</td>\n",
       "      <td>1.146956e+08</td>\n",
       "    </tr>\n",
       "    <tr>\n",
       "      <th>75%</th>\n",
       "      <td>216.684998</td>\n",
       "      <td>217.195000</td>\n",
       "      <td>215.754997</td>\n",
       "      <td>216.644997</td>\n",
       "      <td>201.767876</td>\n",
       "      <td>1.625992e+08</td>\n",
       "    </tr>\n",
       "    <tr>\n",
       "      <th>max</th>\n",
       "      <td>293.089996</td>\n",
       "      <td>293.940002</td>\n",
       "      <td>291.809998</td>\n",
       "      <td>293.579987</td>\n",
       "      <td>283.493500</td>\n",
       "      <td>7.178287e+08</td>\n",
       "    </tr>\n",
       "  </tbody>\n",
       "</table>\n",
       "</div>"
      ],
      "text/plain": [
       "              Open         High          Low        Close    Adj Close   \n",
       "count  2263.000000  2263.000000  2263.000000  2263.000000  2263.000000  \\\n",
       "mean    185.670013   186.539434   184.698630   185.686465   167.857557   \n",
       "std      51.939383    52.050626    51.784357    51.904678    55.222908   \n",
       "min     103.110001   103.419998   101.129997   102.199997    83.926636   \n",
       "25%     135.180000   135.805000   134.345001   135.360001   114.648251   \n",
       "50%     190.460007   191.830002   188.860001   190.350006   171.772522   \n",
       "75%     216.684998   217.195000   215.754997   216.644997   201.767876   \n",
       "max     293.089996   293.940002   291.809998   293.579987   283.493500   \n",
       "\n",
       "             Volume  \n",
       "count  2.263000e+03  \n",
       "mean   1.332021e+08  \n",
       "std    7.594594e+07  \n",
       "min    2.785650e+07  \n",
       "25%    8.072945e+07  \n",
       "50%    1.146956e+08  \n",
       "75%    1.625992e+08  \n",
       "max    7.178287e+08  "
      ]
     },
     "execution_count": 11,
     "metadata": {},
     "output_type": "execute_result"
    }
   ],
   "source": [
    "df.describe()"
   ]
  },
  {
   "attachments": {},
   "cell_type": "markdown",
   "metadata": {},
   "source": [
    "В качестве наивного прогноза используется закрытие предыдущего периода"
   ]
  },
  {
   "cell_type": "code",
   "execution_count": 13,
   "metadata": {},
   "outputs": [],
   "source": [
    "df['Close_prediction'] = df['Close'].shift(1)"
   ]
  },
  {
   "cell_type": "code",
   "execution_count": 20,
   "metadata": {},
   "outputs": [],
   "source": [
    "# Первое значение пустое, удаляю всю строку\n",
    "df.dropna(inplace=True)"
   ]
  },
  {
   "cell_type": "code",
   "execution_count": 21,
   "metadata": {},
   "outputs": [],
   "source": [
    "# Выделяю вектор правильных ответов и вектор наивного предсказагния\n",
    "y_true = df['Close']\n",
    "y_pred = df['Close_prediction']"
   ]
  },
  {
   "attachments": {},
   "cell_type": "markdown",
   "metadata": {},
   "source": [
    "## Metrics"
   ]
  },
  {
   "attachments": {},
   "cell_type": "markdown",
   "metadata": {},
   "source": [
    "### SSE сумма квадратов ошибок"
   ]
  },
  {
   "cell_type": "code",
   "execution_count": 23,
   "metadata": {},
   "outputs": [
    {
     "data": {
      "text/plain": [
       "6330.3742894926045"
      ]
     },
     "execution_count": 23,
     "metadata": {},
     "output_type": "execute_result"
    }
   ],
   "source": [
    "(y_true - y_pred).dot(y_true - y_pred)"
   ]
  },
  {
   "attachments": {},
   "cell_type": "markdown",
   "metadata": {},
   "source": [
    "### MSE средняя квадратичная ошибка"
   ]
  },
  {
   "cell_type": "code",
   "execution_count": 24,
   "metadata": {},
   "outputs": [
    {
     "data": {
      "text/plain": [
       "2.798573956451196"
      ]
     },
     "execution_count": 24,
     "metadata": {},
     "output_type": "execute_result"
    }
   ],
   "source": [
    "mean_squared_error(y_true, y_pred)"
   ]
  },
  {
   "cell_type": "code",
   "execution_count": 26,
   "metadata": {},
   "outputs": [
    {
     "data": {
      "text/plain": [
       "2.7985739564511958"
      ]
     },
     "execution_count": 26,
     "metadata": {},
     "output_type": "execute_result"
    }
   ],
   "source": [
    "# расчет вручную\n",
    "(y_true - y_pred).dot(y_true - y_pred) / len(y_true)"
   ]
  },
  {
   "attachments": {},
   "cell_type": "markdown",
   "metadata": {},
   "source": [
    "### RMSE"
   ]
  },
  {
   "cell_type": "code",
   "execution_count": 27,
   "metadata": {},
   "outputs": [
    {
     "data": {
      "text/plain": [
       "1.672893886787562"
      ]
     },
     "execution_count": 27,
     "metadata": {},
     "output_type": "execute_result"
    }
   ],
   "source": [
    "mean_squared_error(y_true, y_pred, squared=False)"
   ]
  },
  {
   "cell_type": "code",
   "execution_count": 28,
   "metadata": {},
   "outputs": [
    {
     "data": {
      "text/plain": [
       "1.6728938867875618"
      ]
     },
     "execution_count": 28,
     "metadata": {},
     "output_type": "execute_result"
    }
   ],
   "source": [
    "# расчет вручную\n",
    "np.sqrt((y_true - y_pred).dot(y_true - y_pred) / len(y_true))"
   ]
  },
  {
   "attachments": {},
   "cell_type": "markdown",
   "metadata": {},
   "source": [
    "### R^2 score. Инвариантная метрика.\n",
    "Слишком высокое значение что бы быть правдой"
   ]
  },
  {
   "cell_type": "code",
   "execution_count": 29,
   "metadata": {},
   "outputs": [
    {
     "data": {
      "text/plain": [
       "0.9989603259063914"
      ]
     },
     "execution_count": 29,
     "metadata": {},
     "output_type": "execute_result"
    }
   ],
   "source": [
    "r2_score(y_true, y_pred)"
   ]
  },
  {
   "attachments": {},
   "cell_type": "markdown",
   "metadata": {},
   "source": [
    "### MAPE средняя абсолютная процентная ошибка. Инвариантная ошибка."
   ]
  },
  {
   "cell_type": "code",
   "execution_count": 30,
   "metadata": {},
   "outputs": [
    {
     "data": {
      "text/plain": [
       "0.006494073151422373"
      ]
     },
     "execution_count": 30,
     "metadata": {},
     "output_type": "execute_result"
    }
   ],
   "source": [
    "mean_absolute_percentage_error(y_true, y_pred)"
   ]
  },
  {
   "attachments": {},
   "cell_type": "markdown",
   "metadata": {},
   "source": [
    "### sMAPE Симметричная средняя абсолютная процентная ошибка"
   ]
  },
  {
   "cell_type": "code",
   "execution_count": 33,
   "metadata": {},
   "outputs": [],
   "source": [
    "def smape(y_true, y_pred):\n",
    "    numerator = np.abs(y_true - y_pred)\n",
    "    denominator = (np.abs(y_true) + np.abs(y_pred)) / 2\n",
    "    ratio = numerator / denominator\n",
    "    return ratio.mean()"
   ]
  },
  {
   "cell_type": "code",
   "execution_count": 34,
   "metadata": {},
   "outputs": [
    {
     "data": {
      "text/plain": [
       "0.006491365814068417"
      ]
     },
     "execution_count": 34,
     "metadata": {},
     "output_type": "execute_result"
    }
   ],
   "source": [
    "smape(y_true, y_pred)"
   ]
  },
  {
   "cell_type": "code",
   "execution_count": null,
   "metadata": {},
   "outputs": [],
   "source": []
  }
 ],
 "metadata": {
  "kernelspec": {
   "display_name": "Python 3",
   "language": "python",
   "name": "python3"
  },
  "language_info": {
   "codemirror_mode": {
    "name": "ipython",
    "version": 3
   },
   "file_extension": ".py",
   "mimetype": "text/x-python",
   "name": "python",
   "nbconvert_exporter": "python",
   "pygments_lexer": "ipython3",
   "version": "3.10.6"
  },
  "orig_nbformat": 4
 },
 "nbformat": 4,
 "nbformat_minor": 2
}
