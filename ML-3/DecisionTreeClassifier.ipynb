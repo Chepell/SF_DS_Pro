{
 "cells": [
  {
   "cell_type": "code",
   "execution_count": 1,
   "id": "f39a9b61-3a8d-49c8-9f5f-197b3163507e",
   "metadata": {},
   "outputs": [],
   "source": [
    "import numpy as np #для матричных вычислений\n",
    "import pandas as pd #для анализа и предобработки данных\n",
    "import matplotlib.pyplot as plt #для визуализации\n",
    "import seaborn as sns #для визуализации\n",
    "\n",
    "from sklearn import linear_model #линейные модели\n",
    "from sklearn import metrics #метрики\n",
    "\n",
    "from sklearn.model_selection import train_test_split #сплитование выборки\n",
    "from sklearn import preprocessing #предобработка\n",
    "%matplotlib inline\n",
    "plt.style.use('seaborn')"
   ]
  },
  {
   "cell_type": "markdown",
   "id": "86145df3-f314-4520-b353-902a01a8a7e0",
   "metadata": {},
   "source": [
    "## Деревья решений"
   ]
  },
  {
   "cell_type": "code",
   "execution_count": 2,
   "id": "96f861e4-8128-447b-9eba-623b46ffa986",
   "metadata": {},
   "outputs": [
    {
     "data": {
      "text/html": [
       "<div>\n",
       "<style scoped>\n",
       "    .dataframe tbody tr th:only-of-type {\n",
       "        vertical-align: middle;\n",
       "    }\n",
       "\n",
       "    .dataframe tbody tr th {\n",
       "        vertical-align: top;\n",
       "    }\n",
       "\n",
       "    .dataframe thead th {\n",
       "        text-align: right;\n",
       "    }\n",
       "</style>\n",
       "<table border=\"1\" class=\"dataframe\">\n",
       "  <thead>\n",
       "    <tr style=\"text-align: right;\">\n",
       "      <th></th>\n",
       "      <th>Pregnancies</th>\n",
       "      <th>Glucose</th>\n",
       "      <th>BloodPressure</th>\n",
       "      <th>SkinThickness</th>\n",
       "      <th>BMI</th>\n",
       "      <th>DiabetesPedigreeFunction</th>\n",
       "      <th>Age</th>\n",
       "      <th>Outcome</th>\n",
       "    </tr>\n",
       "  </thead>\n",
       "  <tbody>\n",
       "    <tr>\n",
       "      <th>0</th>\n",
       "      <td>6</td>\n",
       "      <td>98.0</td>\n",
       "      <td>58.0</td>\n",
       "      <td>33.0</td>\n",
       "      <td>34.0</td>\n",
       "      <td>0.430</td>\n",
       "      <td>43</td>\n",
       "      <td>0</td>\n",
       "    </tr>\n",
       "    <tr>\n",
       "      <th>1</th>\n",
       "      <td>2</td>\n",
       "      <td>112.0</td>\n",
       "      <td>75.0</td>\n",
       "      <td>32.0</td>\n",
       "      <td>35.7</td>\n",
       "      <td>0.148</td>\n",
       "      <td>21</td>\n",
       "      <td>0</td>\n",
       "    </tr>\n",
       "    <tr>\n",
       "      <th>2</th>\n",
       "      <td>2</td>\n",
       "      <td>108.0</td>\n",
       "      <td>64.0</td>\n",
       "      <td>29.0</td>\n",
       "      <td>30.8</td>\n",
       "      <td>0.158</td>\n",
       "      <td>21</td>\n",
       "      <td>0</td>\n",
       "    </tr>\n",
       "    <tr>\n",
       "      <th>3</th>\n",
       "      <td>8</td>\n",
       "      <td>107.0</td>\n",
       "      <td>80.0</td>\n",
       "      <td>29.0</td>\n",
       "      <td>24.6</td>\n",
       "      <td>0.856</td>\n",
       "      <td>34</td>\n",
       "      <td>0</td>\n",
       "    </tr>\n",
       "    <tr>\n",
       "      <th>4</th>\n",
       "      <td>7</td>\n",
       "      <td>136.0</td>\n",
       "      <td>90.0</td>\n",
       "      <td>29.0</td>\n",
       "      <td>29.9</td>\n",
       "      <td>0.210</td>\n",
       "      <td>50</td>\n",
       "      <td>0</td>\n",
       "    </tr>\n",
       "  </tbody>\n",
       "</table>\n",
       "</div>"
      ],
      "text/plain": [
       "   Pregnancies  Glucose  BloodPressure  SkinThickness   BMI  \\\n",
       "0            6     98.0           58.0           33.0  34.0   \n",
       "1            2    112.0           75.0           32.0  35.7   \n",
       "2            2    108.0           64.0           29.0  30.8   \n",
       "3            8    107.0           80.0           29.0  24.6   \n",
       "4            7    136.0           90.0           29.0  29.9   \n",
       "\n",
       "   DiabetesPedigreeFunction  Age  Outcome  \n",
       "0                     0.430   43        0  \n",
       "1                     0.148   21        0  \n",
       "2                     0.158   21        0  \n",
       "3                     0.856   34        0  \n",
       "4                     0.210   50        0  "
      ]
     },
     "execution_count": 2,
     "metadata": {},
     "output_type": "execute_result"
    }
   ],
   "source": [
    "diabetes_data = pd.read_csv('data/diabetes_cleaned.zip')\n",
    "diabetes_data.head()"
   ]
  },
  {
   "cell_type": "code",
   "execution_count": 3,
   "id": "df88808e",
   "metadata": {},
   "outputs": [],
   "source": [
    "TARGET_FEATURE = 'Outcome'"
   ]
  },
  {
   "cell_type": "code",
   "execution_count": 4,
   "id": "e233e8b5-a274-47ea-80ff-6488ecf382b3",
   "metadata": {},
   "outputs": [
    {
     "data": {
      "text/plain": [
       "(757, 8)"
      ]
     },
     "execution_count": 4,
     "metadata": {},
     "output_type": "execute_result"
    }
   ],
   "source": [
    "diabetes_data.shape"
   ]
  },
  {
   "cell_type": "code",
   "execution_count": 5,
   "id": "2b6f972a-e3ee-402e-ae7a-d2352e59257b",
   "metadata": {},
   "outputs": [],
   "source": [
    "# Создаем матрицу признаков X и столбец с ответами y\n",
    "X = diabetes_data.drop(TARGET_FEATURE, axis=1)\n",
    "y = diabetes_data[TARGET_FEATURE]"
   ]
  },
  {
   "cell_type": "code",
   "execution_count": 6,
   "id": "a6588285",
   "metadata": {},
   "outputs": [
    {
     "data": {
      "text/plain": [
       "0    65.125495\n",
       "1    34.874505\n",
       "Name: Outcome, dtype: float64"
      ]
     },
     "execution_count": 6,
     "metadata": {},
     "output_type": "execute_result"
    }
   ],
   "source": [
    "y.value_counts(True) * 100"
   ]
  },
  {
   "cell_type": "markdown",
   "id": "9209191b",
   "metadata": {},
   "source": [
    "Классы не сбалансированы. Обязательно использую stratify при сплите"
   ]
  },
  {
   "cell_type": "code",
   "execution_count": 7,
   "id": "568befcf",
   "metadata": {},
   "outputs": [],
   "source": [
    "X_train, X_test, y_train, y_test = train_test_split(X, y, stratify=y, random_state=42)"
   ]
  },
  {
   "cell_type": "code",
   "execution_count": 8,
   "id": "6a70ba95",
   "metadata": {},
   "outputs": [],
   "source": [
    "from sklearn import tree"
   ]
  },
  {
   "cell_type": "code",
   "execution_count": 9,
   "id": "3e41bd43",
   "metadata": {},
   "outputs": [
    {
     "name": "stdout",
     "output_type": "stream",
     "text": [
      "              precision    recall  f1-score   support\n",
      "\n",
      "           0       0.83      0.81      0.82       124\n",
      "           1       0.65      0.68      0.67        66\n",
      "\n",
      "    accuracy                           0.76       190\n",
      "   macro avg       0.74      0.74      0.74       190\n",
      "weighted avg       0.77      0.76      0.76       190\n",
      "\n"
     ]
    }
   ],
   "source": [
    "# Создаём объект класса DecisionTreeClassifier\n",
    "dt_clf_full = tree.DecisionTreeClassifier(\n",
    "    criterion='gini', # критерий информативности\n",
    "    max_depth=6, # максимальная глубина дерева\n",
    "    random_state=42 # генератор случайных чисел\n",
    ")\n",
    "\n",
    "# Обучаем модель по алгоритму CART\n",
    "dt_clf_full.fit(X_train, y_train)\n",
    " \n",
    "# Делаем предсказание класса\n",
    "y_pred = dt_clf_full.predict(X_test)\n",
    "\n",
    "# Выводим отчёт о метриках\n",
    "print(metrics.classification_report(y_test, y_pred))"
   ]
  },
  {
   "cell_type": "code",
   "execution_count": 10,
   "id": "8bf6058f",
   "metadata": {},
   "outputs": [
    {
     "name": "stdout",
     "output_type": "stream",
     "text": [
      "              precision    recall  f1-score   support\n",
      "\n",
      "           0       0.86      0.93      0.90       493\n",
      "           1       0.85      0.73      0.78       264\n",
      "\n",
      "    accuracy                           0.86       757\n",
      "   macro avg       0.85      0.83      0.84       757\n",
      "weighted avg       0.86      0.86      0.86       757\n",
      "\n"
     ]
    }
   ],
   "source": [
    "# Создаём объект класса DecisionTreeClassifier\n",
    "dt_clf_full = tree.DecisionTreeClassifier(\n",
    "    criterion='gini', # критерий информативности\n",
    "    max_depth=6, # максимальная глубина дерева\n",
    "    random_state=42 # генератор случайных чисел\n",
    ")\n",
    "\n",
    "# Обучаем модель по алгоритму CART\n",
    "dt_clf_full.fit(X, y)\n",
    " \n",
    "# Делаем предсказание класса\n",
    "y_pred = dt_clf_full.predict(X)\n",
    "\n",
    "# Выводим отчёт о метриках\n",
    "print(metrics.classification_report(y, y_pred))"
   ]
  }
 ],
 "metadata": {
  "kernelspec": {
   "display_name": "Python 3.9.10 64-bit",
   "language": "python",
   "name": "python3"
  },
  "language_info": {
   "codemirror_mode": {
    "name": "ipython",
    "version": 3
   },
   "file_extension": ".py",
   "mimetype": "text/x-python",
   "name": "python",
   "nbconvert_exporter": "python",
   "pygments_lexer": "ipython3",
   "version": "3.9.10"
  },
  "vscode": {
   "interpreter": {
    "hash": "ce0e7e8478f0adf4f893607b28490b56060cc6330e9a48291a15f517e7031888"
   }
  }
 },
 "nbformat": 4,
 "nbformat_minor": 5
}
