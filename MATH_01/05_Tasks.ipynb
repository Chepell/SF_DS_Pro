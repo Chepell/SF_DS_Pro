{
  "cells": [
    {
      "cell_type": "code",
      "execution_count": 1,
      "metadata": {
        "collapsed": true
      },
      "outputs": [],
      "source": [
        "import numpy as np"
      ]
    },
    {
      "cell_type": "code",
      "execution_count": 5,
      "metadata": {},
      "outputs": [],
      "source": [
        "x = np.array([1, 3, -2, 9])\n",
        "y = np.array([3, 7, -5, 21])"
      ]
    },
    {
      "cell_type": "code",
      "execution_count": 6,
      "metadata": {},
      "outputs": [
        {
          "data": {
            "text/plain": [
              "array([[ 1.,  1.,  1.],\n",
              "       [ 1.,  3.,  9.],\n",
              "       [ 1., -2.,  4.],\n",
              "       [ 1.,  9., 81.]])"
            ]
          },
          "execution_count": 6,
          "metadata": {},
          "output_type": "execute_result"
        }
      ],
      "source": [
        "X = np.array([np.ones(4), x, x * x]).T\n",
        "X"
      ]
    },
    {
      "cell_type": "code",
      "execution_count": 7,
      "metadata": {},
      "outputs": [
        {
          "data": {
            "text/plain": [
              "array([ 0.1,  2.5, -0. ])"
            ]
          },
          "execution_count": 7,
          "metadata": {},
          "output_type": "execute_result"
        }
      ],
      "source": [
        "w = np.linalg.inv(X.T @ X) @ X.T @ y\n",
        "w.round(1)"
      ]
    },
    {
      "attachments": {},
      "cell_type": "markdown",
      "metadata": {},
      "source": [
        "Задание 7.4\n",
        "\n",
        "Вычислите коэффициенты линейной регрессии с L2-регуляризацией, используя аналитическую формулу Тихонова"
      ]
    },
    {
      "cell_type": "code",
      "execution_count": 18,
      "metadata": {},
      "outputs": [],
      "source": [
        "# вектора признаков\n",
        "x1 = np.array([5, 9, 4, 3, 5])\n",
        "x2 = np.array([15, 18, 18, 19, 19])\n",
        "x3 = np.array([7, 6, 7, 7, 7])\n",
        "\n",
        "# вектор правильных ответов\n",
        "y = np.array([24, 22, 35, 33, 36])\n",
        "\n",
        "# коэффициент регуляризации\n",
        "alpha = 1"
      ]
    },
    {
      "cell_type": "code",
      "execution_count": 23,
      "metadata": {},
      "outputs": [
        {
          "data": {
            "text/plain": [
              "array([[ 1.,  5., 15.,  7.],\n",
              "       [ 1.,  9., 18.,  6.],\n",
              "       [ 1.,  4., 18.,  7.],\n",
              "       [ 1.,  3., 19.,  7.],\n",
              "       [ 1.,  5., 19.,  7.]])"
            ]
          },
          "execution_count": 23,
          "metadata": {},
          "output_type": "execute_result"
        }
      ],
      "source": [
        "# вектора призднаков собираю в матрицу добавив единичный вектор для свободного члена w0\n",
        "X = np.array([np.ones(5), x1, x2, x3]).T\n",
        "X"
      ]
    },
    {
      "cell_type": "code",
      "execution_count": 25,
      "metadata": {},
      "outputs": [
        {
          "data": {
            "text/plain": [
              "(5, 4)"
            ]
          },
          "execution_count": 25,
          "metadata": {},
          "output_type": "execute_result"
        }
      ],
      "source": [
        "X.shape"
      ]
    },
    {
      "cell_type": "code",
      "execution_count": 26,
      "metadata": {},
      "outputs": [
        {
          "data": {
            "text/plain": [
              "array([[1., 0., 0., 0.],\n",
              "       [0., 1., 0., 0.],\n",
              "       [0., 0., 1., 0.],\n",
              "       [0., 0., 0., 1.]])"
            ]
          },
          "execution_count": 26,
          "metadata": {},
          "output_type": "execute_result"
        }
      ],
      "source": [
        "# Создаю единичную матрицу в размер равный количеству параметров\n",
        "E = np.eye(X.shape[1])\n",
        "E"
      ]
    },
    {
      "cell_type": "code",
      "execution_count": 27,
      "metadata": {},
      "outputs": [
        {
          "data": {
            "text/plain": [
              "array([-0.09, -1.71,  1.91,  0.73])"
            ]
          },
          "execution_count": 27,
          "metadata": {},
          "output_type": "execute_result"
        }
      ],
      "source": [
        "# Получаю оценку коэффициентов регрессии по МНК с регуляризацией Тихонова\n",
        "w = np.linalg.inv(X.T @ X + alpha * E) @ X.T @ y\n",
        "w.round(2)"
      ]
    },
    {
      "cell_type": "code",
      "execution_count": null,
      "metadata": {},
      "outputs": [],
      "source": []
    }
  ],
  "metadata": {
    "kernelspec": {
      "display_name": "Python 3",
      "language": "python",
      "name": "python3"
    },
    "language_info": {
      "codemirror_mode": {
        "name": "ipython",
        "version": 3
      },
      "file_extension": ".py",
      "mimetype": "text/x-python",
      "name": "python",
      "nbconvert_exporter": "python",
      "pygments_lexer": "ipython3",
      "version": "3.9.10"
    },
    "nteract": {
      "version": "0.26.0"
    }
  },
  "nbformat": 4,
  "nbformat_minor": 2
}
