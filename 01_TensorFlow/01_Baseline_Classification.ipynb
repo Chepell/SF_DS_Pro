{
 "cells": [
  {
   "attachments": {},
   "cell_type": "markdown",
   "metadata": {},
   "source": [
    "# Task\n",
    "Сделать базовый вариант бинарной классификации, от которого можно отталкиваться в дальнейшем"
   ]
  },
  {
   "attachments": {},
   "cell_type": "markdown",
   "metadata": {},
   "source": [
    "# Import modules"
   ]
  },
  {
   "cell_type": "code",
   "execution_count": 52,
   "metadata": {},
   "outputs": [
    {
     "name": "stdout",
     "output_type": "stream",
     "text": [
      "The autoreload extension is already loaded. To reload it, use:\n",
      "  %reload_ext autoreload\n"
     ]
    }
   ],
   "source": [
    "# для автозагрузки изменений в модулях без необходимости перезагрузки kelner\n",
    "%load_ext autoreload\n",
    "%autoreload 2\n",
    "\n",
    "# необходимо для корректного импорта своих модулей в JupyterLab\n",
    "import sys\n",
    "current_dir = sys.path[0]\n",
    "project_dir = 'SF_DS_Pro'\n",
    "last_position = current_dir.find(project_dir) + len(project_dir)\n",
    "project_path = current_dir[:last_position]\n",
    "sys.path.append(project_path)\n",
    "\n",
    "import Handlers as hd"
   ]
  },
  {
   "cell_type": "code",
   "execution_count": 53,
   "metadata": {},
   "outputs": [],
   "source": [
    "import numpy as np\n",
    "import pandas as pd\n",
    "import matplotlib.pyplot as plt\n",
    "from matplotlib import gridspec\n",
    "import seaborn as sns\n",
    "\n",
    "from sklearn.model_selection import train_test_split # сплитование выборки\n",
    "from sklearn.linear_model import LogisticRegression\n",
    "from sklearn.svm import SVC\n",
    "from sklearn.ensemble import RandomForestClassifier\n",
    "from sklearn.metrics import precision_score, recall_score, f1_score, confusion_matrix\n",
    "\n",
    "from sklearn.compose import ColumnTransformer\n",
    "from sklearn.preprocessing import StandardScaler\n",
    "from category_encoders import OneHotEncoder, BinaryEncoder\n",
    "\n",
    "from statsmodels.tsa.stattools import adfuller\n",
    "\n",
    "import tensorflow as tf\n",
    "from tensorflow.keras.layers import Input, LSTM, GRU, SimpleRNN, Dense, GlobalMaxPool1D\n",
    "from tensorflow.keras.models import Model\n",
    "from tensorflow.keras.optimizers import SGD, Adam\n",
    "\n",
    "from sklearn import set_config\n",
    "set_config(transform_output='pandas')\n",
    "\n",
    "%matplotlib inline\n",
    "plt.style.use('seaborn-darkgrid')\n",
    "%config InlineBackend.figure_format = 'retina'\n",
    "plt.rcParams['figure.figsize'] = (10, 8)"
   ]
  },
  {
   "attachments": {},
   "cell_type": "markdown",
   "metadata": {},
   "source": [
    "# Load Data"
   ]
  },
  {
   "cell_type": "code",
   "execution_count": 54,
   "metadata": {},
   "outputs": [],
   "source": [
    "data = pd.read_parquet('..\\ETH-Full-1H.parquet')"
   ]
  },
  {
   "cell_type": "code",
   "execution_count": 55,
   "metadata": {},
   "outputs": [
    {
     "name": "stdout",
     "output_type": "stream",
     "text": [
      "<class 'pandas.core.frame.DataFrame'>\n",
      "DatetimeIndex: 49337 entries, 2017-09-01 00:00:00 to 2023-04-23 23:00:00\n",
      "Data columns (total 6 columns):\n",
      " #   Column  Non-Null Count  Dtype  \n",
      "---  ------  --------------  -----  \n",
      " 0   Open    49337 non-null  float64\n",
      " 1   High    49337 non-null  float64\n",
      " 2   Low     49337 non-null  float64\n",
      " 3   Close   49337 non-null  float64\n",
      " 4   Volume  49337 non-null  float64\n",
      " 5   Trades  49337 non-null  int32  \n",
      "dtypes: float64(5), int32(1)\n",
      "memory usage: 2.4 MB\n"
     ]
    }
   ],
   "source": [
    "df = data.copy()\n",
    "df.info()"
   ]
  },
  {
   "cell_type": "code",
   "execution_count": 56,
   "metadata": {},
   "outputs": [
    {
     "data": {
      "text/html": [
       "<div>\n",
       "<style scoped>\n",
       "    .dataframe tbody tr th:only-of-type {\n",
       "        vertical-align: middle;\n",
       "    }\n",
       "\n",
       "    .dataframe tbody tr th {\n",
       "        vertical-align: top;\n",
       "    }\n",
       "\n",
       "    .dataframe thead th {\n",
       "        text-align: right;\n",
       "    }\n",
       "</style>\n",
       "<table border=\"1\" class=\"dataframe\">\n",
       "  <thead>\n",
       "    <tr style=\"text-align: right;\">\n",
       "      <th></th>\n",
       "      <th>Open</th>\n",
       "      <th>High</th>\n",
       "      <th>Low</th>\n",
       "      <th>Close</th>\n",
       "      <th>Volume</th>\n",
       "      <th>Trades</th>\n",
       "    </tr>\n",
       "    <tr>\n",
       "      <th>Datetime</th>\n",
       "      <th></th>\n",
       "      <th></th>\n",
       "      <th></th>\n",
       "      <th></th>\n",
       "      <th></th>\n",
       "      <th></th>\n",
       "    </tr>\n",
       "  </thead>\n",
       "  <tbody>\n",
       "    <tr>\n",
       "      <th>2017-09-01 00:00:00</th>\n",
       "      <td>384.79</td>\n",
       "      <td>388.74</td>\n",
       "      <td>384.79</td>\n",
       "      <td>388.74</td>\n",
       "      <td>162.97779</td>\n",
       "      <td>131</td>\n",
       "    </tr>\n",
       "    <tr>\n",
       "      <th>2017-09-01 01:00:00</th>\n",
       "      <td>388.69</td>\n",
       "      <td>394.06</td>\n",
       "      <td>387.53</td>\n",
       "      <td>391.37</td>\n",
       "      <td>248.72949</td>\n",
       "      <td>262</td>\n",
       "    </tr>\n",
       "    <tr>\n",
       "      <th>2017-09-01 02:00:00</th>\n",
       "      <td>392.88</td>\n",
       "      <td>394.39</td>\n",
       "      <td>389.46</td>\n",
       "      <td>390.88</td>\n",
       "      <td>198.82856</td>\n",
       "      <td>225</td>\n",
       "    </tr>\n",
       "    <tr>\n",
       "      <th>2017-09-01 03:00:00</th>\n",
       "      <td>391.70</td>\n",
       "      <td>393.13</td>\n",
       "      <td>390.86</td>\n",
       "      <td>390.86</td>\n",
       "      <td>141.56114</td>\n",
       "      <td>138</td>\n",
       "    </tr>\n",
       "    <tr>\n",
       "      <th>2017-09-01 04:00:00</th>\n",
       "      <td>392.65</td>\n",
       "      <td>394.27</td>\n",
       "      <td>387.64</td>\n",
       "      <td>390.33</td>\n",
       "      <td>135.65894</td>\n",
       "      <td>128</td>\n",
       "    </tr>\n",
       "    <tr>\n",
       "      <th>...</th>\n",
       "      <td>...</td>\n",
       "      <td>...</td>\n",
       "      <td>...</td>\n",
       "      <td>...</td>\n",
       "      <td>...</td>\n",
       "      <td>...</td>\n",
       "    </tr>\n",
       "    <tr>\n",
       "      <th>2023-04-23 19:00:00</th>\n",
       "      <td>1846.76</td>\n",
       "      <td>1852.35</td>\n",
       "      <td>1844.92</td>\n",
       "      <td>1846.49</td>\n",
       "      <td>16550.18290</td>\n",
       "      <td>21648</td>\n",
       "    </tr>\n",
       "    <tr>\n",
       "      <th>2023-04-23 20:00:00</th>\n",
       "      <td>1846.49</td>\n",
       "      <td>1852.30</td>\n",
       "      <td>1838.03</td>\n",
       "      <td>1848.89</td>\n",
       "      <td>13113.47550</td>\n",
       "      <td>19445</td>\n",
       "    </tr>\n",
       "    <tr>\n",
       "      <th>2023-04-23 21:00:00</th>\n",
       "      <td>1848.88</td>\n",
       "      <td>1859.32</td>\n",
       "      <td>1847.59</td>\n",
       "      <td>1854.66</td>\n",
       "      <td>7855.61330</td>\n",
       "      <td>13824</td>\n",
       "    </tr>\n",
       "    <tr>\n",
       "      <th>2023-04-23 22:00:00</th>\n",
       "      <td>1854.67</td>\n",
       "      <td>1868.16</td>\n",
       "      <td>1848.00</td>\n",
       "      <td>1861.72</td>\n",
       "      <td>15836.48430</td>\n",
       "      <td>21852</td>\n",
       "    </tr>\n",
       "    <tr>\n",
       "      <th>2023-04-23 23:00:00</th>\n",
       "      <td>1861.72</td>\n",
       "      <td>1865.60</td>\n",
       "      <td>1859.17</td>\n",
       "      <td>1862.00</td>\n",
       "      <td>8767.12790</td>\n",
       "      <td>12371</td>\n",
       "    </tr>\n",
       "  </tbody>\n",
       "</table>\n",
       "<p>49337 rows × 6 columns</p>\n",
       "</div>"
      ],
      "text/plain": [
       "                        Open     High      Low    Close       Volume  Trades\n",
       "Datetime                                                                    \n",
       "2017-09-01 00:00:00   384.79   388.74   384.79   388.74    162.97779     131\n",
       "2017-09-01 01:00:00   388.69   394.06   387.53   391.37    248.72949     262\n",
       "2017-09-01 02:00:00   392.88   394.39   389.46   390.88    198.82856     225\n",
       "2017-09-01 03:00:00   391.70   393.13   390.86   390.86    141.56114     138\n",
       "2017-09-01 04:00:00   392.65   394.27   387.64   390.33    135.65894     128\n",
       "...                      ...      ...      ...      ...          ...     ...\n",
       "2023-04-23 19:00:00  1846.76  1852.35  1844.92  1846.49  16550.18290   21648\n",
       "2023-04-23 20:00:00  1846.49  1852.30  1838.03  1848.89  13113.47550   19445\n",
       "2023-04-23 21:00:00  1848.88  1859.32  1847.59  1854.66   7855.61330   13824\n",
       "2023-04-23 22:00:00  1854.67  1868.16  1848.00  1861.72  15836.48430   21852\n",
       "2023-04-23 23:00:00  1861.72  1865.60  1859.17  1862.00   8767.12790   12371\n",
       "\n",
       "[49337 rows x 6 columns]"
      ]
     },
     "execution_count": 56,
     "metadata": {},
     "output_type": "execute_result"
    }
   ],
   "source": [
    "df"
   ]
  },
  {
   "attachments": {},
   "cell_type": "markdown",
   "metadata": {},
   "source": [
    "# Base Visualization"
   ]
  },
  {
   "cell_type": "code",
   "execution_count": 57,
   "metadata": {},
   "outputs": [],
   "source": [
    "# # If need to plot not all data\n",
    "# # df_to_plot = df[df.index >= '2018-01-01']\n",
    "# df_to_plot = df\n",
    "\n",
    "# # Create a 2-row, 1-column subplot grid\n",
    "# fig, ax = plt.subplots(3, 1, figsize=(16, 10), sharex=True)\n",
    "\n",
    "# # Convert series to numpy\n",
    "# ind = df_to_plot.index.to_numpy()\n",
    "# _0 = df_to_plot['Close'].to_numpy()\n",
    "# _1 = df_to_plot['Volume'].to_numpy()\n",
    "# _2 = df_to_plot['Trades'].to_numpy()\n",
    "\n",
    "# ax[0].plot(ind, _0, linewidth=1)\n",
    "# ax[0].set_title('Close')\n",
    "\n",
    "# ax[1].fill_between(ind, _1, step='pre')\n",
    "# ax[1].set_title('Volume')\n",
    "\n",
    "# ax[2].fill_between(ind, _2, step='pre')\n",
    "# ax[2].set_title('Trades')\n",
    "\n",
    "# # Set the x-axis label for the entire figure\n",
    "# plt.xlabel('Date')\n",
    "\n",
    "# # Adjust the layout and show the plot\n",
    "# plt.tight_layout()\n",
    "# plt.show()"
   ]
  },
  {
   "attachments": {},
   "cell_type": "markdown",
   "metadata": {},
   "source": [
    "В 17 году совсем маленькие объемы, подрежу данные. Не буду брать то что до 18 года"
   ]
  },
  {
   "cell_type": "code",
   "execution_count": 58,
   "metadata": {},
   "outputs": [],
   "source": [
    "df = df[df.index >= '2018-01-01'].copy()"
   ]
  },
  {
   "attachments": {},
   "cell_type": "markdown",
   "metadata": {},
   "source": [
    "### Провека всех признаков исходного ряда на стационарность"
   ]
  },
  {
   "cell_type": "code",
   "execution_count": 59,
   "metadata": {},
   "outputs": [],
   "source": [
    "# for col_name, col_data in df.items():\n",
    "#     print(\"Column Name : \", col_name)\n",
    "#     hd.adf(col_data.values)\n",
    "#     print()"
   ]
  },
  {
   "attachments": {},
   "cell_type": "markdown",
   "metadata": {},
   "source": [
    "Volume, Trades стационарны и то, значения пограничные. Надо преобразовывать."
   ]
  },
  {
   "attachments": {},
   "cell_type": "markdown",
   "metadata": {},
   "source": [
    "# Feature Enginiring\n",
    "Логарифмирую все признаки"
   ]
  },
  {
   "cell_type": "code",
   "execution_count": 60,
   "metadata": {},
   "outputs": [],
   "source": [
    "cols = df.columns\n",
    "for col in cols:\n",
    "    df[col + '_log'] = np.log(df[col])\n",
    "\n",
    "df.drop(columns=cols, inplace=True) # удаляю все старые признаки"
   ]
  },
  {
   "cell_type": "code",
   "execution_count": 61,
   "metadata": {},
   "outputs": [
    {
     "data": {
      "text/html": [
       "<div>\n",
       "<style scoped>\n",
       "    .dataframe tbody tr th:only-of-type {\n",
       "        vertical-align: middle;\n",
       "    }\n",
       "\n",
       "    .dataframe tbody tr th {\n",
       "        vertical-align: top;\n",
       "    }\n",
       "\n",
       "    .dataframe thead th {\n",
       "        text-align: right;\n",
       "    }\n",
       "</style>\n",
       "<table border=\"1\" class=\"dataframe\">\n",
       "  <thead>\n",
       "    <tr style=\"text-align: right;\">\n",
       "      <th></th>\n",
       "      <th>Open_log</th>\n",
       "      <th>High_log</th>\n",
       "      <th>Low_log</th>\n",
       "      <th>Close_log</th>\n",
       "      <th>Volume_log</th>\n",
       "      <th>Trades_log</th>\n",
       "    </tr>\n",
       "    <tr>\n",
       "      <th>Datetime</th>\n",
       "      <th></th>\n",
       "      <th></th>\n",
       "      <th></th>\n",
       "      <th></th>\n",
       "      <th></th>\n",
       "      <th></th>\n",
       "    </tr>\n",
       "  </thead>\n",
       "  <tbody>\n",
       "    <tr>\n",
       "      <th>2018-01-01 00:00:00</th>\n",
       "      <td>6.597159</td>\n",
       "      <td>6.599217</td>\n",
       "      <td>6.579293</td>\n",
       "      <td>6.589779</td>\n",
       "      <td>7.652499</td>\n",
       "      <td>8.043663</td>\n",
       "    </tr>\n",
       "    <tr>\n",
       "      <th>2018-01-01 01:00:00</th>\n",
       "      <td>6.588940</td>\n",
       "      <td>6.595781</td>\n",
       "      <td>6.574797</td>\n",
       "      <td>6.576428</td>\n",
       "      <td>7.743257</td>\n",
       "      <td>7.963808</td>\n",
       "    </tr>\n",
       "    <tr>\n",
       "      <th>2018-01-01 02:00:00</th>\n",
       "      <td>6.576010</td>\n",
       "      <td>6.587206</td>\n",
       "      <td>6.575898</td>\n",
       "      <td>6.584860</td>\n",
       "      <td>7.680849</td>\n",
       "      <td>7.991931</td>\n",
       "    </tr>\n",
       "    <tr>\n",
       "      <th>2018-01-01 03:00:00</th>\n",
       "      <td>6.584722</td>\n",
       "      <td>6.603930</td>\n",
       "      <td>6.582994</td>\n",
       "      <td>6.599190</td>\n",
       "      <td>7.678282</td>\n",
       "      <td>8.201660</td>\n",
       "    </tr>\n",
       "    <tr>\n",
       "      <th>2018-01-01 04:00:00</th>\n",
       "      <td>6.599857</td>\n",
       "      <td>6.613357</td>\n",
       "      <td>6.593058</td>\n",
       "      <td>6.613143</td>\n",
       "      <td>7.755912</td>\n",
       "      <td>8.163941</td>\n",
       "    </tr>\n",
       "    <tr>\n",
       "      <th>...</th>\n",
       "      <td>...</td>\n",
       "      <td>...</td>\n",
       "      <td>...</td>\n",
       "      <td>...</td>\n",
       "      <td>...</td>\n",
       "      <td>...</td>\n",
       "    </tr>\n",
       "    <tr>\n",
       "      <th>2023-04-23 19:00:00</th>\n",
       "      <td>7.521188</td>\n",
       "      <td>7.524210</td>\n",
       "      <td>7.520191</td>\n",
       "      <td>7.521042</td>\n",
       "      <td>9.714152</td>\n",
       "      <td>9.982668</td>\n",
       "    </tr>\n",
       "    <tr>\n",
       "      <th>2023-04-23 20:00:00</th>\n",
       "      <td>7.521042</td>\n",
       "      <td>7.524183</td>\n",
       "      <td>7.516450</td>\n",
       "      <td>7.522341</td>\n",
       "      <td>9.481396</td>\n",
       "      <td>9.875345</td>\n",
       "    </tr>\n",
       "    <tr>\n",
       "      <th>2023-04-23 21:00:00</th>\n",
       "      <td>7.522335</td>\n",
       "      <td>7.527966</td>\n",
       "      <td>7.521637</td>\n",
       "      <td>7.525457</td>\n",
       "      <td>8.968984</td>\n",
       "      <td>9.534161</td>\n",
       "    </tr>\n",
       "    <tr>\n",
       "      <th>2023-04-23 22:00:00</th>\n",
       "      <td>7.525462</td>\n",
       "      <td>7.532709</td>\n",
       "      <td>7.521859</td>\n",
       "      <td>7.529256</td>\n",
       "      <td>9.670072</td>\n",
       "      <td>9.992048</td>\n",
       "    </tr>\n",
       "    <tr>\n",
       "      <th>2023-04-23 23:00:00</th>\n",
       "      <td>7.529256</td>\n",
       "      <td>7.531338</td>\n",
       "      <td>7.527885</td>\n",
       "      <td>7.529406</td>\n",
       "      <td>9.078765</td>\n",
       "      <td>9.423110</td>\n",
       "    </tr>\n",
       "  </tbody>\n",
       "</table>\n",
       "<p>46416 rows × 6 columns</p>\n",
       "</div>"
      ],
      "text/plain": [
       "                     Open_log  High_log   Low_log  Close_log  Volume_log   \n",
       "Datetime                                                                   \n",
       "2018-01-01 00:00:00  6.597159  6.599217  6.579293   6.589779    7.652499  \\\n",
       "2018-01-01 01:00:00  6.588940  6.595781  6.574797   6.576428    7.743257   \n",
       "2018-01-01 02:00:00  6.576010  6.587206  6.575898   6.584860    7.680849   \n",
       "2018-01-01 03:00:00  6.584722  6.603930  6.582994   6.599190    7.678282   \n",
       "2018-01-01 04:00:00  6.599857  6.613357  6.593058   6.613143    7.755912   \n",
       "...                       ...       ...       ...        ...         ...   \n",
       "2023-04-23 19:00:00  7.521188  7.524210  7.520191   7.521042    9.714152   \n",
       "2023-04-23 20:00:00  7.521042  7.524183  7.516450   7.522341    9.481396   \n",
       "2023-04-23 21:00:00  7.522335  7.527966  7.521637   7.525457    8.968984   \n",
       "2023-04-23 22:00:00  7.525462  7.532709  7.521859   7.529256    9.670072   \n",
       "2023-04-23 23:00:00  7.529256  7.531338  7.527885   7.529406    9.078765   \n",
       "\n",
       "                     Trades_log  \n",
       "Datetime                         \n",
       "2018-01-01 00:00:00    8.043663  \n",
       "2018-01-01 01:00:00    7.963808  \n",
       "2018-01-01 02:00:00    7.991931  \n",
       "2018-01-01 03:00:00    8.201660  \n",
       "2018-01-01 04:00:00    8.163941  \n",
       "...                         ...  \n",
       "2023-04-23 19:00:00    9.982668  \n",
       "2023-04-23 20:00:00    9.875345  \n",
       "2023-04-23 21:00:00    9.534161  \n",
       "2023-04-23 22:00:00    9.992048  \n",
       "2023-04-23 23:00:00    9.423110  \n",
       "\n",
       "[46416 rows x 6 columns]"
      ]
     },
     "execution_count": 61,
     "metadata": {},
     "output_type": "execute_result"
    }
   ],
   "source": [
    "df"
   ]
  },
  {
   "attachments": {},
   "cell_type": "markdown",
   "metadata": {},
   "source": [
    "Тени от открытия бара на лог шкале"
   ]
  },
  {
   "cell_type": "code",
   "execution_count": 62,
   "metadata": {},
   "outputs": [],
   "source": [
    "df['Low_Shad_log'] = df['Open_log'] - df['Low_log']\n",
    "df['High_Shad_log'] = df['High_log'] - df['Open_log']"
   ]
  },
  {
   "attachments": {},
   "cell_type": "markdown",
   "metadata": {},
   "source": [
    "Прирост за бар на лог шкале\n",
    "\n",
    "Фактически это аналог first log difference\n",
    "\n",
    "Прирост и тени от открытия бара, т.к. в истории есть пропуски по много часов и они могут давать сильные искажения, вылеты для таргетов"
   ]
  },
  {
   "cell_type": "code",
   "execution_count": 63,
   "metadata": {},
   "outputs": [],
   "source": [
    "df['Log_Return'] = df['Close_log'] - df['Open_log']"
   ]
  },
  {
   "attachments": {},
   "cell_type": "markdown",
   "metadata": {},
   "source": [
    "# Create Target Category Feature \n",
    "Создаю целевой признак\n",
    "\n",
    "Это фактически очередные гиперпараметры.\n",
    "\n",
    "Я могу задавать уровень риска в лог величинах - risk_level\n",
    "\n",
    "и коэффициент доходность/риск в виде множителя - risk_factor\n",
    "\n",
    "Т.е. текущий случай это:\n",
    "* risk_level = 0.0025\n",
    "* risk_factor = 4"
   ]
  },
  {
   "cell_type": "code",
   "execution_count": 64,
   "metadata": {},
   "outputs": [],
   "source": [
    "risk_level = 0.0025\n",
    "profit_factor = 4\n",
    "profit_level = risk_level * profit_factor\n",
    "TARGET = 'Long'"
   ]
  },
  {
   "cell_type": "code",
   "execution_count": 65,
   "metadata": {},
   "outputs": [
    {
     "name": "stdout",
     "output_type": "stream",
     "text": [
      "Метрика Precision должна быть выше: 0.2\n"
     ]
    }
   ],
   "source": [
    "zero_mo = hd.profit_margin_for_zero_mo(risk_level, profit_factor)\n",
    "print('Метрика Precision должна быть выше:', zero_mo)"
   ]
  },
  {
   "cell_type": "code",
   "execution_count": 66,
   "metadata": {},
   "outputs": [],
   "source": [
    "df[TARGET] = np.where((df['High_Shad_log'] >= profit_level) & (df['Low_Shad_log'] <= risk_level), 1, 0)"
   ]
  },
  {
   "attachments": {},
   "cell_type": "markdown",
   "metadata": {},
   "source": [
    "Анализ распределения классов целевого признака"
   ]
  },
  {
   "cell_type": "code",
   "execution_count": 67,
   "metadata": {},
   "outputs": [
    {
     "data": {
      "text/html": [
       "<div>\n",
       "<style scoped>\n",
       "    .dataframe tbody tr th:only-of-type {\n",
       "        vertical-align: middle;\n",
       "    }\n",
       "\n",
       "    .dataframe tbody tr th {\n",
       "        vertical-align: top;\n",
       "    }\n",
       "\n",
       "    .dataframe thead th {\n",
       "        text-align: right;\n",
       "    }\n",
       "</style>\n",
       "<table border=\"1\" class=\"dataframe\">\n",
       "  <thead>\n",
       "    <tr style=\"text-align: right;\">\n",
       "      <th></th>\n",
       "      <th>%</th>\n",
       "      <th>Count</th>\n",
       "    </tr>\n",
       "    <tr>\n",
       "      <th>Class</th>\n",
       "      <th></th>\n",
       "      <th></th>\n",
       "    </tr>\n",
       "  </thead>\n",
       "  <tbody>\n",
       "    <tr>\n",
       "      <th>1</th>\n",
       "      <td>9.16</td>\n",
       "      <td>4252</td>\n",
       "    </tr>\n",
       "    <tr>\n",
       "      <th>0</th>\n",
       "      <td>90.84</td>\n",
       "      <td>42164</td>\n",
       "    </tr>\n",
       "  </tbody>\n",
       "</table>\n",
       "</div>"
      ],
      "text/plain": [
       "           %  Count\n",
       "Class              \n",
       "1       9.16   4252\n",
       "0      90.84  42164"
      ]
     },
     "execution_count": 67,
     "metadata": {},
     "output_type": "execute_result"
    }
   ],
   "source": [
    "class_df = pd.DataFrame({'%': (df[TARGET].value_counts(True) * 100).round(2), 'Count': df[TARGET].value_counts()})\n",
    "class_df.index.name = 'Class'\n",
    "class_df.sort_index(ascending=False, inplace=True)\n",
    "class_df\n",
    "    "
   ]
  },
  {
   "attachments": {},
   "cell_type": "markdown",
   "metadata": {},
   "source": [
    "# Feature Engineering\n",
    "* Преобразую исходные данные\n",
    "* Получаю новые признаки. \n",
    "* Удаляю ненужные.\n",
    "* Обогощаю данные.\n",
    "\n",
    "* Объемы и сделки:\n",
    "Можно считать средний объем сделки. \n",
    "- AvrTrade = Volume / Trades\n",
    "- Объем в долларах, т.е. нормированный объем VolUSD = Volume * Close\n",
    "- Объем на единицу диапазона."
   ]
  },
  {
   "attachments": {},
   "cell_type": "markdown",
   "metadata": {},
   "source": [
    "### Базовая модель - оставляю в качестве признака только Log_Return и целевой признак"
   ]
  },
  {
   "cell_type": "code",
   "execution_count": 68,
   "metadata": {},
   "outputs": [],
   "source": [
    "df_new = df[['Log_Return', TARGET]].copy()"
   ]
  },
  {
   "attachments": {},
   "cell_type": "markdown",
   "metadata": {},
   "source": [
    "# Transform TimeSeries to Dataset for Supervised Learning\n",
    "Тут определяется глубина последовательности данных, которая будет использоваться для построения прогноза T. Временное окно в прошлое.\n",
    "\n",
    "Т это так же гиперпараметр, его так же нужно будет искать по сетке."
   ]
  },
  {
   "cell_type": "code",
   "execution_count": 69,
   "metadata": {},
   "outputs": [],
   "source": [
    "T = 12 # len of sequence. Num of time steps to look at to make prediction on next step"
   ]
  },
  {
   "attachments": {},
   "cell_type": "markdown",
   "metadata": {},
   "source": [
    "Create $X$, $y$"
   ]
  },
  {
   "cell_type": "code",
   "execution_count": 70,
   "metadata": {},
   "outputs": [],
   "source": [
    "X, y = hd.create_X_y_from_timeseries(df_new, TARGET, T)"
   ]
  },
  {
   "cell_type": "code",
   "execution_count": 71,
   "metadata": {},
   "outputs": [
    {
     "name": "stdout",
     "output_type": "stream",
     "text": [
      "X.shape: (46404, 12) y.shape: (46404,)\n"
     ]
    }
   ],
   "source": [
    "print('X.shape:', X.shape, 'y.shape:', y.shape)"
   ]
  },
  {
   "attachments": {},
   "cell_type": "markdown",
   "metadata": {},
   "source": [
    "# Split Data\n",
    "Разбиение с стратифиацией"
   ]
  },
  {
   "cell_type": "code",
   "execution_count": 72,
   "metadata": {},
   "outputs": [],
   "source": [
    "X_train, X_test, y_train, y_test = train_test_split(X, y, stratify=y, random_state=42, test_size=0.2)"
   ]
  },
  {
   "attachments": {},
   "cell_type": "markdown",
   "metadata": {},
   "source": [
    "# Outliers\n",
    "Обработка выбросов. Пробовать прорядить выборку удалением записей по методу:\n",
    "- 3х сигм\n",
    "- методу Тьюки\n",
    "- Isolation Forest\n",
    "- Local Outlier Factor\n",
    "- Minimun Covariance Determinant\n",
    "\n",
    "Но обработку надо делать уже после разделения выборки на train/test"
   ]
  },
  {
   "cell_type": "code",
   "execution_count": 73,
   "metadata": {},
   "outputs": [
    {
     "data": {
      "image/png": "[encoded data removed]",
      "text/plain": [
       "<Figure size 1296x576 with 2 Axes>"
      ]
     },
     "metadata": {
      "image/png": {
       "height": 570,
       "width": 1290
      }
     },
     "output_type": "display_data"
    }
   ],
   "source": [
    "hd.plot_outliers_z_score(df_new, 'Log_Return', log_scale=False) # log_scale=False т.к. цены были изначально прогалорифмированы и затем еще и разница посчитана"
   ]
  },
  {
   "attachments": {},
   "cell_type": "markdown",
   "metadata": {},
   "source": [
    "Распределение выглядит максимально равномерно. \n",
    "Позже, на последующих итерациях можно думать о том, что бы обрезать хвосты и посмотреть как это отразится на результатах модели."
   ]
  },
  {
   "attachments": {},
   "cell_type": "markdown",
   "metadata": {},
   "source": [
    "# Scaling Data\n",
    "Нужно скалировать признаки, приводить их к одному масштабу. Путем перебора выбирать лучший скалер."
   ]
  },
  {
   "cell_type": "code",
   "execution_count": 74,
   "metadata": {},
   "outputs": [],
   "source": [
    "# scaler = StandardScaler()\n",
    "\n",
    "# X_train = scaler.fit_transform(X_train)\n",
    "# X_test = scaler.transform(X_test)"
   ]
  },
  {
   "attachments": {},
   "cell_type": "markdown",
   "metadata": {},
   "source": [
    "# Create Model"
   ]
  },
  {
   "cell_type": "code",
   "execution_count": 75,
   "metadata": {},
   "outputs": [],
   "source": [
    "lr = LogisticRegression(class_weight='balanced')\n",
    "lr.fit(X_train, y_train)\n",
    "\n",
    "y_train_pred = lr.predict(X_train)\n",
    "y_test_pred = lr.predict(X_test)"
   ]
  },
  {
   "cell_type": "code",
   "execution_count": 76,
   "metadata": {},
   "outputs": [
    {
     "name": "stdout",
     "output_type": "stream",
     "text": [
      "*** TRAIN ***\n",
      "Accuracy: 0.532\n",
      "Precision: 0.103\n",
      "Recall: 0.535\n",
      "F1: 0.173\n",
      "\n",
      "*** TEST ***\n",
      "Accuracy: 0.525\n",
      "Precision: 0.102\n",
      "Recall: 0.539\n",
      "F1: 0.172\n"
     ]
    }
   ],
   "source": [
    "hd.print_classification_metrics(y_train, y_train_pred, y_test, y_test_pred)"
   ]
  },
  {
   "cell_type": "code",
   "execution_count": 77,
   "metadata": {},
   "outputs": [],
   "source": [
    "cm_train = confusion_matrix(y_train, y_train_pred)\n",
    "cm_test = confusion_matrix(y_test, y_test_pred)"
   ]
  },
  {
   "cell_type": "code",
   "execution_count": 78,
   "metadata": {},
   "outputs": [
    {
     "data": {
      "image/png": "[encoded data removed]",
      "text/plain": [
       "<Figure size 432x432 with 1 Axes>"
      ]
     },
     "metadata": {
      "image/png": {
       "height": 384,
       "width": 377
      }
     },
     "output_type": "display_data"
    }
   ],
   "source": [
    "hd.plot_confusion_matrix(cm_train, 'Train')"
   ]
  },
  {
   "cell_type": "code",
   "execution_count": 79,
   "metadata": {},
   "outputs": [
    {
     "data": {
      "image/png": "[encoded data removed]",
      "text/plain": [
       "<Figure size 432x432 with 1 Axes>"
      ]
     },
     "metadata": {
      "image/png": {
       "height": 384,
       "width": 377
      }
     },
     "output_type": "display_data"
    }
   ],
   "source": [
    "hd.plot_confusion_matrix(cm_test, 'Test')"
   ]
  },
  {
   "cell_type": "code",
   "execution_count": 80,
   "metadata": {},
   "outputs": [
    {
     "data": {
      "text/plain": [
       "0.0    8431\n",
       "1.0     850\n",
       "Name: count, dtype: int64"
      ]
     },
     "execution_count": 80,
     "metadata": {},
     "output_type": "execute_result"
    }
   ],
   "source": [
    "pd.Series(y_test).value_counts()"
   ]
  },
  {
   "cell_type": "code",
   "execution_count": 81,
   "metadata": {},
   "outputs": [
    {
     "data": {
      "text/plain": [
       "0.0    4805\n",
       "1.0    4476\n",
       "Name: count, dtype: int64"
      ]
     },
     "execution_count": 81,
     "metadata": {},
     "output_type": "execute_result"
    }
   ],
   "source": [
    "pd.Series(y_test_pred).value_counts()"
   ]
  },
  {
   "attachments": {},
   "cell_type": "markdown",
   "metadata": {},
   "source": [
    "Видно, что я очень много предсказываю класс 1, надо сильно меньше. Нужно на Precision фокусироваться."
   ]
  },
  {
   "attachments": {},
   "cell_type": "markdown",
   "metadata": {},
   "source": [
    "Вот такая базовая модель.\n",
    "\n",
    "Precision 0.101. Т.е. точность всего 10%.\n",
    "\n",
    "*** TRAIN ***\n",
    "Accuracy: 0.531\n",
    "Precision: 0.104\n",
    "Recall: 0.540\n",
    "F1: 0.174\n",
    "\n",
    "*** TEST ***\n",
    "Accuracy: 0.528\n",
    "Precision: 0.101\n",
    "Recall: 0.524\n",
    "F1: 0.169"
   ]
  },
  {
   "attachments": {},
   "cell_type": "markdown",
   "metadata": {},
   "source": [
    "# Случайный лес\n",
    "подбор параметров вручную"
   ]
  },
  {
   "cell_type": "code",
   "execution_count": 82,
   "metadata": {},
   "outputs": [
    {
     "name": "stdout",
     "output_type": "stream",
     "text": [
      "*** TRAIN ***\n",
      "Accuracy: 0.614\n",
      "Precision: 0.143\n",
      "Recall: 0.645\n",
      "F1: 0.234\n",
      "\n",
      "*** TEST ***\n",
      "Accuracy: 0.590\n",
      "Precision: 0.124\n",
      "Recall: 0.573\n",
      "F1: 0.204\n"
     ]
    }
   ],
   "source": [
    "rf = RandomForestClassifier(n_estimators=500, max_depth=5, min_samples_leaf=5, class_weight='balanced')\n",
    "rf.fit(X_train, y_train)\n",
    "\n",
    "y_train_pred = rf.predict(X_train)\n",
    "y_test_pred = rf.predict(X_test)\n",
    "hd.print_classification_metrics(y_train, y_train_pred, y_test, y_test_pred)"
   ]
  },
  {
   "attachments": {},
   "cell_type": "markdown",
   "metadata": {},
   "source": [
    "Моя задача это что бы Precision был больше нулевой точки матожидания.\n",
    "Как свою метрику можно использовать разницу Precision-zero_mo. Чем она ближе к нулю, тем лучше. В идеале она должна быть положительной.\n",
    "\n",
    "Так же мне нужно переводить метки в реальный подсчет результатов сделок, то что я начинал делать в ноутбуке Calulate_Result.\n",
    "Ведь даже если по метрикам я промазал и был FP прогноз, это еще не значит что сделка была бы убыточной.\n",
    "\n",
    "Нужно брать предсказанные метки, как-то соединять их с датафреймом и считать результаты сделок "
   ]
  },
  {
   "attachments": {},
   "cell_type": "markdown",
   "metadata": {},
   "source": [
    "### Что я могу делать дальше:\n",
    "- Добавление признаков, сейча используется лишь Log_Return. Добавляю ценовые признаки, для начала размеры теней, которые исопльзовались для генерации целевого признака\n",
    "- Признак диапазона бара, размера тела в % к диапазону.\n",
    "- Добавление признаков сгенерированных из даты.\n",
    "- Добавление признаков сгенерированных из торгового объема.\n",
    "- генерация целевого признака по сетке параметров risk_level = 0.0025, profit_factor = 4. Изучение значений Precision, zero_mo и их разницы\n",
    "- обход основных моделей ML для классификации\n",
    "- Из вектора предсказанных меток получение результатов торговли, надо как-то метки совмещать опять с исходным датафреймом. где бы можно было бы считать результаты торговли"
   ]
  },
  {
   "cell_type": "code",
   "execution_count": null,
   "metadata": {},
   "outputs": [],
   "source": []
  }
 ],
 "metadata": {
  "kernelspec": {
   "display_name": "Python 3",
   "language": "python",
   "name": "python3"
  },
  "language_info": {
   "codemirror_mode": {
    "name": "ipython",
    "version": 3
   },
   "file_extension": ".py",
   "mimetype": "text/x-python",
   "name": "python",
   "nbconvert_exporter": "python",
   "pygments_lexer": "ipython3",
   "version": "3.9.10"
  },
  "orig_nbformat": 4
 },
 "nbformat": 4,
 "nbformat_minor": 2
}
