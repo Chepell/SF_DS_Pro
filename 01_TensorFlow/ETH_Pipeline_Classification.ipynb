{
 "cells": [
  {
   "attachments": {},
   "cell_type": "markdown",
   "metadata": {},
   "source": [
    "# Task\n",
    "Решуаю задачу бинарной классификации временных рядов.\n",
    "Предсказываю бар определенного типа."
   ]
  },
  {
   "cell_type": "code",
   "execution_count": null,
   "metadata": {},
   "outputs": [],
   "source": []
  },
  {
   "attachments": {},
   "cell_type": "markdown",
   "metadata": {},
   "source": [
    "# Load Data\n",
    "Загружаю исторические данные и паркет файлов.\n",
    "\n",
    "По умолчанию я исопльзую часовик. Но тут в список или лучше в словарь могу загрузить сразу много файлов разных таймфреймов\n",
    "- 2min\n",
    "- 5min\n",
    "- 30min\n",
    "- 1H\n",
    "- 2H\n",
    "- 3H\n",
    "- 4H\n",
    "\n",
    "И в цикле в итоге искать где лучше всего алгоритм работает"
   ]
  },
  {
   "attachments": {},
   "cell_type": "markdown",
   "metadata": {},
   "source": [
    "# Base Visualization"
   ]
  },
  {
   "cell_type": "code",
   "execution_count": null,
   "metadata": {},
   "outputs": [],
   "source": []
  },
  {
   "attachments": {},
   "cell_type": "markdown",
   "metadata": {},
   "source": [
    "# EDA\n",
    "Исследование данных\n",
    "\n",
    "Проведение тестов на стационарность\n",
    "\n",
    "Задача прлучить стационарыне временные ряды, отчистить их от трендов. Что бы тренировочные и тестовые части находились в одном пространстве признаков"
   ]
  },
  {
   "cell_type": "code",
   "execution_count": null,
   "metadata": {},
   "outputs": [],
   "source": []
  },
  {
   "attachments": {},
   "cell_type": "markdown",
   "metadata": {},
   "source": [
    "Объемы и сделки.\n",
    "\n",
    "Можно считать средний объем сделки. AvrTrade = Volume / Trades\n",
    "Объем в долларах, т.е. нормированный объем VolUSD = Volume * Close\n",
    "Объем на единицу диапазона. \n"
   ]
  },
  {
   "attachments": {},
   "cell_type": "markdown",
   "metadata": {},
   "source": [
    "# Create Target Category Feature \n",
    "Создаю целевой признак\n",
    "\n",
    "Это фактически очередные гиперпараметры.\n",
    "\n",
    "Я могу задавать уровень риска в лог величинах - risk_level\n",
    "\n",
    "и коэффициент доходность/риск в виде множителя - risk_factor\n",
    "\n",
    "Т.е. текущий случай это:\n",
    "* risk_level = 0.0025\n",
    "* risk_factor = 4\n"
   ]
  },
  {
   "cell_type": "code",
   "execution_count": null,
   "metadata": {},
   "outputs": [],
   "source": [
    "risk_level = 0.0025\n",
    "profit_factor = 4\n",
    "profit_level = risk_level * profit_factor"
   ]
  },
  {
   "cell_type": "code",
   "execution_count": null,
   "metadata": {},
   "outputs": [],
   "source": []
  },
  {
   "attachments": {},
   "cell_type": "markdown",
   "metadata": {},
   "source": [
    "# Feature Engineering\n",
    "Преобразую исходные данные\n",
    "\n",
    "Получаю новые признаки. \n",
    "Удаляю ненужные.\n",
    "Обогощаю данные."
   ]
  },
  {
   "cell_type": "code",
   "execution_count": null,
   "metadata": {},
   "outputs": [],
   "source": []
  },
  {
   "attachments": {},
   "cell_type": "markdown",
   "metadata": {},
   "source": [
    "# Validation Preperation\n",
    "Первое разделение данных на общую (тренировочную/валидационную) и тестовую.\n",
    "Тут разделение нужно произовить без перемешивания и стратификации.\n",
    "\n",
    "Это будет похоже на релаьную симуляцию работы. Когда общая левая часть это все доступные текущие данные. А левая это то что будет появляться в режиме реального времени. И на чем будет производиться тестирование модели, а фактически реальное использование модели для торговли.\n",
    "\n",
    "\n",
    "Но может я не прав и деление тут тоже надо производить случайным образом и со стратификацией. Теперь кажется что так тестирование будет более полным и равномерным."
   ]
  },
  {
   "cell_type": "code",
   "execution_count": null,
   "metadata": {},
   "outputs": [],
   "source": []
  },
  {
   "attachments": {},
   "cell_type": "markdown",
   "metadata": {},
   "source": [
    "# Split Data\n",
    "Теперь левую общую часть надо разделить на тествоую и валидационную случайным образом и с учетом несбалансированности классов, применяя стратификацию."
   ]
  },
  {
   "cell_type": "code",
   "execution_count": null,
   "metadata": {},
   "outputs": [],
   "source": []
  },
  {
   "attachments": {},
   "cell_type": "markdown",
   "metadata": {},
   "source": [
    "# Transform TimeSeries to Dataset for Supervised Learning\n",
    "Хотя у меня уже были разделены данный, но по факту у меня есть только готовые таргеты. В виде векторов y_test, y_valid, y_test.\n",
    "Матрицы же наблюдений некорректны они не содержат глубины. X_test, X_valid, X_test.\n",
    "\n",
    "Тут определяется глубина последовательности данных которая будет использоваться для построения прогноза T.\n",
    "Т это так же гиперпараметр, его так же нужно будет искать по сетке.\n",
    "\n",
    "Из некорректных матриц наблюдений X_test, X_valid, X_test мне нужны только индексы исходного датафрейма.\n",
    "\n",
    "Итерируясь в цикле по этим индексам "
   ]
  },
  {
   "attachments": {},
   "cell_type": "markdown",
   "metadata": {},
   "source": [
    "### Различия между ML и DeepLearning\n",
    "Как я понимаю сейчас алгоритмы ML принимают на вход только вектор признаков для конкретного объекта датасета.\n",
    "Т.е. Close текущего бара, или Log_Return на текущем баре. Но каждый признак состоит из T этих признаков в прошлое.\n",
    "\n",
    "И получаетмя что это двумерный массив.\n",
    "\n",
    "Но для подачи данных в ML модели мне эту матрицу нужно развернуть наверное с помощью flatten в вектор.\n",
    "А вот в модели ANN я могу подавать матрицу размерностью T * D.\n",
    "\n",
    "Т.е. в функции трасформации и создания датасета из временного ряда должен быть аргумент для чего мы делаем данные."
   ]
  },
  {
   "attachments": {},
   "cell_type": "markdown",
   "metadata": {},
   "source": [
    "# Data Normalization\n",
    "Теперь наверное можно нормальзовать данные.\n",
    "Скалер обучаю только на X_train, а трансформирую все три матрицы X_test, X_valid, X_test"
   ]
  },
  {
   "attachments": {},
   "cell_type": "markdown",
   "metadata": {},
   "source": []
  }
 ],
 "metadata": {
  "kernelspec": {
   "display_name": "Python 3",
   "language": "python",
   "name": "python3"
  },
  "language_info": {
   "codemirror_mode": {
    "name": "ipython",
    "version": 3
   },
   "file_extension": ".py",
   "mimetype": "text/x-python",
   "name": "python",
   "nbconvert_exporter": "python",
   "pygments_lexer": "ipython3",
   "version": "3.9.10"
  },
  "orig_nbformat": 4
 },
 "nbformat": 4,
 "nbformat_minor": 2
}
