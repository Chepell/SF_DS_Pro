{
  "cells": [
    {
      "attachments": {},
      "cell_type": "markdown",
      "metadata": {
        "id": "YgHvwICp3sgK"
      },
      "source": [
        "# Описание\n",
        "Пробую бинарную классификацию по признаку прироста за период в %"
      ]
    },
    {
      "attachments": {},
      "cell_type": "markdown",
      "metadata": {
        "id": "bAzEqxmwsmKG"
      },
      "source": [
        "# Import modules"
      ]
    },
    {
      "cell_type": "code",
      "execution_count": 1,
      "metadata": {
        "id": "92-lgWO7RFyh"
      },
      "outputs": [],
      "source": [
        "# for use R2Score metrics\n",
        "# !pip install tf-nightly"
      ]
    },
    {
      "cell_type": "code",
      "execution_count": 2,
      "metadata": {
        "id": "tpzdZRU2srhk"
      },
      "outputs": [],
      "source": [
        "import numpy as np\n",
        "import pandas as pd\n",
        "import matplotlib.pyplot as plt\n",
        "\n",
        "from sklearn import preprocessing # предобработка\n",
        "from sklearn.model_selection import train_test_split # сплитование выборки\n",
        "\n",
        "import tensorflow as tf\n",
        "from tensorflow.keras.layers import Input, LSTM, GRU, SimpleRNN, Dense, GlobalMaxPool1D\n",
        "from tensorflow.keras.models import Model\n",
        "from tensorflow.keras.optimizers import SGD, Adam"
      ]
    },
    {
      "attachments": {},
      "cell_type": "markdown",
      "metadata": {
        "id": "XY7DISOFtm-P"
      },
      "source": [
        "# Load Data"
      ]
    },
    {
      "cell_type": "code",
      "execution_count": 3,
      "metadata": {
        "id": "tBtHGb25sy4B"
      },
      "outputs": [],
      "source": [
        "data = pd.read_parquet('..\\ETH-Full-1H.parquet')"
      ]
    },
    {
      "cell_type": "code",
      "execution_count": 4,
      "metadata": {
        "colab": {
          "base_uri": "https://localhost:8080/"
        },
        "id": "RELdhQGPuOtQ",
        "outputId": "e6e73512-83e8-4b69-bf1c-a6d357bc33a6"
      },
      "outputs": [
        {
          "name": "stdout",
          "output_type": "stream",
          "text": [
            "<class 'pandas.core.frame.DataFrame'>\n",
            "DatetimeIndex: 49337 entries, 2017-09-01 00:00:00 to 2023-04-23 23:00:00\n",
            "Data columns (total 6 columns):\n",
            " #   Column  Non-Null Count  Dtype  \n",
            "---  ------  --------------  -----  \n",
            " 0   Open    49337 non-null  float64\n",
            " 1   High    49337 non-null  float64\n",
            " 2   Low     49337 non-null  float64\n",
            " 3   Close   49337 non-null  float64\n",
            " 4   Volume  49337 non-null  float64\n",
            " 5   Trades  49337 non-null  int32  \n",
            "dtypes: float64(5), int32(1)\n",
            "memory usage: 2.4 MB\n"
          ]
        }
      ],
      "source": [
        "data.info()"
      ]
    },
    {
      "cell_type": "code",
      "execution_count": 5,
      "metadata": {
        "colab": {
          "base_uri": "https://localhost:8080/",
          "height": 455
        },
        "id": "I3txMVGeuRhQ",
        "outputId": "5ab8a31e-3e34-40d1-d8dd-d2f25b75323f"
      },
      "outputs": [
        {
          "data": {
            "text/html": [
              "<div>\n",
              "<style scoped>\n",
              "    .dataframe tbody tr th:only-of-type {\n",
              "        vertical-align: middle;\n",
              "    }\n",
              "\n",
              "    .dataframe tbody tr th {\n",
              "        vertical-align: top;\n",
              "    }\n",
              "\n",
              "    .dataframe thead th {\n",
              "        text-align: right;\n",
              "    }\n",
              "</style>\n",
              "<table border=\"1\" class=\"dataframe\">\n",
              "  <thead>\n",
              "    <tr style=\"text-align: right;\">\n",
              "      <th></th>\n",
              "      <th>Open</th>\n",
              "      <th>High</th>\n",
              "      <th>Low</th>\n",
              "      <th>Close</th>\n",
              "      <th>Volume</th>\n",
              "      <th>Trades</th>\n",
              "    </tr>\n",
              "    <tr>\n",
              "      <th>Datetime</th>\n",
              "      <th></th>\n",
              "      <th></th>\n",
              "      <th></th>\n",
              "      <th></th>\n",
              "      <th></th>\n",
              "      <th></th>\n",
              "    </tr>\n",
              "  </thead>\n",
              "  <tbody>\n",
              "    <tr>\n",
              "      <th>2017-09-01 00:00:00</th>\n",
              "      <td>384.79</td>\n",
              "      <td>388.74</td>\n",
              "      <td>384.79</td>\n",
              "      <td>388.74</td>\n",
              "      <td>162.97779</td>\n",
              "      <td>131</td>\n",
              "    </tr>\n",
              "    <tr>\n",
              "      <th>2017-09-01 01:00:00</th>\n",
              "      <td>388.69</td>\n",
              "      <td>394.06</td>\n",
              "      <td>387.53</td>\n",
              "      <td>391.37</td>\n",
              "      <td>248.72949</td>\n",
              "      <td>262</td>\n",
              "    </tr>\n",
              "    <tr>\n",
              "      <th>2017-09-01 02:00:00</th>\n",
              "      <td>392.88</td>\n",
              "      <td>394.39</td>\n",
              "      <td>389.46</td>\n",
              "      <td>390.88</td>\n",
              "      <td>198.82856</td>\n",
              "      <td>225</td>\n",
              "    </tr>\n",
              "    <tr>\n",
              "      <th>2017-09-01 03:00:00</th>\n",
              "      <td>391.70</td>\n",
              "      <td>393.13</td>\n",
              "      <td>390.86</td>\n",
              "      <td>390.86</td>\n",
              "      <td>141.56114</td>\n",
              "      <td>138</td>\n",
              "    </tr>\n",
              "    <tr>\n",
              "      <th>2017-09-01 04:00:00</th>\n",
              "      <td>392.65</td>\n",
              "      <td>394.27</td>\n",
              "      <td>387.64</td>\n",
              "      <td>390.33</td>\n",
              "      <td>135.65894</td>\n",
              "      <td>128</td>\n",
              "    </tr>\n",
              "    <tr>\n",
              "      <th>...</th>\n",
              "      <td>...</td>\n",
              "      <td>...</td>\n",
              "      <td>...</td>\n",
              "      <td>...</td>\n",
              "      <td>...</td>\n",
              "      <td>...</td>\n",
              "    </tr>\n",
              "    <tr>\n",
              "      <th>2023-04-23 19:00:00</th>\n",
              "      <td>1846.76</td>\n",
              "      <td>1852.35</td>\n",
              "      <td>1844.92</td>\n",
              "      <td>1846.49</td>\n",
              "      <td>16550.18290</td>\n",
              "      <td>21648</td>\n",
              "    </tr>\n",
              "    <tr>\n",
              "      <th>2023-04-23 20:00:00</th>\n",
              "      <td>1846.49</td>\n",
              "      <td>1852.30</td>\n",
              "      <td>1838.03</td>\n",
              "      <td>1848.89</td>\n",
              "      <td>13113.47550</td>\n",
              "      <td>19445</td>\n",
              "    </tr>\n",
              "    <tr>\n",
              "      <th>2023-04-23 21:00:00</th>\n",
              "      <td>1848.88</td>\n",
              "      <td>1859.32</td>\n",
              "      <td>1847.59</td>\n",
              "      <td>1854.66</td>\n",
              "      <td>7855.61330</td>\n",
              "      <td>13824</td>\n",
              "    </tr>\n",
              "    <tr>\n",
              "      <th>2023-04-23 22:00:00</th>\n",
              "      <td>1854.67</td>\n",
              "      <td>1868.16</td>\n",
              "      <td>1848.00</td>\n",
              "      <td>1861.72</td>\n",
              "      <td>15836.48430</td>\n",
              "      <td>21852</td>\n",
              "    </tr>\n",
              "    <tr>\n",
              "      <th>2023-04-23 23:00:00</th>\n",
              "      <td>1861.72</td>\n",
              "      <td>1865.60</td>\n",
              "      <td>1859.17</td>\n",
              "      <td>1862.00</td>\n",
              "      <td>8767.12790</td>\n",
              "      <td>12371</td>\n",
              "    </tr>\n",
              "  </tbody>\n",
              "</table>\n",
              "<p>49337 rows × 6 columns</p>\n",
              "</div>"
            ],
            "text/plain": [
              "                        Open     High      Low    Close       Volume  Trades\n",
              "Datetime                                                                    \n",
              "2017-09-01 00:00:00   384.79   388.74   384.79   388.74    162.97779     131\n",
              "2017-09-01 01:00:00   388.69   394.06   387.53   391.37    248.72949     262\n",
              "2017-09-01 02:00:00   392.88   394.39   389.46   390.88    198.82856     225\n",
              "2017-09-01 03:00:00   391.70   393.13   390.86   390.86    141.56114     138\n",
              "2017-09-01 04:00:00   392.65   394.27   387.64   390.33    135.65894     128\n",
              "...                      ...      ...      ...      ...          ...     ...\n",
              "2023-04-23 19:00:00  1846.76  1852.35  1844.92  1846.49  16550.18290   21648\n",
              "2023-04-23 20:00:00  1846.49  1852.30  1838.03  1848.89  13113.47550   19445\n",
              "2023-04-23 21:00:00  1848.88  1859.32  1847.59  1854.66   7855.61330   13824\n",
              "2023-04-23 22:00:00  1854.67  1868.16  1848.00  1861.72  15836.48430   21852\n",
              "2023-04-23 23:00:00  1861.72  1865.60  1859.17  1862.00   8767.12790   12371\n",
              "\n",
              "[49337 rows x 6 columns]"
            ]
          },
          "execution_count": 5,
          "metadata": {},
          "output_type": "execute_result"
        }
      ],
      "source": [
        "data"
      ]
    },
    {
      "attachments": {},
      "cell_type": "markdown",
      "metadata": {
        "id": "kt74pTy8A98C"
      },
      "source": [
        "# Feature Enginiring"
      ]
    },
    {
      "cell_type": "code",
      "execution_count": 6,
      "metadata": {
        "id": "lRwP7q_5BGeN"
      },
      "outputs": [],
      "source": [
        "close_1 = data['Close'].shift(1)\n",
        "data['Return'] = (data['Close'] / close_1 - 1) * 100"
      ]
    },
    {
      "cell_type": "code",
      "execution_count": 7,
      "metadata": {
        "colab": {
          "base_uri": "https://localhost:8080/",
          "height": 455
        },
        "id": "4ITJrYgqBrDf",
        "outputId": "0ae98052-4d20-491e-f8db-0da1284fb13f"
      },
      "outputs": [
        {
          "data": {
            "text/html": [
              "<div>\n",
              "<style scoped>\n",
              "    .dataframe tbody tr th:only-of-type {\n",
              "        vertical-align: middle;\n",
              "    }\n",
              "\n",
              "    .dataframe tbody tr th {\n",
              "        vertical-align: top;\n",
              "    }\n",
              "\n",
              "    .dataframe thead th {\n",
              "        text-align: right;\n",
              "    }\n",
              "</style>\n",
              "<table border=\"1\" class=\"dataframe\">\n",
              "  <thead>\n",
              "    <tr style=\"text-align: right;\">\n",
              "      <th></th>\n",
              "      <th>Open</th>\n",
              "      <th>High</th>\n",
              "      <th>Low</th>\n",
              "      <th>Close</th>\n",
              "      <th>Volume</th>\n",
              "      <th>Trades</th>\n",
              "      <th>Return</th>\n",
              "    </tr>\n",
              "    <tr>\n",
              "      <th>Datetime</th>\n",
              "      <th></th>\n",
              "      <th></th>\n",
              "      <th></th>\n",
              "      <th></th>\n",
              "      <th></th>\n",
              "      <th></th>\n",
              "      <th></th>\n",
              "    </tr>\n",
              "  </thead>\n",
              "  <tbody>\n",
              "    <tr>\n",
              "      <th>2017-09-01 00:00:00</th>\n",
              "      <td>384.79</td>\n",
              "      <td>388.74</td>\n",
              "      <td>384.79</td>\n",
              "      <td>388.74</td>\n",
              "      <td>162.97779</td>\n",
              "      <td>131</td>\n",
              "      <td>NaN</td>\n",
              "    </tr>\n",
              "    <tr>\n",
              "      <th>2017-09-01 01:00:00</th>\n",
              "      <td>388.69</td>\n",
              "      <td>394.06</td>\n",
              "      <td>387.53</td>\n",
              "      <td>391.37</td>\n",
              "      <td>248.72949</td>\n",
              "      <td>262</td>\n",
              "      <td>0.676545</td>\n",
              "    </tr>\n",
              "    <tr>\n",
              "      <th>2017-09-01 02:00:00</th>\n",
              "      <td>392.88</td>\n",
              "      <td>394.39</td>\n",
              "      <td>389.46</td>\n",
              "      <td>390.88</td>\n",
              "      <td>198.82856</td>\n",
              "      <td>225</td>\n",
              "      <td>-0.125201</td>\n",
              "    </tr>\n",
              "    <tr>\n",
              "      <th>2017-09-01 03:00:00</th>\n",
              "      <td>391.70</td>\n",
              "      <td>393.13</td>\n",
              "      <td>390.86</td>\n",
              "      <td>390.86</td>\n",
              "      <td>141.56114</td>\n",
              "      <td>138</td>\n",
              "      <td>-0.005117</td>\n",
              "    </tr>\n",
              "    <tr>\n",
              "      <th>2017-09-01 04:00:00</th>\n",
              "      <td>392.65</td>\n",
              "      <td>394.27</td>\n",
              "      <td>387.64</td>\n",
              "      <td>390.33</td>\n",
              "      <td>135.65894</td>\n",
              "      <td>128</td>\n",
              "      <td>-0.135598</td>\n",
              "    </tr>\n",
              "    <tr>\n",
              "      <th>...</th>\n",
              "      <td>...</td>\n",
              "      <td>...</td>\n",
              "      <td>...</td>\n",
              "      <td>...</td>\n",
              "      <td>...</td>\n",
              "      <td>...</td>\n",
              "      <td>...</td>\n",
              "    </tr>\n",
              "    <tr>\n",
              "      <th>2023-04-23 19:00:00</th>\n",
              "      <td>1846.76</td>\n",
              "      <td>1852.35</td>\n",
              "      <td>1844.92</td>\n",
              "      <td>1846.49</td>\n",
              "      <td>16550.18290</td>\n",
              "      <td>21648</td>\n",
              "      <td>-0.015162</td>\n",
              "    </tr>\n",
              "    <tr>\n",
              "      <th>2023-04-23 20:00:00</th>\n",
              "      <td>1846.49</td>\n",
              "      <td>1852.30</td>\n",
              "      <td>1838.03</td>\n",
              "      <td>1848.89</td>\n",
              "      <td>13113.47550</td>\n",
              "      <td>19445</td>\n",
              "      <td>0.129976</td>\n",
              "    </tr>\n",
              "    <tr>\n",
              "      <th>2023-04-23 21:00:00</th>\n",
              "      <td>1848.88</td>\n",
              "      <td>1859.32</td>\n",
              "      <td>1847.59</td>\n",
              "      <td>1854.66</td>\n",
              "      <td>7855.61330</td>\n",
              "      <td>13824</td>\n",
              "      <td>0.312079</td>\n",
              "    </tr>\n",
              "    <tr>\n",
              "      <th>2023-04-23 22:00:00</th>\n",
              "      <td>1854.67</td>\n",
              "      <td>1868.16</td>\n",
              "      <td>1848.00</td>\n",
              "      <td>1861.72</td>\n",
              "      <td>15836.48430</td>\n",
              "      <td>21852</td>\n",
              "      <td>0.380663</td>\n",
              "    </tr>\n",
              "    <tr>\n",
              "      <th>2023-04-23 23:00:00</th>\n",
              "      <td>1861.72</td>\n",
              "      <td>1865.60</td>\n",
              "      <td>1859.17</td>\n",
              "      <td>1862.00</td>\n",
              "      <td>8767.12790</td>\n",
              "      <td>12371</td>\n",
              "      <td>0.015040</td>\n",
              "    </tr>\n",
              "  </tbody>\n",
              "</table>\n",
              "<p>49337 rows × 7 columns</p>\n",
              "</div>"
            ],
            "text/plain": [
              "                        Open     High      Low    Close       Volume  Trades   \n",
              "Datetime                                                                       \n",
              "2017-09-01 00:00:00   384.79   388.74   384.79   388.74    162.97779     131  \\\n",
              "2017-09-01 01:00:00   388.69   394.06   387.53   391.37    248.72949     262   \n",
              "2017-09-01 02:00:00   392.88   394.39   389.46   390.88    198.82856     225   \n",
              "2017-09-01 03:00:00   391.70   393.13   390.86   390.86    141.56114     138   \n",
              "2017-09-01 04:00:00   392.65   394.27   387.64   390.33    135.65894     128   \n",
              "...                      ...      ...      ...      ...          ...     ...   \n",
              "2023-04-23 19:00:00  1846.76  1852.35  1844.92  1846.49  16550.18290   21648   \n",
              "2023-04-23 20:00:00  1846.49  1852.30  1838.03  1848.89  13113.47550   19445   \n",
              "2023-04-23 21:00:00  1848.88  1859.32  1847.59  1854.66   7855.61330   13824   \n",
              "2023-04-23 22:00:00  1854.67  1868.16  1848.00  1861.72  15836.48430   21852   \n",
              "2023-04-23 23:00:00  1861.72  1865.60  1859.17  1862.00   8767.12790   12371   \n",
              "\n",
              "                       Return  \n",
              "Datetime                       \n",
              "2017-09-01 00:00:00       NaN  \n",
              "2017-09-01 01:00:00  0.676545  \n",
              "2017-09-01 02:00:00 -0.125201  \n",
              "2017-09-01 03:00:00 -0.005117  \n",
              "2017-09-01 04:00:00 -0.135598  \n",
              "...                       ...  \n",
              "2023-04-23 19:00:00 -0.015162  \n",
              "2023-04-23 20:00:00  0.129976  \n",
              "2023-04-23 21:00:00  0.312079  \n",
              "2023-04-23 22:00:00  0.380663  \n",
              "2023-04-23 23:00:00  0.015040  \n",
              "\n",
              "[49337 rows x 7 columns]"
            ]
          },
          "execution_count": 7,
          "metadata": {},
          "output_type": "execute_result"
        }
      ],
      "source": [
        "data"
      ]
    },
    {
      "cell_type": "code",
      "execution_count": 8,
      "metadata": {
        "id": "MHQw7oYSC360"
      },
      "outputs": [],
      "source": [
        "data.dropna(inplace=True)"
      ]
    },
    {
      "cell_type": "code",
      "execution_count": 9,
      "metadata": {
        "colab": {
          "base_uri": "https://localhost:8080/",
          "height": 430
        },
        "id": "T1qWnehpCXZi",
        "outputId": "e54bf9f5-3b9b-4595-a493-9ce40f9ef58e"
      },
      "outputs": [
        {
          "data": {
            "image/png": "[encoded data removed]",
            "text/plain": [
              "<Figure size 432x288 with 1 Axes>"
            ]
          },
          "metadata": {
            "needs_background": "light"
          },
          "output_type": "display_data"
        }
      ],
      "source": [
        "data['Return'].hist();"
      ]
    },
    {
      "cell_type": "code",
      "execution_count": 10,
      "metadata": {
        "colab": {
          "base_uri": "https://localhost:8080/"
        },
        "id": "8ZJ0-klGSoKA",
        "outputId": "795fe1e4-6ecc-4895-875f-1700db8bcb4b"
      },
      "outputs": [
        {
          "data": {
            "text/plain": [
              "count    49336.000000\n",
              "mean         0.009111\n",
              "std          1.088287\n",
              "min        -20.872775\n",
              "25%         -0.385067\n",
              "50%          0.007945\n",
              "75%          0.415860\n",
              "max         18.079244\n",
              "Name: Return, dtype: float64"
            ]
          },
          "execution_count": 10,
          "metadata": {},
          "output_type": "execute_result"
        }
      ],
      "source": [
        "data['Return'].describe()"
      ]
    },
    {
      "attachments": {},
      "cell_type": "markdown",
      "metadata": {
        "id": "aHboNbbXqcjQ"
      },
      "source": [
        "## Create Return as Category Target"
      ]
    },
    {
      "cell_type": "code",
      "execution_count": 11,
      "metadata": {
        "id": "FeQ0eg0aq1UF"
      },
      "outputs": [],
      "source": [
        "data['Return_cat'] = np.where(data['Return'] > 0, 1, 0)"
      ]
    },
    {
      "cell_type": "code",
      "execution_count": 12,
      "metadata": {
        "colab": {
          "base_uri": "https://localhost:8080/",
          "height": 430
        },
        "id": "qwk53w37q-gO",
        "outputId": "44545023-d714-4aeb-ec37-8e505f6d03a2"
      },
      "outputs": [
        {
          "data": {
            "image/png": "[encoded data removed]",
            "text/plain": [
              "<Figure size 432x288 with 1 Axes>"
            ]
          },
          "metadata": {
            "needs_background": "light"
          },
          "output_type": "display_data"
        }
      ],
      "source": [
        "data['Return_cat'].hist();"
      ]
    },
    {
      "cell_type": "code",
      "execution_count": 13,
      "metadata": {
        "colab": {
          "base_uri": "https://localhost:8080/"
        },
        "id": "rs_9IvI0rNC8",
        "outputId": "2379f577-ec24-4f34-d211-b714477a13fc"
      },
      "outputs": [
        {
          "data": {
            "text/plain": [
              "Return_cat\n",
              "1    50.46011\n",
              "0    49.53989\n",
              "Name: proportion, dtype: float64"
            ]
          },
          "execution_count": 13,
          "metadata": {},
          "output_type": "execute_result"
        }
      ],
      "source": [
        "data['Return_cat'].value_counts(True) * 100"
      ]
    },
    {
      "attachments": {},
      "cell_type": "markdown",
      "metadata": {
        "id": "K4GBd6xVrbtK"
      },
      "source": [
        "В таком виде классы достаточно сбалансированны, вопрос что будет после разделения"
      ]
    },
    {
      "attachments": {},
      "cell_type": "markdown",
      "metadata": {
        "id": "GJCoA2dyvWyj"
      },
      "source": [
        "# Create dataset\n",
        "## Define features and targets"
      ]
    },
    {
      "cell_type": "code",
      "execution_count": 14,
      "metadata": {
        "id": "1QMiqVEZX08E"
      },
      "outputs": [],
      "source": [
        "features = data[['Open', 'High', 'Low', 'Close', 'Volume', 'Trades']].values\n",
        "targets = data['Return_cat'].values"
      ]
    },
    {
      "attachments": {},
      "cell_type": "markdown",
      "metadata": {
        "id": "3eTC4tzzyrpO"
      },
      "source": [
        "## Build Data\n",
        "Define data dimension"
      ]
    },
    {
      "cell_type": "code",
      "execution_count": 15,
      "metadata": {
        "id": "hqD-IeeaDfE4"
      },
      "outputs": [],
      "source": [
        "T = 10 # len of sequence. Num of time steps to look at to make prediction on next step\n",
        "D = features.shape[1] # Num of columns in input data. Features number.\n",
        "N = features.shape[0] - T # Num of samples in dataset"
      ]
    },
    {
      "cell_type": "code",
      "execution_count": 16,
      "metadata": {
        "id": "fyDEcZ3_yYZg"
      },
      "outputs": [],
      "source": [
        "X = np.zeros((N, T, D))\n",
        "y = np.zeros(N)\n",
        "\n",
        "for t in range(N):\n",
        "  X[t, :, :] = features[t:t+T]\n",
        "  y[t] = targets[t+T]"
      ]
    },
    {
      "cell_type": "code",
      "execution_count": 17,
      "metadata": {
        "colab": {
          "base_uri": "https://localhost:8080/",
          "height": 425
        },
        "id": "_bM4vJg1_X2-",
        "outputId": "a86531a8-309a-46e3-f63e-2280b5327014"
      },
      "outputs": [
        {
          "data": {
            "text/html": [
              "<div>\n",
              "<style scoped>\n",
              "    .dataframe tbody tr th:only-of-type {\n",
              "        vertical-align: middle;\n",
              "    }\n",
              "\n",
              "    .dataframe tbody tr th {\n",
              "        vertical-align: top;\n",
              "    }\n",
              "\n",
              "    .dataframe thead th {\n",
              "        text-align: right;\n",
              "    }\n",
              "</style>\n",
              "<table border=\"1\" class=\"dataframe\">\n",
              "  <thead>\n",
              "    <tr style=\"text-align: right;\">\n",
              "      <th></th>\n",
              "      <th>Open</th>\n",
              "      <th>High</th>\n",
              "      <th>Low</th>\n",
              "      <th>Close</th>\n",
              "      <th>Volume</th>\n",
              "      <th>Trades</th>\n",
              "      <th>Return</th>\n",
              "      <th>Return_cat</th>\n",
              "    </tr>\n",
              "    <tr>\n",
              "      <th>Datetime</th>\n",
              "      <th></th>\n",
              "      <th></th>\n",
              "      <th></th>\n",
              "      <th></th>\n",
              "      <th></th>\n",
              "      <th></th>\n",
              "      <th></th>\n",
              "      <th></th>\n",
              "    </tr>\n",
              "  </thead>\n",
              "  <tbody>\n",
              "    <tr>\n",
              "      <th>2017-09-01 01:00:00</th>\n",
              "      <td>388.69</td>\n",
              "      <td>394.06</td>\n",
              "      <td>387.53</td>\n",
              "      <td>391.37</td>\n",
              "      <td>248.72949</td>\n",
              "      <td>262</td>\n",
              "      <td>0.676545</td>\n",
              "      <td>1</td>\n",
              "    </tr>\n",
              "    <tr>\n",
              "      <th>2017-09-01 02:00:00</th>\n",
              "      <td>392.88</td>\n",
              "      <td>394.39</td>\n",
              "      <td>389.46</td>\n",
              "      <td>390.88</td>\n",
              "      <td>198.82856</td>\n",
              "      <td>225</td>\n",
              "      <td>-0.125201</td>\n",
              "      <td>0</td>\n",
              "    </tr>\n",
              "    <tr>\n",
              "      <th>2017-09-01 03:00:00</th>\n",
              "      <td>391.70</td>\n",
              "      <td>393.13</td>\n",
              "      <td>390.86</td>\n",
              "      <td>390.86</td>\n",
              "      <td>141.56114</td>\n",
              "      <td>138</td>\n",
              "      <td>-0.005117</td>\n",
              "      <td>0</td>\n",
              "    </tr>\n",
              "    <tr>\n",
              "      <th>2017-09-01 04:00:00</th>\n",
              "      <td>392.65</td>\n",
              "      <td>394.27</td>\n",
              "      <td>387.64</td>\n",
              "      <td>390.33</td>\n",
              "      <td>135.65894</td>\n",
              "      <td>128</td>\n",
              "      <td>-0.135598</td>\n",
              "      <td>0</td>\n",
              "    </tr>\n",
              "    <tr>\n",
              "      <th>2017-09-01 05:00:00</th>\n",
              "      <td>388.92</td>\n",
              "      <td>388.99</td>\n",
              "      <td>384.88</td>\n",
              "      <td>384.88</td>\n",
              "      <td>203.48452</td>\n",
              "      <td>194</td>\n",
              "      <td>-1.396254</td>\n",
              "      <td>0</td>\n",
              "    </tr>\n",
              "    <tr>\n",
              "      <th>2017-09-01 06:00:00</th>\n",
              "      <td>386.70</td>\n",
              "      <td>388.62</td>\n",
              "      <td>383.18</td>\n",
              "      <td>384.52</td>\n",
              "      <td>85.07529</td>\n",
              "      <td>63</td>\n",
              "      <td>-0.093536</td>\n",
              "      <td>0</td>\n",
              "    </tr>\n",
              "    <tr>\n",
              "      <th>2017-09-01 07:00:00</th>\n",
              "      <td>386.26</td>\n",
              "      <td>390.56</td>\n",
              "      <td>384.00</td>\n",
              "      <td>388.40</td>\n",
              "      <td>330.22597</td>\n",
              "      <td>226</td>\n",
              "      <td>1.009050</td>\n",
              "      <td>1</td>\n",
              "    </tr>\n",
              "    <tr>\n",
              "      <th>2017-09-01 08:00:00</th>\n",
              "      <td>389.48</td>\n",
              "      <td>393.08</td>\n",
              "      <td>388.16</td>\n",
              "      <td>389.68</td>\n",
              "      <td>270.82415</td>\n",
              "      <td>209</td>\n",
              "      <td>0.329557</td>\n",
              "      <td>1</td>\n",
              "    </tr>\n",
              "    <tr>\n",
              "      <th>2017-09-01 09:00:00</th>\n",
              "      <td>389.97</td>\n",
              "      <td>392.00</td>\n",
              "      <td>387.46</td>\n",
              "      <td>389.14</td>\n",
              "      <td>248.32828</td>\n",
              "      <td>248</td>\n",
              "      <td>-0.138575</td>\n",
              "      <td>0</td>\n",
              "    </tr>\n",
              "    <tr>\n",
              "      <th>2017-09-01 10:00:00</th>\n",
              "      <td>389.02</td>\n",
              "      <td>389.88</td>\n",
              "      <td>387.46</td>\n",
              "      <td>389.88</td>\n",
              "      <td>94.21594</td>\n",
              "      <td>121</td>\n",
              "      <td>0.190163</td>\n",
              "      <td>1</td>\n",
              "    </tr>\n",
              "    <tr>\n",
              "      <th>2017-09-01 11:00:00</th>\n",
              "      <td>389.88</td>\n",
              "      <td>391.90</td>\n",
              "      <td>387.46</td>\n",
              "      <td>389.64</td>\n",
              "      <td>251.82988</td>\n",
              "      <td>215</td>\n",
              "      <td>-0.061557</td>\n",
              "      <td>0</td>\n",
              "    </tr>\n",
              "  </tbody>\n",
              "</table>\n",
              "</div>"
            ],
            "text/plain": [
              "                       Open    High     Low   Close     Volume  Trades   \n",
              "Datetime                                                                 \n",
              "2017-09-01 01:00:00  388.69  394.06  387.53  391.37  248.72949     262  \\\n",
              "2017-09-01 02:00:00  392.88  394.39  389.46  390.88  198.82856     225   \n",
              "2017-09-01 03:00:00  391.70  393.13  390.86  390.86  141.56114     138   \n",
              "2017-09-01 04:00:00  392.65  394.27  387.64  390.33  135.65894     128   \n",
              "2017-09-01 05:00:00  388.92  388.99  384.88  384.88  203.48452     194   \n",
              "2017-09-01 06:00:00  386.70  388.62  383.18  384.52   85.07529      63   \n",
              "2017-09-01 07:00:00  386.26  390.56  384.00  388.40  330.22597     226   \n",
              "2017-09-01 08:00:00  389.48  393.08  388.16  389.68  270.82415     209   \n",
              "2017-09-01 09:00:00  389.97  392.00  387.46  389.14  248.32828     248   \n",
              "2017-09-01 10:00:00  389.02  389.88  387.46  389.88   94.21594     121   \n",
              "2017-09-01 11:00:00  389.88  391.90  387.46  389.64  251.82988     215   \n",
              "\n",
              "                       Return  Return_cat  \n",
              "Datetime                                   \n",
              "2017-09-01 01:00:00  0.676545           1  \n",
              "2017-09-01 02:00:00 -0.125201           0  \n",
              "2017-09-01 03:00:00 -0.005117           0  \n",
              "2017-09-01 04:00:00 -0.135598           0  \n",
              "2017-09-01 05:00:00 -1.396254           0  \n",
              "2017-09-01 06:00:00 -0.093536           0  \n",
              "2017-09-01 07:00:00  1.009050           1  \n",
              "2017-09-01 08:00:00  0.329557           1  \n",
              "2017-09-01 09:00:00 -0.138575           0  \n",
              "2017-09-01 10:00:00  0.190163           1  \n",
              "2017-09-01 11:00:00 -0.061557           0  "
            ]
          },
          "execution_count": 17,
          "metadata": {},
          "output_type": "execute_result"
        }
      ],
      "source": [
        "data.head(11)"
      ]
    },
    {
      "attachments": {},
      "cell_type": "markdown",
      "metadata": {
        "id": "OjqS32tMB1K8"
      },
      "source": [
        "## Split Data"
      ]
    },
    {
      "cell_type": "code",
      "execution_count": 18,
      "metadata": {
        "colab": {
          "base_uri": "https://localhost:8080/"
        },
        "id": "3W7Sti26B5FG",
        "outputId": "30519e6a-f8da-4c1b-d499-411974e09bd8"
      },
      "outputs": [
        {
          "name": "stdout",
          "output_type": "stream",
          "text": [
            "Train shape: (32555, 10, 6)\n",
            "Test shape: (16771, 10, 6)\n"
          ]
        }
      ],
      "source": [
        "train_size = 0.66\n",
        "\n",
        "# Создаем тренировочную и тестовую выборки с помощью train_test_split\n",
        "X_train, X_test, y_train, y_test = train_test_split(\n",
        "    X, y, # таблица с наблюдениями и столбец с правильным ответами\n",
        "    train_size=train_size, # размер тестовой выборки\n",
        "    shuffle=True # пока не перемешиваю выборку попро\n",
        ")\n",
        "\n",
        "# Выводим размеры полученных выборок\n",
        "print('Train shape: {}'.format(X_train.shape))\n",
        "print('Test shape: {}'.format(X_test.shape))"
      ]
    },
    {
      "attachments": {},
      "cell_type": "markdown",
      "metadata": {
        "id": "0t8xvx3zwMIi"
      },
      "source": [
        "## Normalization Data"
      ]
    },
    {
      "cell_type": "code",
      "execution_count": 19,
      "metadata": {
        "id": "BT8unh7-vmbj"
      },
      "outputs": [],
      "source": [
        "# Create the scaler\n",
        "scaler = preprocessing.StandardScaler()\n",
        "# scaler = preprocessing.MinMaxScaler()\n",
        "\n",
        "# Assuming X_train and X_test have shape (samples, len of sequence, num of features)\n",
        "num_samples_train = X_train.shape[0]\n",
        "num_samples_test = X_test.shape[0]\n",
        "\n",
        "# Flatten the width and height dimensions\n",
        "X_train_flattened = X_train.reshape(num_samples_train, -1)\n",
        "X_test_flattened = X_test.reshape(num_samples_test, -1)\n",
        "\n",
        "# Fit it to the training data\n",
        "scaler.fit(X_train_flattened)\n",
        "\n",
        "# Scale the flattened data\n",
        "X_train_scaled = scaler.transform(X_train_flattened)\n",
        "X_test_scaled = scaler.transform(X_test_flattened)\n",
        "\n",
        "# Reshape the scaled data back to the original shape\n",
        "X_train_scaled = X_train_scaled.reshape(X_train.shape)\n",
        "X_test_scaled = X_test_scaled.reshape(X_test.shape)"
      ]
    },
    {
      "attachments": {},
      "cell_type": "markdown",
      "metadata": {
        "id": "iTQLRCnMKVGw"
      },
      "source": [
        "# LSTM model Binary Classification"
      ]
    },
    {
      "attachments": {},
      "cell_type": "markdown",
      "metadata": {
        "id": "Acfi4u_T80CW"
      },
      "source": [
        "Вопрос - а как определять количество юнитов в слоях и глубину нейронки, количество слоев."
      ]
    },
    {
      "cell_type": "code",
      "execution_count": 20,
      "metadata": {
        "id": "96RtDPkM5DMM"
      },
      "outputs": [],
      "source": [
        "i = Input(shape=(T, D))\n",
        "x = LSTM(100)(i)\n",
        "x = Dense(1, activation='sigmoid')(x)  # можно использовать softmax, тогда на указать в выходном слое К=2 вместо 1\n",
        "\n",
        "model = Model(i, x)\n",
        "model.compile(\n",
        "    loss='binary_crossentropy',\n",
        "    optimizer=Adam(learning_rate=0.001),\n",
        "    metrics=['accuracy']\n",
        ")"
      ]
    },
    {
      "attachments": {},
      "cell_type": "markdown",
      "metadata": {
        "id": "X3dsbzSbK6iw"
      },
      "source": [
        "## Train model"
      ]
    },
    {
      "cell_type": "code",
      "execution_count": 21,
      "metadata": {
        "colab": {
          "base_uri": "https://localhost:8080/"
        },
        "id": "ELU0I1TuK5K2",
        "outputId": "72a465eb-c2d9-48d8-b5cc-2aac635c0dd0"
      },
      "outputs": [
        {
          "name": "stdout",
          "output_type": "stream",
          "text": [
            "Epoch 1/50\n",
            "1018/1018 [==============================] - 8s 6ms/step - loss: 0.6950 - accuracy: 0.4924 - val_loss: 0.6932 - val_accuracy: 0.4988\n",
            "Epoch 2/50\n",
            "1018/1018 [==============================] - 6s 5ms/step - loss: 0.6937 - accuracy: 0.4986 - val_loss: 0.6935 - val_accuracy: 0.4972\n",
            "Epoch 3/50\n",
            "1018/1018 [==============================] - 5s 5ms/step - loss: 0.6935 - accuracy: 0.5028 - val_loss: 0.6931 - val_accuracy: 0.5067\n",
            "Epoch 4/50\n",
            "1018/1018 [==============================] - 5s 5ms/step - loss: 0.6936 - accuracy: 0.4953 - val_loss: 0.6932 - val_accuracy: 0.5044\n",
            "Epoch 5/50\n",
            "1018/1018 [==============================] - 6s 6ms/step - loss: 0.6934 - accuracy: 0.5000 - val_loss: 0.6931 - val_accuracy: 0.5058\n",
            "Epoch 6/50\n",
            "1018/1018 [==============================] - 6s 6ms/step - loss: 0.6934 - accuracy: 0.4991 - val_loss: 0.6932 - val_accuracy: 0.4963\n",
            "Epoch 7/50\n",
            "1018/1018 [==============================] - 7s 7ms/step - loss: 0.6932 - accuracy: 0.5028 - val_loss: 0.6934 - val_accuracy: 0.4935\n",
            "Epoch 8/50\n",
            "1018/1018 [==============================] - 6s 6ms/step - loss: 0.6933 - accuracy: 0.5018 - val_loss: 0.6930 - val_accuracy: 0.5066\n",
            "Epoch 9/50\n",
            "1018/1018 [==============================] - 6s 6ms/step - loss: 0.6933 - accuracy: 0.4994 - val_loss: 0.6932 - val_accuracy: 0.4982\n",
            "Epoch 10/50\n",
            "1018/1018 [==============================] - 6s 6ms/step - loss: 0.6932 - accuracy: 0.4976 - val_loss: 0.6931 - val_accuracy: 0.5021\n",
            "Epoch 11/50\n",
            "1018/1018 [==============================] - 6s 6ms/step - loss: 0.6932 - accuracy: 0.5013 - val_loss: 0.6931 - val_accuracy: 0.5077\n",
            "Epoch 12/50\n",
            "1018/1018 [==============================] - 6s 6ms/step - loss: 0.6932 - accuracy: 0.4981 - val_loss: 0.6931 - val_accuracy: 0.5028\n",
            "Epoch 13/50\n",
            "1018/1018 [==============================] - 6s 6ms/step - loss: 0.6931 - accuracy: 0.5045 - val_loss: 0.6932 - val_accuracy: 0.5045\n",
            "Epoch 14/50\n",
            "1018/1018 [==============================] - 6s 6ms/step - loss: 0.6930 - accuracy: 0.5054 - val_loss: 0.6935 - val_accuracy: 0.4944\n",
            "Epoch 15/50\n",
            "1018/1018 [==============================] - 6s 6ms/step - loss: 0.6930 - accuracy: 0.5047 - val_loss: 0.6934 - val_accuracy: 0.4984\n",
            "Epoch 16/50\n",
            "1018/1018 [==============================] - 6s 6ms/step - loss: 0.6928 - accuracy: 0.5100 - val_loss: 0.6934 - val_accuracy: 0.5100\n",
            "Epoch 17/50\n",
            "1018/1018 [==============================] - 6s 6ms/step - loss: 0.6927 - accuracy: 0.5085 - val_loss: 0.6935 - val_accuracy: 0.5066\n",
            "Epoch 18/50\n",
            "1018/1018 [==============================] - 6s 6ms/step - loss: 0.6924 - accuracy: 0.5104 - val_loss: 0.6938 - val_accuracy: 0.5069\n",
            "Epoch 19/50\n",
            "1018/1018 [==============================] - 6s 6ms/step - loss: 0.6922 - accuracy: 0.5107 - val_loss: 0.6950 - val_accuracy: 0.4959\n",
            "Epoch 20/50\n",
            "1018/1018 [==============================] - 6s 6ms/step - loss: 0.6919 - accuracy: 0.5175 - val_loss: 0.6946 - val_accuracy: 0.4985\n",
            "Epoch 21/50\n",
            "1018/1018 [==============================] - 6s 6ms/step - loss: 0.6921 - accuracy: 0.5181 - val_loss: 0.6941 - val_accuracy: 0.5022\n",
            "Epoch 22/50\n",
            "1018/1018 [==============================] - 6s 6ms/step - loss: 0.6916 - accuracy: 0.5166 - val_loss: 0.6947 - val_accuracy: 0.4996\n",
            "Epoch 23/50\n",
            "1018/1018 [==============================] - 6s 6ms/step - loss: 0.6917 - accuracy: 0.5170 - val_loss: 0.6958 - val_accuracy: 0.4972\n",
            "Epoch 24/50\n",
            "1018/1018 [==============================] - 6s 6ms/step - loss: 0.6915 - accuracy: 0.5157 - val_loss: 0.6946 - val_accuracy: 0.5015\n",
            "Epoch 25/50\n",
            "1018/1018 [==============================] - 6s 6ms/step - loss: 0.6909 - accuracy: 0.5187 - val_loss: 0.6952 - val_accuracy: 0.4984\n",
            "Epoch 26/50\n",
            "1018/1018 [==============================] - 6s 6ms/step - loss: 0.6905 - accuracy: 0.5213 - val_loss: 0.6960 - val_accuracy: 0.4990\n",
            "Epoch 27/50\n",
            "1018/1018 [==============================] - 6s 6ms/step - loss: 0.6903 - accuracy: 0.5196 - val_loss: 0.6958 - val_accuracy: 0.4991\n",
            "Epoch 28/50\n",
            "1018/1018 [==============================] - 6s 6ms/step - loss: 0.6899 - accuracy: 0.5236 - val_loss: 0.6962 - val_accuracy: 0.4996\n",
            "Epoch 29/50\n",
            "1018/1018 [==============================] - 6s 6ms/step - loss: 0.6886 - accuracy: 0.5244 - val_loss: 0.6990 - val_accuracy: 0.5022\n",
            "Epoch 30/50\n",
            "1018/1018 [==============================] - 6s 6ms/step - loss: 0.6884 - accuracy: 0.5237 - val_loss: 0.6979 - val_accuracy: 0.4966\n",
            "Epoch 31/50\n",
            "1018/1018 [==============================] - 6s 6ms/step - loss: 0.6868 - accuracy: 0.5292 - val_loss: 0.7005 - val_accuracy: 0.5037\n",
            "Epoch 32/50\n",
            "1018/1018 [==============================] - 6s 6ms/step - loss: 0.6859 - accuracy: 0.5332 - val_loss: 0.7012 - val_accuracy: 0.5046\n",
            "Epoch 33/50\n",
            "1018/1018 [==============================] - 6s 6ms/step - loss: 0.6842 - accuracy: 0.5334 - val_loss: 0.7026 - val_accuracy: 0.4965\n",
            "Epoch 34/50\n",
            "1018/1018 [==============================] - 6s 5ms/step - loss: 0.6827 - accuracy: 0.5348 - val_loss: 0.7041 - val_accuracy: 0.5001\n",
            "Epoch 35/50\n",
            "1018/1018 [==============================] - 5s 5ms/step - loss: 0.6810 - accuracy: 0.5376 - val_loss: 0.7068 - val_accuracy: 0.4988\n",
            "Epoch 36/50\n",
            "1018/1018 [==============================] - 6s 5ms/step - loss: 0.6796 - accuracy: 0.5405 - val_loss: 0.7105 - val_accuracy: 0.4975\n",
            "Epoch 37/50\n",
            "1018/1018 [==============================] - 6s 5ms/step - loss: 0.6770 - accuracy: 0.5436 - val_loss: 0.7107 - val_accuracy: 0.4969\n",
            "Epoch 38/50\n",
            "1018/1018 [==============================] - 6s 6ms/step - loss: 0.6745 - accuracy: 0.5483 - val_loss: 0.7169 - val_accuracy: 0.4984\n",
            "Epoch 39/50\n",
            "1018/1018 [==============================] - 6s 6ms/step - loss: 0.6719 - accuracy: 0.5490 - val_loss: 0.7164 - val_accuracy: 0.5012\n",
            "Epoch 40/50\n",
            "1018/1018 [==============================] - 6s 6ms/step - loss: 0.6689 - accuracy: 0.5561 - val_loss: 0.7226 - val_accuracy: 0.4955\n",
            "Epoch 41/50\n",
            "1018/1018 [==============================] - 6s 6ms/step - loss: 0.6649 - accuracy: 0.5580 - val_loss: 0.7309 - val_accuracy: 0.4978\n",
            "Epoch 42/50\n",
            "1018/1018 [==============================] - 6s 6ms/step - loss: 0.6626 - accuracy: 0.5567 - val_loss: 0.7308 - val_accuracy: 0.4972\n",
            "Epoch 43/50\n",
            "1018/1018 [==============================] - 6s 6ms/step - loss: 0.6582 - accuracy: 0.5635 - val_loss: 0.7356 - val_accuracy: 0.5017\n",
            "Epoch 44/50\n",
            "1018/1018 [==============================] - 6s 6ms/step - loss: 0.6543 - accuracy: 0.5655 - val_loss: 0.7443 - val_accuracy: 0.4992\n",
            "Epoch 45/50\n",
            "1018/1018 [==============================] - 6s 6ms/step - loss: 0.6490 - accuracy: 0.5710 - val_loss: 0.7520 - val_accuracy: 0.5010\n",
            "Epoch 46/50\n",
            "1018/1018 [==============================] - 6s 6ms/step - loss: 0.6453 - accuracy: 0.5745 - val_loss: 0.7629 - val_accuracy: 0.5000\n",
            "Epoch 47/50\n",
            "1018/1018 [==============================] - 6s 6ms/step - loss: 0.6412 - accuracy: 0.5810 - val_loss: 0.7680 - val_accuracy: 0.4990\n",
            "Epoch 48/50\n",
            "1018/1018 [==============================] - 6s 6ms/step - loss: 0.6371 - accuracy: 0.5836 - val_loss: 0.7734 - val_accuracy: 0.5040\n",
            "Epoch 49/50\n",
            "1018/1018 [==============================] - 6s 6ms/step - loss: 0.6318 - accuracy: 0.5849 - val_loss: 0.7815 - val_accuracy: 0.5008\n",
            "Epoch 50/50\n",
            "1018/1018 [==============================] - 6s 6ms/step - loss: 0.6268 - accuracy: 0.5909 - val_loss: 0.7884 - val_accuracy: 0.4980\n"
          ]
        }
      ],
      "source": [
        "r = model.fit(\n",
        "    X_train_scaled, y_train,\n",
        "    validation_data=(X_test_scaled, y_test),\n",
        "    batch_size=32,\n",
        "    epochs=50)"
      ]
    },
    {
      "attachments": {},
      "cell_type": "markdown",
      "metadata": {
        "id": "6zqo7K0-NNAk"
      },
      "source": [
        "## Learning Curve"
      ]
    },
    {
      "cell_type": "code",
      "execution_count": 24,
      "metadata": {
        "colab": {
          "base_uri": "https://localhost:8080/",
          "height": 430
        },
        "id": "-QFa9lFOvkD7",
        "outputId": "a81aa67b-6a8e-41fe-a874-f4e12f4c0bf0"
      },
      "outputs": [
        {
          "data": {
            "image/png": "[encoded data removed]",
            "text/plain": [
              "<Figure size 432x288 with 1 Axes>"
            ]
          },
          "metadata": {
            "needs_background": "light"
          },
          "output_type": "display_data"
        }
      ],
      "source": [
        "plt.plot(r.history['loss'], label='loss')\n",
        "plt.plot(r.history['val_loss'], label='val_loss')\n",
        "plt.legend();"
      ]
    },
    {
      "cell_type": "code",
      "execution_count": 25,
      "metadata": {
        "colab": {
          "base_uri": "https://localhost:8080/",
          "height": 430
        },
        "id": "MgdafXW8753t",
        "outputId": "860867fe-6842-40c3-ecc7-43f6fee234da"
      },
      "outputs": [
        {
          "data": {
            "image/png": "[encoded data removed]",
            "text/plain": [
              "<Figure size 432x288 with 1 Axes>"
            ]
          },
          "metadata": {
            "needs_background": "light"
          },
          "output_type": "display_data"
        }
      ],
      "source": [
        "plt.plot(r.history['accuracy'], label='accuracy')\n",
        "plt.plot(r.history['val_accuracy'], label='val_accuracy')\n",
        "plt.legend();"
      ]
    },
    {
      "attachments": {},
      "cell_type": "markdown",
      "metadata": {
        "id": "1weY_zB6Dnam"
      },
      "source": [
        "Модель вообще не показывает улучшения на валидационной выборке.\n",
        "Accuracy на валидационной выборке болтается около 50%, но при этом уверенно растет на тренировочной выборке.\n",
        "Значит модель подстроилась под шум."
      ]
    }
  ],
  "metadata": {
    "colab": {
      "provenance": [],
      "toc_visible": true
    },
    "kernelspec": {
      "display_name": "Python 3",
      "name": "python3"
    },
    "language_info": {
      "codemirror_mode": {
        "name": "ipython",
        "version": 3
      },
      "file_extension": ".py",
      "mimetype": "text/x-python",
      "name": "python",
      "nbconvert_exporter": "python",
      "pygments_lexer": "ipython3",
      "version": "3.9.10"
    }
  },
  "nbformat": 4,
  "nbformat_minor": 0
}
