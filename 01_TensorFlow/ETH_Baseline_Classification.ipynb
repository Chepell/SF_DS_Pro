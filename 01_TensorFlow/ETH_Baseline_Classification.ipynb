{
 "cells": [
  {
   "attachments": {},
   "cell_type": "markdown",
   "metadata": {},
   "source": [
    "# Task\n",
    "Сделать базовый вариант бинарной классификации, от которого можно отталкиваться в дальнейшем"
   ]
  },
  {
   "attachments": {},
   "cell_type": "markdown",
   "metadata": {},
   "source": [
    "# Import modules"
   ]
  },
  {
   "cell_type": "code",
   "execution_count": 18,
   "metadata": {},
   "outputs": [
    {
     "name": "stdout",
     "output_type": "stream",
     "text": [
      "The autoreload extension is already loaded. To reload it, use:\n",
      "  %reload_ext autoreload\n"
     ]
    }
   ],
   "source": [
    "%load_ext autoreload\n",
    "%autoreload 2\n",
    "\n",
    "import numpy as np\n",
    "import pandas as pd\n",
    "import matplotlib.pyplot as plt\n",
    "from matplotlib import gridspec\n",
    "import seaborn as sns\n",
    "\n",
    "%matplotlib inline\n",
    "plt.style.use('seaborn') #установка стиля matplotlib\n",
    "%config InlineBackend.figure_format = 'retina'\n",
    "plt.rcParams['figure.figsize'] = (10, 8) \n",
    "\n",
    "from sklearn import set_config, preprocessing # предобработка\n",
    "set_config(transform_output='pandas')\n",
    "from sklearn.model_selection import train_test_split # сплитование выборки\n",
    "from sklearn.linear_model import LinearRegression\n",
    "from sklearn.svm import SVR\n",
    "from sklearn.ensemble import RandomForestRegressor\n",
    "from sklearn.metrics import mean_absolute_percentage_error, r2_score\n",
    "\n",
    "from sklearn.compose import ColumnTransformer\n",
    "from sklearn.preprocessing import StandardScaler\n",
    "from category_encoders import OneHotEncoder, BinaryEncoder\n",
    "\n",
    "from statsmodels.tsa.stattools import adfuller\n",
    "\n",
    "import tensorflow as tf\n",
    "from tensorflow.keras.layers import Input, LSTM, GRU, SimpleRNN, Dense, GlobalMaxPool1D\n",
    "from tensorflow.keras.models import Model\n",
    "from tensorflow.keras.optimizers import SGD, Adam"
   ]
  },
  {
   "attachments": {},
   "cell_type": "markdown",
   "metadata": {},
   "source": [
    "# Load Data"
   ]
  },
  {
   "cell_type": "code",
   "execution_count": 19,
   "metadata": {},
   "outputs": [],
   "source": [
    "data = pd.read_parquet('..\\ETH-Full-1H.parquet')"
   ]
  },
  {
   "cell_type": "code",
   "execution_count": 20,
   "metadata": {},
   "outputs": [],
   "source": [
    "df = data.copy()"
   ]
  },
  {
   "cell_type": "code",
   "execution_count": 21,
   "metadata": {},
   "outputs": [
    {
     "name": "stdout",
     "output_type": "stream",
     "text": [
      "<class 'pandas.core.frame.DataFrame'>\n",
      "DatetimeIndex: 49337 entries, 2017-09-01 00:00:00 to 2023-04-23 23:00:00\n",
      "Data columns (total 6 columns):\n",
      " #   Column  Non-Null Count  Dtype  \n",
      "---  ------  --------------  -----  \n",
      " 0   Open    49337 non-null  float64\n",
      " 1   High    49337 non-null  float64\n",
      " 2   Low     49337 non-null  float64\n",
      " 3   Close   49337 non-null  float64\n",
      " 4   Volume  49337 non-null  float64\n",
      " 5   Trades  49337 non-null  int32  \n",
      "dtypes: float64(5), int32(1)\n",
      "memory usage: 2.4 MB\n"
     ]
    }
   ],
   "source": [
    "df.info()"
   ]
  },
  {
   "cell_type": "code",
   "execution_count": 22,
   "metadata": {},
   "outputs": [
    {
     "data": {
      "text/plain": [
       "DatetimeIndex(['2017-09-01 00:00:00', '2017-09-01 01:00:00',\n",
       "               '2017-09-01 02:00:00', '2017-09-01 03:00:00',\n",
       "               '2017-09-01 04:00:00', '2017-09-01 05:00:00',\n",
       "               '2017-09-01 06:00:00', '2017-09-01 07:00:00',\n",
       "               '2017-09-01 08:00:00', '2017-09-01 09:00:00',\n",
       "               ...\n",
       "               '2023-04-23 14:00:00', '2023-04-23 15:00:00',\n",
       "               '2023-04-23 16:00:00', '2023-04-23 17:00:00',\n",
       "               '2023-04-23 18:00:00', '2023-04-23 19:00:00',\n",
       "               '2023-04-23 20:00:00', '2023-04-23 21:00:00',\n",
       "               '2023-04-23 22:00:00', '2023-04-23 23:00:00'],\n",
       "              dtype='datetime64[ns]', name='Datetime', length=49337, freq=None)"
      ]
     },
     "execution_count": 22,
     "metadata": {},
     "output_type": "execute_result"
    }
   ],
   "source": [
    "df.index"
   ]
  },
  {
   "cell_type": "code",
   "execution_count": 23,
   "metadata": {},
   "outputs": [],
   "source": [
    "# df = df.asfreq('H')\n",
    "# df = df.asfreq('H') # этот вариант сработает, но на месте пропусков появятся NaN записи"
   ]
  },
  {
   "cell_type": "code",
   "execution_count": 24,
   "metadata": {},
   "outputs": [
    {
     "name": "stdout",
     "output_type": "stream",
     "text": [
      "<class 'pandas.core.frame.DataFrame'>\n",
      "DatetimeIndex: 49337 entries, 2017-09-01 00:00:00 to 2023-04-23 23:00:00\n",
      "Data columns (total 6 columns):\n",
      " #   Column  Non-Null Count  Dtype  \n",
      "---  ------  --------------  -----  \n",
      " 0   Open    49337 non-null  float64\n",
      " 1   High    49337 non-null  float64\n",
      " 2   Low     49337 non-null  float64\n",
      " 3   Close   49337 non-null  float64\n",
      " 4   Volume  49337 non-null  float64\n",
      " 5   Trades  49337 non-null  int32  \n",
      "dtypes: float64(5), int32(1)\n",
      "memory usage: 2.4 MB\n"
     ]
    }
   ],
   "source": [
    "df.info()"
   ]
  },
  {
   "attachments": {},
   "cell_type": "markdown",
   "metadata": {},
   "source": [
    "# Feature Enginiring\n",
    "Логарифмирую все признаки"
   ]
  },
  {
   "cell_type": "code",
   "execution_count": 25,
   "metadata": {},
   "outputs": [],
   "source": [
    "cols = df.columns\n",
    "for col in cols:\n",
    "    df[col + '_log'] = np.log(df[col])"
   ]
  },
  {
   "cell_type": "code",
   "execution_count": 26,
   "metadata": {},
   "outputs": [],
   "source": [
    "df.drop(columns=cols, inplace=True) # удаляю все старые признаки"
   ]
  },
  {
   "cell_type": "code",
   "execution_count": 27,
   "metadata": {},
   "outputs": [
    {
     "data": {
      "text/html": [
       "<div>\n",
       "<style scoped>\n",
       "    .dataframe tbody tr th:only-of-type {\n",
       "        vertical-align: middle;\n",
       "    }\n",
       "\n",
       "    .dataframe tbody tr th {\n",
       "        vertical-align: top;\n",
       "    }\n",
       "\n",
       "    .dataframe thead th {\n",
       "        text-align: right;\n",
       "    }\n",
       "</style>\n",
       "<table border=\"1\" class=\"dataframe\">\n",
       "  <thead>\n",
       "    <tr style=\"text-align: right;\">\n",
       "      <th></th>\n",
       "      <th>Open_log</th>\n",
       "      <th>High_log</th>\n",
       "      <th>Low_log</th>\n",
       "      <th>Close_log</th>\n",
       "      <th>Volume_log</th>\n",
       "      <th>Trades_log</th>\n",
       "    </tr>\n",
       "    <tr>\n",
       "      <th>Datetime</th>\n",
       "      <th></th>\n",
       "      <th></th>\n",
       "      <th></th>\n",
       "      <th></th>\n",
       "      <th></th>\n",
       "      <th></th>\n",
       "    </tr>\n",
       "  </thead>\n",
       "  <tbody>\n",
       "    <tr>\n",
       "      <th>2017-09-01 00:00:00</th>\n",
       "      <td>5.952698</td>\n",
       "      <td>5.962911</td>\n",
       "      <td>5.952698</td>\n",
       "      <td>5.962911</td>\n",
       "      <td>5.093614</td>\n",
       "      <td>4.875197</td>\n",
       "    </tr>\n",
       "    <tr>\n",
       "      <th>2017-09-01 01:00:00</th>\n",
       "      <td>5.962782</td>\n",
       "      <td>5.976503</td>\n",
       "      <td>5.959793</td>\n",
       "      <td>5.969653</td>\n",
       "      <td>5.516366</td>\n",
       "      <td>5.568345</td>\n",
       "    </tr>\n",
       "    <tr>\n",
       "      <th>2017-09-01 02:00:00</th>\n",
       "      <td>5.973504</td>\n",
       "      <td>5.977340</td>\n",
       "      <td>5.964761</td>\n",
       "      <td>5.968401</td>\n",
       "      <td>5.292443</td>\n",
       "      <td>5.416100</td>\n",
       "    </tr>\n",
       "    <tr>\n",
       "      <th>2017-09-01 03:00:00</th>\n",
       "      <td>5.970496</td>\n",
       "      <td>5.974140</td>\n",
       "      <td>5.968349</td>\n",
       "      <td>5.968349</td>\n",
       "      <td>4.952732</td>\n",
       "      <td>4.927254</td>\n",
       "    </tr>\n",
       "    <tr>\n",
       "      <th>2017-09-01 04:00:00</th>\n",
       "      <td>5.972919</td>\n",
       "      <td>5.977036</td>\n",
       "      <td>5.960077</td>\n",
       "      <td>5.966993</td>\n",
       "      <td>4.910144</td>\n",
       "      <td>4.852030</td>\n",
       "    </tr>\n",
       "    <tr>\n",
       "      <th>...</th>\n",
       "      <td>...</td>\n",
       "      <td>...</td>\n",
       "      <td>...</td>\n",
       "      <td>...</td>\n",
       "      <td>...</td>\n",
       "      <td>...</td>\n",
       "    </tr>\n",
       "    <tr>\n",
       "      <th>2023-04-23 19:00:00</th>\n",
       "      <td>7.521188</td>\n",
       "      <td>7.524210</td>\n",
       "      <td>7.520191</td>\n",
       "      <td>7.521042</td>\n",
       "      <td>9.714152</td>\n",
       "      <td>9.982668</td>\n",
       "    </tr>\n",
       "    <tr>\n",
       "      <th>2023-04-23 20:00:00</th>\n",
       "      <td>7.521042</td>\n",
       "      <td>7.524183</td>\n",
       "      <td>7.516450</td>\n",
       "      <td>7.522341</td>\n",
       "      <td>9.481396</td>\n",
       "      <td>9.875345</td>\n",
       "    </tr>\n",
       "    <tr>\n",
       "      <th>2023-04-23 21:00:00</th>\n",
       "      <td>7.522335</td>\n",
       "      <td>7.527966</td>\n",
       "      <td>7.521637</td>\n",
       "      <td>7.525457</td>\n",
       "      <td>8.968984</td>\n",
       "      <td>9.534161</td>\n",
       "    </tr>\n",
       "    <tr>\n",
       "      <th>2023-04-23 22:00:00</th>\n",
       "      <td>7.525462</td>\n",
       "      <td>7.532709</td>\n",
       "      <td>7.521859</td>\n",
       "      <td>7.529256</td>\n",
       "      <td>9.670072</td>\n",
       "      <td>9.992048</td>\n",
       "    </tr>\n",
       "    <tr>\n",
       "      <th>2023-04-23 23:00:00</th>\n",
       "      <td>7.529256</td>\n",
       "      <td>7.531338</td>\n",
       "      <td>7.527885</td>\n",
       "      <td>7.529406</td>\n",
       "      <td>9.078765</td>\n",
       "      <td>9.423110</td>\n",
       "    </tr>\n",
       "  </tbody>\n",
       "</table>\n",
       "<p>49337 rows × 6 columns</p>\n",
       "</div>"
      ],
      "text/plain": [
       "                     Open_log  High_log   Low_log  Close_log  Volume_log   \n",
       "Datetime                                                                   \n",
       "2017-09-01 00:00:00  5.952698  5.962911  5.952698   5.962911    5.093614  \\\n",
       "2017-09-01 01:00:00  5.962782  5.976503  5.959793   5.969653    5.516366   \n",
       "2017-09-01 02:00:00  5.973504  5.977340  5.964761   5.968401    5.292443   \n",
       "2017-09-01 03:00:00  5.970496  5.974140  5.968349   5.968349    4.952732   \n",
       "2017-09-01 04:00:00  5.972919  5.977036  5.960077   5.966993    4.910144   \n",
       "...                       ...       ...       ...        ...         ...   \n",
       "2023-04-23 19:00:00  7.521188  7.524210  7.520191   7.521042    9.714152   \n",
       "2023-04-23 20:00:00  7.521042  7.524183  7.516450   7.522341    9.481396   \n",
       "2023-04-23 21:00:00  7.522335  7.527966  7.521637   7.525457    8.968984   \n",
       "2023-04-23 22:00:00  7.525462  7.532709  7.521859   7.529256    9.670072   \n",
       "2023-04-23 23:00:00  7.529256  7.531338  7.527885   7.529406    9.078765   \n",
       "\n",
       "                     Trades_log  \n",
       "Datetime                         \n",
       "2017-09-01 00:00:00    4.875197  \n",
       "2017-09-01 01:00:00    5.568345  \n",
       "2017-09-01 02:00:00    5.416100  \n",
       "2017-09-01 03:00:00    4.927254  \n",
       "2017-09-01 04:00:00    4.852030  \n",
       "...                         ...  \n",
       "2023-04-23 19:00:00    9.982668  \n",
       "2023-04-23 20:00:00    9.875345  \n",
       "2023-04-23 21:00:00    9.534161  \n",
       "2023-04-23 22:00:00    9.992048  \n",
       "2023-04-23 23:00:00    9.423110  \n",
       "\n",
       "[49337 rows x 6 columns]"
      ]
     },
     "execution_count": 27,
     "metadata": {},
     "output_type": "execute_result"
    }
   ],
   "source": [
    "df"
   ]
  },
  {
   "attachments": {},
   "cell_type": "markdown",
   "metadata": {},
   "source": [
    "Тени от открытия бара на лог шкале"
   ]
  },
  {
   "cell_type": "code",
   "execution_count": 28,
   "metadata": {},
   "outputs": [],
   "source": [
    "df['Low_Shad_log'] = df['Open_log'] - df['Low_log']\n",
    "df['High_Shad_log'] = df['High_log'] - df['Open_log']"
   ]
  },
  {
   "attachments": {},
   "cell_type": "markdown",
   "metadata": {},
   "source": [
    "Прирост за бар на лог шкале\n",
    "\n",
    "Прирост и тени от открытия бара, т.к. в истории есть пропуски по много часов и они могут давать сильные искажения, вылеты для таргетов"
   ]
  },
  {
   "cell_type": "code",
   "execution_count": 29,
   "metadata": {},
   "outputs": [],
   "source": [
    "df['Log_Return'] = df['Close_log'] - df['Open_log']"
   ]
  },
  {
   "attachments": {},
   "cell_type": "markdown",
   "metadata": {},
   "source": [
    "# Target Category Feature \n",
    "Это фактически очередные гиперпараметры.\n",
    "\n",
    "Я могу задавать уровень риска в лог величинах - risk_level\n",
    "\n",
    "и коэффициент доходность/риск в виде множителя - risk_factor\n",
    "\n",
    "Т.е. текущий случай это:\n",
    "* risk_level = 0.0025\n",
    "* risk_factor = 4\n"
   ]
  },
  {
   "cell_type": "code",
   "execution_count": 30,
   "metadata": {},
   "outputs": [],
   "source": [
    "risk_level = 0.0025\n",
    "profit_factor = 4\n",
    "profit_level = risk_level * profit_factor"
   ]
  },
  {
   "attachments": {},
   "cell_type": "markdown",
   "metadata": {},
   "source": [
    "По данным переменным можно создавать сетку для поиска рабочих вариантов"
   ]
  },
  {
   "cell_type": "code",
   "execution_count": 31,
   "metadata": {},
   "outputs": [],
   "source": [
    "df['Label_long'] = np.where((df['High_Shad_log'] >= profit_level) & (df['Low_Shad_log'] <= risk_level), 1, 0)"
   ]
  },
  {
   "cell_type": "code",
   "execution_count": 32,
   "metadata": {},
   "outputs": [],
   "source": [
    "def class_distribution(df, col):\n",
    "    \"\"\" Метод для визуализации значений распределения для заданного категориального признака\n",
    "\n",
    "    Args:\n",
    "        df (_type_): датафрейм для анализа\n",
    "        col (_type_): имя признака в датафрейме анализ по которому вывести\n",
    "\n",
    "    Returns:\n",
    "        _type_: _description_\n",
    "    \"\"\"\n",
    "    class_df = pd.DataFrame({'%': (df[col].value_counts(True) * 100).round(2), 'Count': df[col].value_counts()})\n",
    "    class_df.index.name = 'Class'\n",
    "    class_df.sort_index(ascending=False, inplace=True)\n",
    "    display(class_df)\n",
    "    \n",
    "    sns.countplot(data=df, x=col)\n",
    "    plt.show()"
   ]
  },
  {
   "cell_type": "code",
   "execution_count": 33,
   "metadata": {},
   "outputs": [
    {
     "data": {
      "text/html": [
       "<div>\n",
       "<style scoped>\n",
       "    .dataframe tbody tr th:only-of-type {\n",
       "        vertical-align: middle;\n",
       "    }\n",
       "\n",
       "    .dataframe tbody tr th {\n",
       "        vertical-align: top;\n",
       "    }\n",
       "\n",
       "    .dataframe thead th {\n",
       "        text-align: right;\n",
       "    }\n",
       "</style>\n",
       "<table border=\"1\" class=\"dataframe\">\n",
       "  <thead>\n",
       "    <tr style=\"text-align: right;\">\n",
       "      <th></th>\n",
       "      <th>%</th>\n",
       "      <th>Count</th>\n",
       "    </tr>\n",
       "    <tr>\n",
       "      <th>Class</th>\n",
       "      <th></th>\n",
       "      <th></th>\n",
       "    </tr>\n",
       "  </thead>\n",
       "  <tbody>\n",
       "    <tr>\n",
       "      <th>1</th>\n",
       "      <td>9.42</td>\n",
       "      <td>4650</td>\n",
       "    </tr>\n",
       "    <tr>\n",
       "      <th>0</th>\n",
       "      <td>90.58</td>\n",
       "      <td>44687</td>\n",
       "    </tr>\n",
       "  </tbody>\n",
       "</table>\n",
       "</div>"
      ],
      "text/plain": [
       "           %  Count\n",
       "Class              \n",
       "1       9.42   4650\n",
       "0      90.58  44687"
      ]
     },
     "metadata": {},
     "output_type": "display_data"
    },
    {
     "data": {
      "image/png": "[encoded data removed]",
      "text/plain": [
       "<Figure size 720x576 with 1 Axes>"
      ]
     },
     "metadata": {
      "image/png": {
       "height": 479,
       "width": 621
      },
      "needs_background": "light"
     },
     "output_type": "display_data"
    }
   ],
   "source": [
    "class_distribution(df, 'Label_long')"
   ]
  },
  {
   "cell_type": "code",
   "execution_count": 34,
   "metadata": {},
   "outputs": [
    {
     "data": {
      "text/html": [
       "<div>\n",
       "<style scoped>\n",
       "    .dataframe tbody tr th:only-of-type {\n",
       "        vertical-align: middle;\n",
       "    }\n",
       "\n",
       "    .dataframe tbody tr th {\n",
       "        vertical-align: top;\n",
       "    }\n",
       "\n",
       "    .dataframe thead th {\n",
       "        text-align: right;\n",
       "    }\n",
       "</style>\n",
       "<table border=\"1\" class=\"dataframe\">\n",
       "  <thead>\n",
       "    <tr style=\"text-align: right;\">\n",
       "      <th></th>\n",
       "      <th>Open_log</th>\n",
       "      <th>High_log</th>\n",
       "      <th>Low_log</th>\n",
       "      <th>Close_log</th>\n",
       "      <th>Volume_log</th>\n",
       "      <th>Trades_log</th>\n",
       "      <th>Low_Shad_log</th>\n",
       "      <th>High_Shad_log</th>\n",
       "      <th>Log_Return</th>\n",
       "      <th>Label_long</th>\n",
       "    </tr>\n",
       "    <tr>\n",
       "      <th>Datetime</th>\n",
       "      <th></th>\n",
       "      <th></th>\n",
       "      <th></th>\n",
       "      <th></th>\n",
       "      <th></th>\n",
       "      <th></th>\n",
       "      <th></th>\n",
       "      <th></th>\n",
       "      <th></th>\n",
       "      <th></th>\n",
       "    </tr>\n",
       "  </thead>\n",
       "  <tbody>\n",
       "    <tr>\n",
       "      <th>2017-09-01 00:00:00</th>\n",
       "      <td>5.952698</td>\n",
       "      <td>5.962911</td>\n",
       "      <td>5.952698</td>\n",
       "      <td>5.962911</td>\n",
       "      <td>5.093614</td>\n",
       "      <td>4.875197</td>\n",
       "      <td>0.000000</td>\n",
       "      <td>0.010213</td>\n",
       "      <td>0.010213</td>\n",
       "      <td>1</td>\n",
       "    </tr>\n",
       "    <tr>\n",
       "      <th>2017-09-01 01:00:00</th>\n",
       "      <td>5.962782</td>\n",
       "      <td>5.976503</td>\n",
       "      <td>5.959793</td>\n",
       "      <td>5.969653</td>\n",
       "      <td>5.516366</td>\n",
       "      <td>5.568345</td>\n",
       "      <td>0.002989</td>\n",
       "      <td>0.013721</td>\n",
       "      <td>0.006871</td>\n",
       "      <td>0</td>\n",
       "    </tr>\n",
       "    <tr>\n",
       "      <th>2017-09-01 02:00:00</th>\n",
       "      <td>5.973504</td>\n",
       "      <td>5.977340</td>\n",
       "      <td>5.964761</td>\n",
       "      <td>5.968401</td>\n",
       "      <td>5.292443</td>\n",
       "      <td>5.416100</td>\n",
       "      <td>0.008743</td>\n",
       "      <td>0.003836</td>\n",
       "      <td>-0.005104</td>\n",
       "      <td>0</td>\n",
       "    </tr>\n",
       "    <tr>\n",
       "      <th>2017-09-01 03:00:00</th>\n",
       "      <td>5.970496</td>\n",
       "      <td>5.974140</td>\n",
       "      <td>5.968349</td>\n",
       "      <td>5.968349</td>\n",
       "      <td>4.952732</td>\n",
       "      <td>4.927254</td>\n",
       "      <td>0.002147</td>\n",
       "      <td>0.003644</td>\n",
       "      <td>-0.002147</td>\n",
       "      <td>0</td>\n",
       "    </tr>\n",
       "    <tr>\n",
       "      <th>2017-09-01 04:00:00</th>\n",
       "      <td>5.972919</td>\n",
       "      <td>5.977036</td>\n",
       "      <td>5.960077</td>\n",
       "      <td>5.966993</td>\n",
       "      <td>4.910144</td>\n",
       "      <td>4.852030</td>\n",
       "      <td>0.012842</td>\n",
       "      <td>0.004117</td>\n",
       "      <td>-0.005926</td>\n",
       "      <td>0</td>\n",
       "    </tr>\n",
       "    <tr>\n",
       "      <th>...</th>\n",
       "      <td>...</td>\n",
       "      <td>...</td>\n",
       "      <td>...</td>\n",
       "      <td>...</td>\n",
       "      <td>...</td>\n",
       "      <td>...</td>\n",
       "      <td>...</td>\n",
       "      <td>...</td>\n",
       "      <td>...</td>\n",
       "      <td>...</td>\n",
       "    </tr>\n",
       "    <tr>\n",
       "      <th>2023-04-23 19:00:00</th>\n",
       "      <td>7.521188</td>\n",
       "      <td>7.524210</td>\n",
       "      <td>7.520191</td>\n",
       "      <td>7.521042</td>\n",
       "      <td>9.714152</td>\n",
       "      <td>9.982668</td>\n",
       "      <td>0.000997</td>\n",
       "      <td>0.003022</td>\n",
       "      <td>-0.000146</td>\n",
       "      <td>0</td>\n",
       "    </tr>\n",
       "    <tr>\n",
       "      <th>2023-04-23 20:00:00</th>\n",
       "      <td>7.521042</td>\n",
       "      <td>7.524183</td>\n",
       "      <td>7.516450</td>\n",
       "      <td>7.522341</td>\n",
       "      <td>9.481396</td>\n",
       "      <td>9.875345</td>\n",
       "      <td>0.004592</td>\n",
       "      <td>0.003142</td>\n",
       "      <td>0.001299</td>\n",
       "      <td>0</td>\n",
       "    </tr>\n",
       "    <tr>\n",
       "      <th>2023-04-23 21:00:00</th>\n",
       "      <td>7.522335</td>\n",
       "      <td>7.527966</td>\n",
       "      <td>7.521637</td>\n",
       "      <td>7.525457</td>\n",
       "      <td>8.968984</td>\n",
       "      <td>9.534161</td>\n",
       "      <td>0.000698</td>\n",
       "      <td>0.005631</td>\n",
       "      <td>0.003121</td>\n",
       "      <td>0</td>\n",
       "    </tr>\n",
       "    <tr>\n",
       "      <th>2023-04-23 22:00:00</th>\n",
       "      <td>7.525462</td>\n",
       "      <td>7.532709</td>\n",
       "      <td>7.521859</td>\n",
       "      <td>7.529256</td>\n",
       "      <td>9.670072</td>\n",
       "      <td>9.992048</td>\n",
       "      <td>0.003603</td>\n",
       "      <td>0.007247</td>\n",
       "      <td>0.003794</td>\n",
       "      <td>0</td>\n",
       "    </tr>\n",
       "    <tr>\n",
       "      <th>2023-04-23 23:00:00</th>\n",
       "      <td>7.529256</td>\n",
       "      <td>7.531338</td>\n",
       "      <td>7.527885</td>\n",
       "      <td>7.529406</td>\n",
       "      <td>9.078765</td>\n",
       "      <td>9.423110</td>\n",
       "      <td>0.001371</td>\n",
       "      <td>0.002082</td>\n",
       "      <td>0.000150</td>\n",
       "      <td>0</td>\n",
       "    </tr>\n",
       "  </tbody>\n",
       "</table>\n",
       "<p>49337 rows × 10 columns</p>\n",
       "</div>"
      ],
      "text/plain": [
       "                     Open_log  High_log   Low_log  Close_log  Volume_log   \n",
       "Datetime                                                                   \n",
       "2017-09-01 00:00:00  5.952698  5.962911  5.952698   5.962911    5.093614  \\\n",
       "2017-09-01 01:00:00  5.962782  5.976503  5.959793   5.969653    5.516366   \n",
       "2017-09-01 02:00:00  5.973504  5.977340  5.964761   5.968401    5.292443   \n",
       "2017-09-01 03:00:00  5.970496  5.974140  5.968349   5.968349    4.952732   \n",
       "2017-09-01 04:00:00  5.972919  5.977036  5.960077   5.966993    4.910144   \n",
       "...                       ...       ...       ...        ...         ...   \n",
       "2023-04-23 19:00:00  7.521188  7.524210  7.520191   7.521042    9.714152   \n",
       "2023-04-23 20:00:00  7.521042  7.524183  7.516450   7.522341    9.481396   \n",
       "2023-04-23 21:00:00  7.522335  7.527966  7.521637   7.525457    8.968984   \n",
       "2023-04-23 22:00:00  7.525462  7.532709  7.521859   7.529256    9.670072   \n",
       "2023-04-23 23:00:00  7.529256  7.531338  7.527885   7.529406    9.078765   \n",
       "\n",
       "                     Trades_log  Low_Shad_log  High_Shad_log  Log_Return   \n",
       "Datetime                                                                   \n",
       "2017-09-01 00:00:00    4.875197      0.000000       0.010213    0.010213  \\\n",
       "2017-09-01 01:00:00    5.568345      0.002989       0.013721    0.006871   \n",
       "2017-09-01 02:00:00    5.416100      0.008743       0.003836   -0.005104   \n",
       "2017-09-01 03:00:00    4.927254      0.002147       0.003644   -0.002147   \n",
       "2017-09-01 04:00:00    4.852030      0.012842       0.004117   -0.005926   \n",
       "...                         ...           ...            ...         ...   \n",
       "2023-04-23 19:00:00    9.982668      0.000997       0.003022   -0.000146   \n",
       "2023-04-23 20:00:00    9.875345      0.004592       0.003142    0.001299   \n",
       "2023-04-23 21:00:00    9.534161      0.000698       0.005631    0.003121   \n",
       "2023-04-23 22:00:00    9.992048      0.003603       0.007247    0.003794   \n",
       "2023-04-23 23:00:00    9.423110      0.001371       0.002082    0.000150   \n",
       "\n",
       "                     Label_long  \n",
       "Datetime                         \n",
       "2017-09-01 00:00:00           1  \n",
       "2017-09-01 01:00:00           0  \n",
       "2017-09-01 02:00:00           0  \n",
       "2017-09-01 03:00:00           0  \n",
       "2017-09-01 04:00:00           0  \n",
       "...                         ...  \n",
       "2023-04-23 19:00:00           0  \n",
       "2023-04-23 20:00:00           0  \n",
       "2023-04-23 21:00:00           0  \n",
       "2023-04-23 22:00:00           0  \n",
       "2023-04-23 23:00:00           0  \n",
       "\n",
       "[49337 rows x 10 columns]"
      ]
     },
     "execution_count": 34,
     "metadata": {},
     "output_type": "execute_result"
    }
   ],
   "source": [
    "df"
   ]
  },
  {
   "cell_type": "code",
   "execution_count": null,
   "metadata": {},
   "outputs": [],
   "source": []
  }
 ],
 "metadata": {
  "kernelspec": {
   "display_name": "Python 3",
   "language": "python",
   "name": "python3"
  },
  "language_info": {
   "codemirror_mode": {
    "name": "ipython",
    "version": 3
   },
   "file_extension": ".py",
   "mimetype": "text/x-python",
   "name": "python",
   "nbconvert_exporter": "python",
   "pygments_lexer": "ipython3",
   "version": "3.9.10"
  },
  "orig_nbformat": 4
 },
 "nbformat": 4,
 "nbformat_minor": 2
}
