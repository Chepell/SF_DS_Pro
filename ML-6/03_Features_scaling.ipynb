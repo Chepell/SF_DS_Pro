{
  "cells": [
    {
      "cell_type": "code",
      "execution_count": 70,
      "metadata": {
        "id": "Gt9xbXDkgbxl"
      },
      "outputs": [],
      "source": [
        "import pandas as pd\n",
        "from sklearn.preprocessing import StandardScaler, MinMaxScaler, RobustScaler\n",
        "from sklearn.model_selection import train_test_split\n",
        "from sklearn.linear_model import LinearRegression\n",
        "from sklearn.metrics import mean_absolute_error\n",
        "\n",
        "from sklearn import set_config\n",
        "set_config(transform_output='pandas')"
      ]
    },
    {
      "cell_type": "markdown",
      "metadata": {
        "id": "UgdBUCd_gf7A"
      },
      "source": [
        "# Загрузка данных"
      ]
    },
    {
      "cell_type": "code",
      "execution_count": 71,
      "metadata": {
        "id": "r59nCfIZgfFs"
      },
      "outputs": [],
      "source": [
        "# %%capture\n",
        "# !wget https://www.dropbox.com/s/64ol9q9ssggz6f1/data_ford_price.xlsx"
      ]
    },
    {
      "cell_type": "code",
      "execution_count": 72,
      "metadata": {
        "id": "MByusU1Igr5J"
      },
      "outputs": [],
      "source": [
        "data = pd.read_excel('data/data_ford_price.xlsx', engine='openpyxl')"
      ]
    },
    {
      "attachments": {},
      "cell_type": "markdown",
      "metadata": {
        "id": "8ZsYlQLvgwuj"
      },
      "source": [
        "## Предобработка данных\n",
        "Давайте посмотрим, как StandardScaler, MinMax и RobustScaler справятся с нашими данными. \n",
        "\n",
        "Для наглядности будем использовать три столбца."
      ]
    },
    {
      "cell_type": "code",
      "execution_count": 73,
      "metadata": {
        "colab": {
          "base_uri": "https://localhost:8080/"
        },
        "id": "835FtZkxgMxo",
        "outputId": "6f333c0e-2c25-4b1a-ddee-3711dc85a2a5"
      },
      "outputs": [],
      "source": [
        "data = data[['price', 'year', 'weather']]\n",
        "data.dropna(inplace=True)\n",
        "data_scaled = data.copy()"
      ]
    },
    {
      "cell_type": "code",
      "execution_count": 74,
      "metadata": {},
      "outputs": [
        {
          "data": {
            "text/html": [
              "<div>\n",
              "<style scoped>\n",
              "    .dataframe tbody tr th:only-of-type {\n",
              "        vertical-align: middle;\n",
              "    }\n",
              "\n",
              "    .dataframe tbody tr th {\n",
              "        vertical-align: top;\n",
              "    }\n",
              "\n",
              "    .dataframe thead th {\n",
              "        text-align: right;\n",
              "    }\n",
              "</style>\n",
              "<table border=\"1\" class=\"dataframe\">\n",
              "  <thead>\n",
              "    <tr style=\"text-align: right;\">\n",
              "      <th></th>\n",
              "      <th>price</th>\n",
              "      <th>year</th>\n",
              "      <th>weather</th>\n",
              "    </tr>\n",
              "  </thead>\n",
              "  <tbody>\n",
              "    <tr>\n",
              "      <th>0</th>\n",
              "      <td>43900</td>\n",
              "      <td>2016</td>\n",
              "      <td>59.0</td>\n",
              "    </tr>\n",
              "    <tr>\n",
              "      <th>1</th>\n",
              "      <td>15490</td>\n",
              "      <td>2009</td>\n",
              "      <td>52.0</td>\n",
              "    </tr>\n",
              "    <tr>\n",
              "      <th>2</th>\n",
              "      <td>2495</td>\n",
              "      <td>2002</td>\n",
              "      <td>45.0</td>\n",
              "    </tr>\n",
              "    <tr>\n",
              "      <th>3</th>\n",
              "      <td>1300</td>\n",
              "      <td>2000</td>\n",
              "      <td>49.0</td>\n",
              "    </tr>\n",
              "    <tr>\n",
              "      <th>5</th>\n",
              "      <td>6995</td>\n",
              "      <td>2003</td>\n",
              "      <td>50.0</td>\n",
              "    </tr>\n",
              "    <tr>\n",
              "      <th>...</th>\n",
              "      <td>...</td>\n",
              "      <td>...</td>\n",
              "      <td>...</td>\n",
              "    </tr>\n",
              "    <tr>\n",
              "      <th>7012</th>\n",
              "      <td>22500</td>\n",
              "      <td>2015</td>\n",
              "      <td>59.0</td>\n",
              "    </tr>\n",
              "    <tr>\n",
              "      <th>7013</th>\n",
              "      <td>5975</td>\n",
              "      <td>2005</td>\n",
              "      <td>50.0</td>\n",
              "    </tr>\n",
              "    <tr>\n",
              "      <th>7014</th>\n",
              "      <td>9999</td>\n",
              "      <td>2006</td>\n",
              "      <td>59.0</td>\n",
              "    </tr>\n",
              "    <tr>\n",
              "      <th>7015</th>\n",
              "      <td>10900</td>\n",
              "      <td>2011</td>\n",
              "      <td>47.0</td>\n",
              "    </tr>\n",
              "    <tr>\n",
              "      <th>7016</th>\n",
              "      <td>18000</td>\n",
              "      <td>2010</td>\n",
              "      <td>50.0</td>\n",
              "    </tr>\n",
              "  </tbody>\n",
              "</table>\n",
              "<p>6837 rows × 3 columns</p>\n",
              "</div>"
            ],
            "text/plain": [
              "      price  year  weather\n",
              "0     43900  2016     59.0\n",
              "1     15490  2009     52.0\n",
              "2      2495  2002     45.0\n",
              "3      1300  2000     49.0\n",
              "5      6995  2003     50.0\n",
              "...     ...   ...      ...\n",
              "7012  22500  2015     59.0\n",
              "7013   5975  2005     50.0\n",
              "7014   9999  2006     59.0\n",
              "7015  10900  2011     47.0\n",
              "7016  18000  2010     50.0\n",
              "\n",
              "[6837 rows x 3 columns]"
            ]
          },
          "execution_count": 74,
          "metadata": {},
          "output_type": "execute_result"
        }
      ],
      "source": [
        "data_scaled"
      ]
    },
    {
      "cell_type": "markdown",
      "metadata": {
        "id": "9cm6C0h3g5-Q"
      },
      "source": [
        "## Масштабирование"
      ]
    },
    {
      "cell_type": "code",
      "execution_count": 75,
      "metadata": {
        "id": "iDWbjVJqg4p3"
      },
      "outputs": [
        {
          "data": {
            "text/html": [
              "<div>\n",
              "<style scoped>\n",
              "    .dataframe tbody tr th:only-of-type {\n",
              "        vertical-align: middle;\n",
              "    }\n",
              "\n",
              "    .dataframe tbody tr th {\n",
              "        vertical-align: top;\n",
              "    }\n",
              "\n",
              "    .dataframe thead th {\n",
              "        text-align: right;\n",
              "    }\n",
              "</style>\n",
              "<table border=\"1\" class=\"dataframe\">\n",
              "  <thead>\n",
              "    <tr style=\"text-align: right;\">\n",
              "      <th></th>\n",
              "      <th>price</th>\n",
              "      <th>year</th>\n",
              "      <th>weather</th>\n",
              "    </tr>\n",
              "  </thead>\n",
              "  <tbody>\n",
              "    <tr>\n",
              "      <th>0</th>\n",
              "      <td>2.558728</td>\n",
              "      <td>2016</td>\n",
              "      <td>0.862068</td>\n",
              "    </tr>\n",
              "    <tr>\n",
              "      <th>1</th>\n",
              "      <td>0.067373</td>\n",
              "      <td>2009</td>\n",
              "      <td>-0.017965</td>\n",
              "    </tr>\n",
              "    <tr>\n",
              "      <th>2</th>\n",
              "      <td>-1.072197</td>\n",
              "      <td>2002</td>\n",
              "      <td>-0.897998</td>\n",
              "    </tr>\n",
              "    <tr>\n",
              "      <th>3</th>\n",
              "      <td>-1.176990</td>\n",
              "      <td>2000</td>\n",
              "      <td>-0.395122</td>\n",
              "    </tr>\n",
              "    <tr>\n",
              "      <th>5</th>\n",
              "      <td>-0.677579</td>\n",
              "      <td>2003</td>\n",
              "      <td>-0.269403</td>\n",
              "    </tr>\n",
              "    <tr>\n",
              "      <th>...</th>\n",
              "      <td>...</td>\n",
              "      <td>...</td>\n",
              "      <td>...</td>\n",
              "    </tr>\n",
              "    <tr>\n",
              "      <th>7012</th>\n",
              "      <td>0.682100</td>\n",
              "      <td>2015</td>\n",
              "      <td>0.862068</td>\n",
              "    </tr>\n",
              "    <tr>\n",
              "      <th>7013</th>\n",
              "      <td>-0.767025</td>\n",
              "      <td>2005</td>\n",
              "      <td>-0.269403</td>\n",
              "    </tr>\n",
              "    <tr>\n",
              "      <th>7014</th>\n",
              "      <td>-0.414149</td>\n",
              "      <td>2006</td>\n",
              "      <td>0.862068</td>\n",
              "    </tr>\n",
              "    <tr>\n",
              "      <th>7015</th>\n",
              "      <td>-0.335138</td>\n",
              "      <td>2011</td>\n",
              "      <td>-0.646560</td>\n",
              "    </tr>\n",
              "    <tr>\n",
              "      <th>7016</th>\n",
              "      <td>0.287482</td>\n",
              "      <td>2010</td>\n",
              "      <td>-0.269403</td>\n",
              "    </tr>\n",
              "  </tbody>\n",
              "</table>\n",
              "<p>6837 rows × 3 columns</p>\n",
              "</div>"
            ],
            "text/plain": [
              "         price  year   weather\n",
              "0     2.558728  2016  0.862068\n",
              "1     0.067373  2009 -0.017965\n",
              "2    -1.072197  2002 -0.897998\n",
              "3    -1.176990  2000 -0.395122\n",
              "5    -0.677579  2003 -0.269403\n",
              "...        ...   ...       ...\n",
              "7012  0.682100  2015  0.862068\n",
              "7013 -0.767025  2005 -0.269403\n",
              "7014 -0.414149  2006  0.862068\n",
              "7015 -0.335138  2011 -0.646560\n",
              "7016  0.287482  2010 -0.269403\n",
              "\n",
              "[6837 rows x 3 columns]"
            ]
          },
          "execution_count": 75,
          "metadata": {},
          "output_type": "execute_result"
        }
      ],
      "source": [
        "scaler = StandardScaler()\n",
        "\n",
        "# Отобранные признаки трансформирую и сразу заменяю значения в исходном датафрейме\n",
        "col_names = ['price', 'weather']\n",
        "data_scaled[col_names] = scaler.fit_transform(data_scaled[col_names])\n",
        "data_scaled"
      ]
    },
    {
      "cell_type": "code",
      "execution_count": 76,
      "metadata": {
        "id": "n1ZO8tC_gVf2"
      },
      "outputs": [],
      "source": [
        "X, y = data_scaled.drop(columns='year'), data_scaled['year']\n",
        "\n",
        "X_train, X_test, y_train, y_test = train_test_split(X, y, test_size=0.3, random_state=40)"
      ]
    },
    {
      "cell_type": "code",
      "execution_count": 77,
      "metadata": {
        "colab": {
          "base_uri": "https://localhost:8080/"
        },
        "id": "FsYSPuXFhCp7",
        "outputId": "8559372a-8e16-460b-f375-21ab778bbc66"
      },
      "outputs": [
        {
          "name": "stdout",
          "output_type": "stream",
          "text": [
            "Train MAE: 3.177\n",
            "Test MAE: 3.041\n"
          ]
        }
      ],
      "source": [
        "model = LinearRegression()\n",
        "model.fit(X_train, y_train)\n",
        "\n",
        "y_train_pred = model.predict(X_train)\n",
        "y_test_pred = model.predict(X_test)\n",
        "\n",
        "mae = mean_absolute_error(y_train, y_train_pred)\n",
        "print(f'Train MAE: {mae:.3f}')\n",
        " \n",
        "mae = mean_absolute_error(y_test, y_test_pred)\n",
        "print(f'Test MAE: {mae:.3f}')"
      ]
    },
    {
      "cell_type": "markdown",
      "metadata": {},
      "source": [
        "### Использование разных скейлеров"
      ]
    },
    {
      "cell_type": "code",
      "execution_count": 78,
      "metadata": {},
      "outputs": [],
      "source": [
        "# Создаю словарь скалеров\n",
        "scalers = {\n",
        "    'Standart': StandardScaler(),\n",
        "    'MinMax': MinMaxScaler(),\n",
        "    'Robust': RobustScaler()\n",
        "}\n",
        "\n",
        "result = {} # пустой словарь для результатов"
      ]
    },
    {
      "cell_type": "code",
      "execution_count": 79,
      "metadata": {},
      "outputs": [],
      "source": [
        "for name, scaler in scalers.items(): # итеорируюсь по словарю скалеров\n",
        "    data_scaled = data.copy()\n",
        "    \n",
        "    col_names = ['price', 'weather']\n",
        "    data_scaled[col_names] = scaler.fit_transform(data_scaled[col_names])\n",
        "    \n",
        "    X, y = data_scaled.drop(columns='year'), data_scaled['year']\n",
        "    X_train, X_test, y_train, y_test = train_test_split(X, y, test_size=0.3, random_state=40)\n",
        "    \n",
        "    model = LinearRegression()\n",
        "    model.fit(X_train, y_train)\n",
        "    \n",
        "    y_test_pred = model.predict(X_test)\n",
        "    \n",
        "    # Для тествой выборки сохраняю результаты по каждому из скалеров\n",
        "    mae = mean_absolute_error(y_test, y_test_pred)\n",
        "    result[name] = round(mae, 3)"
      ]
    },
    {
      "cell_type": "code",
      "execution_count": 80,
      "metadata": {},
      "outputs": [
        {
          "data": {
            "text/plain": [
              "{'Standart': 3.041, 'MinMax': 3.041, 'Robust': 3.041}"
            ]
          },
          "execution_count": 80,
          "metadata": {},
          "output_type": "execute_result"
        }
      ],
      "source": [
        "result"
      ]
    },
    {
      "attachments": {},
      "cell_type": "markdown",
      "metadata": {},
      "source": [
        "### Задание 5.2\n",
        "Отмасштабируйте признак price с помощью RobustScaler.\n",
        "\n",
        "В качестве ответа запишите результат выполнения кода data['price'][1]. \n",
        "\n",
        "Ответ округлите до двух знаков после точки-разделителя."
      ]
    },
    {
      "cell_type": "code",
      "execution_count": 61,
      "metadata": {},
      "outputs": [],
      "source": [
        "rs = RobustScaler()"
      ]
    },
    {
      "cell_type": "code",
      "execution_count": 62,
      "metadata": {},
      "outputs": [],
      "source": [
        "data['price'] = rs.fit_transform(data[['price']])"
      ]
    },
    {
      "cell_type": "code",
      "execution_count": 66,
      "metadata": {},
      "outputs": [
        {
          "data": {
            "text/plain": [
              "0.19"
            ]
          },
          "execution_count": 66,
          "metadata": {},
          "output_type": "execute_result"
        }
      ],
      "source": [
        "# Просто значение цены после скалинга из строки с индексом 1\n",
        "round(data['price'][1], 2)"
      ]
    }
  ],
  "metadata": {
    "colab": {
      "name": "Масштабирование_признаков.ipynb",
      "provenance": []
    },
    "kernelspec": {
      "display_name": "Python 3.9.10 64-bit",
      "language": "python",
      "name": "python3"
    },
    "language_info": {
      "codemirror_mode": {
        "name": "ipython",
        "version": 3
      },
      "file_extension": ".py",
      "mimetype": "text/x-python",
      "name": "python",
      "nbconvert_exporter": "python",
      "pygments_lexer": "ipython3",
      "version": "3.9.10"
    },
    "vscode": {
      "interpreter": {
        "hash": "ce0e7e8478f0adf4f893607b28490b56060cc6330e9a48291a15f517e7031888"
      }
    }
  },
  "nbformat": 4,
  "nbformat_minor": 0
}
