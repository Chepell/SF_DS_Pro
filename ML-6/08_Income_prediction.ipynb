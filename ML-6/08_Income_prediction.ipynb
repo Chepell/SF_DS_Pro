{
  "cells": [
    {
      "cell_type": "markdown",
      "metadata": {
        "id": "Z2DiJyA-iYUt"
      },
      "source": [
        "# Предсказание   дохода\n",
        "\n"
      ]
    },
    {
      "attachments": {},
      "cell_type": "markdown",
      "metadata": {
        "id": "aQKQZ5VLh8SW"
      },
      "source": [
        "Целью данной задачи является построение модели **классификации пользователей**: \n",
        "\n",
        "на вход модель будет принимать данные о человеке, \n",
        "\n",
        "а на выходе она должна предсказывать бинарный уровень дохода человека (больше или меньше 50000$ за год)."
      ]
    },
    {
      "cell_type": "markdown",
      "metadata": {
        "id": "35Hlf5Umd5mO"
      },
      "source": [
        "## Загрузка библиотек"
      ]
    },
    {
      "cell_type": "code",
      "execution_count": 46,
      "metadata": {
        "id": "lQq3pQRJ1B-B"
      },
      "outputs": [],
      "source": [
        "import pandas as pd\n",
        "import numpy as np\n",
        "import matplotlib.pyplot as plt\n",
        "\n",
        "from sklearn import set_config\n",
        "set_config(transform_output='pandas')\n",
        "\n",
        "%matplotlib inline\n",
        "plt.style.use('seaborn-darkgrid')\n",
        "%config InlineBackend.figure_format = 'retina'\n",
        "plt.rcParams['figure.figsize'] = (10, 8)"
      ]
    },
    {
      "cell_type": "code",
      "execution_count": 47,
      "metadata": {
        "id": "69VzfYOpg_vg"
      },
      "outputs": [],
      "source": [
        "#!pip install comet_ml"
      ]
    },
    {
      "cell_type": "code",
      "execution_count": 48,
      "metadata": {
        "id": "2rU2GDJQg7Y_"
      },
      "outputs": [],
      "source": [
        "from comet_ml import Experiment"
      ]
    },
    {
      "cell_type": "code",
      "execution_count": 49,
      "metadata": {
        "id": "oy_whkH25Svt"
      },
      "outputs": [],
      "source": [
        "#@title CometML set up\n",
        "project_name = 'predict-income'\n",
        "workspace = 'ketrint'\n",
        "api_key = ''"
      ]
    },
    {
      "cell_type": "code",
      "execution_count": 50,
      "metadata": {
        "id": "2uq610Sp5Q7T"
      },
      "outputs": [
        {
          "name": "stderr",
          "output_type": "stream",
          "text": [
            "\u001b[1;38;5;214mCOMET WARNING:\u001b[0m To get all data logged automatically, import comet_ml before the following modules: sklearn.\n",
            "\u001b[1;38;5;214mCOMET WARNING:\u001b[0m As you are running in a Jupyter environment, you will need to call `experiment.end()` when finished to ensure all metrics and code are logged before exiting.\n",
            "\u001b[1;38;5;196mCOMET ERROR:\u001b[0m The given API key  is invalid on www.comet.com, please check it against the dashboard. Your experiment will not be logged \n",
            "For more details, please refer to: https://www.comet.com/docs/python-sdk/warnings-errors/\n",
            "\u001b[1;38;5;196mCOMET ERROR:\u001b[0m The given API key  is invalid on www.comet.com, please check it against the dashboard. Your experiment will not be logged \n",
            "For more details, please refer to: https://www.comet.com/docs/python-sdk/warnings-errors/\n"
          ]
        }
      ],
      "source": [
        "experiment = Experiment(project_name=project_name, workspace=workspace, api_key=api_key, log_code=True)"
      ]
    },
    {
      "cell_type": "markdown",
      "metadata": {
        "id": "4Y4KR8xhY7DT"
      },
      "source": [
        "## Загрузка данных"
      ]
    },
    {
      "cell_type": "code",
      "execution_count": 51,
      "metadata": {
        "id": "PcIX5bQHSVvR"
      },
      "outputs": [],
      "source": [
        "%%capture\n",
        "!wget https://www.dropbox.com/s/1hfrcm09qtvoeoz/train.csv\n",
        "!wget https://www.dropbox.com/s/jj7c8r0x57zda0a/test.csv"
      ]
    },
    {
      "cell_type": "code",
      "execution_count": 52,
      "metadata": {
        "id": "IxJX3snvCSWk"
      },
      "outputs": [],
      "source": [
        "# Данные изначально разделены на тренировочную и тестовую выборки\n",
        "train_data = pd.read_csv('data/train.csv')\n",
        "test_data = pd.read_csv('data/test.csv')"
      ]
    },
    {
      "cell_type": "code",
      "execution_count": 53,
      "metadata": {
        "id": "wRwTO3aOTDyJ"
      },
      "outputs": [
        {
          "data": {
            "text/html": [
              "<div>\n",
              "<style scoped>\n",
              "    .dataframe tbody tr th:only-of-type {\n",
              "        vertical-align: middle;\n",
              "    }\n",
              "\n",
              "    .dataframe tbody tr th {\n",
              "        vertical-align: top;\n",
              "    }\n",
              "\n",
              "    .dataframe thead th {\n",
              "        text-align: right;\n",
              "    }\n",
              "</style>\n",
              "<table border=\"1\" class=\"dataframe\">\n",
              "  <thead>\n",
              "    <tr style=\"text-align: right;\">\n",
              "      <th></th>\n",
              "      <th>age</th>\n",
              "      <th>workclass</th>\n",
              "      <th>education</th>\n",
              "      <th>marital-status</th>\n",
              "      <th>occupation</th>\n",
              "      <th>relationship</th>\n",
              "      <th>race</th>\n",
              "      <th>sex</th>\n",
              "      <th>capital-gain</th>\n",
              "      <th>capital-loss</th>\n",
              "      <th>hours-per-week</th>\n",
              "      <th>native-country</th>\n",
              "      <th>income</th>\n",
              "    </tr>\n",
              "  </thead>\n",
              "  <tbody>\n",
              "    <tr>\n",
              "      <th>0</th>\n",
              "      <td>49</td>\n",
              "      <td>Private</td>\n",
              "      <td>HS-grad</td>\n",
              "      <td>Married-civ-spouse</td>\n",
              "      <td>Craft-repair</td>\n",
              "      <td>Husband</td>\n",
              "      <td>White</td>\n",
              "      <td>Male</td>\n",
              "      <td>0.0</td>\n",
              "      <td>0.0</td>\n",
              "      <td>40</td>\n",
              "      <td>United-States</td>\n",
              "      <td>0</td>\n",
              "    </tr>\n",
              "    <tr>\n",
              "      <th>1</th>\n",
              "      <td>27</td>\n",
              "      <td>NaN</td>\n",
              "      <td>HS-grad</td>\n",
              "      <td>Married-civ-spouse</td>\n",
              "      <td>Machine-op-inspct</td>\n",
              "      <td>Husband</td>\n",
              "      <td>White</td>\n",
              "      <td>Male</td>\n",
              "      <td>0.0</td>\n",
              "      <td>0.0</td>\n",
              "      <td>45</td>\n",
              "      <td>United-States</td>\n",
              "      <td>0</td>\n",
              "    </tr>\n",
              "    <tr>\n",
              "      <th>2</th>\n",
              "      <td>44</td>\n",
              "      <td>NaN</td>\n",
              "      <td>11th</td>\n",
              "      <td>Married-civ-spouse</td>\n",
              "      <td>Other-service</td>\n",
              "      <td>Husband</td>\n",
              "      <td>Black</td>\n",
              "      <td>Male</td>\n",
              "      <td>0.0</td>\n",
              "      <td>0.0</td>\n",
              "      <td>60</td>\n",
              "      <td>United-States</td>\n",
              "      <td>0</td>\n",
              "    </tr>\n",
              "    <tr>\n",
              "      <th>3</th>\n",
              "      <td>59</td>\n",
              "      <td>Private</td>\n",
              "      <td>Bachelors</td>\n",
              "      <td>Separated</td>\n",
              "      <td>Adm-clerical</td>\n",
              "      <td>Unmarried</td>\n",
              "      <td>White</td>\n",
              "      <td>Male</td>\n",
              "      <td>0.0</td>\n",
              "      <td>0.0</td>\n",
              "      <td>60</td>\n",
              "      <td>United-States</td>\n",
              "      <td>0</td>\n",
              "    </tr>\n",
              "    <tr>\n",
              "      <th>4</th>\n",
              "      <td>54</td>\n",
              "      <td>Private</td>\n",
              "      <td>Bachelors</td>\n",
              "      <td>Divorced</td>\n",
              "      <td>Sales</td>\n",
              "      <td>Not-in-family</td>\n",
              "      <td>White</td>\n",
              "      <td>Female</td>\n",
              "      <td>0.0</td>\n",
              "      <td>1408.0</td>\n",
              "      <td>38</td>\n",
              "      <td>United-States</td>\n",
              "      <td>0</td>\n",
              "    </tr>\n",
              "    <tr>\n",
              "      <th>...</th>\n",
              "      <td>...</td>\n",
              "      <td>...</td>\n",
              "      <td>...</td>\n",
              "      <td>...</td>\n",
              "      <td>...</td>\n",
              "      <td>...</td>\n",
              "      <td>...</td>\n",
              "      <td>...</td>\n",
              "      <td>...</td>\n",
              "      <td>...</td>\n",
              "      <td>...</td>\n",
              "      <td>...</td>\n",
              "      <td>...</td>\n",
              "    </tr>\n",
              "    <tr>\n",
              "      <th>24415</th>\n",
              "      <td>47</td>\n",
              "      <td>Private</td>\n",
              "      <td>Bachelors</td>\n",
              "      <td>Married-civ-spouse</td>\n",
              "      <td>Craft-repair</td>\n",
              "      <td>Husband</td>\n",
              "      <td>White</td>\n",
              "      <td>Male</td>\n",
              "      <td>0.0</td>\n",
              "      <td>0.0</td>\n",
              "      <td>40</td>\n",
              "      <td>United-States</td>\n",
              "      <td>0</td>\n",
              "    </tr>\n",
              "    <tr>\n",
              "      <th>24416</th>\n",
              "      <td>31</td>\n",
              "      <td>Private</td>\n",
              "      <td>12th</td>\n",
              "      <td>Divorced</td>\n",
              "      <td>Other-service</td>\n",
              "      <td>Unmarried</td>\n",
              "      <td>White</td>\n",
              "      <td>Female</td>\n",
              "      <td>0.0</td>\n",
              "      <td>0.0</td>\n",
              "      <td>21</td>\n",
              "      <td>United-States</td>\n",
              "      <td>0</td>\n",
              "    </tr>\n",
              "    <tr>\n",
              "      <th>24417</th>\n",
              "      <td>18</td>\n",
              "      <td>Private</td>\n",
              "      <td>11th</td>\n",
              "      <td>Never-married</td>\n",
              "      <td>Adm-clerical</td>\n",
              "      <td>Own-child</td>\n",
              "      <td>White</td>\n",
              "      <td>Female</td>\n",
              "      <td>0.0</td>\n",
              "      <td>0.0</td>\n",
              "      <td>20</td>\n",
              "      <td>United-States</td>\n",
              "      <td>0</td>\n",
              "    </tr>\n",
              "    <tr>\n",
              "      <th>24418</th>\n",
              "      <td>50</td>\n",
              "      <td>Self-emp-not-inc</td>\n",
              "      <td>HS-grad</td>\n",
              "      <td>Married-civ-spouse</td>\n",
              "      <td>Farming-fishing</td>\n",
              "      <td>Husband</td>\n",
              "      <td>White</td>\n",
              "      <td>Male</td>\n",
              "      <td>0.0</td>\n",
              "      <td>0.0</td>\n",
              "      <td>84</td>\n",
              "      <td>United-States</td>\n",
              "      <td>0</td>\n",
              "    </tr>\n",
              "    <tr>\n",
              "      <th>24419</th>\n",
              "      <td>34</td>\n",
              "      <td>Self-emp-inc</td>\n",
              "      <td>Bachelors</td>\n",
              "      <td>Divorced</td>\n",
              "      <td>Farming-fishing</td>\n",
              "      <td>Not-in-family</td>\n",
              "      <td>White</td>\n",
              "      <td>Male</td>\n",
              "      <td>0.0</td>\n",
              "      <td>0.0</td>\n",
              "      <td>60</td>\n",
              "      <td>United-States</td>\n",
              "      <td>0</td>\n",
              "    </tr>\n",
              "  </tbody>\n",
              "</table>\n",
              "<p>24420 rows × 13 columns</p>\n",
              "</div>"
            ],
            "text/plain": [
              "       age         workclass  education      marital-status   \n",
              "0       49           Private    HS-grad  Married-civ-spouse  \\\n",
              "1       27               NaN    HS-grad  Married-civ-spouse   \n",
              "2       44               NaN       11th  Married-civ-spouse   \n",
              "3       59           Private  Bachelors           Separated   \n",
              "4       54           Private  Bachelors            Divorced   \n",
              "...    ...               ...        ...                 ...   \n",
              "24415   47           Private  Bachelors  Married-civ-spouse   \n",
              "24416   31           Private       12th            Divorced   \n",
              "24417   18           Private       11th       Never-married   \n",
              "24418   50  Self-emp-not-inc    HS-grad  Married-civ-spouse   \n",
              "24419   34      Self-emp-inc  Bachelors            Divorced   \n",
              "\n",
              "              occupation   relationship   race     sex  capital-gain   \n",
              "0           Craft-repair        Husband  White    Male           0.0  \\\n",
              "1      Machine-op-inspct        Husband  White    Male           0.0   \n",
              "2          Other-service        Husband  Black    Male           0.0   \n",
              "3           Adm-clerical      Unmarried  White    Male           0.0   \n",
              "4                  Sales  Not-in-family  White  Female           0.0   \n",
              "...                  ...            ...    ...     ...           ...   \n",
              "24415       Craft-repair        Husband  White    Male           0.0   \n",
              "24416      Other-service      Unmarried  White  Female           0.0   \n",
              "24417       Adm-clerical      Own-child  White  Female           0.0   \n",
              "24418    Farming-fishing        Husband  White    Male           0.0   \n",
              "24419    Farming-fishing  Not-in-family  White    Male           0.0   \n",
              "\n",
              "       capital-loss  hours-per-week native-country  income  \n",
              "0               0.0              40  United-States       0  \n",
              "1               0.0              45  United-States       0  \n",
              "2               0.0              60  United-States       0  \n",
              "3               0.0              60  United-States       0  \n",
              "4            1408.0              38  United-States       0  \n",
              "...             ...             ...            ...     ...  \n",
              "24415           0.0              40  United-States       0  \n",
              "24416           0.0              21  United-States       0  \n",
              "24417           0.0              20  United-States       0  \n",
              "24418           0.0              84  United-States       0  \n",
              "24419           0.0              60  United-States       0  \n",
              "\n",
              "[24420 rows x 13 columns]"
            ]
          },
          "execution_count": 53,
          "metadata": {},
          "output_type": "execute_result"
        }
      ],
      "source": [
        "train_data"
      ]
    },
    {
      "cell_type": "code",
      "execution_count": 54,
      "metadata": {},
      "outputs": [
        {
          "data": {
            "text/html": [
              "<div>\n",
              "<style scoped>\n",
              "    .dataframe tbody tr th:only-of-type {\n",
              "        vertical-align: middle;\n",
              "    }\n",
              "\n",
              "    .dataframe tbody tr th {\n",
              "        vertical-align: top;\n",
              "    }\n",
              "\n",
              "    .dataframe thead th {\n",
              "        text-align: right;\n",
              "    }\n",
              "</style>\n",
              "<table border=\"1\" class=\"dataframe\">\n",
              "  <thead>\n",
              "    <tr style=\"text-align: right;\">\n",
              "      <th></th>\n",
              "      <th>age</th>\n",
              "      <th>workclass</th>\n",
              "      <th>education</th>\n",
              "      <th>marital-status</th>\n",
              "      <th>occupation</th>\n",
              "      <th>relationship</th>\n",
              "      <th>race</th>\n",
              "      <th>sex</th>\n",
              "      <th>capital-gain</th>\n",
              "      <th>capital-loss</th>\n",
              "      <th>hours-per-week</th>\n",
              "      <th>native-country</th>\n",
              "      <th>income</th>\n",
              "    </tr>\n",
              "  </thead>\n",
              "  <tbody>\n",
              "    <tr>\n",
              "      <th>0</th>\n",
              "      <td>27</td>\n",
              "      <td>Private</td>\n",
              "      <td>Some-college</td>\n",
              "      <td>Divorced</td>\n",
              "      <td>Adm-clerical</td>\n",
              "      <td>Not-in-family</td>\n",
              "      <td>White</td>\n",
              "      <td>Female</td>\n",
              "      <td>0.0</td>\n",
              "      <td>0.0</td>\n",
              "      <td>38</td>\n",
              "      <td>United-States</td>\n",
              "      <td>0</td>\n",
              "    </tr>\n",
              "    <tr>\n",
              "      <th>1</th>\n",
              "      <td>45</td>\n",
              "      <td>State-gov</td>\n",
              "      <td>HS-grad</td>\n",
              "      <td>Married-civ-spouse</td>\n",
              "      <td>Exec-managerial</td>\n",
              "      <td>Wife</td>\n",
              "      <td>White</td>\n",
              "      <td>Female</td>\n",
              "      <td>0.0</td>\n",
              "      <td>0.0</td>\n",
              "      <td>40</td>\n",
              "      <td>United-States</td>\n",
              "      <td>0</td>\n",
              "    </tr>\n",
              "    <tr>\n",
              "      <th>2</th>\n",
              "      <td>29</td>\n",
              "      <td>Private</td>\n",
              "      <td>Bachelors</td>\n",
              "      <td>Married-civ-spouse</td>\n",
              "      <td>Exec-managerial</td>\n",
              "      <td>Husband</td>\n",
              "      <td>Black</td>\n",
              "      <td>Male</td>\n",
              "      <td>0.0</td>\n",
              "      <td>NaN</td>\n",
              "      <td>55</td>\n",
              "      <td>United-States</td>\n",
              "      <td>1</td>\n",
              "    </tr>\n",
              "    <tr>\n",
              "      <th>3</th>\n",
              "      <td>30</td>\n",
              "      <td>Private</td>\n",
              "      <td>Bachelors</td>\n",
              "      <td>Never-married</td>\n",
              "      <td>Machine-op-inspct</td>\n",
              "      <td>Not-in-family</td>\n",
              "      <td>White</td>\n",
              "      <td>Female</td>\n",
              "      <td>0.0</td>\n",
              "      <td>0.0</td>\n",
              "      <td>40</td>\n",
              "      <td>United-States</td>\n",
              "      <td>0</td>\n",
              "    </tr>\n",
              "    <tr>\n",
              "      <th>4</th>\n",
              "      <td>29</td>\n",
              "      <td>Self-emp-not-inc</td>\n",
              "      <td>Some-college</td>\n",
              "      <td>Divorced</td>\n",
              "      <td>Craft-repair</td>\n",
              "      <td>Not-in-family</td>\n",
              "      <td>White</td>\n",
              "      <td>Male</td>\n",
              "      <td>2202.0</td>\n",
              "      <td>0.0</td>\n",
              "      <td>50</td>\n",
              "      <td>United-States</td>\n",
              "      <td>0</td>\n",
              "    </tr>\n",
              "    <tr>\n",
              "      <th>...</th>\n",
              "      <td>...</td>\n",
              "      <td>...</td>\n",
              "      <td>...</td>\n",
              "      <td>...</td>\n",
              "      <td>...</td>\n",
              "      <td>...</td>\n",
              "      <td>...</td>\n",
              "      <td>...</td>\n",
              "      <td>...</td>\n",
              "      <td>...</td>\n",
              "      <td>...</td>\n",
              "      <td>...</td>\n",
              "      <td>...</td>\n",
              "    </tr>\n",
              "    <tr>\n",
              "      <th>8136</th>\n",
              "      <td>35</td>\n",
              "      <td>Private</td>\n",
              "      <td>HS-grad</td>\n",
              "      <td>Separated</td>\n",
              "      <td>Other-service</td>\n",
              "      <td>Not-in-family</td>\n",
              "      <td>Black</td>\n",
              "      <td>Male</td>\n",
              "      <td>0.0</td>\n",
              "      <td>0.0</td>\n",
              "      <td>40</td>\n",
              "      <td>United-States</td>\n",
              "      <td>0</td>\n",
              "    </tr>\n",
              "    <tr>\n",
              "      <th>8137</th>\n",
              "      <td>60</td>\n",
              "      <td>Private</td>\n",
              "      <td>5th-6th</td>\n",
              "      <td>Married-civ-spouse</td>\n",
              "      <td>Sales</td>\n",
              "      <td>Husband</td>\n",
              "      <td>White</td>\n",
              "      <td>Male</td>\n",
              "      <td>NaN</td>\n",
              "      <td>0.0</td>\n",
              "      <td>40</td>\n",
              "      <td>?</td>\n",
              "      <td>1</td>\n",
              "    </tr>\n",
              "    <tr>\n",
              "      <th>8138</th>\n",
              "      <td>25</td>\n",
              "      <td>?</td>\n",
              "      <td>HS-grad</td>\n",
              "      <td>Never-married</td>\n",
              "      <td>?</td>\n",
              "      <td>Unmarried</td>\n",
              "      <td>Black</td>\n",
              "      <td>Female</td>\n",
              "      <td>0.0</td>\n",
              "      <td>0.0</td>\n",
              "      <td>40</td>\n",
              "      <td>United-States</td>\n",
              "      <td>0</td>\n",
              "    </tr>\n",
              "    <tr>\n",
              "      <th>8139</th>\n",
              "      <td>50</td>\n",
              "      <td>Private</td>\n",
              "      <td>Bachelors</td>\n",
              "      <td>Married-civ-spouse</td>\n",
              "      <td>Sales</td>\n",
              "      <td>Husband</td>\n",
              "      <td>White</td>\n",
              "      <td>Male</td>\n",
              "      <td>0.0</td>\n",
              "      <td>0.0</td>\n",
              "      <td>40</td>\n",
              "      <td>United-States</td>\n",
              "      <td>1</td>\n",
              "    </tr>\n",
              "    <tr>\n",
              "      <th>8140</th>\n",
              "      <td>24</td>\n",
              "      <td>Self-emp-not-inc</td>\n",
              "      <td>7th-8th</td>\n",
              "      <td>Married-civ-spouse</td>\n",
              "      <td>Transport-moving</td>\n",
              "      <td>Husband</td>\n",
              "      <td>White</td>\n",
              "      <td>Male</td>\n",
              "      <td>0.0</td>\n",
              "      <td>1902.0</td>\n",
              "      <td>40</td>\n",
              "      <td>United-States</td>\n",
              "      <td>1</td>\n",
              "    </tr>\n",
              "  </tbody>\n",
              "</table>\n",
              "<p>8141 rows × 13 columns</p>\n",
              "</div>"
            ],
            "text/plain": [
              "      age         workclass     education      marital-status   \n",
              "0      27           Private  Some-college            Divorced  \\\n",
              "1      45         State-gov       HS-grad  Married-civ-spouse   \n",
              "2      29           Private     Bachelors  Married-civ-spouse   \n",
              "3      30           Private     Bachelors       Never-married   \n",
              "4      29  Self-emp-not-inc  Some-college            Divorced   \n",
              "...   ...               ...           ...                 ...   \n",
              "8136   35           Private       HS-grad           Separated   \n",
              "8137   60           Private       5th-6th  Married-civ-spouse   \n",
              "8138   25                 ?       HS-grad       Never-married   \n",
              "8139   50           Private     Bachelors  Married-civ-spouse   \n",
              "8140   24  Self-emp-not-inc       7th-8th  Married-civ-spouse   \n",
              "\n",
              "             occupation   relationship   race     sex  capital-gain   \n",
              "0          Adm-clerical  Not-in-family  White  Female           0.0  \\\n",
              "1       Exec-managerial           Wife  White  Female           0.0   \n",
              "2       Exec-managerial        Husband  Black    Male           0.0   \n",
              "3     Machine-op-inspct  Not-in-family  White  Female           0.0   \n",
              "4          Craft-repair  Not-in-family  White    Male        2202.0   \n",
              "...                 ...            ...    ...     ...           ...   \n",
              "8136      Other-service  Not-in-family  Black    Male           0.0   \n",
              "8137              Sales        Husband  White    Male           NaN   \n",
              "8138                  ?      Unmarried  Black  Female           0.0   \n",
              "8139              Sales        Husband  White    Male           0.0   \n",
              "8140   Transport-moving        Husband  White    Male           0.0   \n",
              "\n",
              "      capital-loss  hours-per-week native-country  income  \n",
              "0              0.0              38  United-States       0  \n",
              "1              0.0              40  United-States       0  \n",
              "2              NaN              55  United-States       1  \n",
              "3              0.0              40  United-States       0  \n",
              "4              0.0              50  United-States       0  \n",
              "...            ...             ...            ...     ...  \n",
              "8136           0.0              40  United-States       0  \n",
              "8137           0.0              40              ?       1  \n",
              "8138           0.0              40  United-States       0  \n",
              "8139           0.0              40  United-States       1  \n",
              "8140        1902.0              40  United-States       1  \n",
              "\n",
              "[8141 rows x 13 columns]"
            ]
          },
          "execution_count": 54,
          "metadata": {},
          "output_type": "execute_result"
        }
      ],
      "source": [
        "test_data"
      ]
    },
    {
      "attachments": {},
      "cell_type": "markdown",
      "metadata": {},
      "source": [
        "Вижу в данных пропуски, которые закодированы через ?. Надо их перевести в NaN"
      ]
    },
    {
      "cell_type": "code",
      "execution_count": 55,
      "metadata": {},
      "outputs": [],
      "source": [
        "# train_data.replace(r'^\\?$', np.NaN, regex=True, inplace=True)\n",
        "# test_data.replace(r'^\\?$', np.NaN, regex=True, inplace=True)"
      ]
    },
    {
      "cell_type": "code",
      "execution_count": 56,
      "metadata": {},
      "outputs": [
        {
          "data": {
            "text/plain": [
              "workclass       1197\n",
              "education        977\n",
              "capital-gain     715\n",
              "capital-loss     484\n",
              "dtype: int64"
            ]
          },
          "execution_count": 56,
          "metadata": {},
          "output_type": "execute_result"
        }
      ],
      "source": [
        "zero_on_train = train_data.isnull().sum()\n",
        "zero_on_train[zero_on_train > 0]"
      ]
    },
    {
      "cell_type": "code",
      "execution_count": 57,
      "metadata": {},
      "outputs": [
        {
          "data": {
            "text/plain": [
              "workclass       431\n",
              "education       325\n",
              "capital-gain    262\n",
              "capital-loss    167\n",
              "dtype: int64"
            ]
          },
          "execution_count": 57,
          "metadata": {},
          "output_type": "execute_result"
        }
      ],
      "source": [
        "zero_on_test = test_data.isnull().sum()\n",
        "zero_on_test[zero_on_test > 0]"
      ]
    },
    {
      "cell_type": "markdown",
      "metadata": {
        "id": "q73WSH86CpLG"
      },
      "source": [
        "Проверим размерности наших файлов:"
      ]
    },
    {
      "cell_type": "code",
      "execution_count": 58,
      "metadata": {
        "id": "KFkoCnueTLNo"
      },
      "outputs": [
        {
          "data": {
            "text/plain": [
              "((24420, 13), (8141, 13))"
            ]
          },
          "execution_count": 58,
          "metadata": {},
          "output_type": "execute_result"
        }
      ],
      "source": [
        "train_data.shape, test_data.shape"
      ]
    },
    {
      "cell_type": "markdown",
      "metadata": {
        "id": "pBQO2lYwLjWL"
      },
      "source": [
        "**Работаем с целевой переменной**\n",
        "\n"
      ]
    },
    {
      "cell_type": "code",
      "execution_count": 59,
      "metadata": {
        "id": "R7nASgBNLqs7"
      },
      "outputs": [],
      "source": [
        "TARGET = 'income'"
      ]
    },
    {
      "cell_type": "code",
      "execution_count": 60,
      "metadata": {
        "id": "aQEHV1oWiJm5"
      },
      "outputs": [],
      "source": [
        "X_train, y_train = train_data.drop(columns=[TARGET]), train_data[TARGET]\n",
        "X_test, y_test = test_data.drop(columns=[TARGET]), test_data[TARGET]"
      ]
    },
    {
      "cell_type": "markdown",
      "metadata": {
        "id": "GZVzIXWCiUL0"
      },
      "source": [
        "**Оценка сбалансированности выборки**"
      ]
    },
    {
      "cell_type": "code",
      "execution_count": 61,
      "metadata": {
        "id": "1mQwk5PJidAs"
      },
      "outputs": [
        {
          "data": {
            "text/plain": [
              "income\n",
              "0    0.757821\n",
              "1    0.242179\n",
              "Name: proportion, dtype: float64"
            ]
          },
          "execution_count": 61,
          "metadata": {},
          "output_type": "execute_result"
        }
      ],
      "source": [
        "y_train.value_counts(normalize=True)"
      ]
    },
    {
      "cell_type": "code",
      "execution_count": 62,
      "metadata": {},
      "outputs": [
        {
          "data": {
            "text/plain": [
              "income\n",
              "0    0.763297\n",
              "1    0.236703\n",
              "Name: proportion, dtype: float64"
            ]
          },
          "execution_count": 62,
          "metadata": {},
          "output_type": "execute_result"
        }
      ],
      "source": [
        "y_test.value_counts(normalize=True)"
      ]
    },
    {
      "attachments": {},
      "cell_type": "markdown",
      "metadata": {
        "id": "UeUYHhsXipCF"
      },
      "source": [
        "Таким образом, имеем задачу **несбалансированной бинарной классификации**.\n",
        "\n",
        "Но при этом видно, что датасет на выборки был разделен со стратификацией, доли целевых классов сохранены."
      ]
    },
    {
      "cell_type": "markdown",
      "metadata": {
        "id": "wb9oWB7Qasok"
      },
      "source": [
        "## Общая статистика по числовым данным\n",
        "\n"
      ]
    },
    {
      "cell_type": "code",
      "execution_count": 63,
      "metadata": {
        "id": "3qsVchVHTOHj"
      },
      "outputs": [
        {
          "data": {
            "text/html": [
              "<div>\n",
              "<style scoped>\n",
              "    .dataframe tbody tr th:only-of-type {\n",
              "        vertical-align: middle;\n",
              "    }\n",
              "\n",
              "    .dataframe tbody tr th {\n",
              "        vertical-align: top;\n",
              "    }\n",
              "\n",
              "    .dataframe thead th {\n",
              "        text-align: right;\n",
              "    }\n",
              "</style>\n",
              "<table border=\"1\" class=\"dataframe\">\n",
              "  <thead>\n",
              "    <tr style=\"text-align: right;\">\n",
              "      <th></th>\n",
              "      <th>count</th>\n",
              "      <th>mean</th>\n",
              "      <th>std</th>\n",
              "      <th>min</th>\n",
              "      <th>25%</th>\n",
              "      <th>50%</th>\n",
              "      <th>75%</th>\n",
              "      <th>max</th>\n",
              "    </tr>\n",
              "  </thead>\n",
              "  <tbody>\n",
              "    <tr>\n",
              "      <th>age</th>\n",
              "      <td>24420.0</td>\n",
              "      <td>38.598116</td>\n",
              "      <td>13.638458</td>\n",
              "      <td>17.0</td>\n",
              "      <td>28.0</td>\n",
              "      <td>37.0</td>\n",
              "      <td>48.0</td>\n",
              "      <td>90.0</td>\n",
              "    </tr>\n",
              "    <tr>\n",
              "      <th>capital-gain</th>\n",
              "      <td>23705.0</td>\n",
              "      <td>1051.724067</td>\n",
              "      <td>7199.945441</td>\n",
              "      <td>0.0</td>\n",
              "      <td>0.0</td>\n",
              "      <td>0.0</td>\n",
              "      <td>0.0</td>\n",
              "      <td>99999.0</td>\n",
              "    </tr>\n",
              "    <tr>\n",
              "      <th>capital-loss</th>\n",
              "      <td>23936.0</td>\n",
              "      <td>88.409592</td>\n",
              "      <td>404.466154</td>\n",
              "      <td>0.0</td>\n",
              "      <td>0.0</td>\n",
              "      <td>0.0</td>\n",
              "      <td>0.0</td>\n",
              "      <td>4356.0</td>\n",
              "    </tr>\n",
              "    <tr>\n",
              "      <th>hours-per-week</th>\n",
              "      <td>24420.0</td>\n",
              "      <td>40.386568</td>\n",
              "      <td>12.299621</td>\n",
              "      <td>1.0</td>\n",
              "      <td>40.0</td>\n",
              "      <td>40.0</td>\n",
              "      <td>45.0</td>\n",
              "      <td>99.0</td>\n",
              "    </tr>\n",
              "  </tbody>\n",
              "</table>\n",
              "</div>"
            ],
            "text/plain": [
              "                  count         mean          std   min   25%   50%   75%   \n",
              "age             24420.0    38.598116    13.638458  17.0  28.0  37.0  48.0  \\\n",
              "capital-gain    23705.0  1051.724067  7199.945441   0.0   0.0   0.0   0.0   \n",
              "capital-loss    23936.0    88.409592   404.466154   0.0   0.0   0.0   0.0   \n",
              "hours-per-week  24420.0    40.386568    12.299621   1.0  40.0  40.0  45.0   \n",
              "\n",
              "                    max  \n",
              "age                90.0  \n",
              "capital-gain    99999.0  \n",
              "capital-loss     4356.0  \n",
              "hours-per-week     99.0  "
            ]
          },
          "execution_count": 63,
          "metadata": {},
          "output_type": "execute_result"
        }
      ],
      "source": [
        "X_train.describe().T"
      ]
    },
    {
      "cell_type": "code",
      "execution_count": 64,
      "metadata": {},
      "outputs": [
        {
          "data": {
            "text/html": [
              "<div>\n",
              "<style scoped>\n",
              "    .dataframe tbody tr th:only-of-type {\n",
              "        vertical-align: middle;\n",
              "    }\n",
              "\n",
              "    .dataframe tbody tr th {\n",
              "        vertical-align: top;\n",
              "    }\n",
              "\n",
              "    .dataframe thead th {\n",
              "        text-align: right;\n",
              "    }\n",
              "</style>\n",
              "<table border=\"1\" class=\"dataframe\">\n",
              "  <thead>\n",
              "    <tr style=\"text-align: right;\">\n",
              "      <th></th>\n",
              "      <th>count</th>\n",
              "      <th>mean</th>\n",
              "      <th>std</th>\n",
              "      <th>min</th>\n",
              "      <th>25%</th>\n",
              "      <th>50%</th>\n",
              "      <th>75%</th>\n",
              "      <th>max</th>\n",
              "    </tr>\n",
              "  </thead>\n",
              "  <tbody>\n",
              "    <tr>\n",
              "      <th>age</th>\n",
              "      <td>8141.0</td>\n",
              "      <td>38.532244</td>\n",
              "      <td>13.647073</td>\n",
              "      <td>17.0</td>\n",
              "      <td>27.0</td>\n",
              "      <td>37.0</td>\n",
              "      <td>48.0</td>\n",
              "      <td>90.0</td>\n",
              "    </tr>\n",
              "    <tr>\n",
              "      <th>capital-gain</th>\n",
              "      <td>7879.0</td>\n",
              "      <td>1177.948471</td>\n",
              "      <td>8059.229616</td>\n",
              "      <td>0.0</td>\n",
              "      <td>0.0</td>\n",
              "      <td>0.0</td>\n",
              "      <td>0.0</td>\n",
              "      <td>99999.0</td>\n",
              "    </tr>\n",
              "    <tr>\n",
              "      <th>capital-loss</th>\n",
              "      <td>7974.0</td>\n",
              "      <td>82.083647</td>\n",
              "      <td>394.114726</td>\n",
              "      <td>0.0</td>\n",
              "      <td>0.0</td>\n",
              "      <td>0.0</td>\n",
              "      <td>0.0</td>\n",
              "      <td>4356.0</td>\n",
              "    </tr>\n",
              "    <tr>\n",
              "      <th>hours-per-week</th>\n",
              "      <td>8141.0</td>\n",
              "      <td>40.590099</td>\n",
              "      <td>12.489254</td>\n",
              "      <td>1.0</td>\n",
              "      <td>40.0</td>\n",
              "      <td>40.0</td>\n",
              "      <td>45.0</td>\n",
              "      <td>99.0</td>\n",
              "    </tr>\n",
              "  </tbody>\n",
              "</table>\n",
              "</div>"
            ],
            "text/plain": [
              "                 count         mean          std   min   25%   50%   75%   \n",
              "age             8141.0    38.532244    13.647073  17.0  27.0  37.0  48.0  \\\n",
              "capital-gain    7879.0  1177.948471  8059.229616   0.0   0.0   0.0   0.0   \n",
              "capital-loss    7974.0    82.083647   394.114726   0.0   0.0   0.0   0.0   \n",
              "hours-per-week  8141.0    40.590099    12.489254   1.0  40.0  40.0  45.0   \n",
              "\n",
              "                    max  \n",
              "age                90.0  \n",
              "capital-gain    99999.0  \n",
              "capital-loss     4356.0  \n",
              "hours-per-week     99.0  "
            ]
          },
          "execution_count": 64,
          "metadata": {},
          "output_type": "execute_result"
        }
      ],
      "source": [
        "X_test.describe().T"
      ]
    },
    {
      "attachments": {},
      "cell_type": "markdown",
      "metadata": {},
      "source": [
        "Статистики и распределения очень похожи на обоих выборках"
      ]
    },
    {
      "cell_type": "code",
      "execution_count": 65,
      "metadata": {
        "id": "-dkUNB3honuW"
      },
      "outputs": [
        {
          "data": {
            "image/png": "[encoded data removed]",
            "text/plain": [
              "<Figure size 864x576 with 4 Axes>"
            ]
          },
          "metadata": {
            "image/png": {
              "height": 477,
              "width": 718
            }
          },
          "output_type": "display_data"
        }
      ],
      "source": [
        "X_train.hist(figsize=(12,8));\n",
        "# experiment.log_figure('X_train_numeric_distr', plt)"
      ]
    },
    {
      "cell_type": "markdown",
      "metadata": {
        "id": "Q2UidrVYDVC8"
      },
      "source": [
        "Что мы можем увидеть из результатов?\n",
        "* Числовых переменных в исходных данных только 4;\n",
        "* Возраст пользователя варьируется в диапазоне от 17 до 90 лет и в среднем составляет 39 лет;\n",
        "* Видим пропуски в признаках capital-gain и capital-loss (значение count меньше размера данных). По гистограмме можно заметить, что большое количество значений в этих признаках - это просто нули;"
      ]
    },
    {
      "cell_type": "markdown",
      "metadata": {
        "id": "Y8tSidMjcZDb"
      },
      "source": [
        "## Предобработка данных"
      ]
    },
    {
      "cell_type": "markdown",
      "metadata": {
        "id": "bELiiw08d6d2"
      },
      "source": [
        "### Проверка на наличие пропусков и типов переменных\n",
        "\n"
      ]
    },
    {
      "cell_type": "code",
      "execution_count": 66,
      "metadata": {
        "id": "uWw94acacZY0"
      },
      "outputs": [
        {
          "name": "stdout",
          "output_type": "stream",
          "text": [
            "<class 'pandas.core.frame.DataFrame'>\n",
            "RangeIndex: 24420 entries, 0 to 24419\n",
            "Data columns (total 12 columns):\n",
            " #   Column          Non-Null Count  Dtype  \n",
            "---  ------          --------------  -----  \n",
            " 0   age             24420 non-null  int64  \n",
            " 1   workclass       23223 non-null  object \n",
            " 2   education       23443 non-null  object \n",
            " 3   marital-status  24420 non-null  object \n",
            " 4   occupation      24420 non-null  object \n",
            " 5   relationship    24420 non-null  object \n",
            " 6   race            24420 non-null  object \n",
            " 7   sex             24420 non-null  object \n",
            " 8   capital-gain    23705 non-null  float64\n",
            " 9   capital-loss    23936 non-null  float64\n",
            " 10  hours-per-week  24420 non-null  int64  \n",
            " 11  native-country  24420 non-null  object \n",
            "dtypes: float64(2), int64(2), object(8)\n",
            "memory usage: 2.2+ MB\n"
          ]
        }
      ],
      "source": [
        "X_train.info()"
      ]
    },
    {
      "cell_type": "markdown",
      "metadata": {
        "id": "PqNXnlFTpt7Q"
      },
      "source": [
        "Типы в наших данных:\n",
        "* 8 признаков типа **object** - обычно это строковые значения;\n",
        "* 3 признака типа **int64** - целочисленные значения;\n",
        "* 2 признака типа **float64** - числа с плавающей запятой. "
      ]
    },
    {
      "cell_type": "markdown",
      "metadata": {
        "id": "LA9sLCkDZsqX"
      },
      "source": [
        "Кроме этого, мы видим, что признаки *workclass, education, capital-gain и capital-loss* имеют пропуски в данных.\n",
        "\n",
        "### Обработка пропусков в данных\n",
        "\n",
        "Далеко не все алгоритмы умеют работать с пропусками в данных. Кроме этого, удачно заполнив пропуски, мы сможем лучше восстановить распределение данных, а значит лучше построить моделей. \n",
        "\n",
        "Самые популярные методы для обработки пропусков:\n",
        "- Удаление значений с пропусками (не желательно при большом количестве пропусков, потому что теряются данные);\n",
        "- Заполнение средним/медианным значением;\n",
        "- Заполненние самым частым значением;\n",
        "- Заполнение случайным значением.\n",
        "\n",
        "**Важно:** тестовую выборку мы всегда обрабатываем также, как и обучающую выборку. "
      ]
    },
    {
      "cell_type": "code",
      "execution_count": 67,
      "metadata": {
        "id": "_PTZtLrzbE4h"
      },
      "outputs": [],
      "source": [
        "X_train['capital-loss'] = X_train['capital-loss'].fillna(0)\n",
        "X_train['capital-gain'] = X_train['capital-gain'].fillna(0)"
      ]
    },
    {
      "cell_type": "markdown",
      "metadata": {
        "id": "WONBs7YvRoL_"
      },
      "source": [
        "Сделаем то же самое для тестовой выборки:"
      ]
    },
    {
      "cell_type": "code",
      "execution_count": 68,
      "metadata": {
        "id": "hj-bIyDWRqpO"
      },
      "outputs": [],
      "source": [
        "X_test['capital-loss'] = X_test['capital-loss'].fillna(0)\n",
        "X_test['capital-gain'] = X_test['capital-gain'].fillna(0)"
      ]
    },
    {
      "cell_type": "code",
      "execution_count": 69,
      "metadata": {
        "id": "e37oK2iIoECy"
      },
      "outputs": [
        {
          "data": {
            "text/plain": [
              "workclass\n",
              "Private    0.696766\n",
              "Name: proportion, dtype: float64"
            ]
          },
          "execution_count": 69,
          "metadata": {},
          "output_type": "execute_result"
        }
      ],
      "source": [
        "X_train['workclass'].value_counts(True).head(1)"
      ]
    },
    {
      "cell_type": "code",
      "execution_count": 70,
      "metadata": {
        "id": "1WqmG6k0oMkj"
      },
      "outputs": [
        {
          "data": {
            "text/plain": [
              "education\n",
              "HS-grad    0.322484\n",
              "Name: proportion, dtype: float64"
            ]
          },
          "execution_count": 70,
          "metadata": {},
          "output_type": "execute_result"
        }
      ],
      "source": [
        "X_train['education'].value_counts(True).head(1)"
      ]
    },
    {
      "cell_type": "code",
      "execution_count": 71,
      "metadata": {},
      "outputs": [],
      "source": [
        "# X_train[TARGET] = y_train"
      ]
    },
    {
      "cell_type": "code",
      "execution_count": 72,
      "metadata": {},
      "outputs": [],
      "source": [
        "# X_train.groupby(['income', 'workclass'])['workclass'].count()"
      ]
    },
    {
      "attachments": {},
      "cell_type": "markdown",
      "metadata": {},
      "source": [
        "Заполнение пропусков можно провести в разрезе целевого признака"
      ]
    },
    {
      "cell_type": "code",
      "execution_count": 73,
      "metadata": {},
      "outputs": [],
      "source": [
        "# X_train.groupby(['income', 'education'])['education'].count()"
      ]
    },
    {
      "cell_type": "markdown",
      "metadata": {
        "id": "pCmBSBylob1h"
      },
      "source": [
        "Наиболее частое значение признака **workclass** - Private, признака **education** - HS-grad. \n",
        "\n",
        "Теперь явно заполним пропуски:"
      ]
    },
    {
      "cell_type": "code",
      "execution_count": 74,
      "metadata": {
        "id": "aACIVqSOoRkz"
      },
      "outputs": [],
      "source": [
        "X_train['workclass'] = X_train['workclass'].fillna('Private')\n",
        "X_train['education'] = X_train['education'].fillna('HS-grad')"
      ]
    },
    {
      "cell_type": "markdown",
      "metadata": {
        "id": "dVzdpK0ARwYM"
      },
      "source": [
        "Сделаем то же самое для тестовой выборки:"
      ]
    },
    {
      "cell_type": "code",
      "execution_count": 75,
      "metadata": {
        "id": "-UWZxaU8Ry3d"
      },
      "outputs": [],
      "source": [
        "X_test['workclass'] = X_test['workclass'].fillna('Private')\n",
        "X_test['education'] = X_test['education'].fillna('HS-grad')"
      ]
    },
    {
      "cell_type": "markdown",
      "metadata": {
        "id": "LuWI69Ta2tFI"
      },
      "source": [
        "### Кодировка категориальных переменных"
      ]
    },
    {
      "cell_type": "markdown",
      "metadata": {
        "id": "LczY5qg93YpH"
      },
      "source": [
        "В данных 8 столбцов являются категориальными признаками. При чём в нашей задаче эти признаки **текстовые**. Машине сложно обрабатывать текстовые признаки, поэтому нам необходимо закодировать их, то есть преобразовать в числовые. \n",
        "\n",
        "Для начала необходимо выделить категорильные признаки:"
      ]
    },
    {
      "cell_type": "code",
      "execution_count": 76,
      "metadata": {
        "id": "mOVzv1WQ3jt9"
      },
      "outputs": [],
      "source": [
        "categorical_features = ['workclass', 'education', 'marital-status',\n",
        "                        'occupation', 'relationship', 'race', 'sex',\n",
        "                        'native-country']\n",
        "\n",
        "non_categorical_features = ['age', 'capital-gain', 'capital-loss',\n",
        "                            'hours-per-week']"
      ]
    },
    {
      "cell_type": "code",
      "execution_count": 77,
      "metadata": {},
      "outputs": [
        {
          "name": "stdout",
          "output_type": "stream",
          "text": [
            "workclass\n",
            "Private             71.16\n",
            "Self-emp-not-inc     7.38\n",
            "Local-gov            6.21\n",
            "?                    5.25\n",
            "State-gov            3.84\n",
            "Self-emp-inc         3.32\n",
            "Federal-gov          2.77\n",
            "Without-pay          0.04\n",
            "Never-worked         0.03\n",
            "Name: proportion, dtype: float64\n",
            "--------------------\n",
            "education\n",
            "HS-grad         34.96\n",
            "Some-college    21.42\n",
            "Bachelors       15.89\n",
            "Masters          5.04\n",
            "Assoc-voc        4.11\n",
            "11th             3.51\n",
            "Assoc-acdm       3.16\n",
            "10th             2.74\n",
            "7th-8th          1.84\n",
            "Prof-school      1.70\n",
            "9th              1.49\n",
            "12th             1.25\n",
            "Doctorate        1.24\n",
            "5th-6th          0.96\n",
            "1st-4th          0.54\n",
            "Preschool        0.15\n",
            "Name: proportion, dtype: float64\n",
            "--------------------\n",
            "marital-status\n",
            "Married-civ-spouse       46.26\n",
            "Never-married            32.74\n",
            "Divorced                 13.58\n",
            "Separated                 3.11\n",
            "Widowed                   2.99\n",
            "Married-spouse-absent     1.24\n",
            "Married-AF-spouse         0.08\n",
            "Name: proportion, dtype: float64\n",
            "--------------------\n",
            "occupation\n",
            "Prof-specialty       12.75\n",
            "Craft-repair         12.62\n",
            "Exec-managerial      12.47\n",
            "Adm-clerical         11.65\n",
            "Sales                11.23\n",
            "Other-service        10.07\n",
            "Machine-op-inspct     6.24\n",
            "?                     5.60\n",
            "Transport-moving      4.84\n",
            "Handlers-cleaners     4.22\n",
            "Farming-fishing       3.05\n",
            "Tech-support          2.83\n",
            "Protective-serv       1.93\n",
            "Priv-house-serv       0.48\n",
            "Armed-Forces          0.02\n",
            "Name: proportion, dtype: float64\n",
            "--------------------\n",
            "relationship\n",
            "Husband           40.81\n",
            "Not-in-family     25.27\n",
            "Own-child         15.50\n",
            "Unmarried         10.52\n",
            "Wife               4.79\n",
            "Other-relative     3.11\n",
            "Name: proportion, dtype: float64\n",
            "--------------------\n",
            "race\n",
            "White                 85.24\n",
            "Black                  9.71\n",
            "Asian-Pac-Islander     3.28\n",
            "Amer-Indian-Eskimo     0.91\n",
            "Other                  0.85\n",
            "Name: proportion, dtype: float64\n",
            "--------------------\n",
            "sex\n",
            "Male      66.84\n",
            "Female    33.16\n",
            "Name: proportion, dtype: float64\n",
            "--------------------\n",
            "native-country\n",
            "United-States                 89.38\n",
            "Mexico                         2.01\n",
            "?                              1.78\n",
            "Philippines                    0.63\n",
            "Germany                        0.41\n",
            "Canada                         0.38\n",
            "Puerto-Rico                    0.37\n",
            "El-Salvador                    0.33\n",
            "India                          0.30\n",
            "Cuba                           0.30\n",
            "England                        0.29\n",
            "South                          0.26\n",
            "Jamaica                        0.26\n",
            "Vietnam                        0.24\n",
            "China                          0.23\n",
            "Dominican-Republic             0.23\n",
            "Italy                          0.22\n",
            "Columbia                       0.21\n",
            "Japan                          0.20\n",
            "Guatemala                      0.20\n",
            "Poland                         0.19\n",
            "Taiwan                         0.16\n",
            "Haiti                          0.14\n",
            "Iran                           0.13\n",
            "Portugal                       0.11\n",
            "Nicaragua                      0.10\n",
            "Peru                           0.09\n",
            "France                         0.09\n",
            "Ecuador                        0.09\n",
            "Greece                         0.09\n",
            "Ireland                        0.07\n",
            "Trinadad&Tobago                0.07\n",
            "Cambodia                       0.06\n",
            "Outlying-US(Guam-USVI-etc)     0.06\n",
            "Laos                           0.05\n",
            "Hong                           0.05\n",
            "Thailand                       0.05\n",
            "Yugoslavia                     0.05\n",
            "Hungary                        0.04\n",
            "Honduras                       0.04\n",
            "Scotland                       0.03\n",
            "Holand-Netherlands             0.00\n",
            "Name: proportion, dtype: float64\n",
            "--------------------\n"
          ]
        }
      ],
      "source": [
        "for cat_col in categorical_features:\n",
        "    print(round(X_train[cat_col].value_counts(True) * 100, 2))\n",
        "    print('-' * 20)"
      ]
    },
    {
      "cell_type": "markdown",
      "metadata": {
        "id": "K_zOsUG4INUK"
      },
      "source": [
        "Посмотрим на столбцы категориальных переменных:"
      ]
    },
    {
      "cell_type": "code",
      "execution_count": 78,
      "metadata": {
        "id": "z92yPN_bHfsg"
      },
      "outputs": [
        {
          "data": {
            "text/html": [
              "<div>\n",
              "<style scoped>\n",
              "    .dataframe tbody tr th:only-of-type {\n",
              "        vertical-align: middle;\n",
              "    }\n",
              "\n",
              "    .dataframe tbody tr th {\n",
              "        vertical-align: top;\n",
              "    }\n",
              "\n",
              "    .dataframe thead th {\n",
              "        text-align: right;\n",
              "    }\n",
              "</style>\n",
              "<table border=\"1\" class=\"dataframe\">\n",
              "  <thead>\n",
              "    <tr style=\"text-align: right;\">\n",
              "      <th></th>\n",
              "      <th>workclass</th>\n",
              "      <th>education</th>\n",
              "      <th>marital-status</th>\n",
              "      <th>occupation</th>\n",
              "      <th>relationship</th>\n",
              "      <th>race</th>\n",
              "      <th>sex</th>\n",
              "      <th>native-country</th>\n",
              "    </tr>\n",
              "  </thead>\n",
              "  <tbody>\n",
              "    <tr>\n",
              "      <th>0</th>\n",
              "      <td>Private</td>\n",
              "      <td>HS-grad</td>\n",
              "      <td>Married-civ-spouse</td>\n",
              "      <td>Craft-repair</td>\n",
              "      <td>Husband</td>\n",
              "      <td>White</td>\n",
              "      <td>Male</td>\n",
              "      <td>United-States</td>\n",
              "    </tr>\n",
              "    <tr>\n",
              "      <th>1</th>\n",
              "      <td>Private</td>\n",
              "      <td>HS-grad</td>\n",
              "      <td>Married-civ-spouse</td>\n",
              "      <td>Machine-op-inspct</td>\n",
              "      <td>Husband</td>\n",
              "      <td>White</td>\n",
              "      <td>Male</td>\n",
              "      <td>United-States</td>\n",
              "    </tr>\n",
              "    <tr>\n",
              "      <th>2</th>\n",
              "      <td>Private</td>\n",
              "      <td>11th</td>\n",
              "      <td>Married-civ-spouse</td>\n",
              "      <td>Other-service</td>\n",
              "      <td>Husband</td>\n",
              "      <td>Black</td>\n",
              "      <td>Male</td>\n",
              "      <td>United-States</td>\n",
              "    </tr>\n",
              "    <tr>\n",
              "      <th>3</th>\n",
              "      <td>Private</td>\n",
              "      <td>Bachelors</td>\n",
              "      <td>Separated</td>\n",
              "      <td>Adm-clerical</td>\n",
              "      <td>Unmarried</td>\n",
              "      <td>White</td>\n",
              "      <td>Male</td>\n",
              "      <td>United-States</td>\n",
              "    </tr>\n",
              "    <tr>\n",
              "      <th>4</th>\n",
              "      <td>Private</td>\n",
              "      <td>Bachelors</td>\n",
              "      <td>Divorced</td>\n",
              "      <td>Sales</td>\n",
              "      <td>Not-in-family</td>\n",
              "      <td>White</td>\n",
              "      <td>Female</td>\n",
              "      <td>United-States</td>\n",
              "    </tr>\n",
              "  </tbody>\n",
              "</table>\n",
              "</div>"
            ],
            "text/plain": [
              "  workclass  education      marital-status         occupation   relationship   \n",
              "0   Private    HS-grad  Married-civ-spouse       Craft-repair        Husband  \\\n",
              "1   Private    HS-grad  Married-civ-spouse  Machine-op-inspct        Husband   \n",
              "2   Private       11th  Married-civ-spouse      Other-service        Husband   \n",
              "3   Private  Bachelors           Separated       Adm-clerical      Unmarried   \n",
              "4   Private  Bachelors            Divorced              Sales  Not-in-family   \n",
              "\n",
              "    race     sex native-country  \n",
              "0  White    Male  United-States  \n",
              "1  White    Male  United-States  \n",
              "2  Black    Male  United-States  \n",
              "3  White    Male  United-States  \n",
              "4  White  Female  United-States  "
            ]
          },
          "execution_count": 78,
          "metadata": {},
          "output_type": "execute_result"
        }
      ],
      "source": [
        "X_train[categorical_features].head()"
      ]
    },
    {
      "cell_type": "markdown",
      "metadata": {
        "id": "JV1YC8_VGkj0"
      },
      "source": [
        "Мы рассмотрим два популярных метода кодирования категориальных признаков:\n",
        "* Label Encoding, которому соответствует класс `LabelEncoder()` из библиотеки **sklearn**\n",
        "* One Hot Encoding, которому соответствует класс `OneHotEncoder()` из библиотеки **sklearn**"
      ]
    },
    {
      "attachments": {},
      "cell_type": "markdown",
      "metadata": {
        "id": "rU7NAImLB4pW"
      },
      "source": [
        "**Label Encoding**\n",
        "Вообще-то этот обработчик нужен для разметки целевого категориального признака, когда он не бинарный.\n",
        "Удобно этим обработчиком расставить числовые метки.\n",
        "\n",
        "Использование же его для кодировки категориальных признаков приводит к тому, что мы фактически случайным образом назначаем веса классам в признаках. Он начинает работать как OdrinaryEncoder, но без явного указания весов.\n",
        "\n",
        "Глупость какая-то!"
      ]
    },
    {
      "cell_type": "code",
      "execution_count": 79,
      "metadata": {
        "id": "7azZpi4UW4Is"
      },
      "outputs": [],
      "source": [
        "from sklearn.preprocessing import LabelEncoder"
      ]
    },
    {
      "cell_type": "code",
      "execution_count": 80,
      "metadata": {
        "id": "4K_zKpD-WVat"
      },
      "outputs": [],
      "source": [
        "label_encoder = LabelEncoder()"
      ]
    },
    {
      "cell_type": "code",
      "execution_count": 81,
      "metadata": {
        "id": "q4o6filra_Hi"
      },
      "outputs": [],
      "source": [
        "X_train_le = X_train.copy()\n",
        "X_test_le = X_test.copy()"
      ]
    },
    {
      "cell_type": "code",
      "execution_count": 82,
      "metadata": {
        "id": "tO_CPuksXEUG"
      },
      "outputs": [],
      "source": [
        "# из-за того что подход некорректный, пришлось использовать цикл что бы обработать каждый признак\n",
        "# ведь этот обработчик принимает лишь вектор меток y, а не матрицу признаков\n",
        "for feature in categorical_features:\n",
        "    X_train_le[feature] = label_encoder.fit_transform(X_train_le[feature])\n",
        "    X_test_le[feature] = label_encoder.transform(X_test_le[feature])"
      ]
    },
    {
      "cell_type": "code",
      "execution_count": 83,
      "metadata": {
        "id": "2vwfdRf9XKDi"
      },
      "outputs": [
        {
          "data": {
            "text/html": [
              "<div>\n",
              "<style scoped>\n",
              "    .dataframe tbody tr th:only-of-type {\n",
              "        vertical-align: middle;\n",
              "    }\n",
              "\n",
              "    .dataframe tbody tr th {\n",
              "        vertical-align: top;\n",
              "    }\n",
              "\n",
              "    .dataframe thead th {\n",
              "        text-align: right;\n",
              "    }\n",
              "</style>\n",
              "<table border=\"1\" class=\"dataframe\">\n",
              "  <thead>\n",
              "    <tr style=\"text-align: right;\">\n",
              "      <th></th>\n",
              "      <th>age</th>\n",
              "      <th>workclass</th>\n",
              "      <th>education</th>\n",
              "      <th>marital-status</th>\n",
              "      <th>occupation</th>\n",
              "      <th>relationship</th>\n",
              "      <th>race</th>\n",
              "      <th>sex</th>\n",
              "      <th>capital-gain</th>\n",
              "      <th>capital-loss</th>\n",
              "      <th>hours-per-week</th>\n",
              "      <th>native-country</th>\n",
              "    </tr>\n",
              "  </thead>\n",
              "  <tbody>\n",
              "    <tr>\n",
              "      <th>0</th>\n",
              "      <td>49</td>\n",
              "      <td>4</td>\n",
              "      <td>11</td>\n",
              "      <td>2</td>\n",
              "      <td>3</td>\n",
              "      <td>0</td>\n",
              "      <td>4</td>\n",
              "      <td>1</td>\n",
              "      <td>0.0</td>\n",
              "      <td>0.0</td>\n",
              "      <td>40</td>\n",
              "      <td>39</td>\n",
              "    </tr>\n",
              "    <tr>\n",
              "      <th>1</th>\n",
              "      <td>27</td>\n",
              "      <td>4</td>\n",
              "      <td>11</td>\n",
              "      <td>2</td>\n",
              "      <td>7</td>\n",
              "      <td>0</td>\n",
              "      <td>4</td>\n",
              "      <td>1</td>\n",
              "      <td>0.0</td>\n",
              "      <td>0.0</td>\n",
              "      <td>45</td>\n",
              "      <td>39</td>\n",
              "    </tr>\n",
              "    <tr>\n",
              "      <th>2</th>\n",
              "      <td>44</td>\n",
              "      <td>4</td>\n",
              "      <td>1</td>\n",
              "      <td>2</td>\n",
              "      <td>8</td>\n",
              "      <td>0</td>\n",
              "      <td>2</td>\n",
              "      <td>1</td>\n",
              "      <td>0.0</td>\n",
              "      <td>0.0</td>\n",
              "      <td>60</td>\n",
              "      <td>39</td>\n",
              "    </tr>\n",
              "    <tr>\n",
              "      <th>3</th>\n",
              "      <td>59</td>\n",
              "      <td>4</td>\n",
              "      <td>9</td>\n",
              "      <td>5</td>\n",
              "      <td>1</td>\n",
              "      <td>4</td>\n",
              "      <td>4</td>\n",
              "      <td>1</td>\n",
              "      <td>0.0</td>\n",
              "      <td>0.0</td>\n",
              "      <td>60</td>\n",
              "      <td>39</td>\n",
              "    </tr>\n",
              "    <tr>\n",
              "      <th>4</th>\n",
              "      <td>54</td>\n",
              "      <td>4</td>\n",
              "      <td>9</td>\n",
              "      <td>0</td>\n",
              "      <td>12</td>\n",
              "      <td>1</td>\n",
              "      <td>4</td>\n",
              "      <td>0</td>\n",
              "      <td>0.0</td>\n",
              "      <td>1408.0</td>\n",
              "      <td>38</td>\n",
              "      <td>39</td>\n",
              "    </tr>\n",
              "    <tr>\n",
              "      <th>...</th>\n",
              "      <td>...</td>\n",
              "      <td>...</td>\n",
              "      <td>...</td>\n",
              "      <td>...</td>\n",
              "      <td>...</td>\n",
              "      <td>...</td>\n",
              "      <td>...</td>\n",
              "      <td>...</td>\n",
              "      <td>...</td>\n",
              "      <td>...</td>\n",
              "      <td>...</td>\n",
              "      <td>...</td>\n",
              "    </tr>\n",
              "    <tr>\n",
              "      <th>24415</th>\n",
              "      <td>47</td>\n",
              "      <td>4</td>\n",
              "      <td>9</td>\n",
              "      <td>2</td>\n",
              "      <td>3</td>\n",
              "      <td>0</td>\n",
              "      <td>4</td>\n",
              "      <td>1</td>\n",
              "      <td>0.0</td>\n",
              "      <td>0.0</td>\n",
              "      <td>40</td>\n",
              "      <td>39</td>\n",
              "    </tr>\n",
              "    <tr>\n",
              "      <th>24416</th>\n",
              "      <td>31</td>\n",
              "      <td>4</td>\n",
              "      <td>2</td>\n",
              "      <td>0</td>\n",
              "      <td>8</td>\n",
              "      <td>4</td>\n",
              "      <td>4</td>\n",
              "      <td>0</td>\n",
              "      <td>0.0</td>\n",
              "      <td>0.0</td>\n",
              "      <td>21</td>\n",
              "      <td>39</td>\n",
              "    </tr>\n",
              "    <tr>\n",
              "      <th>24417</th>\n",
              "      <td>18</td>\n",
              "      <td>4</td>\n",
              "      <td>1</td>\n",
              "      <td>4</td>\n",
              "      <td>1</td>\n",
              "      <td>3</td>\n",
              "      <td>4</td>\n",
              "      <td>0</td>\n",
              "      <td>0.0</td>\n",
              "      <td>0.0</td>\n",
              "      <td>20</td>\n",
              "      <td>39</td>\n",
              "    </tr>\n",
              "    <tr>\n",
              "      <th>24418</th>\n",
              "      <td>50</td>\n",
              "      <td>6</td>\n",
              "      <td>11</td>\n",
              "      <td>2</td>\n",
              "      <td>5</td>\n",
              "      <td>0</td>\n",
              "      <td>4</td>\n",
              "      <td>1</td>\n",
              "      <td>0.0</td>\n",
              "      <td>0.0</td>\n",
              "      <td>84</td>\n",
              "      <td>39</td>\n",
              "    </tr>\n",
              "    <tr>\n",
              "      <th>24419</th>\n",
              "      <td>34</td>\n",
              "      <td>5</td>\n",
              "      <td>9</td>\n",
              "      <td>0</td>\n",
              "      <td>5</td>\n",
              "      <td>1</td>\n",
              "      <td>4</td>\n",
              "      <td>1</td>\n",
              "      <td>0.0</td>\n",
              "      <td>0.0</td>\n",
              "      <td>60</td>\n",
              "      <td>39</td>\n",
              "    </tr>\n",
              "  </tbody>\n",
              "</table>\n",
              "<p>24420 rows × 12 columns</p>\n",
              "</div>"
            ],
            "text/plain": [
              "       age  workclass  education  marital-status  occupation  relationship   \n",
              "0       49          4         11               2           3             0  \\\n",
              "1       27          4         11               2           7             0   \n",
              "2       44          4          1               2           8             0   \n",
              "3       59          4          9               5           1             4   \n",
              "4       54          4          9               0          12             1   \n",
              "...    ...        ...        ...             ...         ...           ...   \n",
              "24415   47          4          9               2           3             0   \n",
              "24416   31          4          2               0           8             4   \n",
              "24417   18          4          1               4           1             3   \n",
              "24418   50          6         11               2           5             0   \n",
              "24419   34          5          9               0           5             1   \n",
              "\n",
              "       race  sex  capital-gain  capital-loss  hours-per-week  native-country  \n",
              "0         4    1           0.0           0.0              40              39  \n",
              "1         4    1           0.0           0.0              45              39  \n",
              "2         2    1           0.0           0.0              60              39  \n",
              "3         4    1           0.0           0.0              60              39  \n",
              "4         4    0           0.0        1408.0              38              39  \n",
              "...     ...  ...           ...           ...             ...             ...  \n",
              "24415     4    1           0.0           0.0              40              39  \n",
              "24416     4    0           0.0           0.0              21              39  \n",
              "24417     4    0           0.0           0.0              20              39  \n",
              "24418     4    1           0.0           0.0              84              39  \n",
              "24419     4    1           0.0           0.0              60              39  \n",
              "\n",
              "[24420 rows x 12 columns]"
            ]
          },
          "execution_count": 83,
          "metadata": {},
          "output_type": "execute_result"
        }
      ],
      "source": [
        "X_train_le"
      ]
    },
    {
      "cell_type": "markdown",
      "metadata": {
        "id": "qrrLueZ5GrG3"
      },
      "source": [
        "**One Hot Encoding**\n",
        "\n"
      ]
    },
    {
      "cell_type": "code",
      "execution_count": 89,
      "metadata": {},
      "outputs": [],
      "source": [
        "from category_encoders import OneHotEncoder\n",
        "\n",
        "onehot_encoder = OneHotEncoder(categorical_features)\n",
        "\n",
        "X_train_ohe = X_train.copy()\n",
        "X_test_ohe = X_test.copy()\n",
        "\n",
        "X_train_ohe = onehot_encoder.fit_transform(X_train_ohe)\n",
        "X_test_ohe = onehot_encoder.transform(X_test_ohe)"
      ]
    },
    {
      "cell_type": "markdown",
      "metadata": {
        "id": "N-Dnf39-MniT"
      },
      "source": [
        "## Обучение модели "
      ]
    },
    {
      "cell_type": "markdown",
      "metadata": {
        "id": "7r-ezPSPNRUG"
      },
      "source": [
        "## Выбор метода обучения классификатора"
      ]
    },
    {
      "cell_type": "markdown",
      "metadata": {
        "id": "BgvuYNQdNKyn"
      },
      "source": [
        "Для обучения классификатора воспользуемся логистической регрессией.\n",
        " "
      ]
    },
    {
      "cell_type": "code",
      "execution_count": null,
      "metadata": {
        "id": "PCCoYu85Nf_k"
      },
      "outputs": [],
      "source": [
        "from sklearn.linear_model import LogisticRegression"
      ]
    },
    {
      "cell_type": "markdown",
      "metadata": {
        "id": "vSN0cNP3Pgsk"
      },
      "source": [
        "Создаем прототип класса модели:"
      ]
    },
    {
      "cell_type": "code",
      "execution_count": null,
      "metadata": {
        "id": "dUN2l43NUOIE"
      },
      "outputs": [],
      "source": [
        "linear_model = LogisticRegression()"
      ]
    },
    {
      "cell_type": "markdown",
      "metadata": {
        "id": "DlQ9PWWRRd2k"
      },
      "source": [
        "## Обучение модели на разных типах закодированных данных"
      ]
    },
    {
      "cell_type": "code",
      "execution_count": null,
      "metadata": {
        "id": "79qyodwCUe_v"
      },
      "outputs": [],
      "source": [
        "linear_model_oh.fit(X_train_new, y_train)"
      ]
    },
    {
      "cell_type": "code",
      "execution_count": null,
      "metadata": {
        "id": "WXQJ7o23Ugh7"
      },
      "outputs": [],
      "source": [
        "linear_model.fit(X_train_le, y_train)"
      ]
    },
    {
      "cell_type": "markdown",
      "metadata": {
        "id": "IE8LyQyaSY6R"
      },
      "source": [
        "# Валидация модели на тестовой выборке"
      ]
    },
    {
      "cell_type": "code",
      "execution_count": null,
      "metadata": {
        "id": "g_s_yA_iSMT9"
      },
      "outputs": [],
      "source": [
        "prediction_oh = linear_model_oh.predict(X_test_new)"
      ]
    },
    {
      "cell_type": "code",
      "execution_count": null,
      "metadata": {
        "colab": {
          "base_uri": "https://localhost:8080/"
        },
        "id": "ZyydK4D-6S8C",
        "outputId": "014bd325-7d0a-4538-9006-d3134c03440b"
      },
      "outputs": [
        {
          "data": {
            "text/plain": [
              "array([0, 1])"
            ]
          },
          "execution_count": 43,
          "metadata": {},
          "output_type": "execute_result"
        }
      ],
      "source": [
        "np.unique(prediction_oh)"
      ]
    },
    {
      "cell_type": "code",
      "execution_count": null,
      "metadata": {
        "id": "bJ2NC-gm5u57"
      },
      "outputs": [],
      "source": [
        "# Сколько 1го класса присутсвует в предсказаниях?"
      ]
    },
    {
      "cell_type": "code",
      "execution_count": null,
      "metadata": {
        "id": "HEcz8YET6bDN"
      },
      "outputs": [],
      "source": [
        "# Сколько 1го класса присутсвует в y_test?"
      ]
    },
    {
      "cell_type": "markdown",
      "metadata": {
        "id": "eO701_X2TW-o"
      },
      "source": [
        "## Точность предсказания"
      ]
    },
    {
      "cell_type": "markdown",
      "metadata": {
        "id": "204llIBtTb9R"
      },
      "source": [
        "Посчитаем точность (**accuracy**) работы моделей. Напомним, что точность отражает, сколько в процентном соотношении от размера тестовой выборки модель угадала 1 и сколько угадала 0.\n",
        "\n",
        "Функция для подсчета точности реализована в библиотеке **sklearn** и называется `accuracy_score()`."
      ]
    },
    {
      "cell_type": "code",
      "execution_count": null,
      "metadata": {
        "id": "3FAqJoLYTTjP"
      },
      "outputs": [],
      "source": [
        "from sklearn.metrics import accuracy_score"
      ]
    },
    {
      "cell_type": "code",
      "execution_count": null,
      "metadata": {
        "id": "OXZHjRjXRfHz"
      },
      "outputs": [],
      "source": [
        "acc_oh = accuracy_score(y_test, prediction_oh)"
      ]
    },
    {
      "cell_type": "code",
      "execution_count": null,
      "metadata": {
        "id": "_95B4ilE9XBE"
      },
      "outputs": [],
      "source": [
        "experiment.log_metric('Accuracy OneHot data', acc_oh)"
      ]
    },
    {
      "cell_type": "markdown",
      "metadata": {
        "id": "Ns5mvVBVTz_2"
      },
      "source": [
        "Сравним значения точности для наших моделей с точностью для константного классификатора, модели, которая всегда бы предсказывала больший класс, в нашем случае 0. Для этого можно в функцию `accuracy_score()` в качестве второго аргумента передать массив нулей такого же размера. Это делается с помощью функции `zeros_like()` из библиотеки **numpy**."
      ]
    },
    {
      "cell_type": "code",
      "execution_count": null,
      "metadata": {
        "colab": {
          "base_uri": "https://localhost:8080/"
        },
        "id": "vQs7EPs1Uup0",
        "outputId": "db2ee800-6b27-4b15-8ae7-ab2b4f432e24"
      },
      "outputs": [
        {
          "name": "stdout",
          "output_type": "stream",
          "text": [
            "Accuracy Major Class:  0.763\n"
          ]
        }
      ],
      "source": [
        "print('Accuracy Major Class: ', accuracy_score(y_test, np.zeros_like(y_test)).round(3))"
      ]
    },
    {
      "cell_type": "code",
      "execution_count": null,
      "metadata": {
        "id": "w9oRl584-HeP"
      },
      "outputs": [],
      "source": [
        "# Залогировать accuracy для LE"
      ]
    },
    {
      "cell_type": "markdown",
      "metadata": {
        "id": "9JpN8tQ4XOfv"
      },
      "source": [
        "## Таблица сопряженности модели классификации"
      ]
    },
    {
      "cell_type": "markdown",
      "metadata": {
        "id": "8hlfckZvXf_I"
      },
      "source": [
        "Другой способ оценивать качество работы классификатора - использовать таблицу сопряженности. \n",
        "\n",
        "\n",
        "|                   |  Предсказано `0` |  Предсказано `1` |\n",
        "|:-------------------|:------------------|:------------------|\n",
        "|**Фактически** `0`  |       TN         |       FP         |\n",
        "|**Фактически** `1`  |       FN         |       TP         | \n"
      ]
    },
    {
      "cell_type": "code",
      "execution_count": null,
      "metadata": {
        "id": "KXYf4rOQU6k1"
      },
      "outputs": [],
      "source": [
        "from sklearn.metrics import confusion_matrix"
      ]
    },
    {
      "cell_type": "code",
      "execution_count": null,
      "metadata": {
        "colab": {
          "base_uri": "https://localhost:8080/",
          "height": 111
        },
        "id": "ktRjQAmNZHPB",
        "outputId": "1b36f6d2-c728-47c9-e804-226384f82f28"
      },
      "outputs": [
        {
          "data": {
            "text/html": [
              "\n",
              "  <div id=\"df-c92760ce-0388-4462-8a47-e9fee7a274d0\">\n",
              "    <div class=\"colab-df-container\">\n",
              "      <div>\n",
              "<style scoped>\n",
              "    .dataframe tbody tr th:only-of-type {\n",
              "        vertical-align: middle;\n",
              "    }\n",
              "\n",
              "    .dataframe tbody tr th {\n",
              "        vertical-align: top;\n",
              "    }\n",
              "\n",
              "    .dataframe thead th {\n",
              "        text-align: right;\n",
              "    }\n",
              "</style>\n",
              "<table border=\"1\" class=\"dataframe\">\n",
              "  <thead>\n",
              "    <tr style=\"text-align: right;\">\n",
              "      <th></th>\n",
              "      <th>0</th>\n",
              "      <th>1</th>\n",
              "    </tr>\n",
              "  </thead>\n",
              "  <tbody>\n",
              "    <tr>\n",
              "      <th>0</th>\n",
              "      <td>5881</td>\n",
              "      <td>333</td>\n",
              "    </tr>\n",
              "    <tr>\n",
              "      <th>1</th>\n",
              "      <td>663</td>\n",
              "      <td>1264</td>\n",
              "    </tr>\n",
              "  </tbody>\n",
              "</table>\n",
              "</div>\n",
              "      <button class=\"colab-df-convert\" onclick=\"convertToInteractive('df-c92760ce-0388-4462-8a47-e9fee7a274d0')\"\n",
              "              title=\"Convert this dataframe to an interactive table.\"\n",
              "              style=\"display:none;\">\n",
              "        \n",
              "  <svg xmlns=\"http://www.w3.org/2000/svg\" height=\"24px\"viewBox=\"0 0 24 24\"\n",
              "       width=\"24px\">\n",
              "    <path d=\"M0 0h24v24H0V0z\" fill=\"none\"/>\n",
              "    <path d=\"M18.56 5.44l.94 2.06.94-2.06 2.06-.94-2.06-.94-.94-2.06-.94 2.06-2.06.94zm-11 1L8.5 8.5l.94-2.06 2.06-.94-2.06-.94L8.5 2.5l-.94 2.06-2.06.94zm10 10l.94 2.06.94-2.06 2.06-.94-2.06-.94-.94-2.06-.94 2.06-2.06.94z\"/><path d=\"M17.41 7.96l-1.37-1.37c-.4-.4-.92-.59-1.43-.59-.52 0-1.04.2-1.43.59L10.3 9.45l-7.72 7.72c-.78.78-.78 2.05 0 2.83L4 21.41c.39.39.9.59 1.41.59.51 0 1.02-.2 1.41-.59l7.78-7.78 2.81-2.81c.8-.78.8-2.07 0-2.86zM5.41 20L4 18.59l7.72-7.72 1.47 1.35L5.41 20z\"/>\n",
              "  </svg>\n",
              "      </button>\n",
              "      \n",
              "  <style>\n",
              "    .colab-df-container {\n",
              "      display:flex;\n",
              "      flex-wrap:wrap;\n",
              "      gap: 12px;\n",
              "    }\n",
              "\n",
              "    .colab-df-convert {\n",
              "      background-color: #E8F0FE;\n",
              "      border: none;\n",
              "      border-radius: 50%;\n",
              "      cursor: pointer;\n",
              "      display: none;\n",
              "      fill: #1967D2;\n",
              "      height: 32px;\n",
              "      padding: 0 0 0 0;\n",
              "      width: 32px;\n",
              "    }\n",
              "\n",
              "    .colab-df-convert:hover {\n",
              "      background-color: #E2EBFA;\n",
              "      box-shadow: 0px 1px 2px rgba(60, 64, 67, 0.3), 0px 1px 3px 1px rgba(60, 64, 67, 0.15);\n",
              "      fill: #174EA6;\n",
              "    }\n",
              "\n",
              "    [theme=dark] .colab-df-convert {\n",
              "      background-color: #3B4455;\n",
              "      fill: #D2E3FC;\n",
              "    }\n",
              "\n",
              "    [theme=dark] .colab-df-convert:hover {\n",
              "      background-color: #434B5C;\n",
              "      box-shadow: 0px 1px 3px 1px rgba(0, 0, 0, 0.15);\n",
              "      filter: drop-shadow(0px 1px 2px rgba(0, 0, 0, 0.3));\n",
              "      fill: #FFFFFF;\n",
              "    }\n",
              "  </style>\n",
              "\n",
              "      <script>\n",
              "        const buttonEl =\n",
              "          document.querySelector('#df-c92760ce-0388-4462-8a47-e9fee7a274d0 button.colab-df-convert');\n",
              "        buttonEl.style.display =\n",
              "          google.colab.kernel.accessAllowed ? 'block' : 'none';\n",
              "\n",
              "        async function convertToInteractive(key) {\n",
              "          const element = document.querySelector('#df-c92760ce-0388-4462-8a47-e9fee7a274d0');\n",
              "          const dataTable =\n",
              "            await google.colab.kernel.invokeFunction('convertToInteractive',\n",
              "                                                     [key], {});\n",
              "          if (!dataTable) return;\n",
              "\n",
              "          const docLinkHtml = 'Like what you see? Visit the ' +\n",
              "            '<a target=\"_blank\" href=https://colab.research.google.com/notebooks/data_table.ipynb>data table notebook</a>'\n",
              "            + ' to learn more about interactive tables.';\n",
              "          element.innerHTML = '';\n",
              "          dataTable['output_type'] = 'display_data';\n",
              "          await google.colab.output.renderOutput(dataTable, element);\n",
              "          const docLink = document.createElement('div');\n",
              "          docLink.innerHTML = docLinkHtml;\n",
              "          element.appendChild(docLink);\n",
              "        }\n",
              "      </script>\n",
              "    </div>\n",
              "  </div>\n",
              "  "
            ],
            "text/plain": [
              "      0     1\n",
              "0  5881   333\n",
              "1   663  1264"
            ]
          },
          "execution_count": 52,
          "metadata": {},
          "output_type": "execute_result"
        }
      ],
      "source": [
        "pd.DataFrame(confusion_matrix(y_test, prediction_oh))"
      ]
    },
    {
      "cell_type": "code",
      "execution_count": null,
      "metadata": {
        "colab": {
          "base_uri": "https://localhost:8080/"
        },
        "id": "1Zpr32q2-P6l",
        "outputId": "fa934553-7389-4b57-d2fa-d1342e304248"
      },
      "outputs": [
        {
          "data": {
            "text/plain": [
              "{'api': 'https://www.comet.ml/api/rest/v2/experiment/asset/get-asset?assetId=811d139ac16c496ca18bedce9acaff29&experimentKey=debe4b2a28e249a9bcf70e20c2c256b8',\n",
              " 'assetId': '811d139ac16c496ca18bedce9acaff29',\n",
              " 'web': 'https://www.comet.ml/api/asset/download?assetId=811d139ac16c496ca18bedce9acaff29&experimentKey=debe4b2a28e249a9bcf70e20c2c256b8'}"
            ]
          },
          "execution_count": 74,
          "metadata": {},
          "output_type": "execute_result"
        }
      ],
      "source": [
        "experiment.log_confusion_matrix(y_test, prediction_oh)"
      ]
    },
    {
      "cell_type": "markdown",
      "metadata": {
        "id": "UXURuE8eZ_4w"
      },
      "source": [
        "## Прогноз вероятности принадлежности к классу"
      ]
    },
    {
      "cell_type": "code",
      "execution_count": null,
      "metadata": {
        "id": "msz9z8MuZp0Z"
      },
      "outputs": [],
      "source": [
        "pred_proba_oh = linear_model_oh.predict_proba(X_test_new)"
      ]
    },
    {
      "cell_type": "code",
      "execution_count": null,
      "metadata": {
        "colab": {
          "base_uri": "https://localhost:8080/"
        },
        "id": "RWHzhNPzaba1",
        "outputId": "296007ec-7c8c-4367-d87a-09d4301d684c"
      },
      "outputs": [
        {
          "data": {
            "text/plain": [
              "array([[0.9907915 , 0.00920851],\n",
              "       [0.3954633 , 0.6045367 ],\n",
              "       [0.2793576 , 0.7206424 ],\n",
              "       [0.9758066 , 0.02419338],\n",
              "       [0.9899469 , 0.01005312]], dtype=float32)"
            ]
          },
          "execution_count": 54,
          "metadata": {},
          "output_type": "execute_result"
        }
      ],
      "source": [
        "# Как выглядят предсказания?"
      ]
    },
    {
      "cell_type": "code",
      "execution_count": null,
      "metadata": {
        "id": "ULsBdslqakeP"
      },
      "outputs": [],
      "source": [
        "pred_proba = pred_proba_oh[:, 1]"
      ]
    },
    {
      "cell_type": "markdown",
      "metadata": {
        "id": "roEuvcTLbOuG"
      },
      "source": [
        "Посмотрим на распределение предсказанной классификатором вероятности дохода > 50к, метки `1`."
      ]
    },
    {
      "cell_type": "code",
      "execution_count": null,
      "metadata": {
        "colab": {
          "base_uri": "https://localhost:8080/",
          "height": 394
        },
        "id": "l1XzSPaHayiK",
        "outputId": "1a0d9d86-7413-4f62-97a7-2423d8e8ee67"
      },
      "outputs": [
        {
          "data": {
            "text/plain": [
              "{'api': 'https://www.comet.ml/api/rest/v1/image/get-image?imageId=60a2196ca6634687bd348a2da76c5b98&experimentKey=debe4b2a28e249a9bcf70e20c2c256b8',\n",
              " 'imageId': '60a2196ca6634687bd348a2da76c5b98',\n",
              " 'web': 'https://www.comet.ml/api/image/download?imageId=60a2196ca6634687bd348a2da76c5b98&experimentKey=debe4b2a28e249a9bcf70e20c2c256b8'}"
            ]
          },
          "execution_count": 85,
          "metadata": {},
          "output_type": "execute_result"
        },
        {
          "data": {
            "image/png": "[encoded data removed]",
            "text/plain": [
              "<Figure size 576x360 with 1 Axes>"
            ]
          },
          "metadata": {
            "needs_background": "light"
          },
          "output_type": "display_data"
        }
      ],
      "source": [
        "plt.figure(figsize=(8, 5))\n",
        "\n",
        "plt.hist(pred_proba, bins=100)\n",
        "plt.vlines(0.5, 0, 2500)\n",
        "\n",
        "plt.xlabel('Предсказанная вероятность дохода', fontsize=20)\n",
        "plt.ylabel('Количество людей', fontsize=20)\n",
        "\n",
        "experiment.log_figure('predicted_income_probability', plt)"
      ]
    },
    {
      "cell_type": "markdown",
      "metadata": {
        "id": "dMlru_uFe9i_"
      },
      "source": [
        "##ROC кривая классификатора"
      ]
    },
    {
      "cell_type": "markdown",
      "metadata": {
        "id": "J8zHp4upfGlz"
      },
      "source": [
        "Если хотят сравнить метрики на разных наборах данных, обычно работают не с абсолютными значениями True Positive и False Positive, а с их долями:\n",
        "\n",
        "* Доля ложноположительных срабатываний $\\text{FPR} = \\frac{FP}{FP + TN}$;\n",
        "* Доля истинно положительных срабатываний $\\text{TPR} = \\frac{TP}{TP + FN}$.\n",
        "\n",
        "Заметим, что $FP + TN$ дает общее число объектов класса $0$, а $TP + FN$ - общее число объектов класса $1$. \n",
        "\n",
        "Одной из самых популярных метрик для задачи классификации является ROC кривая. ROC расшифровывается как *Receiver Operating Characteristic*. Эта кривая наглядно показывает зависимость доли истинно позитивных срабатываний (**TPR**) от доли ложно позитивных срабатываний (**FPR**) при изменении порога классификации.\n",
        "\n",
        "Функция `roc_curve()` из **scikit-learn** позволяет получить координаты точек ROC кривой, а также значения порога `threshold`, при котором достигается соответствующие значения метрик **FPR** и **TPR**.\n",
        "\n",
        "На вход функции `roc_curve()` необходимо передать два аргумента:\n",
        "* истинные значения меток\n",
        "* вероятности, предсказанные моделью"
      ]
    },
    {
      "cell_type": "code",
      "execution_count": null,
      "metadata": {
        "id": "j9uo_bbTgBFU"
      },
      "outputs": [],
      "source": [
        "from sklearn.metrics import roc_curve"
      ]
    },
    {
      "cell_type": "code",
      "execution_count": null,
      "metadata": {
        "id": "aFwgrdhceMG1"
      },
      "outputs": [],
      "source": [
        "false_positive_rates, true_positive_rates, threshold = roc_curve(y_test, pred_proba)"
      ]
    },
    {
      "cell_type": "code",
      "execution_count": null,
      "metadata": {
        "colab": {
          "base_uri": "https://localhost:8080/",
          "height": 458
        },
        "id": "goIIu9FDf-Eq",
        "outputId": "260c51aa-10b7-4b3d-de33-b1aac8e4f698"
      },
      "outputs": [
        {
          "data": {
            "image/png": "[encoded data removed]",
            "text/plain": [
              "<Figure size 504x504 with 1 Axes>"
            ]
          },
          "metadata": {
            "needs_background": "light"
          },
          "output_type": "display_data"
        }
      ],
      "source": [
        "# создаём график\n",
        "plt.figure(figsize=(7, 7))\n",
        "\n",
        "# рисуем кривую\n",
        "plt.plot(false_positive_rates, true_positive_rates, \n",
        "         label='Сглаженные значения ROC-AUC')\n",
        "\n",
        "# кривая, соответствующая случайному угадыванию\n",
        "plt.plot([0, 1], [0, 1], color='k', lw=2, linestyle=':', \n",
        "         label='Модель, выдающая случайное значение')\n",
        "\n",
        "plt.title('ROC curve')\n",
        "plt.xlabel('False Positive Rate')\n",
        "plt.ylabel('True Positive Rate')\n",
        "\n",
        "plt.fill_between(false_positive_rates, true_positive_rates, step=\"pre\", \n",
        "                 alpha=0.4, label='Площадь под кривой (ROC-AUC)')\n",
        "plt.legend()\n",
        "plt.show()"
      ]
    },
    {
      "cell_type": "code",
      "execution_count": null,
      "metadata": {
        "id": "gzYZV6h1gHiJ"
      },
      "outputs": [],
      "source": [
        "from sklearn.metrics import roc_auc_score"
      ]
    },
    {
      "cell_type": "code",
      "execution_count": null,
      "metadata": {
        "id": "IIeLiGK9D9t-"
      },
      "outputs": [],
      "source": [
        "roc_auc = roc_auc_score(y_test, pred_proba).round(3)"
      ]
    },
    {
      "cell_type": "code",
      "execution_count": null,
      "metadata": {
        "colab": {
          "base_uri": "https://localhost:8080/"
        },
        "id": "yYaJaN5YgotD",
        "outputId": "0ac17af0-7840-4134-c606-8d22deedf8df"
      },
      "outputs": [
        {
          "name": "stdout",
          "output_type": "stream",
          "text": [
            "ROC-AUC на тестовой выборке: 0.928\n"
          ]
        }
      ],
      "source": [
        "print(\"ROC-AUC на тестовой выборке:\", roc_auc_score(y_test, pred_proba).round(3)) "
      ]
    },
    {
      "cell_type": "code",
      "execution_count": null,
      "metadata": {
        "id": "4xcAeGf4ECoA"
      },
      "outputs": [],
      "source": [
        "experiment.log_metric('roc_auc OneHot data', roc_auc)"
      ]
    },
    {
      "cell_type": "code",
      "execution_count": null,
      "metadata": {
        "id": "eYL-QL9oZwLU"
      },
      "outputs": [],
      "source": [
        "pred_proba_le = linear_model.predict_proba(X_test_new)"
      ]
    },
    {
      "cell_type": "code",
      "execution_count": null,
      "metadata": {
        "id": "YYoQjL8FZ39v"
      },
      "outputs": [],
      "source": [
        "pred_proba = pred_proba_le[:, 1]"
      ]
    },
    {
      "cell_type": "code",
      "execution_count": null,
      "metadata": {
        "id": "QxzmUe_GaAER"
      },
      "outputs": [],
      "source": [
        "roc_auc = roc_auc_score(y_test, pred_proba).round(3)\n",
        "roc_auc"
      ]
    }
  ],
  "metadata": {
    "accelerator": "GPU",
    "colab": {
      "collapsed_sections": [],
      "name": "Предсказание_дохода.ipynb",
      "provenance": []
    },
    "kernelspec": {
      "display_name": "Python 3",
      "name": "python3"
    },
    "language_info": {
      "codemirror_mode": {
        "name": "ipython",
        "version": 3
      },
      "file_extension": ".py",
      "mimetype": "text/x-python",
      "name": "python",
      "nbconvert_exporter": "python",
      "pygments_lexer": "ipython3",
      "version": "3.10.6"
    }
  },
  "nbformat": 4,
  "nbformat_minor": 0
}
