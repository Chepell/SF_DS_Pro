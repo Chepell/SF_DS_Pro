{
 "cells": [
  {
   "cell_type": "code",
   "execution_count": 9,
   "metadata": {},
   "outputs": [],
   "source": [
    "import numpy as np\n",
    "from scipy.stats import normaltest, shapiro"
   ]
  },
  {
   "cell_type": "markdown",
   "metadata": {},
   "source": [
    "# Задание 6.2\n",
    "\n",
    "Было измерено время, которое необходимо, чтобы оформить заказ в онлайн-магазине. В результате получены следующие значения:"
   ]
  },
  {
   "cell_type": "code",
   "execution_count": 10,
   "metadata": {},
   "outputs": [],
   "source": [
    "time = np.array([12, 8, 9, 10, 11, 12, 7, 12, 2, 10, 3, 9, 18, 4, 11, 13, 13, 17, 14, 3, 10, 2, 2, 7, 14, 8, 20, 5, 7, 10])"
   ]
  },
  {
   "cell_type": "code",
   "execution_count": 15,
   "metadata": {},
   "outputs": [
    {
     "name": "stdout",
     "output_type": "stream",
     "text": [
      "Test on normal distribution: 0.9650483727455139\n",
      "P-Value: 0.41\n",
      "Normal distribution\n"
     ]
    }
   ],
   "source": [
    "_, p = shapiro(time)\n",
    "threshold = 0.05\n",
    "\n",
    "print('Test on normal distribution:', _)\n",
    "print(f'P-Value: {p:.2f}')\n",
    "\n",
    "# The null hypothesis is that the sample comes from a normal distribution\n",
    "H0 = 'Normal distribution'\n",
    "Ha = 'NOT a normal distribution!'\n",
    "\n",
    "if p <= threshold:  # Reject the null hypothesis\n",
    "    print(Ha)\n",
    "else:\n",
    "    print(H0)"
   ]
  },
  {
   "cell_type": "code",
   "execution_count": 16,
   "metadata": {},
   "outputs": [
    {
     "name": "stdout",
     "output_type": "stream",
     "text": [
      "Test on normal distribution: 0.2439753850820154\n",
      "P-Value: 0.89\n",
      "Normal distribution\n"
     ]
    }
   ],
   "source": [
    "_, p = normaltest(time)\n",
    "threshold = 0.05\n",
    "\n",
    "print('Test on normal distribution:', _)\n",
    "print(f'P-Value: {p:.2f}')\n",
    "\n",
    "# The null hypothesis is that the sample comes from a normal distribution\n",
    "H0 = 'Normal distribution'\n",
    "Ha = 'NOT a normal distribution!'\n",
    "\n",
    "if p <= threshold:  # Reject the null hypothesis\n",
    "    print(Ha)\n",
    "else:\n",
    "    print(H0)"
   ]
  },
  {
   "cell_type": "code",
   "execution_count": null,
   "metadata": {},
   "outputs": [],
   "source": []
  }
 ],
 "metadata": {
  "kernelspec": {
   "display_name": "Python 3",
   "language": "python",
   "name": "python3"
  },
  "language_info": {
   "codemirror_mode": {
    "name": "ipython",
    "version": 3
   },
   "file_extension": ".py",
   "mimetype": "text/x-python",
   "name": "python",
   "nbconvert_exporter": "python",
   "pygments_lexer": "ipython3",
   "version": "3.9.10"
  },
  "orig_nbformat": 4
 },
 "nbformat": 4,
 "nbformat_minor": 2
}
