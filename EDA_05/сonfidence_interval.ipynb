{
 "cells": [
  {
   "cell_type": "code",
   "execution_count": 1,
   "metadata": {},
   "outputs": [],
   "source": [
    "n = 36 # размер выборки\n",
    "x_mean = 16100 # выборочное среднее\n",
    "sigma = 12000 # истинное стандартное отклонение\n",
    "gamma = 0.95 # уровень надёжности\n",
    "alpha = 1 - gamma # уровень значимости"
   ]
  },
  {
   "cell_type": "code",
   "execution_count": 2,
   "metadata": {},
   "outputs": [],
   "source": [
    "from scipy.stats import norm\n",
    "z_crit = -norm.ppf(alpha / 2) # z критическое"
   ]
  },
  {
   "cell_type": "code",
   "execution_count": 3,
   "metadata": {},
   "outputs": [
    {
     "name": "stdout",
     "output_type": "stream",
     "text": [
      "Доверительный интервал: (12180, 20020)\n"
     ]
    }
   ],
   "source": [
    "eps = z_crit * sigma / (n ** 0.5) # погрешность\n",
    "lower_bound = x_mean - eps # левая (нижняя) граница\n",
    "upper_bound = x_mean + eps # правая (верхняя) граница\n",
    "confidence_interval = (round(lower_bound), round(upper_bound)) # создаём кортеж из округлённых границ интервала\n",
    "print('Доверительный интервал: {}'.format(confidence_interval)) # выводим результат"
   ]
  },
  {
   "cell_type": "code",
   "execution_count": 7,
   "metadata": {},
   "outputs": [],
   "source": [
    "from scipy.stats import norm\n",
    "\n",
    "def confidence_interval(n, x_mean, sigma, gamma):\n",
    "    \"\"\"\n",
    "    Функци для расчета доверительного интервала\n",
    "\n",
    "    :param n: Количество элементов в выборке\n",
    "    :param x_mean: Выборочное среднее\n",
    "    :param sigma: Истинное стандартное отклонение\n",
    "    :param gamma: Уровень надежности\n",
    "    :return: Возвращает кортеж границ доверительного интервала\n",
    "    \"\"\"\n",
    "\n",
    "    alpha = 1 - gamma\n",
    "    z_crit = -norm.ppf(alpha / 2)\n",
    "    print(z_crit)\n",
    "    eps = z_crit * sigma / (n ** 0.5)  # погрешность\n",
    "    lower_bound = x_mean - eps  # левая (нижняя) граница\n",
    "    upper_bound = x_mean + eps  # правая (верхняя) граница\n",
    "    return round(lower_bound, 2), round(upper_bound, 2)"
   ]
  },
  {
   "cell_type": "markdown",
   "metadata": {},
   "source": [
    "Аккумуляторный завод производит батарейки, \n",
    "\n",
    "срок службы которых имеет истинное стандартное отклонение в 2.4 месяца. \n",
    "\n",
    "Средний срок службы батареек в случайной выборке из 64 штук составил 12.35 месяца. \n",
    "\n",
    "Необходимо построить 90 %-ный доверительный интервал для истинного\n",
    "\n",
    "среднего срока службы производимой батарейки и ответить на вопросы заданий ниже."
   ]
  },
  {
   "cell_type": "code",
   "execution_count": 8,
   "metadata": {},
   "outputs": [
    {
     "name": "stdout",
     "output_type": "stream",
     "text": [
      "1.6448536269514729\n"
     ]
    },
    {
     "data": {
      "text/plain": [
       "(11.86, 12.84)"
      ]
     },
     "execution_count": 8,
     "metadata": {},
     "output_type": "execute_result"
    }
   ],
   "source": [
    "confidence_interval(64, 12.35, 2.4, 0.9)"
   ]
  },
  {
   "cell_type": "markdown",
   "metadata": {},
   "source": [
    "Управляющий супермаркета хочет оценить, сколько денег покупатели тратят за один поход в супермаркет в среднем. \n",
    "\n",
    "На основании ранее собранных данных известно, что расходы одного покупателя распределены приблизительно нормально. \n",
    "\n",
    "Управляющий взял случайную выборку из 15 покупателей и выяснил, что их средние расходы равны 2 000 рублей, \n",
    "\n",
    "а выборочное стандартное отклонение равно 400 рублей."
   ]
  },
  {
   "cell_type": "code",
   "execution_count": 9,
   "metadata": {},
   "outputs": [],
   "source": [
    "n = 15 # размер выборки\n",
    "k = n - 1 # число степеней свободы\n",
    "x_mean = 2000 # выборочное среднее\n",
    "x_std = 400 # выборочное стандартное отклонение\n",
    "gamma = 0.95 # уровень надёжности\n",
    "alpha = 1 - gamma # уровень значимости"
   ]
  },
  {
   "cell_type": "code",
   "execution_count": 10,
   "metadata": {},
   "outputs": [],
   "source": [
    "from scipy.stats import t\n",
    "t_crit = -t.ppf(alpha/2, k) # t-критическое"
   ]
  },
  {
   "cell_type": "code",
   "execution_count": 11,
   "metadata": {},
   "outputs": [
    {
     "name": "stdout",
     "output_type": "stream",
     "text": [
      "Доверительный интервал: (1778, 2222)\n"
     ]
    }
   ],
   "source": [
    "eps = t_crit * x_std/(n ** 0.5) # погрешность\n",
    "lower_bound = x_mean - eps # левая (нижняя) граница\n",
    "upper_bound = x_mean + eps # правая (верхняя) граница\n",
    "confidence_interval = (round(lower_bound), round(upper_bound)) # создаём кортеж из округлённых границ интервала\n",
    "print('Доверительный интервал: {}'.format(confidence_interval)) # выводим результат"
   ]
  },
  {
   "cell_type": "markdown",
   "metadata": {},
   "source": [
    "Чиновника интересует сумма подоходного налога, \n",
    "\n",
    "выплачиваемого домохозяйствами за год. \n",
    "\n",
    "На случайной выборке из 25 домохозяйств был посчитан средний размер выплаченного налога, \n",
    "\n",
    "и он составил $ 3 540. \n",
    "\n",
    "Также известно выборочное отклонение величины подоходного налога, равное $ 1 150.\n",
    "\n",
    "Необходимо найти 90 %-ый доверительный интервал для истинного среднего значения налоговых выплат за год. Используйте формулу с t-критическим."
   ]
  },
  {
   "cell_type": "code",
   "execution_count": 12,
   "metadata": {},
   "outputs": [],
   "source": [
    "n = 25 # размер выборки\n",
    "k = n - 1 # число степеней свободы\n",
    "x_mean = 3540 # выборочное среднее\n",
    "x_std = 1150 # выборочное стандартное отклонение\n",
    "gamma = 0.9 # уровень надёжности\n",
    "alpha = 1 - gamma # уровень значимости"
   ]
  },
  {
   "cell_type": "code",
   "execution_count": 13,
   "metadata": {},
   "outputs": [
    {
     "name": "stdout",
     "output_type": "stream",
     "text": [
      "Доверительный интервал: (3146, 3934)\n"
     ]
    }
   ],
   "source": [
    "t_crit = -t.ppf(alpha/2, k) # t-критическое\n",
    "eps = t_crit * x_std/(n ** 0.5) # погрешность\n",
    "lower_bound = x_mean - eps # левая (нижняя) граница\n",
    "upper_bound = x_mean + eps # правая (верхняя) граница\n",
    "confidence_interval = (round(lower_bound), round(upper_bound)) # создаём кортеж из округлённых границ интервала\n",
    "print('Доверительный интервал: {}'.format(confidence_interval)) # выводим результат"
   ]
  },
  {
   "cell_type": "code",
   "execution_count": null,
   "metadata": {},
   "outputs": [],
   "source": []
  }
 ],
 "metadata": {
  "kernelspec": {
   "display_name": "Python 3.9.10 64-bit",
   "language": "python",
   "name": "python3"
  },
  "language_info": {
   "codemirror_mode": {
    "name": "ipython",
    "version": 3
   },
   "file_extension": ".py",
   "mimetype": "text/x-python",
   "name": "python",
   "nbconvert_exporter": "python",
   "pygments_lexer": "ipython3",
   "version": "3.9.10"
  },
  "orig_nbformat": 4,
  "vscode": {
   "interpreter": {
    "hash": "ce0e7e8478f0adf4f893607b28490b56060cc6330e9a48291a15f517e7031888"
   }
  }
 },
 "nbformat": 4,
 "nbformat_minor": 2
}
