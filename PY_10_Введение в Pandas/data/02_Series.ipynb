{
 "cells": [
  {
   "cell_type": "markdown",
   "metadata": {},
   "source": [
    "Series — это упорядоченная изменяемая коллекция объектов, имеющая так называемые ассоциативные метки (индексы). \n",
    "\n",
    "Series в какой-то степени является единицей хранения информации в Pandas.\n",
    "\n",
    "Её можно рассматривать как именованный столбец таблицы с индексами строк."
   ]
  },
  {
   "cell_type": "code",
   "execution_count": 2,
   "metadata": {},
   "outputs": [],
   "source": [
    "import pandas as pd"
   ]
  },
  {
   "cell_type": "code",
   "execution_count": 3,
   "metadata": {},
   "outputs": [
    {
     "data": {
      "text/plain": [
       "UK       Англия\n",
       "CA       Канада\n",
       "US          США\n",
       "RU       Россия\n",
       "UA      Украина\n",
       "BY     Беларусь\n",
       "KZ    Казахстан\n",
       "Name: countries, dtype: object"
      ]
     },
     "execution_count": 3,
     "metadata": {},
     "output_type": "execute_result"
    }
   ],
   "source": [
    "countries = pd.Series(\n",
    "    data = ['Англия', 'Канада', 'США', 'Россия', 'Украина', 'Беларусь', 'Казахстан'],\n",
    "    index = ['UK', 'CA', 'US', 'RU', 'UA', 'BY', 'KZ'],\n",
    "    name = 'countries'\n",
    ")\n",
    "countries"
   ]
  },
  {
   "cell_type": "code",
   "execution_count": 12,
   "metadata": {},
   "outputs": [
    {
     "data": {
      "text/plain": [
       "0       Англия\n",
       "1       Канада\n",
       "2          США\n",
       "3       Россия\n",
       "4      Украина\n",
       "5     Беларусь\n",
       "6    Казахстан\n",
       "dtype: object"
      ]
     },
     "execution_count": 12,
     "metadata": {},
     "output_type": "execute_result"
    }
   ],
   "source": [
    "# Без указания идексов и имени\n",
    "countries = pd.Series(data = ['Англия', 'Канада', 'США', 'Россия', 'Украина', 'Беларусь', 'Казахстан'])\n",
    "countries"
   ]
  },
  {
   "cell_type": "code",
   "execution_count": 7,
   "metadata": {},
   "outputs": [
    {
     "data": {
      "text/plain": [
       "UK       Англия\n",
       "CA       Канада\n",
       "US          США\n",
       "RU       Россия\n",
       "UA      Украина\n",
       "BY     Беларусь\n",
       "KZ    Казахстан\n",
       "Name: countries, dtype: object"
      ]
     },
     "execution_count": 7,
     "metadata": {},
     "output_type": "execute_result"
    }
   ],
   "source": [
    "# Добавляю в series индексы и имя серии\n",
    "countries.index = ['UK', 'CA', 'US', 'RU', 'UA', 'BY', 'KZ']\n",
    "countries.name = 'countries'\n",
    "countries"
   ]
  },
  {
   "cell_type": "code",
   "execution_count": 13,
   "metadata": {},
   "outputs": [
    {
     "data": {
      "text/plain": [
       "UK       Англия\n",
       "CA       Канада\n",
       "US          США\n",
       "RU       Россия\n",
       "UA      Украина\n",
       "BY     Беларусь\n",
       "KZ    Казахстан\n",
       "Name: countries, dtype: object"
      ]
     },
     "metadata": {},
     "output_type": "display_data"
    }
   ],
   "source": [
    "countries = pd.Series({\n",
    "    'UK': 'Англия',\n",
    "    'CA': 'Канада',\n",
    "    'US' : 'США',\n",
    "    'RU': 'Россия',\n",
    "    'UA': 'Украина',\n",
    "    'BY': 'Беларусь',\n",
    "    'KZ': 'Казахстан'},\n",
    "    name = 'countries'\n",
    ")\n",
    "display(countries)"
   ]
  },
  {
   "cell_type": "markdown",
   "metadata": {},
   "source": [
    "## iloc доступ по числовому индексу"
   ]
  },
  {
   "cell_type": "code",
   "execution_count": 6,
   "metadata": {},
   "outputs": [
    {
     "name": "stdout",
     "output_type": "stream",
     "text": [
      "CA      Канада\n",
      "RU      Россия\n",
      "BY    Беларусь\n",
      "Name: countries, dtype: object\n"
     ]
    }
   ],
   "source": [
    "print(countries.iloc[[1, 3, 5]])"
   ]
  },
  {
   "cell_type": "code",
   "execution_count": 7,
   "metadata": {},
   "outputs": [
    {
     "name": "stdout",
     "output_type": "stream",
     "text": [
      "UK    Англия\n",
      "CA    Канада\n",
      "Name: countries, dtype: object\n"
     ]
    }
   ],
   "source": [
    "print(countries.iloc[:2])"
   ]
  },
  {
   "cell_type": "markdown",
   "metadata": {},
   "source": [
    "## loc - доступ по значению индекса, как по ключу. Ассоциативные метки."
   ]
  },
  {
   "cell_type": "code",
   "execution_count": 8,
   "metadata": {},
   "outputs": [
    {
     "data": {
      "text/plain": [
       "'США'"
      ]
     },
     "execution_count": 8,
     "metadata": {},
     "output_type": "execute_result"
    }
   ],
   "source": [
    "countries.loc['US']"
   ]
  },
  {
   "cell_type": "code",
   "execution_count": 9,
   "metadata": {},
   "outputs": [
    {
     "data": {
      "text/plain": [
       "US         США\n",
       "BY    Беларусь\n",
       "Name: countries, dtype: object"
      ]
     },
     "execution_count": 9,
     "metadata": {},
     "output_type": "execute_result"
    }
   ],
   "source": [
    "countries.loc[['US', 'BY']]"
   ]
  },
  {
   "cell_type": "code",
   "execution_count": 15,
   "metadata": {},
   "outputs": [],
   "source": [
    "def create_medications(names, counts):\n",
    "    \"\"\"\n",
    "    Напишите функцию create_mediactions(names, counts), которая  создает Series medications,\n",
    "    индексами которой являются названия лекарств names, а значениями - их количество в поставке counts\n",
    "    \"\"\"\n",
    "    \n",
    "    return pd.Series(data=counts, index=names)"
   ]
  },
  {
   "cell_type": "code",
   "execution_count": 16,
   "metadata": {},
   "outputs": [],
   "source": [
    "def get_percent(medications, name):\n",
    "    \"\"\"\n",
    "    А также напишите функцию get_percent(medications, name), которая возвращает долю количества товара\n",
    "    с именем name от общего количества товаров в поставке в процентах.\n",
    "    \"\"\"\n",
    "    \n",
    "    return (medications.loc[name] / medications.sum()) * 100"
   ]
  },
  {
   "cell_type": "code",
   "execution_count": 17,
   "metadata": {},
   "outputs": [
    {
     "name": "stdout",
     "output_type": "stream",
     "text": [
      "37.5\n"
     ]
    }
   ],
   "source": [
    "if __name__ == '__main__':\n",
    "    names=['chlorhexidine', 'cyntomycin', 'afobazol']\n",
    "    counts=[15, 18, 7]\n",
    "    medications = create_medications(names, counts)\n",
    "    print(get_percent(medications, \"chlorhexidine\")) #37.5"
   ]
  }
 ],
 "metadata": {
  "interpreter": {
   "hash": "8613ce4d19d9a9237b1dfb57d05f442ec05808832a4056d9cc730fe7bb0f8252"
  },
  "kernelspec": {
   "display_name": "Python 3.9.10 64-bit",
   "language": "python",
   "name": "python3"
  },
  "language_info": {
   "codemirror_mode": {
    "name": "ipython",
    "version": 3
   },
   "file_extension": ".py",
   "mimetype": "text/x-python",
   "name": "python",
   "nbconvert_exporter": "python",
   "pygments_lexer": "ipython3",
   "version": "3.9.10"
  },
  "orig_nbformat": 4
 },
 "nbformat": 4,
 "nbformat_minor": 2
}
