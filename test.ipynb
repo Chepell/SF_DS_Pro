{
 "cells": [
  {
   "cell_type": "code",
   "execution_count": 1,
   "metadata": {},
   "outputs": [
    {
     "data": {
      "text/plain": [
       "[0, 1, 2, 3, 4, 5, 6, 7, 8, 9]"
      ]
     },
     "execution_count": 1,
     "metadata": {},
     "output_type": "execute_result"
    }
   ],
   "source": [
    "list(range(10))"
   ]
  },
  {
   "cell_type": "code",
   "execution_count": 2,
   "metadata": {},
   "outputs": [
    {
     "name": "stdout",
     "output_type": "stream",
     "text": [
      "0\n",
      "1\n",
      "2\n",
      "3\n",
      "4\n",
      "5\n",
      "6\n",
      "7\n",
      "8\n",
      "9\n"
     ]
    },
    {
     "data": {
      "text/plain": [
       "[None, None, None, None, None, None, None, None, None, None]"
      ]
     },
     "execution_count": 2,
     "metadata": {},
     "output_type": "execute_result"
    }
   ],
   "source": [
    "[print(x) for x in range(10)]"
   ]
  },
  {
   "cell_type": "code",
   "execution_count": 3,
   "metadata": {},
   "outputs": [],
   "source": [
    "emp_list = list()"
   ]
  },
  {
   "cell_type": "code",
   "execution_count": 4,
   "metadata": {},
   "outputs": [
    {
     "data": {
      "text/plain": [
       "[]"
      ]
     },
     "execution_count": 4,
     "metadata": {},
     "output_type": "execute_result"
    }
   ],
   "source": [
    "emp_list"
   ]
  },
  {
   "cell_type": "code",
   "execution_count": 5,
   "metadata": {},
   "outputs": [],
   "source": [
    "emp_list.append(1)\n",
    "emp_list.append(\"d\")"
   ]
  },
  {
   "cell_type": "code",
   "execution_count": 6,
   "metadata": {},
   "outputs": [
    {
     "data": {
      "text/plain": [
       "2"
      ]
     },
     "execution_count": 6,
     "metadata": {},
     "output_type": "execute_result"
    }
   ],
   "source": [
    "len(emp_list)"
   ]
  },
  {
   "cell_type": "code",
   "execution_count": 7,
   "metadata": {},
   "outputs": [
    {
     "data": {
      "text/plain": [
       "[1, 'd']"
      ]
     },
     "execution_count": 7,
     "metadata": {},
     "output_type": "execute_result"
    }
   ],
   "source": [
    "emp_list"
   ]
  },
  {
   "cell_type": "code",
   "execution_count": 8,
   "metadata": {},
   "outputs": [
    {
     "data": {
      "text/plain": [
       "0"
      ]
     },
     "execution_count": 8,
     "metadata": {},
     "output_type": "execute_result"
    }
   ],
   "source": [
    "emp_list.count(0)"
   ]
  },
  {
   "cell_type": "code",
   "execution_count": 9,
   "metadata": {},
   "outputs": [
    {
     "data": {
      "text/plain": [
       "72"
      ]
     },
     "execution_count": 9,
     "metadata": {},
     "output_type": "execute_result"
    }
   ],
   "source": [
    "emp_list.__sizeof__()"
   ]
  },
  {
   "cell_type": "code",
   "execution_count": 10,
   "metadata": {},
   "outputs": [],
   "source": [
    "emp_tuple = tuple()"
   ]
  },
  {
   "cell_type": "code",
   "execution_count": 11,
   "metadata": {},
   "outputs": [
    {
     "data": {
      "text/plain": [
       "24"
      ]
     },
     "execution_count": 11,
     "metadata": {},
     "output_type": "execute_result"
    }
   ],
   "source": [
    "emp_tuple.__sizeof__()"
   ]
  },
  {
   "cell_type": "code",
   "execution_count": 12,
   "metadata": {},
   "outputs": [],
   "source": [
    "new_set = set([\"Hello\", \"Hi\"])"
   ]
  },
  {
   "cell_type": "code",
   "execution_count": 13,
   "metadata": {},
   "outputs": [
    {
     "data": {
      "text/plain": [
       "{'Hello', 'Hi'}"
      ]
     },
     "execution_count": 13,
     "metadata": {},
     "output_type": "execute_result"
    }
   ],
   "source": [
    "new_set"
   ]
  },
  {
   "cell_type": "code",
   "execution_count": 14,
   "metadata": {},
   "outputs": [
    {
     "name": "stdout",
     "output_type": "stream",
     "text": [
      "Index: 0, Name: Alice\n",
      "Index: 1, Name: Bob\n",
      "Index: 2, Name: Charlie\n"
     ]
    }
   ],
   "source": [
    "names = [\"Alice\", \"Bob\", \"Charlie\"]\n",
    "for i, name in enumerate(range(len(names))):\n",
    "    print(f\"Index: {i}, Name: {names[i]}\")\n",
    "# Output:\n",
    "# Index: 0, Name: Alice\n",
    "# Index: 1, Name: Bob\n",
    "# Index: 2, Name: Charlie"
   ]
  },
  {
   "cell_type": "code",
   "execution_count": 15,
   "metadata": {},
   "outputs": [
    {
     "name": "stdout",
     "output_type": "stream",
     "text": [
      "Index: 0, Name: Alice\n",
      "Index: 1, Name: Bob\n",
      "Index: 2, Name: Charlie\n"
     ]
    }
   ],
   "source": [
    "names = [\"Alice\", \"Bob\", \"Charlie\"]\n",
    "for i, name in enumerate(names):\n",
    "    print(f\"Index: {i}, Name: {names[i]}\")"
   ]
  },
  {
   "cell_type": "code",
   "execution_count": 16,
   "metadata": {},
   "outputs": [
    {
     "data": {
      "text/plain": [
       "8.0"
      ]
     },
     "execution_count": 16,
     "metadata": {},
     "output_type": "execute_result"
    }
   ],
   "source": [
    "round(7.9, 0)"
   ]
  },
  {
   "cell_type": "code",
   "execution_count": 17,
   "metadata": {},
   "outputs": [
    {
     "data": {
      "text/plain": [
       "19"
      ]
     },
     "execution_count": 17,
     "metadata": {},
     "output_type": "execute_result"
    }
   ],
   "source": [
    "int(\"19\")"
   ]
  },
  {
   "cell_type": "code",
   "execution_count": 18,
   "metadata": {},
   "outputs": [],
   "source": [
    "my_set = {1, 2, 3, 4, 5}"
   ]
  },
  {
   "cell_type": "code",
   "execution_count": 19,
   "metadata": {},
   "outputs": [
    {
     "name": "stdout",
     "output_type": "stream",
     "text": [
      "1\n",
      "2\n",
      "3\n",
      "4\n",
      "5\n"
     ]
    }
   ],
   "source": [
    "for i in my_set:\n",
    "    print(i)"
   ]
  },
  {
   "cell_type": "code",
   "execution_count": 20,
   "metadata": {},
   "outputs": [
    {
     "name": "stdout",
     "output_type": "stream",
     "text": [
      "1\n",
      "2\n",
      "3\n"
     ]
    }
   ],
   "source": [
    "my_dict = {\"a\": 1, \"b\": 2, \"c\": 3}\n",
    "\n",
    "for key in my_dict:\n",
    "    print(my_dict[key])"
   ]
  },
  {
   "cell_type": "code",
   "execution_count": 21,
   "metadata": {},
   "outputs": [
    {
     "data": {
      "text/plain": [
       "10"
      ]
     },
     "execution_count": 21,
     "metadata": {},
     "output_type": "execute_result"
    }
   ],
   "source": [
    "sum_func = lambda a, b: a + b\n",
    "\n",
    "sum_func(3, 7)"
   ]
  },
  {
   "cell_type": "code",
   "execution_count": 22,
   "metadata": {},
   "outputs": [],
   "source": [
    "lst = [1, 3, 5, 7]"
   ]
  },
  {
   "cell_type": "code",
   "execution_count": 23,
   "metadata": {},
   "outputs": [],
   "source": [
    "enum_lst = list(enumerate(lst))"
   ]
  },
  {
   "cell_type": "code",
   "execution_count": 24,
   "metadata": {},
   "outputs": [
    {
     "name": "stdout",
     "output_type": "stream",
     "text": [
      "0 : 1\n",
      "1 : 3\n",
      "2 : 5\n",
      "3 : 7\n"
     ]
    }
   ],
   "source": [
    "for i, val in enum_lst:\n",
    "    print(f\"{i} : {val}\")"
   ]
  },
  {
   "cell_type": "code",
   "execution_count": 25,
   "metadata": {},
   "outputs": [
    {
     "data": {
      "text/plain": [
       "<generator object <genexpr> at 0x0000027FD955A880>"
      ]
     },
     "execution_count": 25,
     "metadata": {},
     "output_type": "execute_result"
    }
   ],
   "source": [
    "(i ** 2 for i in range(11) if i % 2 == 0)"
   ]
  },
  {
   "cell_type": "code",
   "execution_count": 26,
   "metadata": {},
   "outputs": [
    {
     "data": {
      "text/plain": [
       "[0, 4, 16, 36, 64, 100]"
      ]
     },
     "execution_count": 26,
     "metadata": {},
     "output_type": "execute_result"
    }
   ],
   "source": [
    "[i ** 2 for i in range(11) if i % 2 == 0]"
   ]
  },
  {
   "cell_type": "code",
   "execution_count": 27,
   "metadata": {},
   "outputs": [],
   "source": [
    "str_lst = ['dfd', 'rrbgbt', 'wmnfd']"
   ]
  },
  {
   "cell_type": "code",
   "execution_count": 28,
   "metadata": {},
   "outputs": [],
   "source": [
    "mp = map(lambda x: len(x), str_lst)"
   ]
  },
  {
   "cell_type": "code",
   "execution_count": 29,
   "metadata": {},
   "outputs": [],
   "source": [
    "ftr = filter(lambda x: x > 3, mp)"
   ]
  },
  {
   "cell_type": "code",
   "execution_count": 30,
   "metadata": {},
   "outputs": [
    {
     "data": {
      "text/plain": [
       "[6, 5]"
      ]
     },
     "execution_count": 30,
     "metadata": {},
     "output_type": "execute_result"
    }
   ],
   "source": [
    "list(ftr)"
   ]
  },
  {
   "cell_type": "code",
   "execution_count": 31,
   "metadata": {},
   "outputs": [],
   "source": [
    "import numpy as np\n",
    "import pandas as pd"
   ]
  },
  {
   "cell_type": "code",
   "execution_count": 32,
   "metadata": {},
   "outputs": [
    {
     "data": {
      "text/plain": [
       "array([1, 3, 5])"
      ]
     },
     "execution_count": 32,
     "metadata": {},
     "output_type": "execute_result"
    }
   ],
   "source": [
    "arr = np.array([1, 3, 5])\n",
    "arr"
   ]
  },
  {
   "cell_type": "code",
   "execution_count": 33,
   "metadata": {},
   "outputs": [
    {
     "data": {
      "text/plain": [
       "dtype('int32')"
      ]
     },
     "execution_count": 33,
     "metadata": {},
     "output_type": "execute_result"
    }
   ],
   "source": [
    "arr.dtype"
   ]
  },
  {
   "cell_type": "code",
   "execution_count": 34,
   "metadata": {},
   "outputs": [],
   "source": [
    "arr = np.array([1, 3, 5], dtype=np.int8)"
   ]
  },
  {
   "cell_type": "code",
   "execution_count": 35,
   "metadata": {},
   "outputs": [
    {
     "data": {
      "text/plain": [
       "array([1, 3, 5], dtype=int8)"
      ]
     },
     "execution_count": 35,
     "metadata": {},
     "output_type": "execute_result"
    }
   ],
   "source": [
    "arr"
   ]
  },
  {
   "cell_type": "code",
   "execution_count": 36,
   "metadata": {},
   "outputs": [],
   "source": [
    "arr[0] = '15'"
   ]
  },
  {
   "cell_type": "code",
   "execution_count": 37,
   "metadata": {},
   "outputs": [
    {
     "data": {
      "text/plain": [
       "array([15,  3,  5], dtype=int8)"
      ]
     },
     "execution_count": 37,
     "metadata": {},
     "output_type": "execute_result"
    }
   ],
   "source": [
    "arr"
   ]
  },
  {
   "cell_type": "code",
   "execution_count": 38,
   "metadata": {},
   "outputs": [
    {
     "data": {
      "text/plain": [
       "(3,)"
      ]
     },
     "execution_count": 38,
     "metadata": {},
     "output_type": "execute_result"
    }
   ],
   "source": [
    "arr.shape"
   ]
  },
  {
   "cell_type": "code",
   "execution_count": 39,
   "metadata": {},
   "outputs": [
    {
     "data": {
      "text/plain": [
       "1"
      ]
     },
     "execution_count": 39,
     "metadata": {},
     "output_type": "execute_result"
    }
   ],
   "source": [
    "arr.ndim"
   ]
  },
  {
   "cell_type": "code",
   "execution_count": 40,
   "metadata": {},
   "outputs": [
    {
     "data": {
      "text/plain": [
       "3"
      ]
     },
     "execution_count": 40,
     "metadata": {},
     "output_type": "execute_result"
    }
   ],
   "source": [
    "arr.size"
   ]
  },
  {
   "cell_type": "code",
   "execution_count": 41,
   "metadata": {},
   "outputs": [],
   "source": [
    "arr = np.array([3, 4, 56, 7])"
   ]
  },
  {
   "cell_type": "code",
   "execution_count": 42,
   "metadata": {},
   "outputs": [
    {
     "data": {
      "text/plain": [
       "(4,)"
      ]
     },
     "execution_count": 42,
     "metadata": {},
     "output_type": "execute_result"
    }
   ],
   "source": [
    "arr.shape"
   ]
  },
  {
   "cell_type": "code",
   "execution_count": 43,
   "metadata": {},
   "outputs": [],
   "source": [
    "arr.shape = (2, 2)"
   ]
  },
  {
   "cell_type": "code",
   "execution_count": 44,
   "metadata": {},
   "outputs": [
    {
     "data": {
      "text/plain": [
       "array([[ 3,  4],\n",
       "       [56,  7]])"
      ]
     },
     "execution_count": 44,
     "metadata": {},
     "output_type": "execute_result"
    }
   ],
   "source": [
    "arr"
   ]
  },
  {
   "cell_type": "code",
   "execution_count": 45,
   "metadata": {},
   "outputs": [
    {
     "data": {
      "text/plain": [
       "array([[ 3,  4],\n",
       "       [56,  7]])"
      ]
     },
     "execution_count": 45,
     "metadata": {},
     "output_type": "execute_result"
    }
   ],
   "source": [
    "arr.reshape(-1, 2)"
   ]
  },
  {
   "cell_type": "code",
   "execution_count": 46,
   "metadata": {},
   "outputs": [
    {
     "data": {
      "text/plain": [
       "array([[0.        , 0.54545455, 1.09090909, 1.63636364],\n",
       "       [2.18181818, 2.72727273, 3.27272727, 3.81818182],\n",
       "       [4.36363636, 4.90909091, 5.45454545, 6.        ]])"
      ]
     },
     "execution_count": 46,
     "metadata": {},
     "output_type": "execute_result"
    }
   ],
   "source": [
    "arr = np.linspace(0, 6, 12).reshape(3, -1)\n",
    "arr"
   ]
  },
  {
   "cell_type": "code",
   "execution_count": 47,
   "metadata": {},
   "outputs": [
    {
     "data": {
      "text/plain": [
       "2.727272727272727"
      ]
     },
     "execution_count": 47,
     "metadata": {},
     "output_type": "execute_result"
    }
   ],
   "source": [
    "arr[1][1]"
   ]
  },
  {
   "cell_type": "code",
   "execution_count": 48,
   "metadata": {},
   "outputs": [],
   "source": [
    "arr = np.random.uniform(-150, 2021, 12000)"
   ]
  },
  {
   "cell_type": "code",
   "execution_count": 49,
   "metadata": {},
   "outputs": [],
   "source": [
    "import matplotlib.pyplot as plt\n",
    "import seaborn as sns\n",
    "\n",
    "%matplotlib inline\n",
    "%config InlineBackend.figure_format = 'retina'\n",
    "plt.rcParams['figure.figsize'] = (10, 8)\n",
    "sns.set_palette('flare')\n",
    "#sns.set_palette('Set2')\n",
    "#sns.set_theme('notebook')"
   ]
  },
  {
   "cell_type": "code",
   "execution_count": 50,
   "metadata": {},
   "outputs": [
    {
     "data": {
      "image/png": "[encoded data removed]",
      "text/plain": [
       "<Figure size 720x576 with 1 Axes>"
      ]
     },
     "metadata": {
      "image/png": {
       "height": 494,
       "width": 612
      },
      "needs_background": "light"
     },
     "output_type": "display_data"
    }
   ],
   "source": [
    "# Plot histogram\n",
    "plt.hist(arr, bins=20, color='blue', edgecolor='black')\n",
    "plt.title(\"Histogram of Random Numbers\")\n",
    "plt.xlabel(\"Value\")\n",
    "plt.ylabel(\"Frequency\")\n",
    "\n",
    "# Show the plot\n",
    "plt.show()"
   ]
  },
  {
   "cell_type": "code",
   "execution_count": 51,
   "metadata": {},
   "outputs": [],
   "source": [
    "foo = [1, 2, 3]\n",
    "bar = foo"
   ]
  },
  {
   "cell_type": "code",
   "execution_count": 52,
   "metadata": {},
   "outputs": [
    {
     "data": {
      "text/plain": [
       "[1, 2, 3]"
      ]
     },
     "execution_count": 52,
     "metadata": {},
     "output_type": "execute_result"
    }
   ],
   "source": [
    "bar"
   ]
  },
  {
   "cell_type": "code",
   "execution_count": 53,
   "metadata": {},
   "outputs": [
    {
     "data": {
      "text/plain": [
       "[1, 2, 3, 4, 4, 5]"
      ]
     },
     "execution_count": 53,
     "metadata": {},
     "output_type": "execute_result"
    }
   ],
   "source": [
    "foo + [4, 4, 5]"
   ]
  },
  {
   "cell_type": "code",
   "execution_count": 54,
   "metadata": {},
   "outputs": [],
   "source": [
    "foo.append([77, 5])"
   ]
  },
  {
   "cell_type": "code",
   "execution_count": 55,
   "metadata": {},
   "outputs": [
    {
     "data": {
      "text/plain": [
       "[1, 2, 3, [77, 5]]"
      ]
     },
     "execution_count": 55,
     "metadata": {},
     "output_type": "execute_result"
    }
   ],
   "source": [
    "foo"
   ]
  },
  {
   "cell_type": "code",
   "execution_count": 56,
   "metadata": {},
   "outputs": [
    {
     "data": {
      "text/plain": [
       "[1, 2, 3, [77, 5]]"
      ]
     },
     "execution_count": 56,
     "metadata": {},
     "output_type": "execute_result"
    }
   ],
   "source": [
    "bar"
   ]
  },
  {
   "cell_type": "code",
   "execution_count": 65,
   "metadata": {},
   "outputs": [
    {
     "data": {
      "text/plain": [
       "array([[ 2.88069145e+00],\n",
       "       [-7.94175807e-01],\n",
       "       [ 6.81970861e-01],\n",
       "       [-8.06813669e-01],\n",
       "       [ 4.39974587e-01],\n",
       "       [ 5.34404003e-01],\n",
       "       [ 3.68027303e+00],\n",
       "       [-1.36806434e+00],\n",
       "       [-2.23534747e-01],\n",
       "       [-5.42939471e-01],\n",
       "       [ 7.55779073e-01],\n",
       "       [ 1.76820609e+00],\n",
       "       [-8.46586671e-01],\n",
       "       [ 9.11274636e-01],\n",
       "       [-1.43364088e+00],\n",
       "       [-6.96663811e-01],\n",
       "       [ 6.42542056e-01],\n",
       "       [ 1.12365500e+00],\n",
       "       [ 3.94495441e-01],\n",
       "       [ 1.45973449e+00],\n",
       "       [ 3.87055016e-01],\n",
       "       [ 8.39744402e-01],\n",
       "       [ 3.39191995e-01],\n",
       "       [-1.27986356e+00],\n",
       "       [-3.31423104e-01],\n",
       "       [ 3.68857035e-01],\n",
       "       [ 7.39764804e-01],\n",
       "       [-1.73560106e-01],\n",
       "       [-1.10124629e+00],\n",
       "       [ 8.62281565e-01],\n",
       "       [ 3.72215274e-01],\n",
       "       [ 6.23302556e-01],\n",
       "       [ 1.20119017e+00],\n",
       "       [-6.04191456e-02],\n",
       "       [ 4.40779759e-01],\n",
       "       [ 5.79743860e-01],\n",
       "       [ 1.73075616e+00],\n",
       "       [-1.23183170e+00],\n",
       "       [-7.05320322e-01],\n",
       "       [ 2.06712548e+00],\n",
       "       [-6.30967195e-02],\n",
       "       [-4.72726725e-01],\n",
       "       [ 6.88926809e-01],\n",
       "       [ 4.96238976e-01],\n",
       "       [-9.73383495e-01],\n",
       "       [ 1.41779507e+00],\n",
       "       [ 1.04984297e+00],\n",
       "       [ 2.32404402e+00],\n",
       "       [ 2.61035502e-01],\n",
       "       [ 1.20113617e+00],\n",
       "       [-8.33734327e-01],\n",
       "       [ 1.39621248e-01],\n",
       "       [ 2.62062154e-01],\n",
       "       [ 4.12980667e-01],\n",
       "       [ 3.06037095e-01],\n",
       "       [ 6.17942653e-01],\n",
       "       [ 4.95345984e-01],\n",
       "       [-7.92592607e-01],\n",
       "       [-6.06532779e-01],\n",
       "       [-1.68928886e+00],\n",
       "       [-2.70188179e+00],\n",
       "       [ 3.40921082e-01],\n",
       "       [ 3.00802205e-01],\n",
       "       [ 1.85190026e+00],\n",
       "       [-9.43613319e-01],\n",
       "       [-1.71912464e+00],\n",
       "       [ 7.11133125e-01],\n",
       "       [-2.51477898e-01],\n",
       "       [ 1.11612704e+00],\n",
       "       [-8.63207846e-02],\n",
       "       [ 7.68829801e-01],\n",
       "       [ 9.18223881e-01],\n",
       "       [-8.42752989e-02],\n",
       "       [ 3.28020050e-01],\n",
       "       [ 1.49371514e+00],\n",
       "       [-1.36952997e+00],\n",
       "       [ 5.66771043e-01],\n",
       "       [ 6.97266730e-01],\n",
       "       [ 1.76256318e-01],\n",
       "       [-7.66084560e-01],\n",
       "       [ 7.17017937e-01],\n",
       "       [-2.45782255e-01],\n",
       "       [-1.36924984e-04],\n",
       "       [-1.50360641e+00],\n",
       "       [-4.44111824e-01],\n",
       "       [ 7.95668866e-02],\n",
       "       [-3.00091568e-01],\n",
       "       [-1.69186069e+00],\n",
       "       [ 2.86582315e+00],\n",
       "       [ 4.15737474e-01],\n",
       "       [-1.67691525e+00],\n",
       "       [ 1.07621748e+00],\n",
       "       [-1.09825026e-01],\n",
       "       [ 7.53793567e-01],\n",
       "       [ 6.55382630e-01],\n",
       "       [-8.50673676e-01],\n",
       "       [-1.30405941e+00],\n",
       "       [ 3.81894090e-01],\n",
       "       [ 7.11077684e-01],\n",
       "       [ 6.33019027e-02]])"
      ]
     },
     "execution_count": 65,
     "metadata": {},
     "output_type": "execute_result"
    }
   ],
   "source": [
    "X = np.random.randn(100, 1)\n",
    "X"
   ]
  },
  {
   "cell_type": "code",
   "execution_count": 66,
   "metadata": {},
   "outputs": [
    {
     "data": {
      "text/plain": [
       "array([ 2.88069145e+00, -7.94175807e-01,  6.81970861e-01, -8.06813669e-01,\n",
       "        4.39974587e-01,  5.34404003e-01,  3.68027303e+00, -1.36806434e+00,\n",
       "       -2.23534747e-01, -5.42939471e-01,  7.55779073e-01,  1.76820609e+00,\n",
       "       -8.46586671e-01,  9.11274636e-01, -1.43364088e+00, -6.96663811e-01,\n",
       "        6.42542056e-01,  1.12365500e+00,  3.94495441e-01,  1.45973449e+00,\n",
       "        3.87055016e-01,  8.39744402e-01,  3.39191995e-01, -1.27986356e+00,\n",
       "       -3.31423104e-01,  3.68857035e-01,  7.39764804e-01, -1.73560106e-01,\n",
       "       -1.10124629e+00,  8.62281565e-01,  3.72215274e-01,  6.23302556e-01,\n",
       "        1.20119017e+00, -6.04191456e-02,  4.40779759e-01,  5.79743860e-01,\n",
       "        1.73075616e+00, -1.23183170e+00, -7.05320322e-01,  2.06712548e+00,\n",
       "       -6.30967195e-02, -4.72726725e-01,  6.88926809e-01,  4.96238976e-01,\n",
       "       -9.73383495e-01,  1.41779507e+00,  1.04984297e+00,  2.32404402e+00,\n",
       "        2.61035502e-01,  1.20113617e+00, -8.33734327e-01,  1.39621248e-01,\n",
       "        2.62062154e-01,  4.12980667e-01,  3.06037095e-01,  6.17942653e-01,\n",
       "        4.95345984e-01, -7.92592607e-01, -6.06532779e-01, -1.68928886e+00,\n",
       "       -2.70188179e+00,  3.40921082e-01,  3.00802205e-01,  1.85190026e+00,\n",
       "       -9.43613319e-01, -1.71912464e+00,  7.11133125e-01, -2.51477898e-01,\n",
       "        1.11612704e+00, -8.63207846e-02,  7.68829801e-01,  9.18223881e-01,\n",
       "       -8.42752989e-02,  3.28020050e-01,  1.49371514e+00, -1.36952997e+00,\n",
       "        5.66771043e-01,  6.97266730e-01,  1.76256318e-01, -7.66084560e-01,\n",
       "        7.17017937e-01, -2.45782255e-01, -1.36924984e-04, -1.50360641e+00,\n",
       "       -4.44111824e-01,  7.95668866e-02, -3.00091568e-01, -1.69186069e+00,\n",
       "        2.86582315e+00,  4.15737474e-01, -1.67691525e+00,  1.07621748e+00,\n",
       "       -1.09825026e-01,  7.53793567e-01,  6.55382630e-01, -8.50673676e-01,\n",
       "       -1.30405941e+00,  3.81894090e-01,  7.11077684e-01,  6.33019027e-02])"
      ]
     },
     "execution_count": 66,
     "metadata": {},
     "output_type": "execute_result"
    }
   ],
   "source": [
    "X[:, 0]"
   ]
  },
  {
   "cell_type": "code",
   "execution_count": null,
   "metadata": {},
   "outputs": [],
   "source": []
  }
 ],
 "metadata": {
  "kernelspec": {
   "display_name": "Python 3",
   "language": "python",
   "name": "python3"
  },
  "language_info": {
   "codemirror_mode": {
    "name": "ipython",
    "version": 3
   },
   "file_extension": ".py",
   "mimetype": "text/x-python",
   "name": "python",
   "nbconvert_exporter": "python",
   "pygments_lexer": "ipython3",
   "version": "3.11.4"
  },
  "orig_nbformat": 4
 },
 "nbformat": 4,
 "nbformat_minor": 2
}
