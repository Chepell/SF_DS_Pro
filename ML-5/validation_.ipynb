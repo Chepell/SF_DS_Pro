{
 "cells": [
  {
   "cell_type": "markdown",
   "metadata": {},
   "source": [
    "В этом модуле мы будем решать задачу классификации: \n",
    "\n",
    "классифицировать воду на пригодную  и не пригодную для питья на основе её химического состава.\n",
    "\n",
    "Скачать набор данных можно здесь. С подробным описанием датасета и столбцов таблицы ознакомьтесь в источнике."
   ]
  },
  {
   "cell_type": "code",
   "execution_count": 74,
   "metadata": {},
   "outputs": [],
   "source": [
    "import numpy as np # для матричных вычислений\n",
    "import pandas as pd # для анализа и предобработки данных\n",
    "import matplotlib.pyplot as plt # для визуализации\n",
    "import seaborn as sns # для визуализации\n",
    " \n",
    "from sklearn import metrics # метрики\n",
    "from sklearn import model_selection # методы разделения и валидации\n",
    "from sklearn import linear_model # линейные модели\n",
    "from sklearn import tree # деревья решений\n",
    "plt.style.use('seaborn') # стиль отрисовки seaborn\n",
    "%matplotlib inline"
   ]
  },
  {
   "cell_type": "code",
   "execution_count": 75,
   "metadata": {},
   "outputs": [
    {
     "data": {
      "text/html": [
       "<div>\n",
       "<style scoped>\n",
       "    .dataframe tbody tr th:only-of-type {\n",
       "        vertical-align: middle;\n",
       "    }\n",
       "\n",
       "    .dataframe tbody tr th {\n",
       "        vertical-align: top;\n",
       "    }\n",
       "\n",
       "    .dataframe thead th {\n",
       "        text-align: right;\n",
       "    }\n",
       "</style>\n",
       "<table border=\"1\" class=\"dataframe\">\n",
       "  <thead>\n",
       "    <tr style=\"text-align: right;\">\n",
       "      <th></th>\n",
       "      <th>ph</th>\n",
       "      <th>Hardness</th>\n",
       "      <th>Solids</th>\n",
       "      <th>Chloramines</th>\n",
       "      <th>Sulfate</th>\n",
       "      <th>Conductivity</th>\n",
       "      <th>Organic_carbon</th>\n",
       "      <th>Trihalomethanes</th>\n",
       "      <th>Turbidity</th>\n",
       "      <th>Potability</th>\n",
       "    </tr>\n",
       "  </thead>\n",
       "  <tbody>\n",
       "    <tr>\n",
       "      <th>0</th>\n",
       "      <td>NaN</td>\n",
       "      <td>204.890455</td>\n",
       "      <td>20791.318981</td>\n",
       "      <td>7.300212</td>\n",
       "      <td>368.516441</td>\n",
       "      <td>564.308654</td>\n",
       "      <td>10.379783</td>\n",
       "      <td>86.990970</td>\n",
       "      <td>2.963135</td>\n",
       "      <td>0</td>\n",
       "    </tr>\n",
       "    <tr>\n",
       "      <th>1</th>\n",
       "      <td>3.716080</td>\n",
       "      <td>129.422921</td>\n",
       "      <td>18630.057858</td>\n",
       "      <td>6.635246</td>\n",
       "      <td>NaN</td>\n",
       "      <td>592.885359</td>\n",
       "      <td>15.180013</td>\n",
       "      <td>56.329076</td>\n",
       "      <td>4.500656</td>\n",
       "      <td>0</td>\n",
       "    </tr>\n",
       "    <tr>\n",
       "      <th>2</th>\n",
       "      <td>8.099124</td>\n",
       "      <td>224.236259</td>\n",
       "      <td>19909.541732</td>\n",
       "      <td>9.275884</td>\n",
       "      <td>NaN</td>\n",
       "      <td>418.606213</td>\n",
       "      <td>16.868637</td>\n",
       "      <td>66.420093</td>\n",
       "      <td>3.055934</td>\n",
       "      <td>0</td>\n",
       "    </tr>\n",
       "    <tr>\n",
       "      <th>3</th>\n",
       "      <td>8.316766</td>\n",
       "      <td>214.373394</td>\n",
       "      <td>22018.417441</td>\n",
       "      <td>8.059332</td>\n",
       "      <td>356.886136</td>\n",
       "      <td>363.266516</td>\n",
       "      <td>18.436524</td>\n",
       "      <td>100.341674</td>\n",
       "      <td>4.628771</td>\n",
       "      <td>0</td>\n",
       "    </tr>\n",
       "    <tr>\n",
       "      <th>4</th>\n",
       "      <td>9.092223</td>\n",
       "      <td>181.101509</td>\n",
       "      <td>17978.986339</td>\n",
       "      <td>6.546600</td>\n",
       "      <td>310.135738</td>\n",
       "      <td>398.410813</td>\n",
       "      <td>11.558279</td>\n",
       "      <td>31.997993</td>\n",
       "      <td>4.075075</td>\n",
       "      <td>0</td>\n",
       "    </tr>\n",
       "    <tr>\n",
       "      <th>...</th>\n",
       "      <td>...</td>\n",
       "      <td>...</td>\n",
       "      <td>...</td>\n",
       "      <td>...</td>\n",
       "      <td>...</td>\n",
       "      <td>...</td>\n",
       "      <td>...</td>\n",
       "      <td>...</td>\n",
       "      <td>...</td>\n",
       "      <td>...</td>\n",
       "    </tr>\n",
       "    <tr>\n",
       "      <th>3271</th>\n",
       "      <td>4.668102</td>\n",
       "      <td>193.681735</td>\n",
       "      <td>47580.991603</td>\n",
       "      <td>7.166639</td>\n",
       "      <td>359.948574</td>\n",
       "      <td>526.424171</td>\n",
       "      <td>13.894419</td>\n",
       "      <td>66.687695</td>\n",
       "      <td>4.435821</td>\n",
       "      <td>1</td>\n",
       "    </tr>\n",
       "    <tr>\n",
       "      <th>3272</th>\n",
       "      <td>7.808856</td>\n",
       "      <td>193.553212</td>\n",
       "      <td>17329.802160</td>\n",
       "      <td>8.061362</td>\n",
       "      <td>NaN</td>\n",
       "      <td>392.449580</td>\n",
       "      <td>19.903225</td>\n",
       "      <td>NaN</td>\n",
       "      <td>2.798243</td>\n",
       "      <td>1</td>\n",
       "    </tr>\n",
       "    <tr>\n",
       "      <th>3273</th>\n",
       "      <td>9.419510</td>\n",
       "      <td>175.762646</td>\n",
       "      <td>33155.578218</td>\n",
       "      <td>7.350233</td>\n",
       "      <td>NaN</td>\n",
       "      <td>432.044783</td>\n",
       "      <td>11.039070</td>\n",
       "      <td>69.845400</td>\n",
       "      <td>3.298875</td>\n",
       "      <td>1</td>\n",
       "    </tr>\n",
       "    <tr>\n",
       "      <th>3274</th>\n",
       "      <td>5.126763</td>\n",
       "      <td>230.603758</td>\n",
       "      <td>11983.869376</td>\n",
       "      <td>6.303357</td>\n",
       "      <td>NaN</td>\n",
       "      <td>402.883113</td>\n",
       "      <td>11.168946</td>\n",
       "      <td>77.488213</td>\n",
       "      <td>4.708658</td>\n",
       "      <td>1</td>\n",
       "    </tr>\n",
       "    <tr>\n",
       "      <th>3275</th>\n",
       "      <td>7.874671</td>\n",
       "      <td>195.102299</td>\n",
       "      <td>17404.177061</td>\n",
       "      <td>7.509306</td>\n",
       "      <td>NaN</td>\n",
       "      <td>327.459760</td>\n",
       "      <td>16.140368</td>\n",
       "      <td>78.698446</td>\n",
       "      <td>2.309149</td>\n",
       "      <td>1</td>\n",
       "    </tr>\n",
       "  </tbody>\n",
       "</table>\n",
       "<p>3276 rows × 10 columns</p>\n",
       "</div>"
      ],
      "text/plain": [
       "            ph    Hardness        Solids  Chloramines     Sulfate  \\\n",
       "0          NaN  204.890455  20791.318981     7.300212  368.516441   \n",
       "1     3.716080  129.422921  18630.057858     6.635246         NaN   \n",
       "2     8.099124  224.236259  19909.541732     9.275884         NaN   \n",
       "3     8.316766  214.373394  22018.417441     8.059332  356.886136   \n",
       "4     9.092223  181.101509  17978.986339     6.546600  310.135738   \n",
       "...        ...         ...           ...          ...         ...   \n",
       "3271  4.668102  193.681735  47580.991603     7.166639  359.948574   \n",
       "3272  7.808856  193.553212  17329.802160     8.061362         NaN   \n",
       "3273  9.419510  175.762646  33155.578218     7.350233         NaN   \n",
       "3274  5.126763  230.603758  11983.869376     6.303357         NaN   \n",
       "3275  7.874671  195.102299  17404.177061     7.509306         NaN   \n",
       "\n",
       "      Conductivity  Organic_carbon  Trihalomethanes  Turbidity  Potability  \n",
       "0       564.308654       10.379783        86.990970   2.963135           0  \n",
       "1       592.885359       15.180013        56.329076   4.500656           0  \n",
       "2       418.606213       16.868637        66.420093   3.055934           0  \n",
       "3       363.266516       18.436524       100.341674   4.628771           0  \n",
       "4       398.410813       11.558279        31.997993   4.075075           0  \n",
       "...            ...             ...              ...        ...         ...  \n",
       "3271    526.424171       13.894419        66.687695   4.435821           1  \n",
       "3272    392.449580       19.903225              NaN   2.798243           1  \n",
       "3273    432.044783       11.039070        69.845400   3.298875           1  \n",
       "3274    402.883113       11.168946        77.488213   4.708658           1  \n",
       "3275    327.459760       16.140368        78.698446   2.309149           1  \n",
       "\n",
       "[3276 rows x 10 columns]"
      ]
     },
     "execution_count": 75,
     "metadata": {},
     "output_type": "execute_result"
    }
   ],
   "source": [
    "water_data = pd.read_csv('data/water_potability.zip')\n",
    "water_data"
   ]
  },
  {
   "cell_type": "markdown",
   "metadata": {},
   "source": [
    "Целевой признак — Potability (пригодность для питья): 1 — вода пригодна, 0 — вода не пригодна."
   ]
  },
  {
   "cell_type": "code",
   "execution_count": 76,
   "metadata": {},
   "outputs": [],
   "source": [
    "TARGET_FEATURE = 'Potability'"
   ]
  },
  {
   "cell_type": "code",
   "execution_count": 77,
   "metadata": {},
   "outputs": [
    {
     "name": "stdout",
     "output_type": "stream",
     "text": [
      "<class 'pandas.core.frame.DataFrame'>\n",
      "RangeIndex: 3276 entries, 0 to 3275\n",
      "Data columns (total 10 columns):\n",
      " #   Column           Non-Null Count  Dtype  \n",
      "---  ------           --------------  -----  \n",
      " 0   ph               2785 non-null   float64\n",
      " 1   Hardness         3276 non-null   float64\n",
      " 2   Solids           3276 non-null   float64\n",
      " 3   Chloramines      3276 non-null   float64\n",
      " 4   Sulfate          2495 non-null   float64\n",
      " 5   Conductivity     3276 non-null   float64\n",
      " 6   Organic_carbon   3276 non-null   float64\n",
      " 7   Trihalomethanes  3114 non-null   float64\n",
      " 8   Turbidity        3276 non-null   float64\n",
      " 9   Potability       3276 non-null   int64  \n",
      "dtypes: float64(9), int64(1)\n",
      "memory usage: 256.1 KB\n"
     ]
    }
   ],
   "source": [
    "water_data.info()"
   ]
  },
  {
   "cell_type": "markdown",
   "metadata": {},
   "source": [
    "В данных есть пропуски. Выведем информацию о них в процентном соотношении:"
   ]
  },
  {
   "cell_type": "code",
   "execution_count": 78,
   "metadata": {},
   "outputs": [
    {
     "data": {
      "text/plain": [
       "ph                 14.99\n",
       "Hardness            0.00\n",
       "Solids              0.00\n",
       "Chloramines         0.00\n",
       "Sulfate            23.84\n",
       "Conductivity        0.00\n",
       "Organic_carbon      0.00\n",
       "Trihalomethanes     4.95\n",
       "Turbidity           0.00\n",
       "Potability          0.00\n",
       "dtype: float64"
      ]
     },
     "execution_count": 78,
     "metadata": {},
     "output_type": "execute_result"
    }
   ],
   "source": [
    "colums_with_null = (water_data.isnull().mean() * 100).round(2)\n",
    "colums_with_null\n"
   ]
  },
  {
   "cell_type": "markdown",
   "metadata": {},
   "source": [
    "Получаю список признаков в которых есть пропуски "
   ]
  },
  {
   "cell_type": "code",
   "execution_count": 79,
   "metadata": {},
   "outputs": [
    {
     "data": {
      "text/plain": [
       "['ph', 'Sulfate', 'Trihalomethanes']"
      ]
     },
     "execution_count": 79,
     "metadata": {},
     "output_type": "execute_result"
    }
   ],
   "source": [
    "null_columns = list(colums_with_null[colums_with_null > 0].index)\n",
    "null_columns"
   ]
  },
  {
   "cell_type": "markdown",
   "metadata": {},
   "source": [
    "Итак, у нас отсутствует:\n",
    "- около 15 % информации о кислотности воды (ph), \n",
    "- около 24 % — о содержании сульфатов (Sulfate) \n",
    "- около 5 % — о тригалометанах (Trihalomethanes). \n",
    "\n",
    "Мы знаем, что пропуски — непосильная ноша для большинства моделей машинного обучения. Их необходимо обработать.\n",
    "\n",
    "Заполним пропуски медианным значением в признаке зависимости класса воды (Potability). \n",
    "\n",
    "Для этого сгруппируем данные по признаку Potability, посчитаем медиану в каждой группе, а затем отправим результат в метод fillna():"
   ]
  },
  {
   "cell_type": "code",
   "execution_count": 80,
   "metadata": {},
   "outputs": [],
   "source": [
    "# В цикле заполняю пропуски медианным значением в разрезе целевого признака\n",
    "for col in null_columns:\n",
    "    # Заполняем пропуски\n",
    "    water_data[col] = water_data[col].fillna(water_data.groupby(TARGET_FEATURE)[col].transform('median'))"
   ]
  },
  {
   "cell_type": "markdown",
   "metadata": {},
   "source": [
    "Теперь проблема пропусков устранена. \n",
    "\n",
    "Давайте по традиции разделим набор данных на матрицу наблюдений X и вектор правильных ответов y:"
   ]
  },
  {
   "cell_type": "code",
   "execution_count": 81,
   "metadata": {},
   "outputs": [],
   "source": [
    "X, y = water_data.drop(TARGET_FEATURE, axis=1), water_data[TARGET_FEATURE]"
   ]
  },
  {
   "cell_type": "markdown",
   "metadata": {},
   "source": [
    "Если мы используем двухкомпонентный подход (разбиваем выборку на тренировочную и валидационную, она же тестовая), то всё очень просто: нам лишь нужно вызвать функцию train_test_split() и передать в неё матрицу наблюдений X и вектор-столбец с правильными ответами y."
   ]
  },
  {
   "cell_type": "code",
   "execution_count": 82,
   "metadata": {},
   "outputs": [],
   "source": [
    "X_train, X_valid, y_train, y_valid = model_selection.train_test_split(X, y, test_size=0.2, random_state=42)"
   ]
  },
  {
   "cell_type": "code",
   "execution_count": 83,
   "metadata": {},
   "outputs": [
    {
     "name": "stdout",
     "output_type": "stream",
     "text": [
      "Train shape: (2620, 9)\n",
      "Valid shape: (656, 9)\n"
     ]
    }
   ],
   "source": [
    "print('Train shape: {}'.format(X_train.shape))\n",
    "print('Valid shape: {}'.format(X_valid.shape))"
   ]
  },
  {
   "cell_type": "markdown",
   "metadata": {},
   "source": [
    "В качестве модели будем использовать дерево решений с максимальной глубиной 7, энтропией в качестве критерия информативности, минимальное число объектов в листе дерева — 5.\n",
    "\n",
    "После обучения сделаем предсказание для каждой из выборок и рассчитаем метрику. В качестве метрики для простоты возьмём долю правильных ответов — accuracy."
   ]
  },
  {
   "cell_type": "code",
   "execution_count": 84,
   "metadata": {},
   "outputs": [
    {
     "name": "stdout",
     "output_type": "stream",
     "text": [
      "Train hold-out accuracy: 0.82\n",
      "Valid hold-out accuracy: 0.77\n"
     ]
    }
   ],
   "source": [
    "# Создаём модель\n",
    "model = tree.DecisionTreeClassifier(\n",
    "    criterion='entropy', # критерий информативности\n",
    "    max_depth=7, # максимальная глубина\n",
    "    min_samples_leaf=5, # минимальное число объектов в листе\n",
    "    random_state=42 # генератор случайных чисел  \n",
    ")\n",
    "\n",
    "# Обучаем модель на тренировочной выборке\n",
    "model.fit(X_train, y_train)\n",
    "\n",
    "# Делаем предсказание для каждой из выборок\n",
    "y_train_pred = model.predict(X_train)\n",
    "y_valid_pred = model.predict(X_valid)\n",
    "\n",
    "# Выводим значения метрик\n",
    "print(f'Train hold-out accuracy: {metrics.accuracy_score(y_train, y_train_pred):.2f}')\n",
    "print(f'Valid hold-out accuracy: {metrics.accuracy_score(y_valid, y_valid_pred):.2f}') "
   ]
  },
  {
   "cell_type": "markdown",
   "metadata": {},
   "source": [
    "Если же мы используем трёхкомпонентный подход (разбиваем выборку на тренировочную, валидационную и отдельную тестовую), тут нам понадобится чуть больше кода. К сожалению, в sklearn нет специализированного функционала для такого разбиения.\n",
    "\n",
    "Применим функцию train_test_split() дважды: сначала разобьём исходный набор на тренировочный и валидационный в соотношении 80/20, затем разобьём валидационный набор на валидационный и тестовый в соотношении 50/50. В итоге наша выборка будет разбита в соотношении 80/10/10:"
   ]
  },
  {
   "cell_type": "code",
   "execution_count": 85,
   "metadata": {},
   "outputs": [],
   "source": [
    "# разбиваем исходную выборку на тренировочную и валидационную в соотношении 80/20\n",
    "X_train, X_valid, y_train, y_valid = model_selection.train_test_split(X, y, test_size=0.2, random_state=42)\n",
    "\n",
    "# разбиваем валидационную выборку на валидационную и тестовую в соотношении 50/50\n",
    "X_valid, X_test, y_valid, y_test = model_selection.train_test_split(X_valid, y_valid, test_size=0.5, random_state=42)"
   ]
  },
  {
   "cell_type": "code",
   "execution_count": 86,
   "metadata": {},
   "outputs": [
    {
     "name": "stdout",
     "output_type": "stream",
     "text": [
      "Train shape: (2620, 9)\n",
      "Valid shape: (328, 9)\n",
      "Test shape: (328, 9)\n"
     ]
    }
   ],
   "source": [
    "print('Train shape: {}'.format(X_train.shape))\n",
    "print('Valid shape: {}'.format(X_valid.shape))\n",
    "print('Test shape: {}'.format(X_test.shape))"
   ]
  },
  {
   "cell_type": "markdown",
   "metadata": {},
   "source": [
    "# K-FOLD"
   ]
  },
  {
   "cell_type": "markdown",
   "metadata": {},
   "source": [
    "Метод k-fold более известен как кросс-валидация (cross validation), или перекрёстный контроль."
   ]
  },
  {
   "cell_type": "code",
   "execution_count": 87,
   "metadata": {},
   "outputs": [],
   "source": [
    "# Создаём модель\n",
    "model = tree.DecisionTreeClassifier(\n",
    "    criterion='entropy', # критерий информативности\n",
    "    max_depth=7, # максимальная глубина\n",
    "    min_samples_leaf=5, # минимальное число объектов в листе\n",
    "    random_state=42 # генератор случайных чисел  \n",
    ")\n",
    " \n",
    "# Создаём объект кросс-валидатора KFold\n",
    "kf = model_selection.KFold(n_splits=5, shuffle=True, random_state=42)\n",
    "\n",
    "# Создаём словарь с пустыми списками для хранения тренировочных и валидационных метрик\n",
    "metrics_map = {\n",
    "    'train': [],\n",
    "    'valid': []\n",
    "    }\n",
    "\n",
    "# Организуем цикл для кросс-валидации (используем весь набор данных)\n",
    "# train_index — индексы тренировочной выборки\n",
    "# valid_index — индексы валидационной выборки\n",
    "for train_index, valid_index in kf.split(X, y):\n",
    "    # Создаём тренировочную и валидационную выборку, обращаясь по текущим индексам\n",
    "    X_train, y_train = X.iloc[train_index], y.iloc[train_index]\n",
    "    X_valid, y_valid = X.iloc[valid_index], y.iloc[valid_index]\n",
    "    \n",
    "    # Обучаем случайный лес на тренировочной выборке\n",
    "    model.fit(X_train, y_train)\n",
    "    \n",
    "    # Делаем предсказание для каждой из выборок\n",
    "    y_train_pred = model.predict(X_train)\n",
    "    y_valid_pred = model.predict(X_valid)\n",
    "    \n",
    "    # Рассчитываем метрики и заносим их в список\n",
    "    metrics_map['train'].append(metrics.accuracy_score(y_train, y_train_pred))\n",
    "    metrics_map['valid'].append(metrics.accuracy_score(y_valid, y_valid_pred))"
   ]
  },
  {
   "cell_type": "markdown",
   "metadata": {},
   "source": [
    "Списки со значением метрик на каждом фолде"
   ]
  },
  {
   "cell_type": "code",
   "execution_count": 88,
   "metadata": {},
   "outputs": [
    {
     "name": "stdout",
     "output_type": "stream",
     "text": [
      "[0.8213740458015267, 0.8168637924456315, 0.8096146508966043, 0.8057993132392217, 0.8031285768790538]\n",
      "[0.7713414634146342, 0.7984732824427481, 0.76793893129771, 0.7282442748091603, 0.766412213740458]\n"
     ]
    }
   ],
   "source": [
    "print(metrics_map['train'])\n",
    "print(metrics_map['valid'])"
   ]
  },
  {
   "cell_type": "markdown",
   "metadata": {},
   "source": [
    "Для агрегированной оценки рассчитаем среднее значение метрик:"
   ]
  },
  {
   "cell_type": "code",
   "execution_count": 89,
   "metadata": {},
   "outputs": [
    {
     "name": "stdout",
     "output_type": "stream",
     "text": [
      "Train k-fold mean accuracy: 0.81\n",
      "Valid k-fold mean accuracy: 0.77\n"
     ]
    }
   ],
   "source": [
    "print(f'Train k-fold mean accuracy: {np.mean(metrics_map[\"train\"]):.2f}')\n",
    "print(f'Valid k-fold mean accuracy: {np.mean(metrics_map[\"valid\"]):.2f}')"
   ]
  },
  {
   "cell_type": "markdown",
   "metadata": {},
   "source": [
    "### На самом весь приведённый выше код можно значительно сократить,\n",
    "### если использовать специальную функцию для кросс-валидации"
   ]
  },
  {
   "cell_type": "code",
   "execution_count": 90,
   "metadata": {},
   "outputs": [
    {
     "data": {
      "text/plain": [
       "{'fit_time': array([0.02809882, 0.02749801, 0.0277102 , 0.02769876, 0.02742124]),\n",
       " 'score_time': array([0.00298667, 0.00197649, 0.00126266, 0.0014255 , 0.00153494]),\n",
       " 'test_score': array([0.77134146, 0.79847328, 0.76793893, 0.72824427, 0.76641221]),\n",
       " 'train_score': array([0.82137405, 0.81686379, 0.80961465, 0.80579931, 0.80312858])}"
      ]
     },
     "execution_count": 90,
     "metadata": {},
     "output_type": "execute_result"
    }
   ],
   "source": [
    "# Создаём модель\n",
    "model = tree.DecisionTreeClassifier(\n",
    "    criterion='entropy', # критерий информативности\n",
    "    max_depth=7, # максимальная глубина\n",
    "    min_samples_leaf=5, # минимальное число объектов в листе\n",
    "    random_state=42 # генератор случайных чисел  \n",
    ")\n",
    " \n",
    "# Создаём объект кросс-валидатора KFold\n",
    "kf = model_selection.KFold(n_splits=5, shuffle=True, random_state=42)\n",
    " \n",
    "# Считаем метрики на кросс-валидации k-fold\n",
    "cv_metrics = model_selection.cross_validate(\n",
    "    estimator=model, # модель\n",
    "    X=X, # матрица наблюдений X\n",
    "    y=y, # вектор ответов y\n",
    "    cv=kf, # кросс-валидатор\n",
    "    scoring='accuracy', # метрика\n",
    "    return_train_score=True # подсчёт метрики на тренировочных фолдах\n",
    ")\n",
    "\n",
    "cv_metrics"
   ]
  },
  {
   "cell_type": "code",
   "execution_count": 91,
   "metadata": {},
   "outputs": [
    {
     "name": "stdout",
     "output_type": "stream",
     "text": [
      "Train k-fold mean accuracy: 0.81\n",
      "Test k-fold mean accuracy: 0.77\n"
     ]
    }
   ],
   "source": [
    "print(f'Train k-fold mean accuracy: {np.mean(cv_metrics[\"train_score\"]):.2f}')\n",
    "print(f'Test k-fold mean accuracy: {np.mean(cv_metrics[\"test_score\"]):.2f}')"
   ]
  },
  {
   "cell_type": "markdown",
   "metadata": {},
   "source": [
    "Мы получили тот же результат, что и ранее. Согласитесь, функция cross_validate() значительно облегчает работу с кросс-валидацией."
   ]
  },
  {
   "cell_type": "markdown",
   "metadata": {},
   "source": [
    "## LEAVE-ONE-OUT"
   ]
  },
  {
   "cell_type": "markdown",
   "metadata": {},
   "source": [
    "Метод leave-one-out (отложенный пример), или поэлементная кросс-валидация — это частный случай кросс-валидации (k-fold), когда размер  равняется размеру всей выборки , где  — количество примеров (строк в таблице)."
   ]
  },
  {
   "cell_type": "markdown",
   "metadata": {},
   "source": [
    "Значение метрики будет рассчитано не для всего набора данных, а только для его части. Если вы захотите рассчитать метрику на всём наборе данных, вместо среза передавайте в функцию таблицу X и столбец y целиком. Но имейте в виду, что код в таком случае может выполняться до нескольких минут."
   ]
  },
  {
   "cell_type": "code",
   "execution_count": 92,
   "metadata": {},
   "outputs": [
    {
     "name": "stdout",
     "output_type": "stream",
     "text": [
      "Train k-fold mean accuracy: 0.95\n",
      "Valid k-fold mean accuracy: 0.90\n"
     ]
    }
   ],
   "source": [
    "# Создаём модель\n",
    "model = tree.DecisionTreeClassifier(\n",
    "    criterion='entropy', # критерий информативности\n",
    "    max_depth=7, # максимальная глубина\n",
    "    min_samples_leaf=5, # минимальное число объектов в листе\n",
    "    random_state=42 # генератор случайных чисел  \n",
    ")\n",
    " \n",
    "# Создаём кросс-валидатор LeaveOneOut\n",
    "loo = model_selection.LeaveOneOut()\n",
    " \n",
    "# Считаем метрики на кросс-валидации leave-one-out\n",
    "cv_metrics = model_selection.cross_validate(\n",
    "    estimator=model, # модель\n",
    "    X=X.iloc[:500], # матрица наблюдений X\n",
    "    y=y.iloc[:500], # вектор ответов y\n",
    "    cv=loo, # кросс-валидатор\n",
    "    scoring='accuracy', # метрика\n",
    "    return_train_score=True # подсчёт метрики на тренировочных фолдах\n",
    ")\n",
    " \n",
    "print('Train k-fold mean accuracy: {:.2f}'.format(np.mean(cv_metrics['train_score'])))\n",
    "print('Valid k-fold mean accuracy: {:.2f}'.format(np.mean(cv_metrics['test_score'])))"
   ]
  },
  {
   "cell_type": "markdown",
   "metadata": {},
   "source": [
    "### Дисбаланс выборки"
   ]
  },
  {
   "cell_type": "code",
   "execution_count": 93,
   "metadata": {},
   "outputs": [
    {
     "data": {
      "text/plain": [
       "0    0.60989\n",
       "1    0.39011\n",
       "Name: Potability, dtype: float64"
      ]
     },
     "execution_count": 93,
     "metadata": {},
     "output_type": "execute_result"
    }
   ],
   "source": [
    "water_data[TARGET_FEATURE].value_counts(normalize=True)"
   ]
  },
  {
   "cell_type": "code",
   "execution_count": 94,
   "metadata": {},
   "outputs": [
    {
     "data": {
      "image/png": "[encoded data removed]",
      "text/plain": [
       "<Figure size 432x288 with 1 Axes>"
      ]
     },
     "metadata": {
      "needs_background": "light"
     },
     "output_type": "display_data"
    }
   ],
   "source": [
    "sns.countplot(data=water_data, x=TARGET_FEATURE)\n",
    "plt.show()"
   ]
  },
  {
   "cell_type": "markdown",
   "metadata": {},
   "source": [
    "Выборка была несбалансированной. Для такой выборки нельзя использовать метрику accuracy."
   ]
  },
  {
   "cell_type": "markdown",
   "metadata": {},
   "source": [
    "### СТРАТИФИЦИРОВАННОЕ РАЗБИЕНИЕ"
   ]
  },
  {
   "cell_type": "markdown",
   "metadata": {},
   "source": [
    "Для того чтобы снизить влияние дисбаланса классов при разбиении выборки, в наборе данных используется специальный тип разбиения, который называется стратифицированным (stratified). Данное разбиение предполагает, что наблюдения, принадлежащие каждому из классов, гарантированно попадут в каждый из наборов данных в одинаковой пропорции."
   ]
  },
  {
   "cell_type": "markdown",
   "metadata": {},
   "source": [
    "Для начала проведём обычное случайное разбиение на тренировочную и валидационную выборку (в соотношении 80/20) без стратификации:"
   ]
  },
  {
   "cell_type": "code",
   "execution_count": 95,
   "metadata": {},
   "outputs": [
    {
     "name": "stdout",
     "output_type": "stream",
     "text": [
      "Train:\n",
      "0    0.620229\n",
      "1    0.379771\n",
      "Name: Potability, dtype: float64\n",
      "Valid:\n",
      "0    0.568598\n",
      "1    0.431402\n",
      "Name: Potability, dtype: float64\n"
     ]
    }
   ],
   "source": [
    "X, y = water_data.drop(TARGET_FEATURE, axis=1), water_data[TARGET_FEATURE]\n",
    "\n",
    "X_train, X_valid, y_train, y_valid = model_selection.train_test_split(X, y, test_size=0.2, random_state=1)\n",
    "print('Train:\\n', y_train.value_counts(normalize=True), sep='')\n",
    "print('Valid:\\n', y_valid.value_counts(normalize=True), sep='')"
   ]
  },
  {
   "cell_type": "markdown",
   "metadata": {},
   "source": [
    "Для стратифицированного разбиения достаточно в функции train_test_split() задать параметр stratify, \n",
    "\n",
    "в который нужно передать столбец с метками классов, на основе которого будет производиться балансировка. Это будет столбец с правильными ответами y."
   ]
  },
  {
   "cell_type": "code",
   "execution_count": 96,
   "metadata": {},
   "outputs": [
    {
     "name": "stdout",
     "output_type": "stream",
     "text": [
      "Train:\n",
      "0    0.609924\n",
      "1    0.390076\n",
      "Name: Potability, dtype: float64\n",
      "Valid:\n",
      "0    0.609756\n",
      "1    0.390244\n",
      "Name: Potability, dtype: float64\n"
     ]
    }
   ],
   "source": [
    "X_train, X_valid, y_train, y_valid = model_selection.train_test_split(X, y, stratify=y, test_size=0.2, random_state=1)\n",
    "print('Train:\\n', y_train.value_counts(normalize=True), sep='')\n",
    "print('Valid:\\n', y_valid.value_counts(normalize=True), sep='')"
   ]
  },
  {
   "cell_type": "markdown",
   "metadata": {},
   "source": [
    "А что насчёт кросс-валидации? Как организовать разбиение по методу k-fold и получить одинаковые соотношения классов?"
   ]
  },
  {
   "cell_type": "markdown",
   "metadata": {},
   "source": [
    "Для этого вместо KFold используется кросс-валидатор StratifiedKFold. "
   ]
  },
  {
   "cell_type": "code",
   "execution_count": 97,
   "metadata": {},
   "outputs": [
    {
     "name": "stdout",
     "output_type": "stream",
     "text": [
      "Train:\n",
      "0    0.60989\n",
      "1    0.39011\n",
      "Name: Potability, dtype: float64\n",
      "Valid:\n",
      "0    0.60989\n",
      "1    0.39011\n",
      "Name: Potability, dtype: float64\n",
      "----------------------------------------\n",
      "Train:\n",
      "0    0.60989\n",
      "1    0.39011\n",
      "Name: Potability, dtype: float64\n",
      "Valid:\n",
      "0    0.60989\n",
      "1    0.39011\n",
      "Name: Potability, dtype: float64\n",
      "----------------------------------------\n",
      "Train:\n",
      "0    0.60989\n",
      "1    0.39011\n",
      "Name: Potability, dtype: float64\n",
      "Valid:\n",
      "0    0.60989\n",
      "1    0.39011\n",
      "Name: Potability, dtype: float64\n",
      "----------------------------------------\n"
     ]
    }
   ],
   "source": [
    "skf = model_selection.StratifiedKFold(n_splits=3, shuffle=True, random_state=42)\n",
    "# Тут перемешивание по умолчанию выключено, в отличии от train_test_split\n",
    "\n",
    "for train_index, valid_index in skf.split(X, y): \n",
    "    X_train, y_train = X.iloc[train_index], y.iloc[train_index]\n",
    "    X_valid, y_valid = X.iloc[valid_index], y.iloc[valid_index]\n",
    "    print('Train:\\n', y_train.value_counts(normalize=True), sep='')\n",
    "    print('Valid:\\n', y_valid.value_counts(normalize=True), sep='')\n",
    "    print('-'*40)"
   ]
  },
  {
   "cell_type": "markdown",
   "metadata": {},
   "source": [
    "### ВЗВЕШИВАНИЕ ОБЪЕКТОВ"
   ]
  },
  {
   "cell_type": "markdown",
   "metadata": {},
   "source": [
    "Большинство моделей, реализованных в sklearn, имеют параметр class_weight — веса классов.\n",
    "\n",
    "Для того чтобы задать веса классам по приведённым выше формулам, \n",
    "\n",
    "достаточно в инициализаторе модели выставить параметр class_weight='balanced'."
   ]
  },
  {
   "cell_type": "code",
   "execution_count": 98,
   "metadata": {},
   "outputs": [
    {
     "name": "stdout",
     "output_type": "stream",
     "text": [
      "              precision    recall  f1-score   support\n",
      "\n",
      "           0       0.79      0.81      0.80       666\n",
      "           1       0.69      0.65      0.67       426\n",
      "\n",
      "    accuracy                           0.75      1092\n",
      "   macro avg       0.74      0.73      0.74      1092\n",
      "weighted avg       0.75      0.75      0.75      1092\n",
      "\n"
     ]
    }
   ],
   "source": [
    "# Создаём модель\n",
    "model = tree.DecisionTreeClassifier(\n",
    "    criterion='entropy', # критерий информативности\n",
    "    max_depth=7, # максимальная глубина\n",
    "    min_samples_leaf=5, # минимальное число объектов в листе\n",
    "    random_state=42, # генератор случайных чисел\n",
    "    class_weight='balanced' # веса классов\n",
    ")\n",
    "\n",
    "# Обучаем модель на тренировочной выборке\n",
    "model.fit(X_train, y_train)\n",
    "\n",
    "# Делаем предсказание для каждой из выборок\n",
    "y_train_pred = model.predict(X_train)\n",
    "y_valid_pred = model.predict(X_valid)\n",
    "\n",
    "# Выводим значения метрик    \n",
    "print(metrics.classification_report(y_valid, y_valid_pred))"
   ]
  },
  {
   "cell_type": "markdown",
   "metadata": {},
   "source": [
    "### ВЫБОР ПОРОГА ВЕРОЯТНОСТИ. PR-КРИВАЯ\n",
    "Следующий метод, о котором мы поговорим, — это выбор порога вероятности (бинаризации).\n",
    "\n",
    "PR-кривая (precision-recall curve) — это график зависимости precision от recall при различных значениях порога вероятности."
   ]
  },
  {
   "cell_type": "markdown",
   "metadata": {},
   "source": [
    "Подберём порог вероятности с помощью PR-кривой для нашего примера. Так как порог вероятности является внешним параметром модели, будет правильнее подбирать его на кросс-валидации, организованной на тренировочном наборе данных, а итоговое качество оценивать на отложенной выборке."
   ]
  },
  {
   "cell_type": "markdown",
   "metadata": {},
   "source": [
    "Перед построением PR-кривой нам необходимо предсказать вероятности принадлежности к классу 1 на валидационных фолдах кросс-валидации."
   ]
  },
  {
   "cell_type": "markdown",
   "metadata": {},
   "source": [
    "Для предсказания вероятностей используем функцию cross_val_predict(). Данная функция выполняет кросс-валидацию и возвращает предсказания для валидационных фолдов. Если ей передать параметр method='predict_proba', она вернёт предсказанные вероятности для каждого из классов на всех фолдах. Остальные параметры аналогичны параметрам функции cross_validate()."
   ]
  },
  {
   "cell_type": "code",
   "execution_count": 99,
   "metadata": {},
   "outputs": [],
   "source": [
    "# Создаём модель\n",
    "model = tree.DecisionTreeClassifier(\n",
    "    criterion='entropy', # критерий информативности\n",
    "    max_depth=7, # максимальная глубина\n",
    "    min_samples_leaf=5, # минимальное число объектов в листе\n",
    "    random_state=42 # генератор случайных чисел \n",
    ")\n",
    "\n",
    "# Обучаем модель\n",
    "model.fit(X_train, y_train)\n",
    "\n",
    "# Создаём кросс-валидатор k-fold со стратификацией\n",
    "skf = model_selection.StratifiedKFold(n_splits=5)\n",
    "\n",
    "# Делаем предсказание вероятностей на кросс-валидации\n",
    "y_cv_proba_pred = model_selection.cross_val_predict(model, X_train, y_train, cv=skf, method='predict_proba')"
   ]
  },
  {
   "cell_type": "code",
   "execution_count": 100,
   "metadata": {},
   "outputs": [
    {
     "data": {
      "text/plain": [
       "array([[0.68103448, 0.31896552],\n",
       "       [1.        , 0.        ],\n",
       "       [1.        , 0.        ],\n",
       "       ...,\n",
       "       [0.        , 1.        ],\n",
       "       [0.        , 1.        ],\n",
       "       [0.        , 1.        ]])"
      ]
     },
     "execution_count": 100,
     "metadata": {},
     "output_type": "execute_result"
    }
   ],
   "source": [
    "y_cv_proba_pred"
   ]
  },
  {
   "cell_type": "code",
   "execution_count": 101,
   "metadata": {},
   "outputs": [
    {
     "data": {
      "text/plain": [
       "array([0.31896552, 0.        , 0.        , ..., 1.        , 1.        ,\n",
       "       1.        ])"
      ]
     },
     "execution_count": 101,
     "metadata": {},
     "output_type": "execute_result"
    }
   ],
   "source": [
    "# Выделяем столбец с вероятностями для класса 1 \n",
    "y_cv_proba_pred = y_cv_proba_pred[:, 1]\n",
    "y_cv_proba_pred"
   ]
  },
  {
   "cell_type": "markdown",
   "metadata": {},
   "source": [
    "Теперь мы можем построить PR-кривую. Для этого воспользуемся функций precision_recall_curve() из модуля metrics библиотеки sklearn. В данную функцию нужно передать истинные метки классов и предсказанные вероятности. Взамен она вернёт три массива: значения метрик precision и recall, вычисленных на различных порогах вероятности, и сами пороги вероятности:"
   ]
  },
  {
   "cell_type": "code",
   "execution_count": 102,
   "metadata": {},
   "outputs": [
    {
     "name": "stdout",
     "output_type": "stream",
     "text": [
      "Thresholds: [0.         0.03508772 0.05263158 0.07142857 0.07692308]\n",
      "Precision scores: [0.39010989 0.49072412 0.4945322  0.49421085 0.49359365]\n",
      "Recall scores: [1.         0.96244131 0.95539906 0.95187793 0.94953052]\n"
     ]
    }
   ],
   "source": [
    "# Вычисляем координаты PR-кривой\n",
    "precision, recall, thresholds = metrics.precision_recall_curve(y_train, y_cv_proba_pred)\n",
    "\n",
    "# Посмотрим на первые пять значений\n",
    "print('Thresholds:', thresholds[:5])\n",
    "print('Precision scores:', precision[:5])\n",
    "print('Recall scores:', recall[:5])"
   ]
  },
  {
   "cell_type": "markdown",
   "metadata": {},
   "source": [
    "Осталось дело за малым. Вычислим значение F1-score при различных порогах вероятности и найдём такой порог вероятности, при котором она максимальна.\n",
    "\n",
    "Сделать это можно с помощью функции argmax() из модуля numpy — она возвращает индекс максимального элемента массива.\n",
    "\n",
    "Далее построим PR-кривую и отметим на ней точку максимума F1-score."
   ]
  },
  {
   "cell_type": "code",
   "execution_count": 103,
   "metadata": {},
   "outputs": [
    {
     "name": "stdout",
     "output_type": "stream",
     "text": [
      "Best threshold = 0.29, F1-Score = 0.66\n"
     ]
    },
    {
     "data": {
      "image/png": "[encoded data removed]",
      "text/plain": [
       "<Figure size 1152x576 with 1 Axes>"
      ]
     },
     "metadata": {
      "needs_background": "light"
     },
     "output_type": "display_data"
    }
   ],
   "source": [
    "# Вычисляем F1-score при различных threshold\n",
    "f1_scores = (2 * precision * recall) / (precision + recall)\n",
    "\n",
    "# Определяем индекс максимума F1\n",
    "idx = np.argmax(f1_scores)\n",
    "# И значение порога вероятности при котором F1 максимален\n",
    "threshold_opt = thresholds[idx]\n",
    "\n",
    "print('Best threshold = {:.2f}, F1-Score = {:.2f}'.format(threshold_opt, f1_scores[idx]))\n",
    " \n",
    "# Строим PR-кривую\n",
    "fig, ax = plt.subplots(figsize = (16, 8)) # фигура + координатная плоскость\n",
    "\n",
    "# Строим линейный график зависимости precision от recall\n",
    "ax.plot(precision, recall, label='Decision Tree PR')\n",
    "\n",
    "# Отмечаем точку максимума F1\n",
    "ax.scatter(precision[idx], recall[idx], marker='o', color='black', label='Best F1 score')\n",
    "\n",
    "# Даём графику название и подписываем оси\n",
    "ax.set_title('Precision-recall curve')\n",
    "ax.set_xlabel('Recall')\n",
    "ax.set_ylabel('Precision')\n",
    "\n",
    "#Отображаем легенду\n",
    "ax.legend()\n",
    "plt.show()"
   ]
  },
  {
   "cell_type": "markdown",
   "metadata": {},
   "source": [
    "Итак, согласно нашим вычислениям и построенной PR-кривой, максимум  F1 = 0.69 на кросс-валидации наблюдается при пороге вероятности 0.33.\n",
    "\n",
    "Сделаем предсказание классов с таким порогом для всех объектов из отложенной валидационной выборки и выведем отчёт о метриках:"
   ]
  },
  {
   "cell_type": "code",
   "execution_count": 104,
   "metadata": {},
   "outputs": [
    {
     "name": "stdout",
     "output_type": "stream",
     "text": [
      "              precision    recall  f1-score   support\n",
      "\n",
      "           0       0.85      0.62      0.72       666\n",
      "           1       0.58      0.83      0.68       426\n",
      "\n",
      "    accuracy                           0.70      1092\n",
      "   macro avg       0.72      0.72      0.70      1092\n",
      "weighted avg       0.75      0.70      0.70      1092\n",
      "\n"
     ]
    }
   ],
   "source": [
    "# Образцы воды, для которых вероятность быть пригодными для питья > threshold_opt, относим к классу 1\n",
    "# В противном случае — к классу 0\n",
    "y_valid_pred_proba = model.predict_proba(X_valid)[:, 1]\n",
    "y_valid_pred = (y_valid_pred_proba > threshold_opt).astype('int')\n",
    "\n",
    "# Считаем метрики\n",
    "print(metrics.classification_report(y_valid, y_valid_pred))"
   ]
  },
  {
   "cell_type": "markdown",
   "metadata": {},
   "source": [
    "Итак, при применении метода подбора вероятности увеличилось значение метрик recall и  F1 для класса 1.\n",
    "\n",
    "Нам удалось сократить разницу метрик между классами и заставить модель практически одинаково хорошо предсказывать классы питьевой и непитьевой воды."
   ]
  },
  {
   "cell_type": "markdown",
   "metadata": {},
   "source": [
    "Чтобы вычислить площадь под PR-кривой, используется функция auc() из модуля metrics библиотеки sklearn.\n",
    "\n",
    "В данную функцию нужно передать значения метрик recall и precision при различных порогах вероятности"
   ]
  },
  {
   "cell_type": "code",
   "execution_count": 105,
   "metadata": {},
   "outputs": [
    {
     "name": "stdout",
     "output_type": "stream",
     "text": [
      "PR AUC: 0.75\n"
     ]
    }
   ],
   "source": [
    "print('PR AUC: {:.2f}'.format(metrics.auc(recall, precision)))"
   ]
  },
  {
   "cell_type": "markdown",
   "metadata": {},
   "source": [
    "### СЭМПЛИРОВАНИЕ\n",
    "Следующий подход работы в условиях дисбаланса классов, который мы рассмотрим, — сэмплирование, а точнее — пересэмплирование (oversampling).\n",
    "\n",
    "Простейшая стратегия пересэмплирования — продублировать объекты малого класса. \n",
    "\n",
    "Но это неинтересно и работает довольно плохо. Поэтому были созданы специальные алгоритмы генерации искусственных данных. \n",
    "\n",
    "Самый популярный из таких алгоритмов — алгоритм SMOTE (Synthetic Minority Oversampling Techniques)."
   ]
  },
  {
   "cell_type": "code",
   "execution_count": 106,
   "metadata": {},
   "outputs": [],
   "source": [
    "# !pip install imbalanced-learn"
   ]
  },
  {
   "cell_type": "code",
   "execution_count": 107,
   "metadata": {},
   "outputs": [],
   "source": [
    "from imblearn.over_sampling import SMOTE"
   ]
  },
  {
   "cell_type": "code",
   "execution_count": 108,
   "metadata": {},
   "outputs": [
    {
     "name": "stdout",
     "output_type": "stream",
     "text": [
      "Train shape before oversampling: (2184, 9)\n",
      "Class balance before oversampling: \n",
      "0    1332\n",
      "1     852\n",
      "Name: Potability, dtype: int64\n",
      "----------------------------------------\n",
      "Train shape after oversampling: (2664, 9)\n",
      "Class balance after oversampling: \n",
      "0    1332\n",
      "1    1332\n",
      "Name: Potability, dtype: int64\n"
     ]
    }
   ],
   "source": [
    "# Создадим объект класса SMOTE и вызовем у него метод fit_sample(), \n",
    "# передав в него обучающую выборку (X_train, y_train). \n",
    "# Затем выведем количество наблюдений каждого из классов до и после сэмплирования:\n",
    "sm = SMOTE(random_state=2)\n",
    "X_train_s, y_train_s = sm.fit_resample(X_train, y_train)\n",
    "\n",
    "print('Train shape before oversampling:', X_train.shape) \n",
    "print('Class balance before oversampling: \\n', y_train.value_counts(), sep='')\n",
    "print('-'*40)\n",
    "print('Train shape after oversampling:', X_train_s.shape)\n",
    "print('Class balance after oversampling: \\n', y_train_s.value_counts(), sep='')"
   ]
  },
  {
   "cell_type": "markdown",
   "metadata": {},
   "source": [
    "Попробуем обучить нашу модель на сгенерированных обучающих данных и сделать предсказание на валидационной выборке\n",
    "\n",
    "(обратите внимание, что с валидационным набором данных мы не производим никаких преобразований), чтобы рассчитать метрики:"
   ]
  },
  {
   "cell_type": "code",
   "execution_count": 109,
   "metadata": {},
   "outputs": [
    {
     "name": "stdout",
     "output_type": "stream",
     "text": [
      "              precision    recall  f1-score   support\n",
      "\n",
      "           0       0.78      0.71      0.75       666\n",
      "           1       0.61      0.69      0.65       426\n",
      "\n",
      "    accuracy                           0.71      1092\n",
      "   macro avg       0.70      0.70      0.70      1092\n",
      "weighted avg       0.71      0.71      0.71      1092\n",
      "\n"
     ]
    }
   ],
   "source": [
    "# Создаём модель\n",
    "model = tree.DecisionTreeClassifier(\n",
    "    criterion='entropy', # критерий информативности\n",
    "    max_depth=7, # максимальная глубина\n",
    "    min_samples_leaf=5, # минимальное число объектов в листе\n",
    "    random_state=42 # генератор случайных чисел\n",
    ")\n",
    "\n",
    "# Обучаем модель на тренировочной выборке (с сэмплированием)\n",
    "model.fit(X_train_s, y_train_s)\n",
    "\n",
    "# Делаем предсказание для каждой из выборок\n",
    "y_train_pred = model.predict(X_train)\n",
    "y_valid_pred = model.predict(X_valid)\n",
    "\n",
    "# Выводим значения метрик    \n",
    "print(metrics.classification_report(y_valid, y_valid_pred))"
   ]
  },
  {
   "cell_type": "markdown",
   "metadata": {},
   "source": [
    "Заметьте, что качество всех рассмотренных методов приблизительно одинаковое — они дают примерно идентичное значение метрик. Так получилось для конкретного примера набора данных. Для другого набора данных может получиться совершенно иной результат. Какой из методов сработает лучше, заранее сказать нельзя."
   ]
  },
  {
   "cell_type": "markdown",
   "metadata": {},
   "source": [
    "### КАК ОБНАРУЖИТЬ ПЕРЕОБУЧЕНИЕ"
   ]
  },
  {
   "cell_type": "markdown",
   "metadata": {},
   "source": [
    "Сначала проверим модель на переобучение с помощью отложенной (hold-out) выборки.\n",
    "\n",
    "Для этого стратифицированно разобьём набор данных на тренировочную и валидационную выборки в соотношении 80/20 и обучим дерево решений с энтропией \n",
    "\n",
    "в качестве критерия информативности и сбалансированными весами классов без ограничения его глубины и количества объектов в листе. \n",
    "\n",
    "Сделаем предсказание для каждой из выборок и рассчитаем метрику F1-score:"
   ]
  },
  {
   "cell_type": "code",
   "execution_count": 110,
   "metadata": {},
   "outputs": [
    {
     "name": "stdout",
     "output_type": "stream",
     "text": [
      "Train F1 score: 1.00\n",
      "Valid F1 score: 0.67\n"
     ]
    }
   ],
   "source": [
    "X_train, X_valid, y_train, y_valid = model_selection.train_test_split(X, y, stratify=y, test_size=0.2, random_state=42)\n",
    "\n",
    "# Создаём модель\n",
    "model_bad = tree.DecisionTreeClassifier(\n",
    "    criterion='entropy', # критерий информативности\n",
    "    class_weight='balanced', # веса классов\n",
    "    random_state=42 # генератор случайных чисел\n",
    ")\n",
    "\n",
    "# Обучаем модель на тренировочной выборке\n",
    "model_bad.fit(X_train, y_train)\n",
    "\n",
    "# Делаем предсказание для каждой из выборок\n",
    "y_train_pred = model_bad.predict(X_train)\n",
    "y_valid_pred = model_bad.predict(X_valid)\n",
    "\n",
    "# Выводим значения метрик для тренировочной выборки\n",
    "print('Train F1 score: {:.2f}'.format(metrics.f1_score(y_train, y_train_pred)))\n",
    "# Выводим значения метрик для валидационной выборки\n",
    "print('Valid F1 score: {:.2f}'.format(metrics.f1_score(y_valid, y_valid_pred)))"
   ]
  },
  {
   "cell_type": "code",
   "execution_count": 111,
   "metadata": {},
   "outputs": [
    {
     "name": "stdout",
     "output_type": "stream",
     "text": [
      "              precision    recall  f1-score   support\n",
      "\n",
      "           0       0.78      0.82      0.80       400\n",
      "           1       0.70      0.64      0.67       256\n",
      "\n",
      "    accuracy                           0.75       656\n",
      "   macro avg       0.74      0.73      0.74       656\n",
      "weighted avg       0.75      0.75      0.75       656\n",
      "\n"
     ]
    }
   ],
   "source": [
    "print(metrics.classification_report(y_valid, y_valid_pred))"
   ]
  },
  {
   "cell_type": "markdown",
   "metadata": {},
   "source": [
    "Проверим гипотезу о наличии переобучения у нашего дерева с помощью кросс-валидации k-fold. \n",
    "\n",
    "Организуем стратифицированную кросс-валидацию на пяти фолдах. \n",
    "\n",
    "На каждом шаге кросс-валидации будем вычислять метрику  на тренировочных и валидационных фолдах."
   ]
  },
  {
   "cell_type": "code",
   "execution_count": 112,
   "metadata": {},
   "outputs": [
    {
     "data": {
      "text/plain": [
       "{'fit_time': array([0.04013181, 0.0350337 , 0.03808975, 0.04115701, 0.04003525]),\n",
       " 'score_time': array([0.0030005 , 0.00305343, 0.00200272, 0.00375867, 0.00403404]),\n",
       " 'test_score': array([0.64661654, 0.6855792 , 0.67149758, 0.63657957, 0.66183575]),\n",
       " 'train_score': array([1., 1., 1., 1., 1.])}"
      ]
     },
     "execution_count": 112,
     "metadata": {},
     "output_type": "execute_result"
    }
   ],
   "source": [
    "# Создаём объект кросс-валидатора k-fold со стратификацией\n",
    "skf = model_selection.StratifiedKFold(n_splits=5, shuffle=True, random_state=42) # В кросс-валидаторе лучше выставлять shuffle в True так идет меньше подстройка под серийость\n",
    " \n",
    "# Считаем метрики на кросс-валидации k-fold со стратификацией\n",
    "cv_metrics = model_selection.cross_validate(\n",
    "    estimator=model_bad, # модель\n",
    "    X=X_train, # матрица наблюдений X\n",
    "    y=y_train, # вектор ответов y\n",
    "    cv=skf, # кросс-валидатор\n",
    "    scoring='f1', # метрика\n",
    "    return_train_score=True # подсчёт метрики на тренировочных фолдах\n",
    ")\n",
    "\n",
    "cv_metrics"
   ]
  },
  {
   "cell_type": "markdown",
   "metadata": {},
   "source": [
    "Подсчитаем среднее значение F1-score на выборках:"
   ]
  },
  {
   "cell_type": "code",
   "execution_count": 113,
   "metadata": {},
   "outputs": [
    {
     "name": "stdout",
     "output_type": "stream",
     "text": [
      "Train k-fold mean f1: 1.00\n",
      "Valid k-fold mean f1: 0.66\n"
     ]
    }
   ],
   "source": [
    "print(f'Train k-fold mean f1: {np.mean(cv_metrics[\"train_score\"]):.2f}')\n",
    "print(f'Valid k-fold mean f1: {np.mean(cv_metrics[\"test_score\"]):.2f}')"
   ]
  },
  {
   "cell_type": "markdown",
   "metadata": {},
   "source": [
    "### МЕТОДЫ БОРЬБЫ С ПЕРЕОБУЧЕНИЕМ"
   ]
  },
  {
   "cell_type": "code",
   "execution_count": 114,
   "metadata": {},
   "outputs": [
    {
     "data": {
      "text/plain": [
       "27"
      ]
     },
     "execution_count": 114,
     "metadata": {},
     "output_type": "execute_result"
    }
   ],
   "source": [
    "# Смотрим на макс глубину дерева\n",
    "model_bad.get_depth()"
   ]
  },
  {
   "cell_type": "markdown",
   "metadata": {},
   "source": [
    "Дерево глубиной 27 — это очень сложная модель. Давайте попробуем её упростить, добавив в дерево решений ограничение на глубину (max_depth). Пусть максимальная глубина дерева будет равна 7."
   ]
  },
  {
   "cell_type": "code",
   "execution_count": 115,
   "metadata": {},
   "outputs": [
    {
     "name": "stdout",
     "output_type": "stream",
     "text": [
      "Train k-fold mean f1: 0.76\n",
      "Valid k-fold mean f1: 0.69\n"
     ]
    }
   ],
   "source": [
    "# Создаём модель\n",
    "model = tree.DecisionTreeClassifier(\n",
    "    criterion='entropy', # критерий информативности\n",
    "    max_depth=7, # ограничиваем глубину дерева\n",
    "    random_state=42, # генератор случайных чисел\n",
    "    class_weight='balanced' # веса классов\n",
    ")\n",
    " \n",
    "# Создаём объект кросс-валидатора k-fold со стратификацией\n",
    "skf = model_selection.StratifiedKFold(n_splits=5)\n",
    " \n",
    "# Считаем метрики на кросс-валидации k-fold со стратификацией\n",
    "cv_metrics = model_selection.cross_validate(\n",
    "    estimator=model, # модель\n",
    "    X=X_train, # матрица наблюдений X\n",
    "    y=y_train, # вектор ответов y\n",
    "    cv=skf, # кросс-валидатор\n",
    "    scoring='f1', # метрика\n",
    "    return_train_score=True # подсчёт метрики на тренировочных фолдах\n",
    ")\n",
    " \n",
    "print('Train k-fold mean f1: {:.2f}'.format(np.mean(cv_metrics['train_score'])))\n",
    "print('Valid k-fold mean f1: {:.2f}'.format(np.mean(cv_metrics['test_score'])))"
   ]
  },
  {
   "cell_type": "markdown",
   "metadata": {},
   "source": [
    "После ограничения максимальной глубины удалось уменьшить разницу между метриками на тренировочных и валидационных фолдах кросс-валидации."
   ]
  },
  {
   "cell_type": "code",
   "execution_count": 117,
   "metadata": {},
   "outputs": [],
   "source": [
    "f1_map = {'depth': np.arange(1, 31),\n",
    "          'train_F1': [],\n",
    "          'valid_F1': []\n",
    "          }"
   ]
  },
  {
   "cell_type": "code",
   "execution_count": 118,
   "metadata": {},
   "outputs": [],
   "source": [
    "for i in f1_map['depth']:\n",
    "    model = tree.DecisionTreeClassifier(\n",
    "        criterion='entropy', # критерий информативности\n",
    "        max_depth=i, # ограничиваем глубину дерева\n",
    "        random_state=42, # генератор случайных чисел\n",
    "        class_weight='balanced' # веса классов\n",
    "    )\n",
    "    \n",
    "    # Создаём объект кросс-валидатора k-fold со стратификацией\n",
    "    skf = model_selection.StratifiedKFold(n_splits=5)\n",
    "    \n",
    "    # Считаем метрики на кросс-валидации k-fold со стратификацией\n",
    "    cv_metrics = model_selection.cross_validate(\n",
    "        estimator=model, # модель\n",
    "        X=X_train, # матрица наблюдений X\n",
    "        y=y_train, # вектор ответов y\n",
    "        cv=skf, # кросс-валидатор\n",
    "        scoring='f1', # метрика\n",
    "        return_train_score=True # подсчёт метрики на тренировочных фолдах\n",
    "    )\n",
    "    \n",
    "    f1_map['train_F1'].append(np.mean(cv_metrics['train_score']))\n",
    "    f1_map['valid_F1'].append(np.mean(cv_metrics['test_score']))"
   ]
  },
  {
   "cell_type": "code",
   "execution_count": 119,
   "metadata": {},
   "outputs": [],
   "source": [
    "# Результаты метрик трансформирую в датафрейм\n",
    "f1_df = pd.DataFrame(f1_map)\n",
    "# Добавляю столбец разницы train-valid метрик для каждого значения depth\n",
    "f1_df['f1_diff'] = f1_df['valid_F1'] - f1_df['train_F1']"
   ]
  },
  {
   "cell_type": "code",
   "execution_count": 120,
   "metadata": {},
   "outputs": [],
   "source": [
    "valid_max = f1_df['valid_F1'].max()\n",
    "depth_for_max = f1_df['depth'].loc[f1_df['valid_F1'].idxmax()]"
   ]
  },
  {
   "cell_type": "code",
   "execution_count": 121,
   "metadata": {},
   "outputs": [
    {
     "data": {
      "image/png": "[encoded data removed]",
      "text/plain": [
       "<Figure size 1296x864 with 2 Axes>"
      ]
     },
     "metadata": {
      "needs_background": "light"
     },
     "output_type": "display_data"
    }
   ],
   "source": [
    "# Визуализируем метрики при различных значениях глубины дерева\n",
    "fig, ax = plt.subplots(2, 1, figsize=(18, 12), sharex=True, gridspec_kw={'height_ratios': [2, 1]}) # фигура + координатная плоскость\n",
    "sns.lineplot(data=f1_df, x='depth', y='valid_F1', ax=ax[0])\n",
    "sns.lineplot(data=f1_df, x='depth', y='train_F1', ax=ax[0])\n",
    "ax[0].set_title('F1 to max_depth')\n",
    "ax[0].set_ylabel('F1 value')\n",
    "ax[0].legend(labels=['valid_F1', 'train_F1'])\n",
    "\n",
    "ax[0].axhline(y=valid_max, xmin=depth_for_max / f1_df['depth'].max(), xmax=1, ls='--', c='red', lw=1)\n",
    "\n",
    "sns.lineplot(data=f1_df, x='depth', y='f1_diff', ax=ax[1])\n",
    "ax[1].set_ylabel('F1 difference')\n",
    "\n",
    "plt.tight_layout()\n",
    "plt.show()"
   ]
  },
  {
   "cell_type": "markdown",
   "metadata": {},
   "source": [
    "Нужно вбырать глубину 7. После этого значение метрики F1 на валидационной выборке уже не растет, а разница между значением метрик на тестовой и валидационной выборке продолжает увеличиваться, т.е. растет переобучение."
   ]
  },
  {
   "cell_type": "markdown",
   "metadata": {},
   "source": [
    "### Попробуем добавить ещё одно ограничение к нашему дереву: \n",
    "увеличим количество объектов, которых достаточно для образования листа дерева (min_samples_leaf).\n",
    "\n",
    "По умолчанию этот параметр равен 1. "
   ]
  },
  {
   "cell_type": "code",
   "execution_count": 122,
   "metadata": {},
   "outputs": [],
   "source": [
    "f1_map = {'leafs': np.arange(1, 11),\n",
    "          'train_F1': [],\n",
    "          'valid_F1': [],\n",
    "          }"
   ]
  },
  {
   "cell_type": "code",
   "execution_count": 123,
   "metadata": {},
   "outputs": [],
   "source": [
    "for i in f1_map['leafs']:\n",
    "    model = tree.DecisionTreeClassifier(\n",
    "        criterion='entropy', # критерий информативности\n",
    "        max_depth=5, # ограничиваем глубину дерева\n",
    "        min_samples_leaf=i,\n",
    "        random_state=42, # генератор случайных чисел\n",
    "        class_weight='balanced' # веса классов\n",
    "    )\n",
    "    \n",
    "    # Создаём объект кросс-валидатора k-fold со стратификацией\n",
    "    skf = model_selection.StratifiedKFold(n_splits=5)\n",
    "    \n",
    "    # Считаем метрики на кросс-валидации k-fold со стратификацией\n",
    "    cv_metrics = model_selection.cross_validate(\n",
    "        estimator=model, # модель\n",
    "        X=X_train, # матрица наблюдений X\n",
    "        y=y_train, # вектор ответов y\n",
    "        cv=skf, # кросс-валидатор\n",
    "        scoring='f1', # метрика\n",
    "        return_train_score=True # подсчёт метрики на тренировочных фолдах\n",
    "    )\n",
    "    \n",
    "    f1_map['train_F1'].append(np.mean(cv_metrics['train_score']))\n",
    "    f1_map['valid_F1'].append(np.mean(cv_metrics['test_score']))"
   ]
  },
  {
   "cell_type": "code",
   "execution_count": 124,
   "metadata": {},
   "outputs": [],
   "source": [
    "# Результаты метрик трансформирую в датафрейм\n",
    "f1_df = pd.DataFrame(f1_map)\n",
    "# Добавляю столбец разницы train-valid метрик для каждого значения leaf\n",
    "f1_df['f1_diff'] = f1_df['valid_F1'] - f1_df['train_F1']"
   ]
  },
  {
   "cell_type": "code",
   "execution_count": 125,
   "metadata": {},
   "outputs": [],
   "source": [
    "valid_max = f1_df['valid_F1'].max()\n",
    "leafs_for_max = f1_df['leafs'].loc[f1_df['valid_F1'].idxmax()]"
   ]
  },
  {
   "cell_type": "code",
   "execution_count": 126,
   "metadata": {},
   "outputs": [
    {
     "data": {
      "image/png": "[encoded data removed]",
      "text/plain": [
       "<Figure size 1296x864 with 2 Axes>"
      ]
     },
     "metadata": {
      "needs_background": "light"
     },
     "output_type": "display_data"
    }
   ],
   "source": [
    "# Визуализируем метрики при различных значениях глубины дерева\n",
    "fig, ax = plt.subplots(2, 1, figsize=(18, 12), sharex=True, gridspec_kw={'height_ratios': [2, 1]}) # фигура + координатная плоскость\n",
    "sns.lineplot(data=f1_df, x='leafs', y='valid_F1', ax=ax[0])\n",
    "sns.lineplot(data=f1_df, x='leafs', y='train_F1', ax=ax[0])\n",
    "ax[0].set_title('F1 to min_samples_leaf')\n",
    "ax[0].set_ylabel('F1 value')\n",
    "ax[0].legend(labels=['valid_F1', 'train_F1'])\n",
    "\n",
    "ax[0].axhline(y=valid_max, xmin=leafs_for_max / f1_df['leafs'].max(), xmax=1, ls='--', c='red', lw=1)\n",
    "\n",
    "sns.lineplot(data=f1_df, x='leafs', y='f1_diff', ax=ax[1])\n",
    "ax[1].set_ylabel('F1 difference')\n",
    "\n",
    "plt.tight_layout()\n",
    "plt.show()"
   ]
  },
  {
   "cell_type": "markdown",
   "metadata": {},
   "source": [
    "5 или 8 листов надо выбирать"
   ]
  },
  {
   "cell_type": "code",
   "execution_count": 127,
   "metadata": {},
   "outputs": [
    {
     "name": "stdout",
     "output_type": "stream",
     "text": [
      "Train k-fold mean f1: 0.70\n",
      "Valid k-fold mean f1: 0.67\n"
     ]
    }
   ],
   "source": [
    "# Создаём модель\n",
    "model = tree.DecisionTreeClassifier(\n",
    "    criterion='entropy', # критерий информативности\n",
    "    max_depth=5, # ограничиваем глубину дерева\n",
    "    min_samples_leaf=5,\n",
    "    random_state=42, # генератор случайных чисел\n",
    "    class_weight='balanced' # веса классов\n",
    ")\n",
    " \n",
    "# Создаём объект кросс-валидатора k-fold со стратификацией\n",
    "skf = model_selection.StratifiedKFold(n_splits=5)\n",
    " \n",
    "# Считаем метрики на кросс-валидации k-fold со стратификацией\n",
    "cv_metrics = model_selection.cross_validate(\n",
    "    estimator=model, # модель\n",
    "    X=X_train, # матрица наблюдений X\n",
    "    y=y_train, # вектор ответов y\n",
    "    cv=skf, # кросс-валидатор\n",
    "    scoring='f1', # метрика\n",
    "    return_train_score=True # подсчёт метрики на тренировочных фолдах\n",
    ")\n",
    " \n",
    "print('Train k-fold mean f1: {:.2f}'.format(np.mean(cv_metrics['train_score'])))\n",
    "print('Valid k-fold mean f1: {:.2f}'.format(np.mean(cv_metrics['test_score'])))"
   ]
  },
  {
   "cell_type": "markdown",
   "metadata": {},
   "source": [
    "### ПОСТРОЕНИЕ КРИВОЙ ОБУЧЕНИЯ"
   ]
  },
  {
   "cell_type": "code",
   "execution_count": 129,
   "metadata": {},
   "outputs": [
    {
     "name": "stdout",
     "output_type": "stream",
     "text": [
      "Train sizes: \n",
      " [ 209  681 1152 1624 2096]\n",
      "Train scores: \n",
      " [[0.87951807 0.87058824 0.87058824 0.87058824 0.87058824]\n",
      " [0.80070547 0.76865672 0.77442274 0.77442274 0.77442274]\n",
      " [0.77722278 0.77287406 0.76810266 0.7436182  0.7436182 ]\n",
      " [0.76474981 0.75358166 0.74096386 0.73684211 0.75737941]\n",
      " [0.75669765 0.74382022 0.76363636 0.75209849 0.75592287]]\n",
      "Valid scores: \n",
      " [[0.56737589 0.60287081 0.62829736 0.64788732 0.59472422]\n",
      " [0.62389381 0.65581395 0.58352941 0.59382423 0.6323185 ]\n",
      " [0.65106383 0.63981043 0.68172485 0.65714286 0.66666667]\n",
      " [0.67734554 0.66063348 0.64470588 0.6440678  0.66522678]\n",
      " [0.69247312 0.66509434 0.72151899 0.68534483 0.68980477]]\n"
     ]
    }
   ],
   "source": [
    "# Создаём модель\n",
    "model = tree.DecisionTreeClassifier(\n",
    "    criterion='entropy', # критерий информативности\n",
    "    max_depth=7, # максимальная глубина\n",
    "    min_samples_leaf=5, # минимальное число объектов в листе\n",
    "    class_weight='balanced', \n",
    "    random_state=42, # генератор случайных чисел \n",
    ")\n",
    " \n",
    "# Создаём объект кросс-валидатора k-fold со стратификацией\n",
    "skf = model_selection.StratifiedKFold(n_splits=5)\n",
    " \n",
    "# Вычисляем координаты для построения кривой обучения\n",
    "train_sizes, train_scores, valid_scores = model_selection.learning_curve(\n",
    "    estimator = model, # модель\n",
    "    X = X_train, # матрица наблюдений X\n",
    "    y = y_train, # вектор ответов y\n",
    "    cv = skf, # кросс-валидатор\n",
    "    scoring = 'f1' # метрика\n",
    ")\n",
    "\n",
    "print('Train sizes: \\n', train_sizes)\n",
    "print('Train scores: \\n', train_scores)\n",
    "print('Valid scores: \\n', valid_scores)"
   ]
  },
  {
   "cell_type": "markdown",
   "metadata": {},
   "source": [
    "Для того чтобы вычислить среднюю кросс-валидационную метрику на каждом из наборов данных, необходимо рассчитать среднее по столбцам матриц train_scores и valid_scores:"
   ]
  },
  {
   "cell_type": "code",
   "execution_count": 130,
   "metadata": {},
   "outputs": [
    {
     "name": "stdout",
     "output_type": "stream",
     "text": [
      "Train k-fold f1 scores [0.8723742  0.77852608 0.76108718 0.75070337 0.75443512]\n",
      "Valid k-fold f1 scores [0.60823112 0.61787598 0.65928173 0.6583959  0.69084721]\n"
     ]
    }
   ],
   "source": [
    "train_scores_mean = np.mean(train_scores, axis=1)\n",
    "valid_scores_mean = np.mean(valid_scores, axis=1)\n",
    " \n",
    "print('Train k-fold f1 scores',  train_scores_mean)\n",
    "print('Valid k-fold f1 scores',  valid_scores_mean)"
   ]
  },
  {
   "cell_type": "markdown",
   "metadata": {},
   "source": [
    "Теперь можно построить графики кривых обучения:"
   ]
  },
  {
   "cell_type": "code",
   "execution_count": 131,
   "metadata": {},
   "outputs": [
    {
     "data": {
      "image/png": "[encoded data removed]",
      "text/plain": [
       "<Figure size 1296x864 with 1 Axes>"
      ]
     },
     "metadata": {
      "needs_background": "light"
     },
     "output_type": "display_data"
    }
   ],
   "source": [
    "# Визуализируем кривую обучения\n",
    "fig, ax = plt.subplots(figsize=(18, 12)) # фигура + координатная плоскость\n",
    "\n",
    "# Строим кривую обучения по метрикам на тренировочных фолдах\n",
    "ax.plot(train_sizes, train_scores_mean, label='Train')\n",
    "\n",
    "# Строим кривую обучения по метрикам на валидационных фолдах\n",
    "ax.plot(train_sizes, valid_scores_mean, label='Valid')\n",
    "\n",
    "# Даём название графику и подписи осям\n",
    "ax.set_title('Learning curve')\n",
    "ax.set_xlabel('Train data size')\n",
    "ax.set_ylabel('Score')\n",
    "\n",
    "# Устанавливаем отметки по оси абсцисс\n",
    "ax.xaxis.set_ticks(train_sizes)\n",
    "\n",
    "# Устаналиваем диапазон оси ординат\n",
    "ax.set_ylim(0, 1)\n",
    "\n",
    "# Отображаем легенду\n",
    "ax.legend()\n",
    "plt.show()"
   ]
  },
  {
   "cell_type": "code",
   "execution_count": 133,
   "metadata": {},
   "outputs": [
    {
     "data": {
      "text/html": [
       "<div>\n",
       "<style scoped>\n",
       "    .dataframe tbody tr th:only-of-type {\n",
       "        vertical-align: middle;\n",
       "    }\n",
       "\n",
       "    .dataframe tbody tr th {\n",
       "        vertical-align: top;\n",
       "    }\n",
       "\n",
       "    .dataframe thead th {\n",
       "        text-align: right;\n",
       "    }\n",
       "</style>\n",
       "<table border=\"1\" class=\"dataframe\">\n",
       "  <thead>\n",
       "    <tr style=\"text-align: right;\">\n",
       "      <th></th>\n",
       "      <th>Train size</th>\n",
       "      <th>Train</th>\n",
       "      <th>Valid</th>\n",
       "    </tr>\n",
       "  </thead>\n",
       "  <tbody>\n",
       "    <tr>\n",
       "      <th>0</th>\n",
       "      <td>209</td>\n",
       "      <td>0.872374</td>\n",
       "      <td>0.608231</td>\n",
       "    </tr>\n",
       "    <tr>\n",
       "      <th>1</th>\n",
       "      <td>681</td>\n",
       "      <td>0.778526</td>\n",
       "      <td>0.617876</td>\n",
       "    </tr>\n",
       "    <tr>\n",
       "      <th>2</th>\n",
       "      <td>1152</td>\n",
       "      <td>0.761087</td>\n",
       "      <td>0.659282</td>\n",
       "    </tr>\n",
       "    <tr>\n",
       "      <th>3</th>\n",
       "      <td>1624</td>\n",
       "      <td>0.750703</td>\n",
       "      <td>0.658396</td>\n",
       "    </tr>\n",
       "    <tr>\n",
       "      <th>4</th>\n",
       "      <td>2096</td>\n",
       "      <td>0.754435</td>\n",
       "      <td>0.690847</td>\n",
       "    </tr>\n",
       "  </tbody>\n",
       "</table>\n",
       "</div>"
      ],
      "text/plain": [
       "   Train size     Train     Valid\n",
       "0         209  0.872374  0.608231\n",
       "1         681  0.778526  0.617876\n",
       "2        1152  0.761087  0.659282\n",
       "3        1624  0.750703  0.658396\n",
       "4        2096  0.754435  0.690847"
      ]
     },
     "execution_count": 133,
     "metadata": {},
     "output_type": "execute_result"
    }
   ],
   "source": [
    "learning_curve_df = pd.DataFrame({'Train size': train_sizes,\n",
    "              'Train': np.mean(train_scores, axis=1),\n",
    "              'Valid': np.mean(valid_scores, axis=1)})\n",
    "learning_curve_df"
   ]
  },
  {
   "cell_type": "code",
   "execution_count": 134,
   "metadata": {},
   "outputs": [
    {
     "data": {
      "image/png": "[encoded data removed]",
      "text/plain": [
       "<Figure size 1296x864 with 1 Axes>"
      ]
     },
     "metadata": {
      "needs_background": "light"
     },
     "output_type": "display_data"
    }
   ],
   "source": [
    "fig, ax = plt.subplots(figsize=(18, 12))\n",
    "sns.lineplot(data=learning_curve_df, x='Train size', y='Train', ax=ax)\n",
    "sns.lineplot(data=learning_curve_df, x='Train size', y='Valid', ax=ax)\n",
    "\n",
    "ax.set_title('Learning curve')\n",
    "ax.set_ylabel('Score')\n",
    "\n",
    "ax.legend(labels=['Train', 'Valid'])\n",
    "\n",
    "plt.show()"
   ]
  },
  {
   "cell_type": "markdown",
   "metadata": {},
   "source": [
    "Для удобства дальнейшего использования описанных выше действий для построения кривой обучения давайте обернём их в функцию plot_learning_curve(). \n",
    "\n",
    "У функции будет несколько аргументов: \n",
    "- модель, \n",
    "- набор данных (X, y),\n",
    "- кросс-валидатор, \n",
    "- метрика, \n",
    "- координатная плоскость matplotlib, на которой будет строиться график, \n",
    "- подпись графика"
   ]
  },
  {
   "cell_type": "code",
   "execution_count": 167,
   "metadata": {},
   "outputs": [],
   "source": [
    "def plot_learning_curve(model, X, y, cv, scoring='f1', ax=None, title=''):\n",
    "    # Вычисляем координаты для построения кривой обучения\n",
    "    train_sizes, train_scores, valid_scores = model_selection.learning_curve(\n",
    "        estimator=model, # модель\n",
    "        X=X, # матрица наблюдений X\n",
    "        y=y, # вектор ответов y\n",
    "        cv=cv, # кросс-валидатор\n",
    "        scoring=scoring, # метрика\n",
    "        # train_sizes=[0.1, 0.25, 0.5, 0.75, 1],\n",
    "        train_sizes=np.arange(0.1, 1.1, 0.1) # каждые 10%\n",
    "    )\n",
    "    \n",
    "    # Вычисляем среднее значение по фолдам для каждого набора данных\n",
    "    train_scores_mean = np.mean(train_scores, axis=1)\n",
    "    valid_scores_mean = np.mean(valid_scores, axis=1)\n",
    "    \n",
    "    # Если координатной плоскости не было передано, создаём новую\n",
    "    if ax is None:\n",
    "        fig, ax = plt.subplots(figsize=(18, 12))\n",
    "        \n",
    "    # Строим кривую обучения по метрикам на тренировочных фолдах\n",
    "    ax.plot(train_sizes, train_scores_mean, label=\"Train\")\n",
    "    # Строим кривую обучения по метрикам на валидационных фолдах\n",
    "    ax.plot(train_sizes, valid_scores_mean, label=\"Valid\")\n",
    "    \n",
    "    # Даём название графику и подписи осям\n",
    "    ax.set_title(\"Learning curve: {}\".format(title))\n",
    "    ax.set_xlabel(\"Train data size\")\n",
    "    ax.set_ylabel(\"Score\")\n",
    "    \n",
    "    # Устанавливаем отметки по оси абсцисс\n",
    "    ax.xaxis.set_ticks(train_sizes)\n",
    "    # Устанавливаем диапазон оси ординат\n",
    "    ax.set_ylim(0, 1)\n",
    "    # Отображаем легенду\n",
    "    ax.legend()"
   ]
  },
  {
   "cell_type": "markdown",
   "metadata": {},
   "source": [
    "Теперь, когда у нас есть наша функция, давайте построим кривые обучения для нескольких моделей. \n",
    "\n",
    "Будем использовать следующие модели:\n",
    "- логистическую регрессию,\n",
    "- дерево решений с ограниченной максимальной глубиной и количеством объектов в листе,\n",
    "- дерево решений без ограничений.\n",
    "\n",
    "Создадим список, в котором будем хранить эти модели:"
   ]
  },
  {
   "cell_type": "code",
   "execution_count": 168,
   "metadata": {},
   "outputs": [],
   "source": [
    "# Создаём список из моделей\n",
    "models = [\n",
    "    linear_model.LogisticRegression(\n",
    "        max_iter=1000, # количество итераций на сходимость\n",
    "        random_state=42, # генератор случайных чисел\n",
    "        class_weight='balanced' # веса классов\n",
    "    ),\n",
    "    tree.DecisionTreeClassifier(\n",
    "        criterion='entropy', # критерий информативности\n",
    "        max_depth=7, # максимальная глубина\n",
    "        min_samples_leaf=5, # минимальное число объектов в листе\n",
    "        random_state=42, # генератор случайных чисел \n",
    "        class_weight='balanced' # веса классов\n",
    "    ),\n",
    "    tree.DecisionTreeClassifier(\n",
    "        criterion='entropy', # критерий информативности\n",
    "        random_state=42, # генератор случайных чисел \n",
    "        class_weight='balanced' # веса классов\n",
    "    ),\n",
    "]"
   ]
  },
  {
   "cell_type": "markdown",
   "metadata": {},
   "source": [
    "Наконец, построим кривые обучения для каждой из моделей. Для этого заранее создадим k-fold-кросс-валидатор со стратификацией на пять фолдов. Создадим фигуру с тремя координатными плоскостями. Реализуем цикл по составленному списку из моделей и их индексам (они нам понадобятся для отображения на соответствующих координатных плоскостях). Внутри цикла будем вызывать нашу функцию plot_learning_curve():"
   ]
  },
  {
   "cell_type": "code",
   "execution_count": 169,
   "metadata": {},
   "outputs": [
    {
     "data": {
      "image/png": "[encoded data removed]",
      "text/plain": [
       "<Figure size 1296x360 with 3 Axes>"
      ]
     },
     "metadata": {
      "needs_background": "light"
     },
     "output_type": "display_data"
    }
   ],
   "source": [
    "# Создаём объект кросс-валидатора k-fold со стратификацией\n",
    "skf = model_selection.StratifiedKFold(n_splits=5)\n",
    "\n",
    "# Визуализируем кривые обучения\n",
    "fig, axes = plt.subplots(1, 3, figsize=(18, 5)) # фигура + три координатных плоскости\n",
    "\n",
    "# Создаём цикл по списку моделей и индексам этого списка\n",
    "for i, model in enumerate(models): # i — текущий индекс, model — текущая модель\n",
    "    plot_learning_curve(model, X, y, skf, ax=axes[i], title=f'model {i+1}')"
   ]
  },
  {
   "cell_type": "markdown",
   "metadata": {},
   "source": [
    "Благодаря построенным графикам мы можем легко сравнить три представленные модели между собой. \n",
    "\n",
    "Первый график, построенный для логистической регрессии, говорит нам о том, что для данной модели качество на тренировочных и валидационных фолдах практически одинаково (кривые проходят очень близко друг к другу), то есть переобучения нет. Однако данная модель обладает низким качеством: кривые не превышают даже значения 0.5. Модель является недообученнной.\n",
    "\n",
    "Третий график, построенный для дерева решений без ограничений глубины, явно указывает на наличие переобучения: тренировочная кривая всё время находится в области своего максимума — 1, а вот валидационная кривая не может достичь такой высокой отметки.\n",
    "\n",
    "Из всех представленных оптимальной является модель дерева решений с ограничениями, кривая обучения которой изображена на втором графике. Тренировочная и валидационная кривые постепенно сходятся к единой отметке качества, и полученная метрика превышает отметку в 0.5."
   ]
  },
  {
   "cell_type": "code",
   "execution_count": null,
   "metadata": {},
   "outputs": [],
   "source": []
  }
 ],
 "metadata": {
  "kernelspec": {
   "display_name": "Python 3.9.10 64-bit",
   "language": "python",
   "name": "python3"
  },
  "language_info": {
   "codemirror_mode": {
    "name": "ipython",
    "version": 3
   },
   "file_extension": ".py",
   "mimetype": "text/x-python",
   "name": "python",
   "nbconvert_exporter": "python",
   "pygments_lexer": "ipython3",
   "version": "3.9.10"
  },
  "orig_nbformat": 4,
  "vscode": {
   "interpreter": {
    "hash": "ce0e7e8478f0adf4f893607b28490b56060cc6330e9a48291a15f517e7031888"
   }
  }
 },
 "nbformat": 4,
 "nbformat_minor": 2
}
