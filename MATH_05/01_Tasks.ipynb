{
 "cells": [
  {
   "attachments": {},
   "cell_type": "markdown",
   "id": "cf3e7d5b",
   "metadata": {},
   "source": [
    "### Найти экстремумы для функции"
   ]
  },
  {
   "cell_type": "code",
   "execution_count": 2,
   "id": "4f642770",
   "metadata": {},
   "outputs": [],
   "source": [
    "import numpy as np\n",
    "from sympy import symbols, solve, Eq"
   ]
  },
  {
   "cell_type": "code",
   "execution_count": 3,
   "id": "2b94e3cc",
   "metadata": {},
   "outputs": [
    {
     "data": {
      "text/latex": [
       "$\\displaystyle x^{3} + 3 x y^{2} - 15 x - 12 y + 1$"
      ],
      "text/plain": [
       "x**3 + 3*x*y**2 - 15*x - 12*y + 1"
      ]
     },
     "execution_count": 3,
     "metadata": {},
     "output_type": "execute_result"
    }
   ],
   "source": [
    "x, y = symbols('x y')\n",
    "\n",
    "z = x ** 3 + 3 * x * y ** 2 - 15 * x - 12 * y + 1\n",
    "z"
   ]
  },
  {
   "attachments": {},
   "cell_type": "markdown",
   "id": "d9857f54",
   "metadata": {},
   "source": [
    "Нахождение первых частных производных по `x` и `y`"
   ]
  },
  {
   "cell_type": "code",
   "execution_count": 4,
   "id": "3fcf850f",
   "metadata": {},
   "outputs": [
    {
     "data": {
      "text/latex": [
       "$\\displaystyle 3 x^{2} + 3 y^{2} - 15$"
      ],
      "text/plain": [
       "3*x**2 + 3*y**2 - 15"
      ]
     },
     "execution_count": 4,
     "metadata": {},
     "output_type": "execute_result"
    }
   ],
   "source": [
    "z_diff_x = z.diff(x)\n",
    "z_diff_x"
   ]
  },
  {
   "cell_type": "code",
   "execution_count": 5,
   "id": "c5d36ce0",
   "metadata": {},
   "outputs": [
    {
     "data": {
      "text/latex": [
       "$\\displaystyle 6 x y - 12$"
      ],
      "text/plain": [
       "6*x*y - 12"
      ]
     },
     "execution_count": 5,
     "metadata": {},
     "output_type": "execute_result"
    }
   ],
   "source": [
    "z_diff_y = z.diff(y)\n",
    "z_diff_y"
   ]
  },
  {
   "attachments": {},
   "cell_type": "markdown",
   "id": "7efb8d91",
   "metadata": {},
   "source": [
    "Поиск точек экстремумов через приравнивание производных к нулю в системе уравнений"
   ]
  },
  {
   "cell_type": "code",
   "execution_count": 6,
   "id": "59b7353a",
   "metadata": {},
   "outputs": [],
   "source": [
    "eq1 = Eq(z_diff_x, 0)\n",
    "eq2 = Eq(z_diff_y, 0)\n",
    " \n",
    "sol = solve([eq1, eq2], [x, y])"
   ]
  },
  {
   "attachments": {},
   "cell_type": "markdown",
   "id": "c125a62d",
   "metadata": {},
   "source": [
    "В итоге получим четыре стационарные точки"
   ]
  },
  {
   "cell_type": "code",
   "execution_count": 7,
   "id": "2b70558a",
   "metadata": {},
   "outputs": [
    {
     "data": {
      "text/plain": [
       "[(-2, -1), (-1, -2), (1, 2), (2, 1)]"
      ]
     },
     "execution_count": 7,
     "metadata": {},
     "output_type": "execute_result"
    }
   ],
   "source": [
    "sol"
   ]
  },
  {
   "attachments": {},
   "cell_type": "markdown",
   "id": "ed2fdc9d",
   "metadata": {},
   "source": [
    "Найдём частные производные второго порядка и составим матрицу Гессе"
   ]
  },
  {
   "cell_type": "code",
   "execution_count": 8,
   "id": "fb434eaf",
   "metadata": {},
   "outputs": [
    {
     "data": {
      "text/latex": [
       "$\\displaystyle 6 x$"
      ],
      "text/plain": [
       "6*x"
      ]
     },
     "execution_count": 8,
     "metadata": {},
     "output_type": "execute_result"
    }
   ],
   "source": [
    "z_diff_xx2 = z.diff(x, 2)\n",
    "z_diff_xx2"
   ]
  },
  {
   "cell_type": "code",
   "execution_count": 9,
   "id": "935b1e96",
   "metadata": {},
   "outputs": [
    {
     "data": {
      "text/latex": [
       "$\\displaystyle 6 x$"
      ],
      "text/plain": [
       "6*x"
      ]
     },
     "execution_count": 9,
     "metadata": {},
     "output_type": "execute_result"
    }
   ],
   "source": [
    "z_diff_yy2 = z.diff(y, 2)\n",
    "z_diff_yy2"
   ]
  },
  {
   "cell_type": "code",
   "execution_count": 10,
   "id": "c3d2ca9c",
   "metadata": {},
   "outputs": [
    {
     "data": {
      "text/latex": [
       "$\\displaystyle 6 y$"
      ],
      "text/plain": [
       "6*y"
      ]
     },
     "execution_count": 10,
     "metadata": {},
     "output_type": "execute_result"
    }
   ],
   "source": [
    "z_diff_xy2 = z.diff(x).diff(y)\n",
    "z_diff_xy2"
   ]
  },
  {
   "cell_type": "code",
   "execution_count": 11,
   "id": "5aa8d3b1",
   "metadata": {},
   "outputs": [
    {
     "name": "stdout",
     "output_type": "stream",
     "text": [
      "The Hessian matrix is:\n",
      "Matrix([[6*x, 6*y], [6*y, 6*x]])\n"
     ]
    }
   ],
   "source": [
    "from sympy import hessian\n",
    "\n",
    "# Create the Hessian matrix\n",
    "H = hessian(z, (x, y))\n",
    "\n",
    "print(\"The Hessian matrix is:\")\n",
    "print(H)"
   ]
  },
  {
   "attachments": {},
   "cell_type": "markdown",
   "id": "5584f765",
   "metadata": {},
   "source": [
    "Задание 3.4\n",
    "\n",
    "Найдите экстремумы функции"
   ]
  },
  {
   "cell_type": "code",
   "execution_count": 12,
   "id": "f33a9e5d",
   "metadata": {},
   "outputs": [
    {
     "data": {
      "text/latex": [
       "$\\displaystyle 4 x^{2} - 6 x y - 34 x + 5 y^{2} + 42 y + 7$"
      ],
      "text/plain": [
       "4*x**2 - 6*x*y - 34*x + 5*y**2 + 42*y + 7"
      ]
     },
     "execution_count": 12,
     "metadata": {},
     "output_type": "execute_result"
    }
   ],
   "source": [
    "x, y = symbols('x y')\n",
    "z = 4 * x**2 - 6 * x * y - 34 * x + 5 * y**2 + 42 * y + 7\n",
    "z"
   ]
  },
  {
   "attachments": {},
   "cell_type": "markdown",
   "id": "eff0b224",
   "metadata": {},
   "source": [
    "Нахождение первых частных производных по `x` и `y`"
   ]
  },
  {
   "cell_type": "code",
   "execution_count": 13,
   "id": "f3880e0d",
   "metadata": {},
   "outputs": [
    {
     "data": {
      "text/latex": [
       "$\\displaystyle 8 x - 6 y - 34$"
      ],
      "text/plain": [
       "8*x - 6*y - 34"
      ]
     },
     "execution_count": 13,
     "metadata": {},
     "output_type": "execute_result"
    }
   ],
   "source": [
    "z_diff_x = z.diff(x)\n",
    "z_diff_x"
   ]
  },
  {
   "cell_type": "code",
   "execution_count": 14,
   "id": "9c3cfc3d",
   "metadata": {},
   "outputs": [
    {
     "data": {
      "text/latex": [
       "$\\displaystyle - 6 x + 10 y + 42$"
      ],
      "text/plain": [
       "-6*x + 10*y + 42"
      ]
     },
     "execution_count": 14,
     "metadata": {},
     "output_type": "execute_result"
    }
   ],
   "source": [
    "z_diff_y = z.diff(y)\n",
    "z_diff_y"
   ]
  },
  {
   "attachments": {},
   "cell_type": "markdown",
   "id": "03714eea",
   "metadata": {},
   "source": [
    "Поиск точек экстремумов через приравнивание производных к нулю в системе уравнений"
   ]
  },
  {
   "cell_type": "code",
   "execution_count": 15,
   "id": "eb03be08",
   "metadata": {},
   "outputs": [],
   "source": [
    "eq1 = Eq(z_diff_x, 0)\n",
    "eq2 = Eq(z_diff_y, 0)\n",
    " \n",
    "sol = solve([eq1, eq2], [x, y])"
   ]
  },
  {
   "attachments": {},
   "cell_type": "markdown",
   "id": "8d031751",
   "metadata": {},
   "source": [
    "У функции только одна точка экстремума"
   ]
  },
  {
   "cell_type": "code",
   "execution_count": 16,
   "id": "040c49b2",
   "metadata": {},
   "outputs": [
    {
     "data": {
      "text/plain": [
       "{x: 2, y: -3}"
      ]
     },
     "execution_count": 16,
     "metadata": {},
     "output_type": "execute_result"
    }
   ],
   "source": [
    "sol"
   ]
  },
  {
   "attachments": {},
   "cell_type": "markdown",
   "id": "a26e64b3",
   "metadata": {},
   "source": [
    "Найдём частные производные второго порядка и составим матрицу Гессе"
   ]
  },
  {
   "cell_type": "code",
   "execution_count": 17,
   "id": "4971f470",
   "metadata": {},
   "outputs": [
    {
     "data": {
      "text/latex": [
       "$\\displaystyle 8$"
      ],
      "text/plain": [
       "8"
      ]
     },
     "execution_count": 17,
     "metadata": {},
     "output_type": "execute_result"
    }
   ],
   "source": [
    "z_diff_xx = z.diff(x, 2)\n",
    "z_diff_xx"
   ]
  },
  {
   "cell_type": "code",
   "execution_count": 18,
   "id": "ec509304",
   "metadata": {},
   "outputs": [
    {
     "data": {
      "text/latex": [
       "$\\displaystyle 10$"
      ],
      "text/plain": [
       "10"
      ]
     },
     "execution_count": 18,
     "metadata": {},
     "output_type": "execute_result"
    }
   ],
   "source": [
    "z_diff_yy = z.diff(y, 2)\n",
    "z_diff_yy"
   ]
  },
  {
   "cell_type": "code",
   "execution_count": 19,
   "id": "c13231e4",
   "metadata": {},
   "outputs": [
    {
     "data": {
      "text/latex": [
       "$\\displaystyle -6$"
      ],
      "text/plain": [
       "-6"
      ]
     },
     "execution_count": 19,
     "metadata": {},
     "output_type": "execute_result"
    }
   ],
   "source": [
    "z_diff_xy = z.diff(x).diff(y)\n",
    "z_diff_xy"
   ]
  },
  {
   "cell_type": "code",
   "execution_count": 20,
   "id": "286355b7",
   "metadata": {},
   "outputs": [
    {
     "data": {
      "text/latex": [
       "$\\displaystyle \\left[\\begin{matrix}8 & -6\\\\-6 & 10\\end{matrix}\\right]$"
      ],
      "text/plain": [
       "Matrix([\n",
       "[ 8, -6],\n",
       "[-6, 10]])"
      ]
     },
     "execution_count": 20,
     "metadata": {},
     "output_type": "execute_result"
    }
   ],
   "source": [
    "# построение матрицы Гессе с помощью функции\n",
    "H = hessian(z, (x, y))\n",
    "H"
   ]
  },
  {
   "cell_type": "code",
   "execution_count": 21,
   "id": "781c1382",
   "metadata": {},
   "outputs": [
    {
     "data": {
      "text/plain": [
       "array([[ 8, -6],\n",
       "       [-6, 10]])"
      ]
     },
     "execution_count": 21,
     "metadata": {},
     "output_type": "execute_result"
    }
   ],
   "source": [
    "H = np.array(H, dtype=int)\n",
    "H"
   ]
  },
  {
   "cell_type": "code",
   "execution_count": 22,
   "id": "8977d167",
   "metadata": {},
   "outputs": [
    {
     "data": {
      "text/plain": [
       "44"
      ]
     },
     "execution_count": 22,
     "metadata": {},
     "output_type": "execute_result"
    }
   ],
   "source": [
    "del_A = 8 * 10 - 6 * 6\n",
    "del_A"
   ]
  },
  {
   "cell_type": "code",
   "execution_count": 23,
   "id": "0579d568",
   "metadata": {},
   "outputs": [
    {
     "data": {
      "text/plain": [
       "43.99999999999999"
      ]
     },
     "execution_count": 23,
     "metadata": {},
     "output_type": "execute_result"
    }
   ],
   "source": [
    "np.linalg.det(H)"
   ]
  },
  {
   "attachments": {},
   "cell_type": "markdown",
   "id": "e0813491",
   "metadata": {},
   "source": [
    "Задание 3.5\n",
    "\n",
    "Вычислите матрицу Гессе для функции и найдите её определитель в точке (1; 2)"
   ]
  },
  {
   "cell_type": "code",
   "execution_count": 24,
   "id": "1803dea4",
   "metadata": {},
   "outputs": [
    {
     "data": {
      "text/latex": [
       "$\\displaystyle x^{3} - 2 x y - y^{6}$"
      ],
      "text/plain": [
       "x**3 - 2*x*y - y**6"
      ]
     },
     "execution_count": 24,
     "metadata": {},
     "output_type": "execute_result"
    }
   ],
   "source": [
    "f = x**3 - 2 * x * y - y**6\n",
    "f"
   ]
  },
  {
   "attachments": {},
   "cell_type": "markdown",
   "id": "06b2b84e",
   "metadata": {},
   "source": [
    "Нахожу первые частные производные"
   ]
  },
  {
   "cell_type": "code",
   "execution_count": 25,
   "id": "a7f38bb5",
   "metadata": {},
   "outputs": [
    {
     "data": {
      "text/latex": [
       "$\\displaystyle 3 x^{2} - 2 y$"
      ],
      "text/plain": [
       "3*x**2 - 2*y"
      ]
     },
     "execution_count": 25,
     "metadata": {},
     "output_type": "execute_result"
    }
   ],
   "source": [
    "f_diff_x = f.diff(x)\n",
    "f_diff_x"
   ]
  },
  {
   "cell_type": "code",
   "execution_count": 26,
   "id": "6efa7fc8",
   "metadata": {},
   "outputs": [
    {
     "data": {
      "text/latex": [
       "$\\displaystyle - 2 x - 6 y^{5}$"
      ],
      "text/plain": [
       "-2*x - 6*y**5"
      ]
     },
     "execution_count": 26,
     "metadata": {},
     "output_type": "execute_result"
    }
   ],
   "source": [
    "f_diff_y = f.diff(y)\n",
    "f_diff_y"
   ]
  },
  {
   "attachments": {},
   "cell_type": "markdown",
   "id": "1aaae1f0",
   "metadata": {},
   "source": [
    "Для построения матрицы Гессе нахожу частные производные второго порядка"
   ]
  },
  {
   "cell_type": "code",
   "execution_count": 27,
   "id": "9d921982",
   "metadata": {},
   "outputs": [
    {
     "data": {
      "text/latex": [
       "$\\displaystyle 6 x$"
      ],
      "text/plain": [
       "6*x"
      ]
     },
     "execution_count": 27,
     "metadata": {},
     "output_type": "execute_result"
    }
   ],
   "source": [
    "f_diff_xx = f.diff(x, 2)\n",
    "f_diff_xx"
   ]
  },
  {
   "cell_type": "code",
   "execution_count": 28,
   "id": "fa58af1e",
   "metadata": {},
   "outputs": [
    {
     "data": {
      "text/latex": [
       "$\\displaystyle - 30 y^{4}$"
      ],
      "text/plain": [
       "-30*y**4"
      ]
     },
     "execution_count": 28,
     "metadata": {},
     "output_type": "execute_result"
    }
   ],
   "source": [
    "f_diff_yy = f.diff(y, 2)\n",
    "f_diff_yy"
   ]
  },
  {
   "cell_type": "code",
   "execution_count": 29,
   "id": "44c9ad40",
   "metadata": {},
   "outputs": [
    {
     "data": {
      "text/latex": [
       "$\\displaystyle -2$"
      ],
      "text/plain": [
       "-2"
      ]
     },
     "execution_count": 29,
     "metadata": {},
     "output_type": "execute_result"
    }
   ],
   "source": [
    "f_diff_xy = f.diff(x).diff(y)\n",
    "f_diff_xy"
   ]
  },
  {
   "cell_type": "code",
   "execution_count": 30,
   "id": "47591271",
   "metadata": {},
   "outputs": [
    {
     "data": {
      "text/plain": [
       "array([[6*x, -2],\n",
       "       [-2, -30*y**4]], dtype=object)"
      ]
     },
     "execution_count": 30,
     "metadata": {},
     "output_type": "execute_result"
    }
   ],
   "source": [
    "np.array([[f_diff_xx, f_diff_xy],\n",
    "          [f_diff_xy, f_diff_yy]])"
   ]
  },
  {
   "cell_type": "code",
   "execution_count": 31,
   "metadata": {},
   "outputs": [
    {
     "data": {
      "text/latex": [
       "$\\displaystyle \\left[\\begin{matrix}6 x & -2\\\\-2 & - 30 y^{4}\\end{matrix}\\right]$"
      ],
      "text/plain": [
       "Matrix([\n",
       "[6*x,       -2],\n",
       "[ -2, -30*y**4]])"
      ]
     },
     "execution_count": 31,
     "metadata": {},
     "output_type": "execute_result"
    }
   ],
   "source": [
    "# построение матрицы Гессе с помощью функции\n",
    "H = hessian(f, (x, y))\n",
    "H"
   ]
  },
  {
   "cell_type": "code",
   "execution_count": 32,
   "id": "dac8049d",
   "metadata": {},
   "outputs": [
    {
     "data": {
      "text/latex": [
       "$\\displaystyle \\left[\\begin{matrix}6 & -2\\\\-2 & -480\\end{matrix}\\right]$"
      ],
      "text/plain": [
       "Matrix([\n",
       "[ 6,   -2],\n",
       "[-2, -480]])"
      ]
     },
     "execution_count": 32,
     "metadata": {},
     "output_type": "execute_result"
    }
   ],
   "source": [
    "# Подставляю значения точки, вычисляю матрицу Гессе для конкретной координаты\n",
    "H.subs({x: 1, y: 2})"
   ]
  },
  {
   "cell_type": "code",
   "execution_count": 33,
   "id": "b2b9c0b9",
   "metadata": {},
   "outputs": [
    {
     "name": "stdout",
     "output_type": "stream",
     "text": [
      "Определитель матрицы Гессе для точки (1; 2) равен: -2884\n"
     ]
    }
   ],
   "source": [
    "H_del = -480 * 6 - (-2) * (-2)\n",
    "print('Определитель матрицы Гессе для точки (1; 2) равен:', H_del)"
   ]
  },
  {
   "attachments": {},
   "cell_type": "markdown",
   "id": "679d0754",
   "metadata": {},
   "source": [
    "Задание 3.9\n",
    "\n",
    "Найдите экстремумы функции. Укажите координаты минимума."
   ]
  },
  {
   "cell_type": "code",
   "execution_count": 34,
   "id": "0111caf0",
   "metadata": {},
   "outputs": [
    {
     "data": {
      "text/latex": [
       "$\\displaystyle x^{3} - 3 x y + y^{3}$"
      ],
      "text/plain": [
       "x**3 - 3*x*y + y**3"
      ]
     },
     "execution_count": 34,
     "metadata": {},
     "output_type": "execute_result"
    }
   ],
   "source": [
    "f = x**3 + y**3 - 3 * x * y\n",
    "f"
   ]
  },
  {
   "attachments": {},
   "cell_type": "markdown",
   "id": "0b745a81",
   "metadata": {},
   "source": [
    "Определяю первые частные производные"
   ]
  },
  {
   "cell_type": "code",
   "execution_count": 35,
   "id": "72aa919c",
   "metadata": {},
   "outputs": [
    {
     "data": {
      "text/latex": [
       "$\\displaystyle 3 x^{2} - 3 y$"
      ],
      "text/plain": [
       "3*x**2 - 3*y"
      ]
     },
     "execution_count": 35,
     "metadata": {},
     "output_type": "execute_result"
    }
   ],
   "source": [
    "f_diff_x = f.diff(x)\n",
    "f_diff_x"
   ]
  },
  {
   "cell_type": "code",
   "execution_count": 36,
   "id": "8f20b925",
   "metadata": {},
   "outputs": [
    {
     "data": {
      "text/latex": [
       "$\\displaystyle - 3 x + 3 y^{2}$"
      ],
      "text/plain": [
       "-3*x + 3*y**2"
      ]
     },
     "execution_count": 36,
     "metadata": {},
     "output_type": "execute_result"
    }
   ],
   "source": [
    "f_diff_y = f.diff(y)\n",
    "f_diff_y"
   ]
  },
  {
   "attachments": {},
   "cell_type": "markdown",
   "id": "c7697ba4",
   "metadata": {},
   "source": [
    "Поиск точек экстремумов через приравнивание производных к нулю в системе уравнений"
   ]
  },
  {
   "cell_type": "code",
   "execution_count": 37,
   "id": "54941dd8",
   "metadata": {},
   "outputs": [
    {
     "data": {
      "text/plain": [
       "[(0, 0),\n",
       " (1, 1),\n",
       " ((-1/2 - sqrt(3)*I/2)**2, -1/2 - sqrt(3)*I/2),\n",
       " ((-1/2 + sqrt(3)*I/2)**2, -1/2 + sqrt(3)*I/2)]"
      ]
     },
     "execution_count": 37,
     "metadata": {},
     "output_type": "execute_result"
    }
   ],
   "source": [
    "eq1 = Eq(f_diff_x, 0)\n",
    "eq2 = Eq(f_diff_y, 0)\n",
    " \n",
    "sol = solve([eq1, eq2], [x, y])\n",
    "sol"
   ]
  },
  {
   "cell_type": "code",
   "execution_count": 38,
   "id": "4171e9c1",
   "metadata": {},
   "outputs": [
    {
     "data": {
      "text/latex": [
       "$\\displaystyle \\left[\\begin{matrix}6 x & -3\\\\-3 & 6 y\\end{matrix}\\right]$"
      ],
      "text/plain": [
       "Matrix([\n",
       "[6*x,  -3],\n",
       "[ -3, 6*y]])"
      ]
     },
     "execution_count": 38,
     "metadata": {},
     "output_type": "execute_result"
    }
   ],
   "source": [
    "# построение матрицы Гессе с помощью функции\n",
    "H = hessian(f, (x, y))\n",
    "H"
   ]
  },
  {
   "attachments": {},
   "cell_type": "markdown",
   "id": "1eed614a",
   "metadata": {},
   "source": [
    "Проверка точек через подстановку в матрицу Гессе и вычисление миноров"
   ]
  },
  {
   "cell_type": "code",
   "execution_count": 39,
   "id": "59d60f05",
   "metadata": {},
   "outputs": [
    {
     "data": {
      "text/latex": [
       "$\\displaystyle \\left[\\begin{matrix}0 & -3\\\\-3 & 0\\end{matrix}\\right]$"
      ],
      "text/plain": [
       "Matrix([\n",
       "[ 0, -3],\n",
       "[-3,  0]])"
      ]
     },
     "execution_count": 39,
     "metadata": {},
     "output_type": "execute_result"
    }
   ],
   "source": [
    "H.subs({x: 0, y: 0})"
   ]
  },
  {
   "attachments": {},
   "cell_type": "markdown",
   "id": "1e6de7c5",
   "metadata": {},
   "source": [
    "Минор 0 и -9, значит седловая точка "
   ]
  },
  {
   "cell_type": "code",
   "execution_count": 40,
   "id": "a05f2aac",
   "metadata": {},
   "outputs": [
    {
     "data": {
      "text/latex": [
       "$\\displaystyle \\left[\\begin{matrix}6 & -3\\\\-3 & 6\\end{matrix}\\right]$"
      ],
      "text/plain": [
       "Matrix([\n",
       "[ 6, -3],\n",
       "[-3,  6]])"
      ]
     },
     "execution_count": 40,
     "metadata": {},
     "output_type": "execute_result"
    }
   ],
   "source": [
    "H.subs({x: 1, y: 1})"
   ]
  },
  {
   "attachments": {},
   "cell_type": "markdown",
   "id": "770ebe2b",
   "metadata": {},
   "source": [
    "Миноры 6 и 27, оба положительные, значит точка минимум"
   ]
  },
  {
   "cell_type": "markdown",
   "id": "ee85521e",
   "metadata": {},
   "source": []
  },
  {
   "cell_type": "code",
   "execution_count": 49,
   "id": "d14a74fa",
   "metadata": {},
   "outputs": [],
   "source": [
    "import numpy as np\n",
    "from sympy import symbols, solve, Eq\n",
    "x, y = symbols('x y')"
   ]
  },
  {
   "cell_type": "code",
   "execution_count": 50,
   "id": "1bc5bbc2",
   "metadata": {},
   "outputs": [
    {
     "data": {
      "text/latex": [
       "$\\displaystyle x^{2} + x y + y^{3} - y$"
      ],
      "text/plain": [
       "x**2 + x*y + y**3 - y"
      ]
     },
     "execution_count": 50,
     "metadata": {},
     "output_type": "execute_result"
    }
   ],
   "source": [
    "f = x ** 2 + x * y - y + y ** 3\n",
    "f"
   ]
  },
  {
   "cell_type": "markdown",
   "id": "14952b33",
   "metadata": {},
   "source": [
    "Определяю первые частные производные"
   ]
  },
  {
   "cell_type": "code",
   "execution_count": 51,
   "id": "68408b76",
   "metadata": {},
   "outputs": [
    {
     "data": {
      "text/latex": [
       "$\\displaystyle 2 x + y$"
      ],
      "text/plain": [
       "2*x + y"
      ]
     },
     "execution_count": 51,
     "metadata": {},
     "output_type": "execute_result"
    }
   ],
   "source": [
    "f_diff_x = f.diff(x)\n",
    "f_diff_x"
   ]
  },
  {
   "cell_type": "code",
   "execution_count": 52,
   "id": "10986551",
   "metadata": {},
   "outputs": [
    {
     "data": {
      "text/latex": [
       "$\\displaystyle x + 3 y^{2} - 1$"
      ],
      "text/plain": [
       "x + 3*y**2 - 1"
      ]
     },
     "execution_count": 52,
     "metadata": {},
     "output_type": "execute_result"
    }
   ],
   "source": [
    "f_diff_y = f.diff(y)\n",
    "f_diff_y"
   ]
  },
  {
   "cell_type": "markdown",
   "id": "8de301f5",
   "metadata": {},
   "source": [
    "Поиск точек экстремумов через приравнивание производных к нулю в системе уравнений"
   ]
  },
  {
   "cell_type": "code",
   "execution_count": 53,
   "id": "f9988067",
   "metadata": {},
   "outputs": [
    {
     "data": {
      "text/plain": [
       "[(-1/3, 2/3), (1/4, -1/2)]"
      ]
     },
     "execution_count": 53,
     "metadata": {},
     "output_type": "execute_result"
    }
   ],
   "source": [
    "eq1 = Eq(f_diff_x, 0)\n",
    "eq2 = Eq(f_diff_y, 0)\n",
    " \n",
    "sol = solve([eq1, eq2], [x, y])\n",
    "sol"
   ]
  },
  {
   "cell_type": "code",
   "execution_count": 54,
   "id": "1e416bff",
   "metadata": {},
   "outputs": [
    {
     "data": {
      "text/latex": [
       "$\\displaystyle \\left[\\begin{matrix}2 & 1\\\\1 & 6 y\\end{matrix}\\right]$"
      ],
      "text/plain": [
       "Matrix([\n",
       "[2,   1],\n",
       "[1, 6*y]])"
      ]
     },
     "execution_count": 54,
     "metadata": {},
     "output_type": "execute_result"
    }
   ],
   "source": [
    "# построение матрицы Гессе с помощью функции\n",
    "H = hessian(f, (x, y))\n",
    "H"
   ]
  },
  {
   "cell_type": "markdown",
   "id": "e8fbedc7",
   "metadata": {},
   "source": [
    "Подставляю значения координат для экстремальных точек \n",
    "\n",
    "найденных ранее через решение системы уравнений первых частных производных"
   ]
  },
  {
   "cell_type": "code",
   "execution_count": 55,
   "id": "b9660143",
   "metadata": {},
   "outputs": [
    {
     "data": {
      "text/latex": [
       "$\\displaystyle \\left[\\begin{matrix}2 & 1\\\\1 & 4.0\\end{matrix}\\right]$"
      ],
      "text/plain": [
       "Matrix([\n",
       "[2,   1],\n",
       "[1, 4.0]])"
      ]
     },
     "execution_count": 55,
     "metadata": {},
     "output_type": "execute_result"
    }
   ],
   "source": [
    "H.subs({x: -1/3, y: 2/3})"
   ]
  },
  {
   "cell_type": "markdown",
   "id": "ede1ce03",
   "metadata": {},
   "source": [
    "В главном миноре оба значения положительные, значит это минимум функции при значении y=2/3"
   ]
  },
  {
   "cell_type": "code",
   "execution_count": 56,
   "id": "e65dd3de",
   "metadata": {},
   "outputs": [
    {
     "data": {
      "text/plain": [
       "0.6666666666666666"
      ]
     },
     "execution_count": 56,
     "metadata": {},
     "output_type": "execute_result"
    }
   ],
   "source": [
    "2/3"
   ]
  }
 ],
 "metadata": {
  "kernelspec": {
   "display_name": "Python 3 (ipykernel)",
   "language": "python",
   "name": "python3"
  },
  "language_info": {
   "codemirror_mode": {
    "name": "ipython",
    "version": 3
   },
   "file_extension": ".py",
   "mimetype": "text/x-python",
   "name": "python",
   "nbconvert_exporter": "python",
   "pygments_lexer": "ipython3",
   "version": "3.10.6"
  }
 },
 "nbformat": 4,
 "nbformat_minor": 5
}
