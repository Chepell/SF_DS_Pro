{
 "cells": [
  {
   "cell_type": "code",
   "execution_count": 1,
   "metadata": {},
   "outputs": [
    {
     "data": {
      "text/latex": [
       "$\\displaystyle 3 a^{2} + a + 5 b^{2} + 4 b$"
      ],
      "text/plain": [
       "3*a**2 + a + 5*b**2 + 4*b"
      ]
     },
     "execution_count": 1,
     "metadata": {},
     "output_type": "execute_result"
    }
   ],
   "source": [
    "from sympy import *\n",
    "\n",
    "a, b, w = symbols('a b w')\n",
    "g = 3 * a**2 + a + 4 * b + 5 * b**2\n",
    "g"
   ]
  },
  {
   "cell_type": "code",
   "execution_count": 16,
   "metadata": {},
   "outputs": [
    {
     "name": "stdout",
     "output_type": "stream",
     "text": [
      "Целевая функция для аргументов a и b:\n",
      " f = 3*a**2 + a + 5*b**2 + 4*b\n",
      "Функция ограничений: a + b - 200 = 0\n",
      "Функция Лагранжа:\n",
      " 3*a**2 + a + 5*b**2 + 4*b + w*(a + b - 200)\n",
      "df/da = 6*a + w + 1 = 0\n",
      "df/db = 10*b + w + 4 = 0\n",
      "df/dw = a + b - 200 = 0\n",
      "Стационарная точка M(x, y): 125.1875, 74.8125\n"
     ]
    }
   ],
   "source": [
    "print('Целевая функция для аргументов a и b:\\n f =', g)\n",
    "\n",
    "q = a + b - 200\n",
    "print(f'Функция ограничений: {q} = 0')\n",
    "\n",
    "f = g + w * q\n",
    "print('Функция Лагранжа:\\n', f)\n",
    "\n",
    "f_diff_a = f.diff(a)\n",
    "print(f'df/da = {f_diff_a} = 0')\n",
    "\n",
    "f_diff_b = f.diff(b)\n",
    "print(f'df/db = {f_diff_b} = 0')\n",
    "\n",
    "f_diff_w = f.diff(w)\n",
    "print(f'df/dw = {f_diff_w} = 0')\n",
    "\n",
    "sols = solve([f_diff_a, f_diff_b, f_diff_w], a, b, w)\n",
    "print(f'Стационарная точка M(x, y): {float(sols[a])}, {float(sols[b])}')\n",
    "\n",
    "#Целевая функция для аргументов a и b :\n",
    "#f =  3*a**2 + a + 5*b**2 + 4*b\n",
    "#Функция ограничений:  a + b - 200 = 0\n",
    "#Функция Лагранжа :\n",
    "#3*a**2 + a + 5*b**2 + 4*b + w*(a + b - 200)\n",
    "#df/da = 6*a + w + 1 = 0\n",
    "#df/db = 10*b + w + 4 = 0\n",
    "#df/dw = a + b - 200 = 0\n",
    "#Стационарная точка M(x,y):\n",
    "#125.1875 , 74.8125"
   ]
  },
  {
   "cell_type": "code",
   "execution_count": null,
   "metadata": {},
   "outputs": [],
   "source": []
  }
 ],
 "metadata": {
  "kernelspec": {
   "display_name": "Python 3",
   "language": "python",
   "name": "python3"
  },
  "language_info": {
   "codemirror_mode": {
    "name": "ipython",
    "version": 3
   },
   "file_extension": ".py",
   "mimetype": "text/x-python",
   "name": "python",
   "nbconvert_exporter": "python",
   "pygments_lexer": "ipython3",
   "version": "3.10.6"
  },
  "orig_nbformat": 4
 },
 "nbformat": 4,
 "nbformat_minor": 2
}
