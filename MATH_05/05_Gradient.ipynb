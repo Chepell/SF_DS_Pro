{
 "cells": [
  {
   "attachments": {},
   "cell_type": "markdown",
   "metadata": {},
   "source": [
    "### Пример вычисления градиента"
   ]
  },
  {
   "cell_type": "code",
   "execution_count": 2,
   "metadata": {},
   "outputs": [],
   "source": [
    "import numpy as np"
   ]
  },
  {
   "attachments": {},
   "cell_type": "markdown",
   "metadata": {},
   "source": [
    "Зададим массив, для которого хотим найти градиент, и вычислим его"
   ]
  },
  {
   "cell_type": "code",
   "execution_count": 3,
   "metadata": {},
   "outputs": [
    {
     "data": {
      "text/plain": [
       "array([ 4. ,  5.5,  8. , 11. , 12. , 11. ])"
      ]
     },
     "execution_count": 3,
     "metadata": {},
     "output_type": "execute_result"
    }
   ],
   "source": [
    "f = np.array([3, 7, 14, 23, 36, 47], dtype=float)\n",
    " \n",
    "np.gradient(f)"
   ]
  },
  {
   "attachments": {},
   "cell_type": "markdown",
   "metadata": {},
   "source": [
    "Задание 6.5\n",
    "\n",
    "Вычислите градиент функции"
   ]
  },
  {
   "cell_type": "code",
   "execution_count": 4,
   "metadata": {},
   "outputs": [],
   "source": [
    "from sympy import symbols, solve, Eq"
   ]
  },
  {
   "cell_type": "code",
   "execution_count": 5,
   "metadata": {},
   "outputs": [],
   "source": [
    "a, b = symbols('a b')"
   ]
  },
  {
   "cell_type": "code",
   "execution_count": 6,
   "metadata": {},
   "outputs": [
    {
     "data": {
      "text/latex": [
       "$\\displaystyle \\left(- a - 2 b + 5\\right)^{2}$"
      ],
      "text/plain": [
       "(-a - 2*b + 5)**2"
      ]
     },
     "execution_count": 6,
     "metadata": {},
     "output_type": "execute_result"
    }
   ],
   "source": [
    "f = (5 - a - 2 * b)**2\n",
    "f"
   ]
  },
  {
   "cell_type": "code",
   "execution_count": 7,
   "metadata": {},
   "outputs": [
    {
     "data": {
      "text/latex": [
       "$\\displaystyle 2 a + 4 b - 10$"
      ],
      "text/plain": [
       "2*a + 4*b - 10"
      ]
     },
     "execution_count": 7,
     "metadata": {},
     "output_type": "execute_result"
    }
   ],
   "source": [
    "f_diff_a = f.diff(a)\n",
    "f_diff_a"
   ]
  },
  {
   "cell_type": "code",
   "execution_count": 8,
   "metadata": {},
   "outputs": [
    {
     "data": {
      "text/latex": [
       "$\\displaystyle 4 a + 8 b - 20$"
      ],
      "text/plain": [
       "4*a + 8*b - 20"
      ]
     },
     "execution_count": 8,
     "metadata": {},
     "output_type": "execute_result"
    }
   ],
   "source": [
    "f_diff_b = f.diff(b)\n",
    "f_diff_b"
   ]
  },
  {
   "attachments": {},
   "cell_type": "markdown",
   "metadata": {},
   "source": [
    "Градиент в точке M(1; 1)"
   ]
  },
  {
   "cell_type": "code",
   "execution_count": 9,
   "metadata": {},
   "outputs": [
    {
     "name": "stdout",
     "output_type": "stream",
     "text": [
      "Gradient = (-4, -8)\n"
     ]
    }
   ],
   "source": [
    "x = f_diff_a.subs({a: 1, b: 1})\n",
    "y = f_diff_b.subs({a: 1, b: 1})\n",
    "print(f'Gradient = ({x}, {y})')"
   ]
  },
  {
   "attachments": {},
   "cell_type": "markdown",
   "metadata": {},
   "source": [
    "Задание 6.6\n",
    "\n",
    "Найдите точку в которой градиент нулевой"
   ]
  },
  {
   "cell_type": "code",
   "execution_count": 10,
   "metadata": {},
   "outputs": [],
   "source": [
    "w0, w1 = symbols('w0 w1')"
   ]
  },
  {
   "cell_type": "code",
   "execution_count": 11,
   "metadata": {},
   "outputs": [
    {
     "data": {
      "text/latex": [
       "$\\displaystyle 4.41 \\left(- 0.476190476190476 w_{0} - 0.476190476190476 w_{1} + 1\\right)^{2} + 9 \\left(- \\frac{w_{0}}{3} - w_{1} + 0.966666666666667\\right)^{2} + 25 \\left(- \\frac{w_{0}}{5} - w_{1} + 0.82\\right)^{2}$"
      ],
      "text/plain": [
       "4.41*(-0.476190476190476*w0 - 0.476190476190476*w1 + 1)**2 + 9*(-w0/3 - w1 + 0.966666666666667)**2 + 25*(-w0/5 - w1 + 0.82)**2"
      ]
     },
     "execution_count": 11,
     "metadata": {},
     "output_type": "execute_result"
    }
   ],
   "source": [
    "L = (2.1 - w0 - w1)**2 + (2.9 - w0 - 3 * w1)**2 + (4.1 - w0 - 5 * w1)**2\n",
    "L"
   ]
  },
  {
   "attachments": {},
   "cell_type": "markdown",
   "metadata": {},
   "source": [
    "Нахожу первые частные производные из которых составляю вектор, который является градиентом"
   ]
  },
  {
   "cell_type": "code",
   "execution_count": 15,
   "metadata": {},
   "outputs": [
    {
     "data": {
      "text/latex": [
       "$\\displaystyle 6.0 w_{0} + 18.0 w_{1} - 18.2$"
      ],
      "text/plain": [
       "6.0*w0 + 18.0*w1 - 18.2"
      ]
     },
     "execution_count": 15,
     "metadata": {},
     "output_type": "execute_result"
    }
   ],
   "source": [
    "L_diff_w0 = L.diff(w0)\n",
    "L_diff_w0"
   ]
  },
  {
   "cell_type": "code",
   "execution_count": 16,
   "metadata": {},
   "outputs": [
    {
     "data": {
      "text/latex": [
       "$\\displaystyle 18.0 w_{0} + 70.0 w_{1} - 62.6$"
      ],
      "text/plain": [
       "18.0*w0 + 70.0*w1 - 62.6"
      ]
     },
     "execution_count": 16,
     "metadata": {},
     "output_type": "execute_result"
    }
   ],
   "source": [
    "L_diff_w1 = L.diff(w1)\n",
    "L_diff_w1"
   ]
  },
  {
   "attachments": {},
   "cell_type": "markdown",
   "metadata": {},
   "source": [
    "Ищу значения аргументов при которых градиент становится нулевым.\n",
    "\n",
    "Для этого приравниваю производные нулю и решаю систему урованений."
   ]
  },
  {
   "cell_type": "code",
   "execution_count": 18,
   "metadata": {},
   "outputs": [
    {
     "data": {
      "text/plain": [
       "{w0: 1.53333333333333, w1: 0.500000000000000}"
      ]
     },
     "execution_count": 18,
     "metadata": {},
     "output_type": "execute_result"
    }
   ],
   "source": [
    "eq0 = Eq(L_diff_w0, 0)\n",
    "eq1 = Eq(L_diff_w1, 0)\n",
    "\n",
    "sol = solve([eq0, eq1], [w0, w1])\n",
    "sol"
   ]
  },
  {
   "attachments": {},
   "cell_type": "markdown",
   "metadata": {},
   "source": [
    "Задание 6.7\n",
    "Пусть дан одномерный массив f.\n",
    "\n",
    "Вычислите градиент массива f, увеличив шаг сетки в семь раз, и укажите значение седьмого элемента массива получившихся градиентов f."
   ]
  },
  {
   "cell_type": "code",
   "execution_count": 19,
   "metadata": {},
   "outputs": [],
   "source": [
    "f = np.array([8, 2, 8, 3, 5, 6, 5, 15])"
   ]
  },
  {
   "cell_type": "code",
   "execution_count": 30,
   "metadata": {},
   "outputs": [
    {
     "data": {
      "text/plain": [
       "1.4285714285714286"
      ]
     },
     "execution_count": 30,
     "metadata": {},
     "output_type": "execute_result"
    }
   ],
   "source": [
    "np.gradient(f, 7)[7]"
   ]
  },
  {
   "cell_type": "code",
   "execution_count": null,
   "metadata": {},
   "outputs": [],
   "source": []
  }
 ],
 "metadata": {
  "kernelspec": {
   "display_name": "Python 3",
   "language": "python",
   "name": "python3"
  },
  "language_info": {
   "codemirror_mode": {
    "name": "ipython",
    "version": 3
   },
   "file_extension": ".py",
   "mimetype": "text/x-python",
   "name": "python",
   "nbconvert_exporter": "python",
   "pygments_lexer": "ipython3",
   "version": "3.10.6"
  },
  "orig_nbformat": 4
 },
 "nbformat": 4,
 "nbformat_minor": 2
}
