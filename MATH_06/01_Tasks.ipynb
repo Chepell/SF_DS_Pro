{
 "cells": [
  {
   "attachments": {},
   "cell_type": "markdown",
   "metadata": {},
   "source": [
    "### Задание 1.1\n",
    "\n",
    "Пусть прибыль в вашей компании выражается функцией, которая зависит от параметра x — количества производимых товаров\n",
    "\n",
    "Найдите максимально возможную прибыль, которую вы можете получить, варьируя количество произведённых товаров."
   ]
  },
  {
   "cell_type": "code",
   "execution_count": 36,
   "metadata": {},
   "outputs": [],
   "source": [
    "from sympy import *"
   ]
  },
  {
   "cell_type": "code",
   "execution_count": 37,
   "metadata": {},
   "outputs": [
    {
     "data": {
      "text/latex": [
       "$\\displaystyle - x^{4} + 6 x^{3} - 4 x^{2} + 80$"
      ],
      "text/plain": [
       "-x**4 + 6*x**3 - 4*x**2 + 80"
      ]
     },
     "execution_count": 37,
     "metadata": {},
     "output_type": "execute_result"
    }
   ],
   "source": [
    "x = Symbol('x')\n",
    "f = -x**4 + 6 * x**3 - 4 * x**2 + 80\n",
    "f "
   ]
  },
  {
   "attachments": {},
   "cell_type": "markdown",
   "metadata": {},
   "source": [
    "Нахожу первую производную"
   ]
  },
  {
   "cell_type": "code",
   "execution_count": 38,
   "metadata": {},
   "outputs": [
    {
     "data": {
      "text/latex": [
       "$\\displaystyle - 4 x^{3} + 18 x^{2} - 8 x$"
      ],
      "text/plain": [
       "-4*x**3 + 18*x**2 - 8*x"
      ]
     },
     "execution_count": 38,
     "metadata": {},
     "output_type": "execute_result"
    }
   ],
   "source": [
    "f_diff = f.diff(x)\n",
    "f_diff"
   ]
  },
  {
   "attachments": {},
   "cell_type": "markdown",
   "metadata": {},
   "source": [
    "Нахожу значения х при которых производная равна нулю"
   ]
  },
  {
   "cell_type": "code",
   "execution_count": 39,
   "metadata": {},
   "outputs": [
    {
     "data": {
      "text/latex": [
       "$\\displaystyle - 4 x^{3} + 18 x^{2} - 8 x = 0$"
      ],
      "text/plain": [
       "Eq(-4*x**3 + 18*x**2 - 8*x, 0)"
      ]
     },
     "execution_count": 39,
     "metadata": {},
     "output_type": "execute_result"
    }
   ],
   "source": [
    "eq = Eq(f_diff, 0)\n",
    "eq"
   ]
  },
  {
   "cell_type": "code",
   "execution_count": 40,
   "metadata": {},
   "outputs": [
    {
     "data": {
      "text/plain": [
       "[0, 1/2, 4]"
      ]
     },
     "execution_count": 40,
     "metadata": {},
     "output_type": "execute_result"
    }
   ],
   "source": [
    "sol = solve(eq, x)\n",
    "sol"
   ]
  },
  {
   "attachments": {},
   "cell_type": "markdown",
   "metadata": {},
   "source": [
    "Располагаю найденные значения x на координатной оси.\n",
    "\n",
    "Опеределяю значения(знак) производной на каждом из участков.\n",
    "\n",
    "Исходя из этого определяю какие экстремумы являются максимумами, а какие минимумами."
   ]
  },
  {
   "attachments": {},
   "cell_type": "markdown",
   "metadata": {},
   "source": [
    "Значение производной на отрезках интервала"
   ]
  },
  {
   "cell_type": "code",
   "execution_count": 41,
   "metadata": {},
   "outputs": [
    {
     "name": "stdout",
     "output_type": "stream",
     "text": [
      "Значение производной до 0: 30\n",
      "Значение производной от 0 до 1/2: -0.624000000000000\n",
      "Значение производной от 1/2 до 4: 24\n",
      "Значение производной от 4 до бесконечности: -90\n"
     ]
    }
   ],
   "source": [
    "print('Значение производной до 0:', f_diff.subs(x, -1))\n",
    "print('Значение производной от 0 до 1/2:', f_diff.subs(x, 0.1))\n",
    "print('Значение производной от 1/2 до 4:', f_diff.subs(x, 2))\n",
    "print('Значение производной от 4 до бесконечности:', f_diff.subs(x, 5))"
   ]
  },
  {
   "attachments": {},
   "cell_type": "markdown",
   "metadata": {},
   "source": [
    "По смене знака производной с + на - обнаружил два максимума с коордиданами x = 0, 4\n",
    "\n",
    "Считаю значение функции для этих максимумов и определяю максимум изначальной функции f"
   ]
  },
  {
   "cell_type": "code",
   "execution_count": 42,
   "metadata": {},
   "outputs": [
    {
     "data": {
      "text/latex": [
       "$\\displaystyle 80$"
      ],
      "text/plain": [
       "80"
      ]
     },
     "execution_count": 42,
     "metadata": {},
     "output_type": "execute_result"
    }
   ],
   "source": [
    "f.subs(x, 0)"
   ]
  },
  {
   "cell_type": "code",
   "execution_count": 43,
   "metadata": {},
   "outputs": [
    {
     "data": {
      "text/latex": [
       "$\\displaystyle 144$"
      ],
      "text/plain": [
       "144"
      ]
     },
     "execution_count": 43,
     "metadata": {},
     "output_type": "execute_result"
    }
   ],
   "source": [
    "f.subs(x, 4)"
   ]
  },
  {
   "attachments": {},
   "cell_type": "markdown",
   "metadata": {},
   "source": [
    "### Задание 1.4\n",
    "\n",
    "Вам необходимо оптимизировать расход бумаги в принтере, который зависит от часов работы двух ключевых сотрудников исходя из функции f.\n",
    "\n",
    "Где `x` — количество часов работы 1-ого сотрудника, `y` — 2-ого сотрудника.\n",
    "\n",
    "Однако вы должны оплатить этим сотрудникам ровно 20 часов работы в сумме.\n",
    "\n",
    "Какое наименьшее количество листов бумаги вы сможете потратить в таком случае?\n",
    "\n",
    "Помните, что количество часов работы должно быть целым, поэтому, прежде чем вычислять итоговый результат, округлите часы работы до целого."
   ]
  },
  {
   "cell_type": "code",
   "execution_count": 1,
   "metadata": {},
   "outputs": [],
   "source": [
    "from sympy import *"
   ]
  },
  {
   "cell_type": "code",
   "execution_count": 2,
   "metadata": {},
   "outputs": [
    {
     "data": {
      "text/latex": [
       "$\\displaystyle x^{2} + 2 y^{2}$"
      ],
      "text/plain": [
       "x**2 + 2*y**2"
      ]
     },
     "execution_count": 2,
     "metadata": {},
     "output_type": "execute_result"
    }
   ],
   "source": [
    "x, y, l = symbols('x y lambda')\n",
    "f = x**2 + 2 * y**2\n",
    "f"
   ]
  },
  {
   "attachments": {},
   "cell_type": "markdown",
   "metadata": {},
   "source": [
    "Функция ограничений"
   ]
  },
  {
   "cell_type": "code",
   "execution_count": 46,
   "metadata": {},
   "outputs": [
    {
     "data": {
      "text/latex": [
       "$\\displaystyle x + y - 20$"
      ],
      "text/plain": [
       "x + y - 20"
      ]
     },
     "execution_count": 46,
     "metadata": {},
     "output_type": "execute_result"
    }
   ],
   "source": [
    "g = x + y - 20\n",
    "g"
   ]
  },
  {
   "attachments": {},
   "cell_type": "markdown",
   "metadata": {},
   "source": [
    "Использую метод Лагранжа"
   ]
  },
  {
   "cell_type": "code",
   "execution_count": 47,
   "metadata": {},
   "outputs": [
    {
     "data": {
      "text/latex": [
       "$\\displaystyle \\lambda \\left(x + y - 20\\right) + x^{2} + 2 y^{2}$"
      ],
      "text/plain": [
       "lambda*(x + y - 20) + x**2 + 2*y**2"
      ]
     },
     "execution_count": 47,
     "metadata": {},
     "output_type": "execute_result"
    }
   ],
   "source": [
    "L = f + l * g\n",
    "L"
   ]
  },
  {
   "attachments": {},
   "cell_type": "markdown",
   "metadata": {},
   "source": [
    "Определение частных производных по x, y, l"
   ]
  },
  {
   "cell_type": "code",
   "execution_count": 48,
   "metadata": {},
   "outputs": [
    {
     "data": {
      "text/latex": [
       "$\\displaystyle \\lambda + 2 x$"
      ],
      "text/plain": [
       "lambda + 2*x"
      ]
     },
     "execution_count": 48,
     "metadata": {},
     "output_type": "execute_result"
    }
   ],
   "source": [
    "L_diff_x = L.diff(x)\n",
    "L_diff_x"
   ]
  },
  {
   "cell_type": "code",
   "execution_count": 49,
   "metadata": {},
   "outputs": [
    {
     "data": {
      "text/latex": [
       "$\\displaystyle \\lambda + 4 y$"
      ],
      "text/plain": [
       "lambda + 4*y"
      ]
     },
     "execution_count": 49,
     "metadata": {},
     "output_type": "execute_result"
    }
   ],
   "source": [
    "L_diff_y = L.diff(y)\n",
    "L_diff_y"
   ]
  },
  {
   "cell_type": "code",
   "execution_count": 50,
   "metadata": {},
   "outputs": [
    {
     "data": {
      "text/latex": [
       "$\\displaystyle x + y - 20$"
      ],
      "text/plain": [
       "x + y - 20"
      ]
     },
     "execution_count": 50,
     "metadata": {},
     "output_type": "execute_result"
    }
   ],
   "source": [
    "L_diff_l = L.diff(l)\n",
    "L_diff_l"
   ]
  },
  {
   "attachments": {},
   "cell_type": "markdown",
   "metadata": {},
   "source": [
    "Составляю систем уравнений приравнивая частные производные к нулю"
   ]
  },
  {
   "cell_type": "code",
   "execution_count": 51,
   "metadata": {},
   "outputs": [],
   "source": [
    "eq0 = Eq(L_diff_x, 0)\n",
    "eq1 = Eq(L_diff_y, 0)\n",
    "eq2 = Eq(L_diff_l, 0)\n",
    "\n",
    "sol = solve([eq0, eq1, eq2], [x, y, l])"
   ]
  },
  {
   "attachments": {},
   "cell_type": "markdown",
   "metadata": {},
   "source": [
    "Получаю значения x и y для заданного ограничения"
   ]
  },
  {
   "cell_type": "code",
   "execution_count": 52,
   "metadata": {},
   "outputs": [
    {
     "data": {
      "text/plain": [
       "{lambda: -80/3, x: 40/3, y: 20/3}"
      ]
     },
     "execution_count": 52,
     "metadata": {},
     "output_type": "execute_result"
    }
   ],
   "source": [
    "sol"
   ]
  },
  {
   "attachments": {},
   "cell_type": "markdown",
   "metadata": {},
   "source": [
    "Округляю часы работы до целых"
   ]
  },
  {
   "cell_type": "code",
   "execution_count": 53,
   "metadata": {},
   "outputs": [
    {
     "data": {
      "text/plain": [
       "13"
      ]
     },
     "execution_count": 53,
     "metadata": {},
     "output_type": "execute_result"
    }
   ],
   "source": [
    "round(40/3)"
   ]
  },
  {
   "cell_type": "code",
   "execution_count": 54,
   "metadata": {},
   "outputs": [
    {
     "data": {
      "text/plain": [
       "7"
      ]
     },
     "execution_count": 54,
     "metadata": {},
     "output_type": "execute_result"
    }
   ],
   "source": [
    "round(20/3)"
   ]
  },
  {
   "attachments": {},
   "cell_type": "markdown",
   "metadata": {},
   "source": [
    "Вычисляю основную зависимость исходя из найденных часов работы"
   ]
  },
  {
   "cell_type": "code",
   "execution_count": 55,
   "metadata": {},
   "outputs": [
    {
     "data": {
      "text/latex": [
       "$\\displaystyle 267$"
      ],
      "text/plain": [
       "267"
      ]
     },
     "execution_count": 55,
     "metadata": {},
     "output_type": "execute_result"
    }
   ],
   "source": [
    "f.subs({x: 13, y: 7})"
   ]
  },
  {
   "attachments": {},
   "cell_type": "markdown",
   "metadata": {},
   "source": [
    "### Задание 2.7\n",
    "\n",
    "Давайте потренируемся применять стохастический градиентный спуск для решения задачи линейной регрессии. \n",
    "\n",
    "Мы уже рассмотрели его реализацию «с нуля», однако для решения практических задач можно использовать готовые библиотеки."
   ]
  },
  {
   "cell_type": "code",
   "execution_count": 2,
   "metadata": {},
   "outputs": [],
   "source": [
    "import numpy as np\n",
    "import pandas as pd\n",
    "import seaborn as sns\n",
    "\n",
    "# Загрузите стандартный датасет об алмазах из библиотеки Seaborn\n",
    "df = sns.load_dataset('diamonds')"
   ]
  },
  {
   "cell_type": "code",
   "execution_count": 57,
   "metadata": {},
   "outputs": [],
   "source": [
    "# Удалите часть признаков\n",
    "df.drop(['depth', 'table', 'x', 'y', 'z'], axis=1, inplace=True)"
   ]
  },
  {
   "cell_type": "code",
   "execution_count": 58,
   "metadata": {},
   "outputs": [],
   "source": [
    "# Закодируйте категориальные признаки\n",
    "df = pd.get_dummies(df, drop_first=True)"
   ]
  },
  {
   "cell_type": "code",
   "execution_count": 59,
   "metadata": {},
   "outputs": [],
   "source": [
    "# Логарифмируйте признаки\n",
    "df['carat'] = np.log(1 + df['carat'])\n",
    "df['price'] = np.log(1 + df['price'])"
   ]
  },
  {
   "cell_type": "code",
   "execution_count": 60,
   "metadata": {},
   "outputs": [],
   "source": [
    "# Определите целевую переменную и предикторы\n",
    "TARGET = 'price'\n",
    "\n",
    "X, y = df.drop(columns=TARGET), df[TARGET]"
   ]
  },
  {
   "attachments": {},
   "cell_type": "markdown",
   "metadata": {},
   "source": [
    "Разделите выборку на обучающую и тестовую (объём тестовой возьмите равным 0.33), значение random_state должно быть равно 42.\n",
    "\n",
    "Теперь реализуйте алгоритм линейной регрессии со стохастическим градиентным спуском (класс SGDRegressor). \n",
    "\n",
    "Отберите с помощью GridSearchCV оптимальные параметры по следующей сетке:"
   ]
  },
  {
   "cell_type": "code",
   "execution_count": 61,
   "metadata": {},
   "outputs": [],
   "source": [
    "param_grid = {'loss': ['squared_error', 'epsilon_insensitive'],\n",
    "              'penalty': ['elasticnet'],\n",
    "              'alpha': np.logspace(-3, 3, 10),\n",
    "              'l1_ratio': np.linspace(0, 1, 10),\n",
    "              'learning_rate': ['constant'],\n",
    "              'eta0': np.logspace(-4, -1, 4)}"
   ]
  },
  {
   "cell_type": "code",
   "execution_count": 62,
   "metadata": {},
   "outputs": [],
   "source": [
    "from sklearn.linear_model import SGDRegressor\n",
    "from sklearn.model_selection import train_test_split, GridSearchCV\n",
    "from sklearn.metrics import mean_squared_error\n",
    "\n",
    "from sklearn import set_config\n",
    "set_config(transform_output='pandas')"
   ]
  },
  {
   "cell_type": "code",
   "execution_count": 63,
   "metadata": {},
   "outputs": [],
   "source": [
    "X_train, X_test, y_train, y_test = train_test_split(X, y, test_size=0.33, random_state=42)"
   ]
  },
  {
   "cell_type": "code",
   "execution_count": 64,
   "metadata": {},
   "outputs": [
    {
     "name": "stdout",
     "output_type": "stream",
     "text": [
      "CPU times: total: 33.1 s\n",
      "Wall time: 51.9 s\n",
      "Наилучшие значения гиперпараметров: {'alpha': 0.001, 'eta0': 0.001, 'l1_ratio': 0.0, 'learning_rate': 'constant', 'loss': 'epsilon_insensitive', 'penalty': 'elasticnet'}\n",
      "Наилучшее значение метрики на валидационной выборке: -0.04481974544218573\n"
     ]
    }
   ],
   "source": [
    "model = SGDRegressor(\n",
    "        random_state=42, # генератор случайных чисел\n",
    "        # max_iter=100000 # количество итераций на сходимость\n",
    "    )\n",
    "\n",
    "grid_search = GridSearchCV(\n",
    "    estimator=model,\n",
    "    param_grid=param_grid,\n",
    "    cv=5,\n",
    "    n_jobs=-1,\n",
    "    scoring='neg_mean_squared_error'\n",
    ")\n",
    "\n",
    "%time grid_search.fit(X_train, y_train) \n",
    "y_train_pred = grid_search.predict(X_train)\n",
    "y_test_pred = grid_search.predict(X_test)\n",
    "\n",
    "print(f'Наилучшие значения гиперпараметров: {grid_search.best_params_}')\n",
    "print(f'Наилучшее значение метрики на валидационной выборке: {grid_search.best_score_}')"
   ]
  },
  {
   "cell_type": "code",
   "execution_count": 65,
   "metadata": {},
   "outputs": [
    {
     "name": "stdout",
     "output_type": "stream",
     "text": [
      "MSE on train: 0.045\n",
      "MSE on test: 0.044\n"
     ]
    }
   ],
   "source": [
    "print(f'MSE on train: {mean_squared_error(y_train, y_train_pred):.3f}')\n",
    "print(f'MSE on test: {mean_squared_error(y_test, y_test_pred):.3f}')"
   ]
  },
  {
   "attachments": {},
   "cell_type": "markdown",
   "metadata": {},
   "source": [
    "### Задание 3.1\n",
    "\n",
    "Найдите третий корень полинома, взяв за точку старта 0.7. Введите получившееся значение с точностью до трёх знаков после точки-разделителя.\n",
    "\n",
    "Попробуйте реализовать алгоритм с использованием Python на основе алгоритма градиентного спуска, изученного в предыдущем модуле."
   ]
  },
  {
   "cell_type": "code",
   "execution_count": 52,
   "metadata": {},
   "outputs": [
    {
     "data": {
      "text/latex": [
       "$\\displaystyle 6 x^{5} - 5 x^{4} - 4 x^{3} + 3 x^{2}$"
      ],
      "text/plain": [
       "6*x**5 - 5*x**4 - 4*x**3 + 3*x**2"
      ]
     },
     "execution_count": 52,
     "metadata": {},
     "output_type": "execute_result"
    }
   ],
   "source": [
    "x = symbols('x')\n",
    "f = 6 * x**5 - 5 * x**4 - 4 * x**3 + 3 * x**2\n",
    "f"
   ]
  },
  {
   "attachments": {},
   "cell_type": "markdown",
   "metadata": {},
   "source": [
    "Определяю первую производную"
   ]
  },
  {
   "cell_type": "code",
   "execution_count": 53,
   "metadata": {},
   "outputs": [
    {
     "data": {
      "text/latex": [
       "$\\displaystyle 30 x^{4} - 20 x^{3} - 12 x^{2} + 6 x$"
      ],
      "text/plain": [
       "30*x**4 - 20*x**3 - 12*x**2 + 6*x"
      ]
     },
     "execution_count": 53,
     "metadata": {},
     "output_type": "execute_result"
    }
   ],
   "source": [
    "f_diff = f.diff(x)\n",
    "f_diff"
   ]
  },
  {
   "cell_type": "code",
   "execution_count": 54,
   "metadata": {},
   "outputs": [],
   "source": [
    "x0 = 0.7\n",
    "n = 3\n",
    "\n",
    "for i in range(n): # ищу третий корень\n",
    "    # для первого шага нужно инициировать переменную x1\n",
    "    if i == 0:\n",
    "        x1 = x0\n",
    "    \n",
    "    # скобки обязательны, иначе приоритет деления плывет\n",
    "    x1 = x1 - (f.subs(x, x1) / f_diff.subs(x, x1))"
   ]
  },
  {
   "cell_type": "code",
   "execution_count": 55,
   "metadata": {},
   "outputs": [
    {
     "name": "stdout",
     "output_type": "stream",
     "text": [
      "Значение корня полинома после 3 итераций расчетов: 0.629\n"
     ]
    }
   ],
   "source": [
    "print(f'Значение корня полинома после {n} итераций расчетов: {x1:.3f}')"
   ]
  },
  {
   "attachments": {},
   "cell_type": "markdown",
   "metadata": {},
   "source": [
    "### Расчет с помощью градиентного спуска"
   ]
  },
  {
   "cell_type": "code",
   "execution_count": 56,
   "metadata": {},
   "outputs": [],
   "source": [
    "def f_(x_val):\n",
    "    return f.subs(x, x_val)"
   ]
  },
  {
   "cell_type": "code",
   "execution_count": 57,
   "metadata": {},
   "outputs": [],
   "source": [
    "def grad(x_val):\n",
    "    return f.diff(x).subs(x, x_val)"
   ]
  },
  {
   "cell_type": "code",
   "execution_count": 59,
   "metadata": {},
   "outputs": [
    {
     "data": {
      "text/latex": [
       "$\\displaystyle -0.0940799999999999$"
      ],
      "text/plain": [
       "-0.0940799999999999"
      ]
     },
     "execution_count": 59,
     "metadata": {},
     "output_type": "execute_result"
    }
   ],
   "source": [
    "f_(0.7)"
   ]
  },
  {
   "cell_type": "code",
   "execution_count": 60,
   "metadata": {},
   "outputs": [
    {
     "name": "stdout",
     "output_type": "stream",
     "text": [
      "iter=1; x=0.7000; f(x)=-0.0941; grad f(x)=-1.3370\n",
      "iter=2; x=0.7000; f(x)=-0.0941; grad f(x)=-1.3370\n",
      "iter=3; x=0.7000; f(x)=-0.0941; grad f(x)=-1.3370\n",
      "iter=4; x=0.7000; f(x)=-0.0941; grad f(x)=-1.3370\n",
      "iter=5; x=0.7000; f(x)=-0.0941; grad f(x)=-1.3370\n",
      "iter=6; x=0.7000; f(x)=-0.0941; grad f(x)=-1.3370\n",
      "iter=7; x=0.7000; f(x)=-0.0941; grad f(x)=-1.3370\n",
      "iter=8; x=0.7000; f(x)=-0.0941; grad f(x)=-1.3370\n",
      "iter=9; x=0.7000; f(x)=-0.0941; grad f(x)=-1.3370\n",
      "iter=10; x=0.7000; f(x)=-0.0941; grad f(x)=-1.3370\n",
      "iter=11; x=0.7000; f(x)=-0.0941; grad f(x)=-1.3370\n",
      "iter=12; x=0.7000; f(x)=-0.0941; grad f(x)=-1.3370\n",
      "iter=13; x=0.7000; f(x)=-0.0941; grad f(x)=-1.3370\n",
      "iter=14; x=0.7000; f(x)=-0.0941; grad f(x)=-1.3370\n",
      "iter=15; x=0.7000; f(x)=-0.0941; grad f(x)=-1.3370\n",
      "iter=16; x=0.7000; f(x)=-0.0941; grad f(x)=-1.3370\n",
      "iter=17; x=0.7000; f(x)=-0.0941; grad f(x)=-1.3370\n",
      "iter=18; x=0.7000; f(x)=-0.0941; grad f(x)=-1.3370\n",
      "iter=19; x=0.7000; f(x)=-0.0941; grad f(x)=-1.3370\n",
      "iter=20; x=0.7000; f(x)=-0.0941; grad f(x)=-1.3370\n",
      "iter=21; x=0.7000; f(x)=-0.0941; grad f(x)=-1.3370\n",
      "iter=22; x=0.7000; f(x)=-0.0941; grad f(x)=-1.3370\n",
      "iter=23; x=0.7000; f(x)=-0.0941; grad f(x)=-1.3370\n",
      "iter=24; x=0.7000; f(x)=-0.0941; grad f(x)=-1.3370\n",
      "iter=25; x=0.7000; f(x)=-0.0941; grad f(x)=-1.3370\n",
      "iter=26; x=0.7000; f(x)=-0.0941; grad f(x)=-1.3370\n",
      "iter=27; x=0.7000; f(x)=-0.0941; grad f(x)=-1.3370\n",
      "iter=28; x=0.7000; f(x)=-0.0941; grad f(x)=-1.3370\n",
      "iter=29; x=0.7000; f(x)=-0.0941; grad f(x)=-1.3370\n",
      "iter=30; x=0.7000; f(x)=-0.0941; grad f(x)=-1.3370\n",
      "iter=31; x=0.7000; f(x)=-0.0941; grad f(x)=-1.3370\n",
      "iter=32; x=0.7000; f(x)=-0.0941; grad f(x)=-1.3370\n",
      "iter=33; x=0.7000; f(x)=-0.0941; grad f(x)=-1.3370\n",
      "iter=34; x=0.7000; f(x)=-0.0941; grad f(x)=-1.3370\n",
      "iter=35; x=0.7000; f(x)=-0.0941; grad f(x)=-1.3370\n",
      "iter=36; x=0.7000; f(x)=-0.0941; grad f(x)=-1.3370\n",
      "iter=37; x=0.7000; f(x)=-0.0941; grad f(x)=-1.3370\n",
      "iter=38; x=0.7000; f(x)=-0.0941; grad f(x)=-1.3370\n",
      "iter=39; x=0.7000; f(x)=-0.0941; grad f(x)=-1.3370\n",
      "iter=40; x=0.7000; f(x)=-0.0941; grad f(x)=-1.3370\n",
      "iter=41; x=0.7000; f(x)=-0.0941; grad f(x)=-1.3370\n",
      "iter=42; x=0.7000; f(x)=-0.0941; grad f(x)=-1.3370\n",
      "iter=43; x=0.7000; f(x)=-0.0941; grad f(x)=-1.3370\n",
      "iter=44; x=0.7000; f(x)=-0.0941; grad f(x)=-1.3370\n",
      "iter=45; x=0.7000; f(x)=-0.0941; grad f(x)=-1.3370\n",
      "iter=46; x=0.7000; f(x)=-0.0941; grad f(x)=-1.3370\n",
      "iter=47; x=0.7000; f(x)=-0.0941; grad f(x)=-1.3370\n",
      "iter=48; x=0.7000; f(x)=-0.0941; grad f(x)=-1.3370\n",
      "iter=49; x=0.7000; f(x)=-0.0941; grad f(x)=-1.3370\n",
      "iter=50; x=0.7000; f(x)=-0.0941; grad f(x)=-1.3370\n",
      "iter=51; x=0.7000; f(x)=-0.0941; grad f(x)=-1.3370\n",
      "iter=52; x=0.7000; f(x)=-0.0941; grad f(x)=-1.3370\n",
      "iter=53; x=0.7000; f(x)=-0.0941; grad f(x)=-1.3370\n",
      "iter=54; x=0.7000; f(x)=-0.0941; grad f(x)=-1.3370\n",
      "iter=55; x=0.7000; f(x)=-0.0941; grad f(x)=-1.3370\n",
      "iter=56; x=0.7000; f(x)=-0.0941; grad f(x)=-1.3370\n",
      "iter=57; x=0.7000; f(x)=-0.0941; grad f(x)=-1.3370\n",
      "iter=58; x=0.7000; f(x)=-0.0941; grad f(x)=-1.3370\n",
      "iter=59; x=0.7000; f(x)=-0.0941; grad f(x)=-1.3370\n",
      "iter=60; x=0.7000; f(x)=-0.0941; grad f(x)=-1.3370\n",
      "iter=61; x=0.7000; f(x)=-0.0941; grad f(x)=-1.3370\n",
      "iter=62; x=0.7000; f(x)=-0.0941; grad f(x)=-1.3370\n",
      "iter=63; x=0.7000; f(x)=-0.0941; grad f(x)=-1.3370\n",
      "iter=64; x=0.7000; f(x)=-0.0941; grad f(x)=-1.3370\n",
      "iter=65; x=0.7000; f(x)=-0.0941; grad f(x)=-1.3370\n",
      "iter=66; x=0.7000; f(x)=-0.0941; grad f(x)=-1.3370\n",
      "iter=67; x=0.7000; f(x)=-0.0941; grad f(x)=-1.3370\n",
      "iter=68; x=0.7000; f(x)=-0.0941; grad f(x)=-1.3370\n",
      "iter=69; x=0.7000; f(x)=-0.0941; grad f(x)=-1.3370\n",
      "iter=70; x=0.7000; f(x)=-0.0941; grad f(x)=-1.3370\n",
      "iter=71; x=0.7000; f(x)=-0.0941; grad f(x)=-1.3370\n",
      "iter=72; x=0.7000; f(x)=-0.0941; grad f(x)=-1.3370\n",
      "iter=73; x=0.7000; f(x)=-0.0941; grad f(x)=-1.3370\n",
      "iter=74; x=0.7000; f(x)=-0.0941; grad f(x)=-1.3370\n",
      "iter=75; x=0.7000; f(x)=-0.0941; grad f(x)=-1.3370\n",
      "iter=76; x=0.7000; f(x)=-0.0941; grad f(x)=-1.3370\n",
      "iter=77; x=0.7000; f(x)=-0.0941; grad f(x)=-1.3370\n",
      "iter=78; x=0.7000; f(x)=-0.0941; grad f(x)=-1.3370\n",
      "iter=79; x=0.7000; f(x)=-0.0941; grad f(x)=-1.3370\n",
      "iter=80; x=0.7000; f(x)=-0.0941; grad f(x)=-1.3370\n",
      "iter=81; x=0.7000; f(x)=-0.0941; grad f(x)=-1.3370\n",
      "iter=82; x=0.7000; f(x)=-0.0941; grad f(x)=-1.3370\n",
      "iter=83; x=0.7000; f(x)=-0.0941; grad f(x)=-1.3370\n",
      "iter=84; x=0.7000; f(x)=-0.0941; grad f(x)=-1.3370\n",
      "iter=85; x=0.7000; f(x)=-0.0941; grad f(x)=-1.3370\n",
      "iter=86; x=0.7000; f(x)=-0.0941; grad f(x)=-1.3370\n",
      "iter=87; x=0.7000; f(x)=-0.0941; grad f(x)=-1.3370\n",
      "iter=88; x=0.7000; f(x)=-0.0941; grad f(x)=-1.3370\n",
      "iter=89; x=0.7000; f(x)=-0.0941; grad f(x)=-1.3370\n",
      "iter=90; x=0.7000; f(x)=-0.0941; grad f(x)=-1.3370\n",
      "iter=91; x=0.7000; f(x)=-0.0941; grad f(x)=-1.3370\n",
      "iter=92; x=0.7000; f(x)=-0.0941; grad f(x)=-1.3370\n",
      "iter=93; x=0.7000; f(x)=-0.0941; grad f(x)=-1.3370\n",
      "iter=94; x=0.7000; f(x)=-0.0941; grad f(x)=-1.3370\n",
      "iter=95; x=0.7000; f(x)=-0.0941; grad f(x)=-1.3370\n",
      "iter=96; x=0.7000; f(x)=-0.0941; grad f(x)=-1.3370\n",
      "iter=97; x=0.7000; f(x)=-0.0941; grad f(x)=-1.3370\n",
      "iter=98; x=0.7000; f(x)=-0.0941; grad f(x)=-1.3370\n",
      "iter=99; x=0.7000; f(x)=-0.0941; grad f(x)=-1.3370\n",
      "iter=100; x=0.7000; f(x)=-0.0941; grad f(x)=-1.3370\n",
      "iter=101; x=0.7000; f(x)=-0.0941; grad f(x)=-1.3370\n",
      "iter=102; x=0.7000; f(x)=-0.0941; grad f(x)=-1.3370\n",
      "iter=103; x=0.7000; f(x)=-0.0941; grad f(x)=-1.3370\n",
      "iter=104; x=0.7000; f(x)=-0.0941; grad f(x)=-1.3370\n",
      "iter=105; x=0.7000; f(x)=-0.0941; grad f(x)=-1.3370\n",
      "iter=106; x=0.7000; f(x)=-0.0941; grad f(x)=-1.3370\n",
      "iter=107; x=0.7000; f(x)=-0.0941; grad f(x)=-1.3370\n",
      "iter=108; x=0.7000; f(x)=-0.0941; grad f(x)=-1.3370\n",
      "iter=109; x=0.7000; f(x)=-0.0941; grad f(x)=-1.3370\n",
      "iter=110; x=0.7000; f(x)=-0.0941; grad f(x)=-1.3370\n",
      "iter=111; x=0.7000; f(x)=-0.0941; grad f(x)=-1.3370\n",
      "iter=112; x=0.7000; f(x)=-0.0941; grad f(x)=-1.3370\n",
      "iter=113; x=0.7000; f(x)=-0.0941; grad f(x)=-1.3370\n",
      "iter=114; x=0.7000; f(x)=-0.0941; grad f(x)=-1.3370\n",
      "iter=115; x=0.7000; f(x)=-0.0941; grad f(x)=-1.3370\n",
      "iter=116; x=0.7000; f(x)=-0.0941; grad f(x)=-1.3370\n",
      "iter=117; x=0.7000; f(x)=-0.0941; grad f(x)=-1.3370\n",
      "iter=118; x=0.7000; f(x)=-0.0941; grad f(x)=-1.3370\n",
      "iter=119; x=0.7000; f(x)=-0.0941; grad f(x)=-1.3370\n",
      "iter=120; x=0.7000; f(x)=-0.0941; grad f(x)=-1.3370\n",
      "iter=121; x=0.7000; f(x)=-0.0941; grad f(x)=-1.3370\n",
      "iter=122; x=0.7000; f(x)=-0.0941; grad f(x)=-1.3370\n",
      "iter=123; x=0.7000; f(x)=-0.0941; grad f(x)=-1.3370\n",
      "iter=124; x=0.7000; f(x)=-0.0941; grad f(x)=-1.3370\n",
      "iter=125; x=0.7000; f(x)=-0.0941; grad f(x)=-1.3370\n",
      "iter=126; x=0.7000; f(x)=-0.0941; grad f(x)=-1.3370\n",
      "iter=127; x=0.7000; f(x)=-0.0941; grad f(x)=-1.3370\n",
      "iter=128; x=0.7000; f(x)=-0.0941; grad f(x)=-1.3370\n",
      "iter=129; x=0.7000; f(x)=-0.0941; grad f(x)=-1.3370\n",
      "iter=130; x=0.7000; f(x)=-0.0941; grad f(x)=-1.3370\n",
      "iter=131; x=0.7000; f(x)=-0.0941; grad f(x)=-1.3370\n",
      "iter=132; x=0.7000; f(x)=-0.0941; grad f(x)=-1.3370\n",
      "iter=133; x=0.7000; f(x)=-0.0941; grad f(x)=-1.3370\n",
      "iter=134; x=0.7000; f(x)=-0.0941; grad f(x)=-1.3370\n",
      "iter=135; x=0.7000; f(x)=-0.0941; grad f(x)=-1.3370\n",
      "iter=136; x=0.7000; f(x)=-0.0941; grad f(x)=-1.3370\n",
      "iter=137; x=0.7000; f(x)=-0.0941; grad f(x)=-1.3370\n",
      "iter=138; x=0.7000; f(x)=-0.0941; grad f(x)=-1.3370\n",
      "iter=139; x=0.7000; f(x)=-0.0941; grad f(x)=-1.3370\n",
      "iter=140; x=0.7000; f(x)=-0.0941; grad f(x)=-1.3370\n",
      "iter=141; x=0.7000; f(x)=-0.0941; grad f(x)=-1.3370\n",
      "iter=142; x=0.7000; f(x)=-0.0941; grad f(x)=-1.3370\n",
      "iter=143; x=0.7000; f(x)=-0.0941; grad f(x)=-1.3370\n",
      "iter=144; x=0.7000; f(x)=-0.0941; grad f(x)=-1.3370\n",
      "iter=145; x=0.7000; f(x)=-0.0941; grad f(x)=-1.3370\n",
      "iter=146; x=0.7000; f(x)=-0.0941; grad f(x)=-1.3370\n",
      "iter=147; x=0.7000; f(x)=-0.0941; grad f(x)=-1.3370\n",
      "iter=148; x=0.7000; f(x)=-0.0941; grad f(x)=-1.3370\n",
      "iter=149; x=0.7000; f(x)=-0.0941; grad f(x)=-1.3370\n",
      "iter=150; x=0.7000; f(x)=-0.0941; grad f(x)=-1.3370\n",
      "iter=151; x=0.7000; f(x)=-0.0941; grad f(x)=-1.3370\n",
      "iter=152; x=0.7000; f(x)=-0.0941; grad f(x)=-1.3370\n",
      "iter=153; x=0.7000; f(x)=-0.0941; grad f(x)=-1.3370\n",
      "iter=154; x=0.7000; f(x)=-0.0941; grad f(x)=-1.3370\n",
      "iter=155; x=0.7000; f(x)=-0.0941; grad f(x)=-1.3370\n",
      "iter=156; x=0.7000; f(x)=-0.0941; grad f(x)=-1.3370\n",
      "iter=157; x=0.7000; f(x)=-0.0941; grad f(x)=-1.3370\n",
      "iter=158; x=0.7000; f(x)=-0.0941; grad f(x)=-1.3370\n",
      "iter=159; x=0.7000; f(x)=-0.0941; grad f(x)=-1.3370\n",
      "iter=160; x=0.7000; f(x)=-0.0941; grad f(x)=-1.3370\n",
      "iter=161; x=0.7000; f(x)=-0.0941; grad f(x)=-1.3370\n",
      "iter=162; x=0.7000; f(x)=-0.0941; grad f(x)=-1.3370\n",
      "iter=163; x=0.7000; f(x)=-0.0941; grad f(x)=-1.3370\n",
      "iter=164; x=0.7000; f(x)=-0.0941; grad f(x)=-1.3370\n",
      "iter=165; x=0.7000; f(x)=-0.0941; grad f(x)=-1.3370\n",
      "iter=166; x=0.7000; f(x)=-0.0941; grad f(x)=-1.3370\n",
      "iter=167; x=0.7000; f(x)=-0.0941; grad f(x)=-1.3370\n",
      "iter=168; x=0.7000; f(x)=-0.0941; grad f(x)=-1.3370\n",
      "iter=169; x=0.7000; f(x)=-0.0941; grad f(x)=-1.3370\n",
      "iter=170; x=0.7000; f(x)=-0.0941; grad f(x)=-1.3370\n",
      "iter=171; x=0.7000; f(x)=-0.0941; grad f(x)=-1.3370\n",
      "iter=172; x=0.7000; f(x)=-0.0941; grad f(x)=-1.3370\n",
      "iter=173; x=0.7000; f(x)=-0.0941; grad f(x)=-1.3370\n",
      "iter=174; x=0.7000; f(x)=-0.0941; grad f(x)=-1.3370\n",
      "iter=175; x=0.7000; f(x)=-0.0941; grad f(x)=-1.3370\n",
      "iter=176; x=0.7000; f(x)=-0.0941; grad f(x)=-1.3370\n",
      "iter=177; x=0.7000; f(x)=-0.0941; grad f(x)=-1.3370\n",
      "iter=178; x=0.7000; f(x)=-0.0941; grad f(x)=-1.3370\n",
      "iter=179; x=0.7000; f(x)=-0.0941; grad f(x)=-1.3370\n",
      "iter=180; x=0.7000; f(x)=-0.0941; grad f(x)=-1.3370\n",
      "iter=181; x=0.7000; f(x)=-0.0941; grad f(x)=-1.3370\n",
      "iter=182; x=0.7000; f(x)=-0.0941; grad f(x)=-1.3370\n",
      "iter=183; x=0.7000; f(x)=-0.0941; grad f(x)=-1.3370\n",
      "iter=184; x=0.7000; f(x)=-0.0941; grad f(x)=-1.3370\n",
      "iter=185; x=0.7000; f(x)=-0.0941; grad f(x)=-1.3370\n",
      "iter=186; x=0.7000; f(x)=-0.0941; grad f(x)=-1.3370\n",
      "iter=187; x=0.7000; f(x)=-0.0941; grad f(x)=-1.3370\n",
      "iter=188; x=0.7000; f(x)=-0.0941; grad f(x)=-1.3370\n",
      "iter=189; x=0.7000; f(x)=-0.0941; grad f(x)=-1.3370\n",
      "iter=190; x=0.7000; f(x)=-0.0941; grad f(x)=-1.3370\n",
      "iter=191; x=0.7000; f(x)=-0.0941; grad f(x)=-1.3370\n",
      "iter=192; x=0.7000; f(x)=-0.0941; grad f(x)=-1.3370\n",
      "iter=193; x=0.7000; f(x)=-0.0941; grad f(x)=-1.3370\n",
      "iter=194; x=0.7000; f(x)=-0.0941; grad f(x)=-1.3370\n",
      "iter=195; x=0.7000; f(x)=-0.0941; grad f(x)=-1.3370\n",
      "iter=196; x=0.7000; f(x)=-0.0941; grad f(x)=-1.3370\n",
      "iter=197; x=0.7000; f(x)=-0.0941; grad f(x)=-1.3370\n",
      "iter=198; x=0.7000; f(x)=-0.0941; grad f(x)=-1.3370\n",
      "iter=199; x=0.7000; f(x)=-0.0941; grad f(x)=-1.3370\n",
      "iter=200; x=0.7000; f(x)=-0.0941; grad f(x)=-1.3370\n",
      "iter=201; x=0.7000; f(x)=-0.0941; grad f(x)=-1.3370\n"
     ]
    }
   ],
   "source": [
    "x0 = 0.7 # Начальная точка для запуска алгоритма\n",
    "gamma = 0.0000001 # Темп обучения изначально 0.1 и очень большой, сразу выпрыгиваю из впадины и уже туда не возвращаюсь\n",
    "x_cur = x0 # Сохраняю текущую координату\n",
    "\n",
    "vals = []\n",
    "coords = []\n",
    "\n",
    "i = 0\n",
    "while True:\n",
    "    # получение новой точки на основе предыдущей и градиента, с минусом т.к. минимизируем функцию и используем антиградиент\n",
    "    x_new = x_cur - gamma * grad(x_cur)\n",
    "    \n",
    "    # Обучение прерывается только по количеству итераций\n",
    "    if i > 200:\n",
    "        break\n",
    "    \n",
    "    # сохраняю последнее найденное значение точки в переменную и добавляю в список\n",
    "    x_cur = x_new\n",
    "    coords.append(x_cur)\n",
    "    # По точке считаю значение функции и сохраняю в список\n",
    "    vals.append(f_(x_cur))\n",
    "    \n",
    "    i += 1 # обновляю счетчик\n",
    "    \n",
    "    # Вывожу данные на каждой итерации\n",
    "    print(f\"iter={i}; x={x_cur:.4f};\"\n",
    "          f\" f(x)={f_(x_cur):.4f}; grad f(x)={grad(x_cur):.4f}\")"
   ]
  },
  {
   "attachments": {},
   "cell_type": "markdown",
   "metadata": {},
   "source": [
    "### Метод Ньютона для оптимизации функции"
   ]
  },
  {
   "cell_type": "code",
   "execution_count": 61,
   "metadata": {},
   "outputs": [
    {
     "data": {
      "text/latex": [
       "$\\displaystyle x^{3} - 3 x^{2} - 45 x + 40$"
      ],
      "text/plain": [
       "x**3 - 3*x**2 - 45*x + 40"
      ]
     },
     "execution_count": 61,
     "metadata": {},
     "output_type": "execute_result"
    }
   ],
   "source": [
    "f = x ** 3 - 3 * x ** 2 - 45 * x + 40\n",
    "f"
   ]
  },
  {
   "attachments": {},
   "cell_type": "markdown",
   "metadata": {},
   "source": [
    "Нахожу первую и вторую производные"
   ]
  },
  {
   "cell_type": "code",
   "execution_count": 64,
   "metadata": {},
   "outputs": [
    {
     "data": {
      "text/latex": [
       "$\\displaystyle 3 x^{2} - 6 x - 45$"
      ],
      "text/plain": [
       "3*x**2 - 6*x - 45"
      ]
     },
     "execution_count": 64,
     "metadata": {},
     "output_type": "execute_result"
    }
   ],
   "source": [
    "f_diff = f.diff(x)\n",
    "f_diff"
   ]
  },
  {
   "cell_type": "code",
   "execution_count": 65,
   "metadata": {},
   "outputs": [
    {
     "data": {
      "text/latex": [
       "$\\displaystyle 6 \\left(x - 1\\right)$"
      ],
      "text/plain": [
       "6*(x - 1)"
      ]
     },
     "execution_count": 65,
     "metadata": {},
     "output_type": "execute_result"
    }
   ],
   "source": [
    "f_diff2 = f.diff(x, 2)\n",
    "f_diff2"
   ]
  },
  {
   "cell_type": "code",
   "execution_count": 66,
   "metadata": {},
   "outputs": [],
   "source": [
    "def func1(x):\n",
    "    return 3 * x ** 2 - 6 * x - 45\n",
    "\n",
    "def func2(x):\n",
    "    return 6 * x - 6"
   ]
  },
  {
   "cell_type": "code",
   "execution_count": 70,
   "metadata": {},
   "outputs": [
    {
     "name": "stdout",
     "output_type": "stream",
     "text": [
      "1: 21.695121951219512\n",
      "2: 11.734125501243229\n",
      "3: 7.1123493600499685\n",
      "4: 5.365000391507974\n",
      "5: 5.015260627016227\n",
      "6: 5.000029000201801\n",
      "7: 5.000000000105126\n",
      "8: 5.000000000000001\n"
     ]
    }
   ],
   "source": [
    "initial_value = 42\n",
    "iter_count = 0\n",
    "x_curr = initial_value\n",
    "epsilon = 0.0001\n",
    "f = func1(x_curr)\n",
    "\n",
    "while (abs(f) > epsilon):\n",
    "    f = func1(x_curr)\n",
    "    f_prime = func2(x_curr)\n",
    "    x_curr = x_curr - (f)/(f_prime)\n",
    "    iter_count += 1\n",
    "    print(f'{iter_count}: {x_curr}')"
   ]
  },
  {
   "attachments": {},
   "cell_type": "markdown",
   "metadata": {},
   "source": [
    "Можно объединить всё в одну функцию"
   ]
  },
  {
   "cell_type": "code",
   "execution_count": 71,
   "metadata": {},
   "outputs": [
    {
     "data": {
      "text/plain": [
       "5.000000000000001"
      ]
     },
     "execution_count": 71,
     "metadata": {},
     "output_type": "execute_result"
    }
   ],
   "source": [
    "def newtons_method(f, fprime, x0, tol=0.0001):\n",
    "    iter_count = 0\n",
    "    x_curr = x0\n",
    "    f_val = f(x_curr)\n",
    "    \n",
    "    while (abs(f_val) > tol):\n",
    "        f_val = f(x_curr)\n",
    "        f_prime_val = fprime(x_curr)\n",
    "        x_curr = x_curr - (f_val)/(f_prime_val)\n",
    "        iter_count += 1\n",
    "    return x_curr\n",
    "\n",
    "newtons_method(f=func1, fprime=func2, x0=42, tol=0.0001)"
   ]
  },
  {
   "attachments": {},
   "cell_type": "markdown",
   "metadata": {},
   "source": [
    "А можно воспользоваться реализацией из библиотеки scipy"
   ]
  },
  {
   "cell_type": "code",
   "execution_count": 72,
   "metadata": {},
   "outputs": [
    {
     "data": {
      "text/plain": [
       "5.0"
      ]
     },
     "execution_count": 72,
     "metadata": {},
     "output_type": "execute_result"
    }
   ],
   "source": [
    "from scipy.optimize import newton\n",
    "newton(func=func1, fprime=func2, x0=50, tol=0.0001)"
   ]
  },
  {
   "attachments": {},
   "cell_type": "markdown",
   "metadata": {},
   "source": [
    "### Задание 3.6\n",
    "\n",
    "Дана функция f. Найдите решение уравнения f(x) = 0 для поиска корня в окрестностях точки x0=12. Ответ округлите до трёх знаков после точки-разделителя."
   ]
  },
  {
   "cell_type": "code",
   "execution_count": 32,
   "metadata": {},
   "outputs": [
    {
     "data": {
      "text/latex": [
       "$\\displaystyle x^{3} - 72 x - 220$"
      ],
      "text/plain": [
       "x**3 - 72*x - 220"
      ]
     },
     "execution_count": 32,
     "metadata": {},
     "output_type": "execute_result"
    }
   ],
   "source": [
    "x = symbols('x')\n",
    "f = x**3 - 72 * x - 220\n",
    "f"
   ]
  },
  {
   "cell_type": "markdown",
   "metadata": {},
   "source": [
    "Определяю первую производную"
   ]
  },
  {
   "cell_type": "code",
   "execution_count": 33,
   "metadata": {},
   "outputs": [
    {
     "data": {
      "text/latex": [
       "$\\displaystyle 3 x^{2} - 72$"
      ],
      "text/plain": [
       "3*x**2 - 72"
      ]
     },
     "execution_count": 33,
     "metadata": {},
     "output_type": "execute_result"
    }
   ],
   "source": [
    "f_diff = f.diff(x)\n",
    "f_diff"
   ]
  },
  {
   "cell_type": "code",
   "execution_count": 34,
   "metadata": {},
   "outputs": [
    {
     "name": "stdout",
     "output_type": "stream",
     "text": [
      "1 : x1 = 12, f(x1) = 644\n",
      "2 : x1 = 10.21111111111111, f(x1) = 109.479779149520\n",
      "3 : x1 = 9.756461564762278, f(x1) = 6.23812134825107\n",
      "4 : x1 = 9.727252176332618, f(x1) = 0.0249473775788829\n",
      "5 : x1 = 9.72713442131889, f(x1) = 4.04639536100149E-7\n"
     ]
    }
   ],
   "source": [
    "x0 = 12\n",
    "max_iterations = 10\n",
    "current_iteration = 0\n",
    "accuracy_threshold = 0.00001\n",
    "f_x1 = 0\n",
    "\n",
    "x1 = x0\n",
    "\n",
    "for current_iteration in range(max_iterations):\n",
    "    print(f'{current_iteration+1} : x1 = {x1}, f(x1) = {f.subs(x, x1)}')\n",
    "    \n",
    "    x1 = x1 - (f.subs(x, x1) / f_diff.subs(x, x1))\n",
    "    x1 = float(x1)\n",
    "\n",
    "    # Условие ранней остановки, если значение функции изменяется к предыдущему менее чем на accuracy_threshold\n",
    "    if abs(f_x1 - f.subs(x, x1)) < accuracy_threshold:\n",
    "        break\n",
    "\n",
    "    # Обновляю значение функции для текущего x1\n",
    "    f_x1 = f.subs(x, x1)"
   ]
  },
  {
   "cell_type": "code",
   "execution_count": 35,
   "metadata": {},
   "outputs": [
    {
     "name": "stdout",
     "output_type": "stream",
     "text": [
      "Значение корня полинома после 4 итераций расчетов: 9.727\n"
     ]
    }
   ],
   "source": [
    "print(f'Значение корня полинома после {current_iteration} итераций расчетов: {x1:.3f}')"
   ]
  },
  {
   "attachments": {},
   "cell_type": "markdown",
   "metadata": {},
   "source": [
    "### Задание 3.7\n",
    "\n",
    "Найдите положительный корень для уравнения f(x) = 0.\n",
    "\n",
    "В качестве стартовой точки возьмите x0 = 2.2.\n",
    "\n",
    "Расчёт произведите поэтапно или с помощью Python.\n",
    "\n",
    "Ответ округлите до двух знаков после точки-разделителя."
   ]
  },
  {
   "cell_type": "code",
   "execution_count": 36,
   "metadata": {},
   "outputs": [
    {
     "data": {
      "text/latex": [
       "$\\displaystyle x^{2} + 9 x - 5$"
      ],
      "text/plain": [
       "x**2 + 9*x - 5"
      ]
     },
     "execution_count": 36,
     "metadata": {},
     "output_type": "execute_result"
    }
   ],
   "source": [
    "x = symbols('x')\n",
    "f = x**2 + 9 * x - 5\n",
    "f"
   ]
  },
  {
   "cell_type": "markdown",
   "metadata": {},
   "source": [
    "Определяю первую производную"
   ]
  },
  {
   "cell_type": "code",
   "execution_count": 37,
   "metadata": {},
   "outputs": [
    {
     "data": {
      "text/latex": [
       "$\\displaystyle 2 x + 9$"
      ],
      "text/plain": [
       "2*x + 9"
      ]
     },
     "execution_count": 37,
     "metadata": {},
     "output_type": "execute_result"
    }
   ],
   "source": [
    "f_diff = f.diff(x)\n",
    "f_diff"
   ]
  },
  {
   "cell_type": "code",
   "execution_count": 38,
   "metadata": {},
   "outputs": [
    {
     "name": "stdout",
     "output_type": "stream",
     "text": [
      "1 : x1 = 2.2, f(x1) = 19.6400000000000\n",
      "2 : x1 = 0.7343283582089555, f(x1) = 2.14819336155046\n",
      "3 : x1 = 0.5291259698087832, f(x1) = 0.0421080202051343\n",
      "4 : x1 = 0.5249395544696249, f(x1) = 0.0000175260733925597\n",
      "5 : x1 = 0.5249378105607477, f(x1) = 3.04112290905323E-12\n"
     ]
    }
   ],
   "source": [
    "x0 = 2.2\n",
    "max_iterations = 10\n",
    "current_iteration = 0\n",
    "accuracy_threshold = 0.00001\n",
    "f_x1 = 0\n",
    "\n",
    "x1 = x0\n",
    "\n",
    "for current_iteration in range(max_iterations):\n",
    "    print(f'{current_iteration+1} : x1 = {x1}, f(x1) = {f.subs(x, x1)}')\n",
    "    \n",
    "    x1 = x1 - (f.subs(x, x1) / f_diff.subs(x, x1))\n",
    "    x1 = float(x1)\n",
    "\n",
    "    # Условие ранней остановки, если значение функции изменяется к предыдущему менее чем на accuracy_threshold\n",
    "    if abs(f_x1 - f.subs(x, x1)) < accuracy_threshold:\n",
    "        break\n",
    "\n",
    "    # Обновляю значение функции для текущего x1\n",
    "    f_x1 = f.subs(x, x1)"
   ]
  },
  {
   "cell_type": "code",
   "execution_count": 39,
   "metadata": {},
   "outputs": [
    {
     "name": "stdout",
     "output_type": "stream",
     "text": [
      "Значение корня полинома после 4 итераций расчетов: 0.52\n"
     ]
    }
   ],
   "source": [
    "print(f'Значение корня полинома после {current_iteration} итераций расчетов: {x1:.2f}')"
   ]
  },
  {
   "attachments": {},
   "cell_type": "markdown",
   "metadata": {},
   "source": [
    "### Задание 3.9\n",
    "\n",
    "С помощью метода Ньютона найдите точку минимума для функции f(x).\n",
    "\n",
    "Для расчётов используйте Python.\n",
    "\n",
    "В качестве стартовой точки возьмите x0 = 42, точность примите за 0.0001.\n",
    "\n",
    "Ответ округлите до трёх знаков после точки-разделителя."
   ]
  },
  {
   "cell_type": "code",
   "execution_count": 41,
   "metadata": {},
   "outputs": [
    {
     "data": {
      "text/latex": [
       "$\\displaystyle 8 x^{3} - 2 x^{2} - 450$"
      ],
      "text/plain": [
       "8*x**3 - 2*x**2 - 450"
      ]
     },
     "execution_count": 41,
     "metadata": {},
     "output_type": "execute_result"
    }
   ],
   "source": [
    "x = symbols('x')\n",
    "f = 8 * x ** 3 - 2 * x ** 2 - 450\n",
    "f"
   ]
  },
  {
   "cell_type": "markdown",
   "metadata": {},
   "source": [
    "Нахожу первую и вторую производные"
   ]
  },
  {
   "cell_type": "code",
   "execution_count": 42,
   "metadata": {},
   "outputs": [
    {
     "data": {
      "text/latex": [
       "$\\displaystyle 24 x^{2} - 4 x$"
      ],
      "text/plain": [
       "24*x**2 - 4*x"
      ]
     },
     "execution_count": 42,
     "metadata": {},
     "output_type": "execute_result"
    }
   ],
   "source": [
    "f_diff = f.diff(x)\n",
    "f_diff"
   ]
  },
  {
   "cell_type": "code",
   "execution_count": 43,
   "metadata": {},
   "outputs": [
    {
     "data": {
      "text/latex": [
       "$\\displaystyle 4 \\cdot \\left(12 x - 1\\right)$"
      ],
      "text/plain": [
       "4*(12*x - 1)"
      ]
     },
     "execution_count": 43,
     "metadata": {},
     "output_type": "execute_result"
    }
   ],
   "source": [
    "f_diff2 = f.diff(x, 2)\n",
    "f_diff2"
   ]
  },
  {
   "cell_type": "code",
   "execution_count": 44,
   "metadata": {},
   "outputs": [],
   "source": [
    "def diff1(x):\n",
    "    return 24 * x ** 2 - 4 * x\n",
    "\n",
    "def diff2(x):\n",
    "    return 4 * (12 * x - 1)"
   ]
  },
  {
   "cell_type": "code",
   "execution_count": 45,
   "metadata": {},
   "outputs": [
    {
     "name": "stdout",
     "output_type": "stream",
     "text": [
      "1: 21.041749502982107\n",
      "2: 10.562707090133793\n",
      "3: 5.323351550447383\n",
      "4: 2.7040050774153417\n",
      "5: 1.3949941413301903\n",
      "6: 0.7418109325525483\n",
      "7: 0.41784523900811205\n",
      "8: 0.26096925221473555\n",
      "9: 0.19169814030401197\n",
      "10: 0.16955770984744145\n",
      "11: 0.1667151339969682\n",
      "12: 0.1666666807529666\n",
      "13: 0.16666666666666785\n"
     ]
    }
   ],
   "source": [
    "initial_value = 42\n",
    "iter_count = 0\n",
    "x_curr = initial_value\n",
    "epsilon = 0.0001\n",
    "f = diff1(x_curr)\n",
    "\n",
    "while (abs(f) > epsilon):\n",
    "    f = diff1(x_curr)\n",
    "    \n",
    "    x_curr = x_curr - (f)/(diff2(x_curr))\n",
    "    iter_count += 1\n",
    "    \n",
    "    print(f'{iter_count}: {x_curr}')"
   ]
  },
  {
   "cell_type": "code",
   "execution_count": 46,
   "metadata": {},
   "outputs": [
    {
     "name": "stdout",
     "output_type": "stream",
     "text": [
      "Значение точки минимума после 13 итераций расчетов: 0.167\n"
     ]
    }
   ],
   "source": [
    "print(f'Значение точки минимума после {iter_count} итераций расчетов: {x_curr:.3f}')"
   ]
  },
  {
   "cell_type": "code",
   "execution_count": null,
   "metadata": {},
   "outputs": [],
   "source": []
  }
 ],
 "metadata": {
  "kernelspec": {
   "display_name": "Python 3",
   "language": "python",
   "name": "python3"
  },
  "language_info": {
   "codemirror_mode": {
    "name": "ipython",
    "version": 3
   },
   "file_extension": ".py",
   "mimetype": "text/x-python",
   "name": "python",
   "nbconvert_exporter": "python",
   "pygments_lexer": "ipython3",
   "version": "3.10.6"
  },
  "orig_nbformat": 4
 },
 "nbformat": 4,
 "nbformat_minor": 2
}
