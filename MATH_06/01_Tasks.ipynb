{
 "cells": [
  {
   "attachments": {},
   "cell_type": "markdown",
   "metadata": {},
   "source": [
    "### Задание 1.1\n",
    "\n",
    "Пусть прибыль в вашей компании выражается функцией, которая зависит от параметра x — количества производимых товаров\n",
    "\n",
    "Найдите максимально возможную прибыль, которую вы можете получить, варьируя количество произведённых товаров."
   ]
  },
  {
   "cell_type": "code",
   "execution_count": 36,
   "metadata": {},
   "outputs": [],
   "source": [
    "from sympy import *"
   ]
  },
  {
   "cell_type": "code",
   "execution_count": 37,
   "metadata": {},
   "outputs": [
    {
     "data": {
      "text/latex": [
       "$\\displaystyle - x^{4} + 6 x^{3} - 4 x^{2} + 80$"
      ],
      "text/plain": [
       "-x**4 + 6*x**3 - 4*x**2 + 80"
      ]
     },
     "execution_count": 37,
     "metadata": {},
     "output_type": "execute_result"
    }
   ],
   "source": [
    "x = Symbol('x')\n",
    "f = -x**4 + 6 * x**3 - 4 * x**2 + 80\n",
    "f "
   ]
  },
  {
   "attachments": {},
   "cell_type": "markdown",
   "metadata": {},
   "source": [
    "Нахожу первую производную"
   ]
  },
  {
   "cell_type": "code",
   "execution_count": 38,
   "metadata": {},
   "outputs": [
    {
     "data": {
      "text/latex": [
       "$\\displaystyle - 4 x^{3} + 18 x^{2} - 8 x$"
      ],
      "text/plain": [
       "-4*x**3 + 18*x**2 - 8*x"
      ]
     },
     "execution_count": 38,
     "metadata": {},
     "output_type": "execute_result"
    }
   ],
   "source": [
    "f_diff = f.diff(x)\n",
    "f_diff"
   ]
  },
  {
   "attachments": {},
   "cell_type": "markdown",
   "metadata": {},
   "source": [
    "Нахожу значения х при которых производная равна нулю"
   ]
  },
  {
   "cell_type": "code",
   "execution_count": 39,
   "metadata": {},
   "outputs": [
    {
     "data": {
      "text/latex": [
       "$\\displaystyle - 4 x^{3} + 18 x^{2} - 8 x = 0$"
      ],
      "text/plain": [
       "Eq(-4*x**3 + 18*x**2 - 8*x, 0)"
      ]
     },
     "execution_count": 39,
     "metadata": {},
     "output_type": "execute_result"
    }
   ],
   "source": [
    "eq = Eq(f_diff, 0)\n",
    "eq"
   ]
  },
  {
   "cell_type": "code",
   "execution_count": 40,
   "metadata": {},
   "outputs": [
    {
     "data": {
      "text/plain": [
       "[0, 1/2, 4]"
      ]
     },
     "execution_count": 40,
     "metadata": {},
     "output_type": "execute_result"
    }
   ],
   "source": [
    "sol = solve(eq, x)\n",
    "sol"
   ]
  },
  {
   "attachments": {},
   "cell_type": "markdown",
   "metadata": {},
   "source": [
    "Располагаю найденные значения x на координатной оси.\n",
    "\n",
    "Опеределяю значения(знак) производной на каждом из участков.\n",
    "\n",
    "Исходя из этого определяю какие экстремумы являются максимумами, а какие минимумами."
   ]
  },
  {
   "attachments": {},
   "cell_type": "markdown",
   "metadata": {},
   "source": [
    "Значение производной на отрезках интервала"
   ]
  },
  {
   "cell_type": "code",
   "execution_count": 41,
   "metadata": {},
   "outputs": [
    {
     "name": "stdout",
     "output_type": "stream",
     "text": [
      "Значение производной до 0: 30\n",
      "Значение производной от 0 до 1/2: -0.624000000000000\n",
      "Значение производной от 1/2 до 4: 24\n",
      "Значение производной от 4 до бесконечности: -90\n"
     ]
    }
   ],
   "source": [
    "print('Значение производной до 0:', f_diff.subs(x, -1))\n",
    "print('Значение производной от 0 до 1/2:', f_diff.subs(x, 0.1))\n",
    "print('Значение производной от 1/2 до 4:', f_diff.subs(x, 2))\n",
    "print('Значение производной от 4 до бесконечности:', f_diff.subs(x, 5))"
   ]
  },
  {
   "attachments": {},
   "cell_type": "markdown",
   "metadata": {},
   "source": [
    "По смене знака производной с + на - обнаружил два максимума с коордиданами x = 0, 4\n",
    "\n",
    "Считаю значение функции для этих максимумов и определяю максимум изначальной функции f"
   ]
  },
  {
   "cell_type": "code",
   "execution_count": 42,
   "metadata": {},
   "outputs": [
    {
     "data": {
      "text/latex": [
       "$\\displaystyle 80$"
      ],
      "text/plain": [
       "80"
      ]
     },
     "execution_count": 42,
     "metadata": {},
     "output_type": "execute_result"
    }
   ],
   "source": [
    "f.subs(x, 0)"
   ]
  },
  {
   "cell_type": "code",
   "execution_count": 43,
   "metadata": {},
   "outputs": [
    {
     "data": {
      "text/latex": [
       "$\\displaystyle 144$"
      ],
      "text/plain": [
       "144"
      ]
     },
     "execution_count": 43,
     "metadata": {},
     "output_type": "execute_result"
    }
   ],
   "source": [
    "f.subs(x, 4)"
   ]
  },
  {
   "attachments": {},
   "cell_type": "markdown",
   "metadata": {},
   "source": [
    "### Задание 1.4\n",
    "\n",
    "Вам необходимо оптимизировать расход бумаги в принтере, который зависит от часов работы двух ключевых сотрудников исходя из функции f.\n",
    "\n",
    "Где `x` — количество часов работы 1-ого сотрудника, `y` — 2-ого сотрудника.\n",
    "\n",
    "Однако вы должны оплатить этим сотрудникам ровно 20 часов работы в сумме.\n",
    "\n",
    "Какое наименьшее количество листов бумаги вы сможете потратить в таком случае?\n",
    "\n",
    "Помните, что количество часов работы должно быть целым, поэтому, прежде чем вычислять итоговый результат, округлите часы работы до целого."
   ]
  },
  {
   "cell_type": "code",
   "execution_count": 44,
   "metadata": {},
   "outputs": [],
   "source": [
    "from sympy import * "
   ]
  },
  {
   "cell_type": "code",
   "execution_count": 45,
   "metadata": {},
   "outputs": [
    {
     "data": {
      "text/latex": [
       "$\\displaystyle x^{2} + 2 y^{2}$"
      ],
      "text/plain": [
       "x**2 + 2*y**2"
      ]
     },
     "execution_count": 45,
     "metadata": {},
     "output_type": "execute_result"
    }
   ],
   "source": [
    "x, y, l = symbols('x y lambda')\n",
    "f = x**2 + 2 * y**2\n",
    "f"
   ]
  },
  {
   "attachments": {},
   "cell_type": "markdown",
   "metadata": {},
   "source": [
    "Функция ограничений"
   ]
  },
  {
   "cell_type": "code",
   "execution_count": 46,
   "metadata": {},
   "outputs": [
    {
     "data": {
      "text/latex": [
       "$\\displaystyle x + y - 20$"
      ],
      "text/plain": [
       "x + y - 20"
      ]
     },
     "execution_count": 46,
     "metadata": {},
     "output_type": "execute_result"
    }
   ],
   "source": [
    "g = x + y - 20\n",
    "g"
   ]
  },
  {
   "attachments": {},
   "cell_type": "markdown",
   "metadata": {},
   "source": [
    "Использую метод Лагранжа"
   ]
  },
  {
   "cell_type": "code",
   "execution_count": 47,
   "metadata": {},
   "outputs": [
    {
     "data": {
      "text/latex": [
       "$\\displaystyle \\lambda \\left(x + y - 20\\right) + x^{2} + 2 y^{2}$"
      ],
      "text/plain": [
       "lambda*(x + y - 20) + x**2 + 2*y**2"
      ]
     },
     "execution_count": 47,
     "metadata": {},
     "output_type": "execute_result"
    }
   ],
   "source": [
    "L = f + l * g\n",
    "L"
   ]
  },
  {
   "attachments": {},
   "cell_type": "markdown",
   "metadata": {},
   "source": [
    "Определение частных производных по x, y, l"
   ]
  },
  {
   "cell_type": "code",
   "execution_count": 48,
   "metadata": {},
   "outputs": [
    {
     "data": {
      "text/latex": [
       "$\\displaystyle \\lambda + 2 x$"
      ],
      "text/plain": [
       "lambda + 2*x"
      ]
     },
     "execution_count": 48,
     "metadata": {},
     "output_type": "execute_result"
    }
   ],
   "source": [
    "L_diff_x = L.diff(x)\n",
    "L_diff_x"
   ]
  },
  {
   "cell_type": "code",
   "execution_count": 49,
   "metadata": {},
   "outputs": [
    {
     "data": {
      "text/latex": [
       "$\\displaystyle \\lambda + 4 y$"
      ],
      "text/plain": [
       "lambda + 4*y"
      ]
     },
     "execution_count": 49,
     "metadata": {},
     "output_type": "execute_result"
    }
   ],
   "source": [
    "L_diff_y = L.diff(y)\n",
    "L_diff_y"
   ]
  },
  {
   "cell_type": "code",
   "execution_count": 50,
   "metadata": {},
   "outputs": [
    {
     "data": {
      "text/latex": [
       "$\\displaystyle x + y - 20$"
      ],
      "text/plain": [
       "x + y - 20"
      ]
     },
     "execution_count": 50,
     "metadata": {},
     "output_type": "execute_result"
    }
   ],
   "source": [
    "L_diff_l = L.diff(l)\n",
    "L_diff_l"
   ]
  },
  {
   "attachments": {},
   "cell_type": "markdown",
   "metadata": {},
   "source": [
    "Составляю систем уравнений приравнивая частные производные к нулю"
   ]
  },
  {
   "cell_type": "code",
   "execution_count": 51,
   "metadata": {},
   "outputs": [],
   "source": [
    "eq0 = Eq(L_diff_x, 0)\n",
    "eq1 = Eq(L_diff_y, 0)\n",
    "eq2 = Eq(L_diff_l, 0)\n",
    "\n",
    "sol = solve([eq0, eq1, eq2], [x, y, l])"
   ]
  },
  {
   "attachments": {},
   "cell_type": "markdown",
   "metadata": {},
   "source": [
    "Получаю значения x и y для заданного ограничения"
   ]
  },
  {
   "cell_type": "code",
   "execution_count": 52,
   "metadata": {},
   "outputs": [
    {
     "data": {
      "text/plain": [
       "{lambda: -80/3, x: 40/3, y: 20/3}"
      ]
     },
     "execution_count": 52,
     "metadata": {},
     "output_type": "execute_result"
    }
   ],
   "source": [
    "sol"
   ]
  },
  {
   "attachments": {},
   "cell_type": "markdown",
   "metadata": {},
   "source": [
    "Округляю часы работы до целых"
   ]
  },
  {
   "cell_type": "code",
   "execution_count": 53,
   "metadata": {},
   "outputs": [
    {
     "data": {
      "text/plain": [
       "13"
      ]
     },
     "execution_count": 53,
     "metadata": {},
     "output_type": "execute_result"
    }
   ],
   "source": [
    "round(40/3)"
   ]
  },
  {
   "cell_type": "code",
   "execution_count": 54,
   "metadata": {},
   "outputs": [
    {
     "data": {
      "text/plain": [
       "7"
      ]
     },
     "execution_count": 54,
     "metadata": {},
     "output_type": "execute_result"
    }
   ],
   "source": [
    "round(20/3)"
   ]
  },
  {
   "attachments": {},
   "cell_type": "markdown",
   "metadata": {},
   "source": [
    "Вычисляю основную зависимость исходя из найденных часов работы"
   ]
  },
  {
   "cell_type": "code",
   "execution_count": 55,
   "metadata": {},
   "outputs": [
    {
     "data": {
      "text/latex": [
       "$\\displaystyle 267$"
      ],
      "text/plain": [
       "267"
      ]
     },
     "execution_count": 55,
     "metadata": {},
     "output_type": "execute_result"
    }
   ],
   "source": [
    "f.subs({x: 13, y: 7})"
   ]
  },
  {
   "attachments": {},
   "cell_type": "markdown",
   "metadata": {},
   "source": [
    "### Задание 2.7\n",
    "\n",
    "Давайте потренируемся применять стохастический градиентный спуск для решения задачи линейной регрессии. \n",
    "\n",
    "Мы уже рассмотрели его реализацию «с нуля», однако для решения практических задач можно использовать готовые библиотеки."
   ]
  },
  {
   "cell_type": "code",
   "execution_count": 56,
   "metadata": {},
   "outputs": [],
   "source": [
    "import numpy as np\n",
    "import pandas as pd\n",
    "import seaborn as sns\n",
    "\n",
    "# Загрузите стандартный датасет об алмазах из библиотеки Seaborn\n",
    "df = sns.load_dataset('diamonds')"
   ]
  },
  {
   "cell_type": "code",
   "execution_count": 57,
   "metadata": {},
   "outputs": [],
   "source": [
    "# Удалите часть признаков\n",
    "df.drop(['depth', 'table', 'x', 'y', 'z'], axis=1, inplace=True)"
   ]
  },
  {
   "cell_type": "code",
   "execution_count": 58,
   "metadata": {},
   "outputs": [],
   "source": [
    "# Закодируйте категориальные признаки\n",
    "df = pd.get_dummies(df, drop_first=True)"
   ]
  },
  {
   "cell_type": "code",
   "execution_count": 59,
   "metadata": {},
   "outputs": [],
   "source": [
    "# Логарифмируйте признаки\n",
    "df['carat'] = np.log(1 + df['carat'])\n",
    "df['price'] = np.log(1 + df['price'])"
   ]
  },
  {
   "cell_type": "code",
   "execution_count": 60,
   "metadata": {},
   "outputs": [],
   "source": [
    "# Определите целевую переменную и предикторы\n",
    "TARGET = 'price'\n",
    "\n",
    "X, y = df.drop(columns=TARGET), df[TARGET]"
   ]
  },
  {
   "attachments": {},
   "cell_type": "markdown",
   "metadata": {},
   "source": [
    "Разделите выборку на обучающую и тестовую (объём тестовой возьмите равным 0.33), значение random_state должно быть равно 42.\n",
    "\n",
    "Теперь реализуйте алгоритм линейной регрессии со стохастическим градиентным спуском (класс SGDRegressor). \n",
    "\n",
    "Отберите с помощью GridSearchCV оптимальные параметры по следующей сетке:"
   ]
  },
  {
   "cell_type": "code",
   "execution_count": 61,
   "metadata": {},
   "outputs": [],
   "source": [
    "param_grid = {'loss': ['squared_error', 'epsilon_insensitive'],\n",
    "              'penalty': ['elasticnet'],\n",
    "              'alpha': np.logspace(-3, 3, 10),\n",
    "              'l1_ratio': np.linspace(0, 1, 10),\n",
    "              'learning_rate': ['constant'],\n",
    "              'eta0': np.logspace(-4, -1, 4)}"
   ]
  },
  {
   "cell_type": "code",
   "execution_count": 62,
   "metadata": {},
   "outputs": [],
   "source": [
    "from sklearn.linear_model import SGDRegressor\n",
    "from sklearn.model_selection import train_test_split, GridSearchCV\n",
    "from sklearn.metrics import mean_squared_error\n",
    "\n",
    "from sklearn import set_config\n",
    "set_config(transform_output='pandas')"
   ]
  },
  {
   "cell_type": "code",
   "execution_count": 63,
   "metadata": {},
   "outputs": [],
   "source": [
    "X_train, X_test, y_train, y_test = train_test_split(X, y, test_size=0.33, random_state=42)"
   ]
  },
  {
   "cell_type": "code",
   "execution_count": 64,
   "metadata": {},
   "outputs": [
    {
     "name": "stdout",
     "output_type": "stream",
     "text": [
      "CPU times: total: 33.1 s\n",
      "Wall time: 51.9 s\n",
      "Наилучшие значения гиперпараметров: {'alpha': 0.001, 'eta0': 0.001, 'l1_ratio': 0.0, 'learning_rate': 'constant', 'loss': 'epsilon_insensitive', 'penalty': 'elasticnet'}\n",
      "Наилучшее значение метрики на валидационной выборке: -0.04481974544218573\n"
     ]
    }
   ],
   "source": [
    "model = SGDRegressor(\n",
    "        random_state=42, # генератор случайных чисел\n",
    "        # max_iter=100000 # количество итераций на сходимость\n",
    "    )\n",
    "\n",
    "grid_search = GridSearchCV(\n",
    "    estimator=model,\n",
    "    param_grid=param_grid,\n",
    "    cv=5,\n",
    "    n_jobs=-1,\n",
    "    scoring='neg_mean_squared_error'\n",
    ")\n",
    "\n",
    "%time grid_search.fit(X_train, y_train) \n",
    "y_train_pred = grid_search.predict(X_train)\n",
    "y_test_pred = grid_search.predict(X_test)\n",
    "\n",
    "print(f'Наилучшие значения гиперпараметров: {grid_search.best_params_}')\n",
    "print(f'Наилучшее значение метрики на валидационной выборке: {grid_search.best_score_}')"
   ]
  },
  {
   "cell_type": "code",
   "execution_count": 65,
   "metadata": {},
   "outputs": [
    {
     "name": "stdout",
     "output_type": "stream",
     "text": [
      "MSE on train: 0.045\n",
      "MSE on test: 0.044\n"
     ]
    }
   ],
   "source": [
    "print(f'MSE on train: {mean_squared_error(y_train, y_train_pred):.3f}')\n",
    "print(f'MSE on test: {mean_squared_error(y_test, y_test_pred):.3f}')"
   ]
  },
  {
   "attachments": {},
   "cell_type": "markdown",
   "metadata": {},
   "source": [
    "### Задание 3.1\n",
    "\n",
    "Найдите третий корень полинома, взяв за точку старта 0.7. Введите получившееся значение с точностью до трёх знаков после точки-разделителя.\n",
    "\n",
    "Попробуйте реализовать алгоритм с использованием Python на основе алгоритма градиентного спуска, изученного в предыдущем модуле."
   ]
  },
  {
   "cell_type": "code",
   "execution_count": 92,
   "metadata": {},
   "outputs": [
    {
     "data": {
      "text/latex": [
       "$\\displaystyle 6 x^{5} - 5 x^{4} - 4 x^{3} + 3 x^{2}$"
      ],
      "text/plain": [
       "6*x**5 - 5*x**4 - 4*x**3 + 3*x**2"
      ]
     },
     "execution_count": 92,
     "metadata": {},
     "output_type": "execute_result"
    }
   ],
   "source": [
    "x = symbols('x')\n",
    "f = 6 * x**5 - 5 * x**4 - 4 * x**3 + 3 * x**2\n",
    "f"
   ]
  },
  {
   "attachments": {},
   "cell_type": "markdown",
   "metadata": {},
   "source": [
    "Определяю первую производную"
   ]
  },
  {
   "cell_type": "code",
   "execution_count": 93,
   "metadata": {},
   "outputs": [
    {
     "data": {
      "text/latex": [
       "$\\displaystyle 30 x^{4} - 20 x^{3} - 12 x^{2} + 6 x$"
      ],
      "text/plain": [
       "30*x**4 - 20*x**3 - 12*x**2 + 6*x"
      ]
     },
     "execution_count": 93,
     "metadata": {},
     "output_type": "execute_result"
    }
   ],
   "source": [
    "f_diff = f.diff(x)\n",
    "f_diff"
   ]
  },
  {
   "cell_type": "code",
   "execution_count": 98,
   "metadata": {},
   "outputs": [],
   "source": [
    "x0 = 0.7\n",
    "n = 3\n",
    "\n",
    "for i in range(n): # ищу третий корень\n",
    "    # для первого шага нужно инициировать переменную x1\n",
    "    if i == 0:\n",
    "        x1 = x0\n",
    "    \n",
    "    # скобки обязательны, иначе приоритет деления плывет\n",
    "    x1 = x1 - (f.subs(x, x1) / f_diff.subs(x, x1))"
   ]
  },
  {
   "cell_type": "code",
   "execution_count": 99,
   "metadata": {},
   "outputs": [
    {
     "name": "stdout",
     "output_type": "stream",
     "text": [
      "Значение функции после 3 итераций расчетов: 0.629\n"
     ]
    }
   ],
   "source": [
    "print(f'Значение функции после {n} итераций расчетов: {x1:.3f}')"
   ]
  },
  {
   "cell_type": "code",
   "execution_count": null,
   "metadata": {},
   "outputs": [],
   "source": []
  }
 ],
 "metadata": {
  "kernelspec": {
   "display_name": "Python 3",
   "language": "python",
   "name": "python3"
  },
  "language_info": {
   "codemirror_mode": {
    "name": "ipython",
    "version": 3
   },
   "file_extension": ".py",
   "mimetype": "text/x-python",
   "name": "python",
   "nbconvert_exporter": "python",
   "pygments_lexer": "ipython3",
   "version": "3.10.6"
  },
  "orig_nbformat": 4
 },
 "nbformat": 4,
 "nbformat_minor": 2
}
